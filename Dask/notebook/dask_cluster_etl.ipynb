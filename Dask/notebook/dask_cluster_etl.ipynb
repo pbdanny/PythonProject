{
 "cells": [
  {
   "cell_type": "code",
   "execution_count": 1,
   "metadata": {},
   "outputs": [],
   "source": [
    "import os\n",
    "from pathlib import Path\n",
    "import warnings\n",
    "\n",
    "import pandas as pd\n",
    "\n",
    "import dask\n",
    "from dask import dataframe as dd\n",
    "from dask import array as da\n",
    "\n",
    "data_path = Path(os.getcwd()).parent/\"data\""
   ]
  },
  {
   "cell_type": "code",
   "execution_count": 2,
   "metadata": {},
   "outputs": [
    {
     "data": {
      "text/plain": [
       "'2024.5.0'"
      ]
     },
     "execution_count": 2,
     "metadata": {},
     "output_type": "execute_result"
    }
   ],
   "source": [
    "dask.__version__"
   ]
  },
  {
   "cell_type": "code",
   "execution_count": 3,
   "metadata": {},
   "outputs": [],
   "source": [
    "# turn off FutureWarnings\n",
    "warnings.filterwarnings(action='ignore', category=FutureWarning)"
   ]
  },
  {
   "cell_type": "markdown",
   "metadata": {},
   "source": [
    "# Simulate source data with multiple .csv"
   ]
  },
  {
   "cell_type": "code",
   "execution_count": null,
   "metadata": {},
   "outputs": [
    {
     "ename": "AttributeError",
     "evalue": "'numpy.ndarray' object has no attribute 'compute'",
     "output_type": "error",
     "traceback": [
      "\u001b[0;31m---------------------------------------------------------------------------\u001b[0m\n",
      "\u001b[0;31mAttributeError\u001b[0m                            Traceback (most recent call last)\n",
      "Cell \u001b[0;32mIn[2], line 2\u001b[0m\n",
      "\u001b[1;32m      1\u001b[0m pdf \u001b[38;5;241m=\u001b[39m pd\u001b[38;5;241m.\u001b[39mread_csv(data_path\u001b[38;5;241m/\u001b[39m\u001b[38;5;124m\"\u001b[39m\u001b[38;5;124mcredit_card_transactions-ibm_v2.csv\u001b[39m\u001b[38;5;124m\"\u001b[39m, dtype\u001b[38;5;241m=\u001b[39m{\u001b[38;5;124m'\u001b[39m\u001b[38;5;124mErrors?\u001b[39m\u001b[38;5;124m'\u001b[39m: \u001b[38;5;124m'\u001b[39m\u001b[38;5;124mobject\u001b[39m\u001b[38;5;124m'\u001b[39m})\n",
      "\u001b[0;32m----> 2\u001b[0m uniq_year \u001b[38;5;241m=\u001b[39m \u001b[43mpdf\u001b[49m\u001b[43m[\u001b[49m\u001b[38;5;124;43m\"\u001b[39;49m\u001b[38;5;124;43mYear\u001b[39;49m\u001b[38;5;124;43m\"\u001b[39;49m\u001b[43m]\u001b[49m\u001b[38;5;241;43m.\u001b[39;49m\u001b[43munique\u001b[49m\u001b[43m(\u001b[49m\u001b[43m)\u001b[49m\u001b[38;5;241;43m.\u001b[39;49m\u001b[43mcompute\u001b[49m()\u001b[38;5;241m.\u001b[39mvalues\u001b[38;5;241m.\u001b[39mtolist()\n",
      "\n",
      "\u001b[0;31mAttributeError\u001b[0m: 'numpy.ndarray' object has no attribute 'compute'"
     ]
    }
   ],
   "source": [
    "pdf = pd.read_csv(data_path/\"credit_card_transactions-ibm_v2.csv\", dtype={'Errors?': 'object'})"
   ]
  },
  {
   "cell_type": "code",
   "execution_count": null,
   "metadata": {},
   "outputs": [],
   "source": [
    "uniq_year = pdf[\"Year\"].unique().tolist()"
   ]
  },
  {
   "cell_type": "code",
   "execution_count": null,
   "metadata": {},
   "outputs": [
    {
     "name": "stderr",
     "output_type": "stream",
     "text": [
      "2024-12-22 13:53:23,133 - distributed.shuffle._scheduler_plugin - WARNING - Shuffle fbe1094cc8dd7d4b4c2690824a1f9f5b initialized by task ('shuffle-transfer-fbe1094cc8dd7d4b4c2690824a1f9f5b', 28) executed on worker tcp://127.0.0.1:35539\n",
      "2024-12-22 13:53:52,751 - distributed.shuffle._scheduler_plugin - WARNING - Shuffle fbe1094cc8dd7d4b4c2690824a1f9f5b deactivated due to stimulus 'task-finished-1734850432.743902'\n"
     ]
    }
   ],
   "source": [
    "# ddf = dd.read_csv(data_path/\"credit_card_transactions-ibm_v2.csv\", dtype={'Errors?': 'object'})\n",
    "# uniq_year = ddf[\"Year\"].unique().compute().values.tolist()"
   ]
  },
  {
   "cell_type": "code",
   "execution_count": null,
   "metadata": {},
   "outputs": [
    {
     "data": {
      "text/plain": [
       "User                int64\n",
       "Card                int64\n",
       "Year                int64\n",
       "Month               int64\n",
       "Day                 int64\n",
       "Time               object\n",
       "Amount             object\n",
       "Use Chip           object\n",
       "Merchant Name       int64\n",
       "Merchant City      object\n",
       "Merchant State     object\n",
       "Zip               float64\n",
       "MCC                 int64\n",
       "Errors?            object\n",
       "Is Fraud?          object\n",
       "dtype: object"
      ]
     },
     "metadata": {},
     "output_type": "display_data"
    }
   ],
   "source": [
    "pdf.dtypes"
   ]
  },
  {
   "cell_type": "code",
   "execution_count": null,
   "metadata": {},
   "outputs": [
    {
     "data": {
      "text/plain": [
       "[1991,\n",
       " 1992,\n",
       " 1993,\n",
       " 1994,\n",
       " 1995,\n",
       " 1996,\n",
       " 1997,\n",
       " 1998,\n",
       " 1999,\n",
       " 2000,\n",
       " 2001,\n",
       " 2002,\n",
       " 2003,\n",
       " 2004,\n",
       " 2005,\n",
       " 2006,\n",
       " 2007,\n",
       " 2008,\n",
       " 2009,\n",
       " 2010,\n",
       " 2011,\n",
       " 2012,\n",
       " 2013,\n",
       " 2014,\n",
       " 2015,\n",
       " 2016,\n",
       " 2017,\n",
       " 2018,\n",
       " 2019,\n",
       " 2020]"
      ]
     },
     "metadata": {},
     "output_type": "display_data"
    }
   ],
   "source": [
    "type(uniq_year)\n",
    "uniq_year.sort()\n",
    "uniq_year"
   ]
  },
  {
   "cell_type": "code",
   "execution_count": null,
   "metadata": {},
   "outputs": [
    {
     "name": "stdout",
     "output_type": "stream",
     "text": [
      "1991\n",
      "1992\n",
      "1993\n",
      "1994\n",
      "1995\n",
      "1996\n",
      "1997\n",
      "1998\n",
      "1999\n",
      "2000\n",
      "2001\n",
      "2002\n",
      "2003\n",
      "2004\n",
      "2005\n",
      "2006\n",
      "2007\n",
      "2008\n",
      "2009\n",
      "2010\n",
      "2011\n",
      "2012\n",
      "2013\n",
      "2014\n",
      "2015\n",
      "2016\n",
      "2017\n",
      "2018\n",
      "2019\n",
      "2020\n"
     ]
    }
   ],
   "source": [
    "for y in uniq_year:\n",
    "# for y in [1991]:\n",
    "    print(y)\n",
    "    yrly_ddf = pdf[pdf[\"Year\"] == y]\n",
    "    yrly_ddf.to_csv(data_path/\"credit\"/f\"yearly_data_{y}.csv\", index=False)"
   ]
  },
  {
   "cell_type": "markdown",
   "metadata": {},
   "source": [
    "# Working with (Distributed) Cluster "
   ]
  },
  {
   "cell_type": "markdown",
   "metadata": {},
   "source": [
    "Dask distributed client have version conflicts with library `msgpack-python`  \n",
    "Fix: upgrade msgpack-python == 1.0.5  \n",
    "https://github.com/dask/distributed/issues/8038  "
   ]
  },
  {
   "cell_type": "markdown",
   "metadata": {},
   "source": [
    " **reference for Cluster configuration n_worker, threads_per_worker:**\n",
    "- https://stackoverflow.com/questions/57760475/difference-between-dask-distributed-localcluster-with-threads-vs-processes\n",
    "- https://stackoverflow.com/questions/55784232/right-way-to-set-memory-parameters-for-localcluster-in-dask\n",
    "\n",
    "*Parameter*  \n",
    "\n",
    "n_workers=4 : Number of workers (Dask show _processes_ ), worker memory after allocated to core service (2G) will be distribued equally among each workers if Local machine have memory 16MB, for 4 workers each have 16 - 2 = 14 / 4 ~ 3.5G per worker.\n",
    "** Running dask without without cluster configuration = single worker cluster (n_worker = 1) **   \n",
    "\n",
    "threads_per_worker= # machine cores / # worker\n",
    "\n",
    "memory_limit=machine memory / # n_workers : possible to set beyond the machine limit. "
   ]
  },
  {
   "cell_type": "markdown",
   "metadata": {},
   "source": [
    "**reference for Cluster configuration worker memory**\n",
    "- https://distributed.dask.org/en/stable/worker-memory.html#thresholds-configuration\n",
    "\n",
    "distributed worker memory:  \n",
    "- target: 0.60     # fraction of managed memory where we start spilling to disk  \n",
    "- spill: 0.70      # fraction of process memory where we start spilling to disk  \n",
    "- pause: 0.80      # fraction of process memory at which we pause worker threads  \n",
    "- terminate: 0.95  # fraction of process memory at which we terminate the worker"
   ]
  },
  {
   "cell_type": "markdown",
   "metadata": {},
   "source": [
    "**reference for Cluster shuffle method**  \n",
    "https://docs.coiled.io/blog/shuffling-large-data-at-constant-memory.html  \n",
    "\n",
    "Shuffle is the method of transferring data between worker when function `sort`, `merge`, `groupby` called.  \n",
    "P2P Shuffle is the shuflling technics help reduce worker memory footprint.  "
   ]
  },
  {
   "cell_type": "code",
   "execution_count": 4,
   "metadata": {},
   "outputs": [],
   "source": [
    "from dask.distributed import LocalCluster\n",
    "\n",
    "dask.config.set({ \"distributed.worker.memory.target\": 0.6, \n",
    "                 \"distributed.worker.memory.spill\": 0.7, \n",
    "                 \"distributed.worker.memory.pause\": 0.8, \n",
    "                 \"distributed.worker.memory.terminate\": 0.95,\n",
    "                 \"dataframe.shuffle.method\": \"p2p\" }) \n",
    "\n",
    "client = LocalCluster(n_workers=4).get_client()"
   ]
  },
  {
   "cell_type": "code",
   "execution_count": 5,
   "metadata": {},
   "outputs": [
    {
     "name": "stdout",
     "output_type": "stream",
     "text": [
      "<Client: 'tcp://127.0.0.1:44945' processes=4 threads=4, memory=15.02 GiB>\n"
     ]
    }
   ],
   "source": [
    "# Print the client to see the cluster information\n",
    "print(client)"
   ]
  },
  {
   "cell_type": "code",
   "execution_count": 6,
   "metadata": {},
   "outputs": [
    {
     "data": {
      "text/html": [
       "<div>\n",
       "    <div style=\"width: 24px; height: 24px; background-color: #e1e1e1; border: 3px solid #9D9D9D; border-radius: 5px; position: absolute;\"> </div>\n",
       "    <div style=\"margin-left: 48px;\">\n",
       "        <h3 style=\"margin-bottom: 0px;\">Client</h3>\n",
       "        <p style=\"color: #9D9D9D; margin-bottom: 0px;\">Client-8b969404-cb26-11ef-9e98-cc2f719a592a</p>\n",
       "        <table style=\"width: 100%; text-align: left;\">\n",
       "\n",
       "        <tr>\n",
       "        \n",
       "            <td style=\"text-align: left;\"><strong>Connection method:</strong> Cluster object</td>\n",
       "            <td style=\"text-align: left;\"><strong>Cluster type:</strong> distributed.LocalCluster</td>\n",
       "        \n",
       "        </tr>\n",
       "\n",
       "        \n",
       "            <tr>\n",
       "                <td style=\"text-align: left;\">\n",
       "                    <strong>Dashboard: </strong> <a href=\"http://127.0.0.1:8787/status\" target=\"_blank\">http://127.0.0.1:8787/status</a>\n",
       "                </td>\n",
       "                <td style=\"text-align: left;\"></td>\n",
       "            </tr>\n",
       "        \n",
       "\n",
       "        </table>\n",
       "\n",
       "        \n",
       "\n",
       "        \n",
       "            <details>\n",
       "            <summary style=\"margin-bottom: 20px;\"><h3 style=\"display: inline;\">Cluster Info</h3></summary>\n",
       "            <div class=\"jp-RenderedHTMLCommon jp-RenderedHTML jp-mod-trusted jp-OutputArea-output\">\n",
       "    <div style=\"width: 24px; height: 24px; background-color: #e1e1e1; border: 3px solid #9D9D9D; border-radius: 5px; position: absolute;\">\n",
       "    </div>\n",
       "    <div style=\"margin-left: 48px;\">\n",
       "        <h3 style=\"margin-bottom: 0px; margin-top: 0px;\">LocalCluster</h3>\n",
       "        <p style=\"color: #9D9D9D; margin-bottom: 0px;\">036ce077</p>\n",
       "        <table style=\"width: 100%; text-align: left;\">\n",
       "            <tr>\n",
       "                <td style=\"text-align: left;\">\n",
       "                    <strong>Dashboard:</strong> <a href=\"http://127.0.0.1:8787/status\" target=\"_blank\">http://127.0.0.1:8787/status</a>\n",
       "                </td>\n",
       "                <td style=\"text-align: left;\">\n",
       "                    <strong>Workers:</strong> 4\n",
       "                </td>\n",
       "            </tr>\n",
       "            <tr>\n",
       "                <td style=\"text-align: left;\">\n",
       "                    <strong>Total threads:</strong> 4\n",
       "                </td>\n",
       "                <td style=\"text-align: left;\">\n",
       "                    <strong>Total memory:</strong> 15.02 GiB\n",
       "                </td>\n",
       "            </tr>\n",
       "            \n",
       "            <tr>\n",
       "    <td style=\"text-align: left;\"><strong>Status:</strong> running</td>\n",
       "    <td style=\"text-align: left;\"><strong>Using processes:</strong> True</td>\n",
       "</tr>\n",
       "\n",
       "            \n",
       "        </table>\n",
       "\n",
       "        <details>\n",
       "            <summary style=\"margin-bottom: 20px;\">\n",
       "                <h3 style=\"display: inline;\">Scheduler Info</h3>\n",
       "            </summary>\n",
       "\n",
       "            <div style=\"\">\n",
       "    <div>\n",
       "        <div style=\"width: 24px; height: 24px; background-color: #FFF7E5; border: 3px solid #FF6132; border-radius: 5px; position: absolute;\"> </div>\n",
       "        <div style=\"margin-left: 48px;\">\n",
       "            <h3 style=\"margin-bottom: 0px;\">Scheduler</h3>\n",
       "            <p style=\"color: #9D9D9D; margin-bottom: 0px;\">Scheduler-54be45e1-5ea2-47c2-9630-00c97cbdefe0</p>\n",
       "            <table style=\"width: 100%; text-align: left;\">\n",
       "                <tr>\n",
       "                    <td style=\"text-align: left;\">\n",
       "                        <strong>Comm:</strong> tcp://127.0.0.1:44945\n",
       "                    </td>\n",
       "                    <td style=\"text-align: left;\">\n",
       "                        <strong>Workers:</strong> 4\n",
       "                    </td>\n",
       "                </tr>\n",
       "                <tr>\n",
       "                    <td style=\"text-align: left;\">\n",
       "                        <strong>Dashboard:</strong> <a href=\"http://127.0.0.1:8787/status\" target=\"_blank\">http://127.0.0.1:8787/status</a>\n",
       "                    </td>\n",
       "                    <td style=\"text-align: left;\">\n",
       "                        <strong>Total threads:</strong> 4\n",
       "                    </td>\n",
       "                </tr>\n",
       "                <tr>\n",
       "                    <td style=\"text-align: left;\">\n",
       "                        <strong>Started:</strong> Just now\n",
       "                    </td>\n",
       "                    <td style=\"text-align: left;\">\n",
       "                        <strong>Total memory:</strong> 15.02 GiB\n",
       "                    </td>\n",
       "                </tr>\n",
       "            </table>\n",
       "        </div>\n",
       "    </div>\n",
       "\n",
       "    <details style=\"margin-left: 48px;\">\n",
       "        <summary style=\"margin-bottom: 20px;\">\n",
       "            <h3 style=\"display: inline;\">Workers</h3>\n",
       "        </summary>\n",
       "\n",
       "        \n",
       "        <div style=\"margin-bottom: 20px;\">\n",
       "            <div style=\"width: 24px; height: 24px; background-color: #DBF5FF; border: 3px solid #4CC9FF; border-radius: 5px; position: absolute;\"> </div>\n",
       "            <div style=\"margin-left: 48px;\">\n",
       "            <details>\n",
       "                <summary>\n",
       "                    <h4 style=\"margin-bottom: 0px; display: inline;\">Worker: 0</h4>\n",
       "                </summary>\n",
       "                <table style=\"width: 100%; text-align: left;\">\n",
       "                    <tr>\n",
       "                        <td style=\"text-align: left;\">\n",
       "                            <strong>Comm: </strong> tcp://127.0.0.1:42513\n",
       "                        </td>\n",
       "                        <td style=\"text-align: left;\">\n",
       "                            <strong>Total threads: </strong> 1\n",
       "                        </td>\n",
       "                    </tr>\n",
       "                    <tr>\n",
       "                        <td style=\"text-align: left;\">\n",
       "                            <strong>Dashboard: </strong> <a href=\"http://127.0.0.1:36333/status\" target=\"_blank\">http://127.0.0.1:36333/status</a>\n",
       "                        </td>\n",
       "                        <td style=\"text-align: left;\">\n",
       "                            <strong>Memory: </strong> 3.75 GiB\n",
       "                        </td>\n",
       "                    </tr>\n",
       "                    <tr>\n",
       "                        <td style=\"text-align: left;\">\n",
       "                            <strong>Nanny: </strong> tcp://127.0.0.1:41947\n",
       "                        </td>\n",
       "                        <td style=\"text-align: left;\"></td>\n",
       "                    </tr>\n",
       "                    <tr>\n",
       "                        <td colspan=\"2\" style=\"text-align: left;\">\n",
       "                            <strong>Local directory: </strong> /tmp/dask-scratch-space/worker-vr8f7luk\n",
       "                        </td>\n",
       "                    </tr>\n",
       "\n",
       "                    \n",
       "\n",
       "                    \n",
       "\n",
       "                </table>\n",
       "            </details>\n",
       "            </div>\n",
       "        </div>\n",
       "        \n",
       "        <div style=\"margin-bottom: 20px;\">\n",
       "            <div style=\"width: 24px; height: 24px; background-color: #DBF5FF; border: 3px solid #4CC9FF; border-radius: 5px; position: absolute;\"> </div>\n",
       "            <div style=\"margin-left: 48px;\">\n",
       "            <details>\n",
       "                <summary>\n",
       "                    <h4 style=\"margin-bottom: 0px; display: inline;\">Worker: 1</h4>\n",
       "                </summary>\n",
       "                <table style=\"width: 100%; text-align: left;\">\n",
       "                    <tr>\n",
       "                        <td style=\"text-align: left;\">\n",
       "                            <strong>Comm: </strong> tcp://127.0.0.1:43875\n",
       "                        </td>\n",
       "                        <td style=\"text-align: left;\">\n",
       "                            <strong>Total threads: </strong> 1\n",
       "                        </td>\n",
       "                    </tr>\n",
       "                    <tr>\n",
       "                        <td style=\"text-align: left;\">\n",
       "                            <strong>Dashboard: </strong> <a href=\"http://127.0.0.1:39599/status\" target=\"_blank\">http://127.0.0.1:39599/status</a>\n",
       "                        </td>\n",
       "                        <td style=\"text-align: left;\">\n",
       "                            <strong>Memory: </strong> 3.75 GiB\n",
       "                        </td>\n",
       "                    </tr>\n",
       "                    <tr>\n",
       "                        <td style=\"text-align: left;\">\n",
       "                            <strong>Nanny: </strong> tcp://127.0.0.1:43247\n",
       "                        </td>\n",
       "                        <td style=\"text-align: left;\"></td>\n",
       "                    </tr>\n",
       "                    <tr>\n",
       "                        <td colspan=\"2\" style=\"text-align: left;\">\n",
       "                            <strong>Local directory: </strong> /tmp/dask-scratch-space/worker-v7976oc5\n",
       "                        </td>\n",
       "                    </tr>\n",
       "\n",
       "                    \n",
       "\n",
       "                    \n",
       "\n",
       "                </table>\n",
       "            </details>\n",
       "            </div>\n",
       "        </div>\n",
       "        \n",
       "        <div style=\"margin-bottom: 20px;\">\n",
       "            <div style=\"width: 24px; height: 24px; background-color: #DBF5FF; border: 3px solid #4CC9FF; border-radius: 5px; position: absolute;\"> </div>\n",
       "            <div style=\"margin-left: 48px;\">\n",
       "            <details>\n",
       "                <summary>\n",
       "                    <h4 style=\"margin-bottom: 0px; display: inline;\">Worker: 2</h4>\n",
       "                </summary>\n",
       "                <table style=\"width: 100%; text-align: left;\">\n",
       "                    <tr>\n",
       "                        <td style=\"text-align: left;\">\n",
       "                            <strong>Comm: </strong> tcp://127.0.0.1:40601\n",
       "                        </td>\n",
       "                        <td style=\"text-align: left;\">\n",
       "                            <strong>Total threads: </strong> 1\n",
       "                        </td>\n",
       "                    </tr>\n",
       "                    <tr>\n",
       "                        <td style=\"text-align: left;\">\n",
       "                            <strong>Dashboard: </strong> <a href=\"http://127.0.0.1:41663/status\" target=\"_blank\">http://127.0.0.1:41663/status</a>\n",
       "                        </td>\n",
       "                        <td style=\"text-align: left;\">\n",
       "                            <strong>Memory: </strong> 3.75 GiB\n",
       "                        </td>\n",
       "                    </tr>\n",
       "                    <tr>\n",
       "                        <td style=\"text-align: left;\">\n",
       "                            <strong>Nanny: </strong> tcp://127.0.0.1:37351\n",
       "                        </td>\n",
       "                        <td style=\"text-align: left;\"></td>\n",
       "                    </tr>\n",
       "                    <tr>\n",
       "                        <td colspan=\"2\" style=\"text-align: left;\">\n",
       "                            <strong>Local directory: </strong> /tmp/dask-scratch-space/worker-itl2enrc\n",
       "                        </td>\n",
       "                    </tr>\n",
       "\n",
       "                    \n",
       "\n",
       "                    \n",
       "\n",
       "                </table>\n",
       "            </details>\n",
       "            </div>\n",
       "        </div>\n",
       "        \n",
       "        <div style=\"margin-bottom: 20px;\">\n",
       "            <div style=\"width: 24px; height: 24px; background-color: #DBF5FF; border: 3px solid #4CC9FF; border-radius: 5px; position: absolute;\"> </div>\n",
       "            <div style=\"margin-left: 48px;\">\n",
       "            <details>\n",
       "                <summary>\n",
       "                    <h4 style=\"margin-bottom: 0px; display: inline;\">Worker: 3</h4>\n",
       "                </summary>\n",
       "                <table style=\"width: 100%; text-align: left;\">\n",
       "                    <tr>\n",
       "                        <td style=\"text-align: left;\">\n",
       "                            <strong>Comm: </strong> tcp://127.0.0.1:33989\n",
       "                        </td>\n",
       "                        <td style=\"text-align: left;\">\n",
       "                            <strong>Total threads: </strong> 1\n",
       "                        </td>\n",
       "                    </tr>\n",
       "                    <tr>\n",
       "                        <td style=\"text-align: left;\">\n",
       "                            <strong>Dashboard: </strong> <a href=\"http://127.0.0.1:45405/status\" target=\"_blank\">http://127.0.0.1:45405/status</a>\n",
       "                        </td>\n",
       "                        <td style=\"text-align: left;\">\n",
       "                            <strong>Memory: </strong> 3.75 GiB\n",
       "                        </td>\n",
       "                    </tr>\n",
       "                    <tr>\n",
       "                        <td style=\"text-align: left;\">\n",
       "                            <strong>Nanny: </strong> tcp://127.0.0.1:35569\n",
       "                        </td>\n",
       "                        <td style=\"text-align: left;\"></td>\n",
       "                    </tr>\n",
       "                    <tr>\n",
       "                        <td colspan=\"2\" style=\"text-align: left;\">\n",
       "                            <strong>Local directory: </strong> /tmp/dask-scratch-space/worker-9slo45ez\n",
       "                        </td>\n",
       "                    </tr>\n",
       "\n",
       "                    \n",
       "\n",
       "                    \n",
       "\n",
       "                </table>\n",
       "            </details>\n",
       "            </div>\n",
       "        </div>\n",
       "        \n",
       "\n",
       "    </details>\n",
       "</div>\n",
       "\n",
       "        </details>\n",
       "    </div>\n",
       "</div>\n",
       "            </details>\n",
       "        \n",
       "\n",
       "    </div>\n",
       "</div>"
      ],
      "text/plain": [
       "<Client: 'tcp://127.0.0.1:44945' processes=4 threads=4, memory=15.02 GiB>"
      ]
     },
     "execution_count": 6,
     "metadata": {},
     "output_type": "execute_result"
    }
   ],
   "source": [
    "# Show the dashboard link\n",
    "client"
   ]
  },
  {
   "cell_type": "code",
   "execution_count": 7,
   "metadata": {},
   "outputs": [
    {
     "data": {
      "text/plain": [
       "'http://127.0.0.1:8787/status'"
      ]
     },
     "execution_count": 7,
     "metadata": {},
     "output_type": "execute_result"
    }
   ],
   "source": [
    "# Show the dashboard link\n",
    "client.dashboard_link"
   ]
  },
  {
   "cell_type": "markdown",
   "metadata": {},
   "source": [
    "# Case 1) Datamart without Hive Partition"
   ]
  },
  {
   "cell_type": "markdown",
   "metadata": {},
   "source": [
    "## Datamart creation\n",
    "**Configuration**\n",
    "- Appending each raw data in to parquet.\n",
    "- Set index on column `Card` by each raw file ingested, since `Card` is non-unique then division in each raw file ingest need to turn off (`ignore_divisions=True`) for appending into .pqrquet\n",
    "- The index columns is sorted by default\n",
    "- Non-Hive style partition folder (no `partition_on` parameter)"
   ]
  },
  {
   "cell_type": "code",
   "execution_count": 34,
   "metadata": {},
   "outputs": [],
   "source": [
    "schema = {\n",
    "    \"User\": \"int64\",\n",
    "    \"Card\": \"int64\",\n",
    "    \"Year\": \"int64\",\n",
    "    \"Month\": \"int64\",\n",
    "    \"Day\": \"int64\",\n",
    "    \"Time\": \"string\",\n",
    "    \"Amount\": \"string\",\n",
    "    \"Use Chip\": \"string\",\n",
    "    \"Merchant Name\": \"int64\",\n",
    "    \"Merchant City\": \"string\",\n",
    "    \"Merchant State\": \"string\",\n",
    "    \"Zip\": \"float64\",\n",
    "    \"MCC\": \"int64\",\n",
    "    \"Errors?\": \"string\",\n",
    "    \"Is Fraud?\": \"string\"\n",
    "}"
   ]
  },
  {
   "cell_type": "code",
   "execution_count": 36,
   "metadata": {},
   "outputs": [
    {
     "name": "stdout",
     "output_type": "stream",
     "text": [
      "1991\n",
      "1992\n",
      "1993\n",
      "1994\n",
      "1995\n",
      "1996\n",
      "1997\n",
      "1998\n",
      "1999\n",
      "2000\n",
      "2001\n",
      "2002\n",
      "2003\n",
      "2004\n",
      "2005\n",
      "2006\n",
      "2007\n",
      "2008\n",
      "2009\n",
      "2010\n",
      "2011\n",
      "2012\n",
      "2013\n",
      "2014\n",
      "2015\n",
      "2016\n",
      "2017\n",
      "2018\n",
      "2019\n",
      "2020\n"
     ]
    }
   ],
   "source": [
    "yr_rng = list(range(1991, 2021))\n",
    "data_combined = data_path/\"credit\"/\"data_combined_no_hive_sort_idx_no_div.parquet\"\n",
    "\n",
    "for y in yr_rng:\n",
    "    print(y)\n",
    "    yrly_ddf = dd.read_csv(data_path/\"credit\"/f\"yearly_data_{y}.csv\", dtype=schema)\n",
    "    yrly_ddf = yrly_ddf.set_index(\"Card\", partition_size=\"100MB\")\n",
    "    \n",
    "    if data_combined.exists():    \n",
    "        yrly_ddf.to_parquet(data_combined, append=True, ignore_divisions=True)\n",
    "    else:\n",
    "        yrly_ddf.to_parquet(data_combined)"
   ]
  },
  {
   "cell_type": "markdown",
   "metadata": {},
   "source": [
    "## Query performance\n",
    "Reference tips to optimized query performance  \n",
    "\n",
    "Indexing  \n",
    "- https://stackoverflow.com/questions/75915860/dask-and-best-practices-with-multiple-indices\n",
    "- https://stackoverflow.com/questions/16626058/what-is-the-performance-impact-of-non-unique-indexes-in-pandas\n",
    "\n",
    "Joining performance \n",
    "- https://stackoverflow.com/questions/71233619/why-do-i-get-always-a-memory-error-after-i-run-dask-with-big-dataframes\n",
    "- https://docs.dask.org/en/latest/dataframe-joins.html#sorted-joins\n",
    "- https://www.coiled.io/blog/dask-dataframe-merge-join"
   ]
  },
  {
   "cell_type": "markdown",
   "metadata": {},
   "source": [
    "The duplicated index (User) force output without division metadata"
   ]
  },
  {
   "cell_type": "code",
   "execution_count": 8,
   "metadata": {},
   "outputs": [],
   "source": [
    "parquet_path = data_path/\"credit\"/\"data_combined_no_hive_sort_idx_no_div.parquet\"\n",
    "ddf = dd.read_parquet(parquet_path)"
   ]
  },
  {
   "cell_type": "code",
   "execution_count": 63,
   "metadata": {},
   "outputs": [
    {
     "data": {
      "text/plain": [
       "30"
      ]
     },
     "execution_count": 63,
     "metadata": {},
     "output_type": "execute_result"
    }
   ],
   "source": [
    "# Number of partitions = number of raw ingested files (no need to split, due to small size)\n",
    "ddf.npartitions"
   ]
  },
  {
   "cell_type": "code",
   "execution_count": 64,
   "metadata": {},
   "outputs": [
    {
     "data": {
      "text/plain": [
       "False"
      ]
     },
     "execution_count": 64,
     "metadata": {},
     "output_type": "execute_result"
    }
   ],
   "source": [
    "# Unknown divisions, since the specified not to store divisions\n",
    "ddf.known_divisions"
   ]
  },
  {
   "cell_type": "code",
   "execution_count": 65,
   "metadata": {},
   "outputs": [
    {
     "data": {
      "text/plain": [
       "Index([1, 1, 1, 1, 1], dtype='int64', name='Card')"
      ]
     },
     "execution_count": 65,
     "metadata": {},
     "output_type": "execute_result"
    }
   ],
   "source": [
    "# Check index type, and name 'Card'\n",
    "ddf.index.head()"
   ]
  },
  {
   "cell_type": "code",
   "execution_count": 66,
   "metadata": {},
   "outputs": [
    {
     "data": {
      "text/plain": [
       "Index(['User', 'Year', 'Month', 'Day', 'Time', 'Amount', 'Use Chip',\n",
       "       'Merchant Name', 'Merchant City', 'Merchant State', 'Zip', 'MCC',\n",
       "       'Errors?', 'Is Fraud?'],\n",
       "      dtype='object')"
      ]
     },
     "execution_count": 66,
     "metadata": {},
     "output_type": "execute_result"
    }
   ],
   "source": [
    "# The rest of data frame columns will excluding the index\n",
    "ddf.columns"
   ]
  },
  {
   "cell_type": "code",
   "execution_count": 70,
   "metadata": {},
   "outputs": [
    {
     "name": "stdout",
     "output_type": "stream",
     "text": [
      "3.49 s ± 225 ms per loop (mean ± std. dev. of 7 runs, 1 loop each)\n"
     ]
    }
   ],
   "source": [
    "%%timeit\n",
    "ddf.groupby(\"Card\")[\"MCC\"].nunique().compute()"
   ]
  },
  {
   "cell_type": "code",
   "execution_count": 74,
   "metadata": {},
   "outputs": [
    {
     "name": "stdout",
     "output_type": "stream",
     "text": [
      "3.48 s ± 279 ms per loop (mean ± std. dev. of 7 runs, 1 loop each)\n"
     ]
    }
   ],
   "source": [
    "%%timeit\n",
    "# To groupby and aggregate index column, reset_index() is needed\n",
    "ddf.reset_index().groupby(\"User\")[\"Card\"].nunique().compute()"
   ]
  },
  {
   "cell_type": "code",
   "execution_count": 9,
   "metadata": {},
   "outputs": [
    {
     "name": "stdout",
     "output_type": "stream",
     "text": [
      "2.8 s ± 218 ms per loop (mean ± std. dev. of 7 runs, 1 loop each)\n"
     ]
    }
   ],
   "source": [
    "%%timeit\n",
    "ddf.groupby(\"Year\")[\"Zip\"].sum().compute()"
   ]
  },
  {
   "cell_type": "code",
   "execution_count": 15,
   "metadata": {},
   "outputs": [
    {
     "name": "stdout",
     "output_type": "stream",
     "text": [
      "The slowest run took 316.90 times longer than the fastest. This could mean that an intermediate result is being cached.\n",
      "7.36 s ± 6.39 s per loop (mean ± std. dev. of 7 runs, 1 loop each)\n"
     ]
    }
   ],
   "source": [
    "%%timeit\n",
    "ddf.query(\"Year == 2010\")[\"User\"].count().compute()"
   ]
  },
  {
   "cell_type": "code",
   "execution_count": 25,
   "metadata": {},
   "outputs": [
    {
     "data": {
      "image/svg+xml": [
       "<?xml version=\"1.0\" encoding=\"UTF-8\" standalone=\"no\"?>\n",
       "<!DOCTYPE svg PUBLIC \"-//W3C//DTD SVG 1.1//EN\"\n",
       " \"http://www.w3.org/Graphics/SVG/1.1/DTD/svg11.dtd\">\n",
       "<!-- Generated by graphviz version 2.50.0 (0)\n",
       " -->\n",
       "<!-- Pages: 1 -->\n",
       "<svg width=\"298pt\" height=\"260pt\"\n",
       " viewBox=\"0.00 0.00 298.00 260.00\" xmlns=\"http://www.w3.org/2000/svg\" xmlns:xlink=\"http://www.w3.org/1999/xlink\">\n",
       "<g id=\"graph0\" class=\"graph\" transform=\"scale(1 1) rotate(0) translate(4 256)\">\n",
       "<polygon fill=\"white\" stroke=\"transparent\" points=\"-4,4 -4,-256 294,-256 294,4 -4,4\"/>\n",
       "<!-- 6888537541898837574 -->\n",
       "<g id=\"node1\" class=\"node\">\n",
       "<title>6888537541898837574</title>\n",
       "<polygon fill=\"none\" stroke=\"black\" points=\"239,-252 51,-252 51,-216 239,-216 239,-252\"/>\n",
       "<text text-anchor=\"middle\" x=\"145\" y=\"-229\" font-family=\"Helvetica,sans-Serif\" font-size=\"20.00\">Count(Projection)</text>\n",
       "</g>\n",
       "<!-- &#45;7552311145752006031 -->\n",
       "<g id=\"node2\" class=\"node\">\n",
       "<title>&#45;7552311145752006031</title>\n",
       "<polygon fill=\"none\" stroke=\"black\" points=\"269,-180 21,-180 21,-144 269,-144 269,-180\"/>\n",
       "<text text-anchor=\"middle\" x=\"145\" y=\"-157\" font-family=\"Helvetica,sans-Serif\" font-size=\"20.00\">Projection(Query, User)</text>\n",
       "</g>\n",
       "<!-- &#45;7552311145752006031&#45;&gt;6888537541898837574 -->\n",
       "<g id=\"edge1\" class=\"edge\">\n",
       "<title>&#45;7552311145752006031&#45;&gt;6888537541898837574</title>\n",
       "<path fill=\"none\" stroke=\"black\" d=\"M145,-180.3C145,-188.02 145,-197.29 145,-205.89\"/>\n",
       "<polygon fill=\"black\" stroke=\"black\" points=\"141.5,-205.9 145,-215.9 148.5,-205.9 141.5,-205.9\"/>\n",
       "</g>\n",
       "<!-- &#45;8434749909669821797 -->\n",
       "<g id=\"node3\" class=\"node\">\n",
       "<title>&#45;8434749909669821797</title>\n",
       "<polygon fill=\"none\" stroke=\"black\" points=\"290,-108 0,-108 0,-72 290,-72 290,-108\"/>\n",
       "<text text-anchor=\"middle\" x=\"145\" y=\"-85\" font-family=\"Helvetica,sans-Serif\" font-size=\"20.00\">Query(ReadParquetFSSpec)</text>\n",
       "</g>\n",
       "<!-- &#45;8434749909669821797&#45;&gt;&#45;7552311145752006031 -->\n",
       "<g id=\"edge2\" class=\"edge\">\n",
       "<title>&#45;8434749909669821797&#45;&gt;&#45;7552311145752006031</title>\n",
       "<path fill=\"none\" stroke=\"black\" d=\"M145,-108.3C145,-116.02 145,-125.29 145,-133.89\"/>\n",
       "<polygon fill=\"black\" stroke=\"black\" points=\"141.5,-133.9 145,-143.9 148.5,-133.9 141.5,-133.9\"/>\n",
       "</g>\n",
       "<!-- &#45;6950489028890881485 -->\n",
       "<g id=\"node4\" class=\"node\">\n",
       "<title>&#45;6950489028890881485</title>\n",
       "<polygon fill=\"none\" stroke=\"black\" points=\"252.5,-36 37.5,-36 37.5,0 252.5,0 252.5,-36\"/>\n",
       "<text text-anchor=\"middle\" x=\"145\" y=\"-13\" font-family=\"Helvetica,sans-Serif\" font-size=\"20.00\">ReadParquetFSSpec</text>\n",
       "</g>\n",
       "<!-- &#45;6950489028890881485&#45;&gt;&#45;8434749909669821797 -->\n",
       "<g id=\"edge3\" class=\"edge\">\n",
       "<title>&#45;6950489028890881485&#45;&gt;&#45;8434749909669821797</title>\n",
       "<path fill=\"none\" stroke=\"black\" d=\"M145,-36.3C145,-44.02 145,-53.29 145,-61.89\"/>\n",
       "<polygon fill=\"black\" stroke=\"black\" points=\"141.5,-61.9 145,-71.9 148.5,-61.9 141.5,-61.9\"/>\n",
       "</g>\n",
       "</g>\n",
       "</svg>\n"
      ],
      "text/plain": [
       "<graphviz.graphs.Digraph at 0x7fb3805add30>"
      ]
     },
     "execution_count": 25,
     "metadata": {},
     "output_type": "execute_result"
    }
   ],
   "source": [
    "ddf.query(\"Year == 2010\")[\"User\"].count().visualize()"
   ]
  },
  {
   "cell_type": "markdown",
   "metadata": {},
   "source": [
    "# Case 2) Datamart with Hive Parition\n",
    "**Reference**   \n",
    "- https://docs.dask.org/en/latest/dataframe-hive.html\n",
    "\n",
    "**Configuration**\n",
    "- Appending each raw data in to parquet.\n",
    "- Set index on column `Card` by each raw file ingested, since `Card` is non-unique then division in each raw file ingest need to turn off (`ignore_divisions=True`) for appending into .pqrquet\n",
    "- The index columns is sorted by default\n",
    "- With Hive style partition folder on columns \"Year\" (`partition_on`=\"Year\")"
   ]
  },
  {
   "cell_type": "code",
   "execution_count": null,
   "metadata": {},
   "outputs": [],
   "source": [
    "schema = {\n",
    "    \"User\": \"int64\",\n",
    "    \"Card\": \"int64\",\n",
    "    \"Year\": \"int64\",\n",
    "    \"Month\": \"int64\",\n",
    "    \"Day\": \"int64\",\n",
    "    \"Time\": \"string\",\n",
    "    \"Amount\": \"string\",\n",
    "    \"Use Chip\": \"string\",\n",
    "    \"Merchant Name\": \"int64\",\n",
    "    \"Merchant City\": \"string\",\n",
    "    \"Merchant State\": \"string\",\n",
    "    \"Zip\": \"float64\",\n",
    "    \"MCC\": \"int64\",\n",
    "    \"Errors?\": \"string\",\n",
    "    \"Is Fraud?\": \"string\"\n",
    "}"
   ]
  },
  {
   "cell_type": "code",
   "execution_count": 51,
   "metadata": {},
   "outputs": [
    {
     "name": "stdout",
     "output_type": "stream",
     "text": [
      "1991\n",
      "1992\n",
      "1993\n",
      "1994\n",
      "1995\n",
      "1996\n",
      "1997\n",
      "1998\n",
      "1999\n",
      "2000\n",
      "2001\n",
      "2002\n",
      "2003\n",
      "2004\n",
      "2005\n",
      "2006\n",
      "2007\n",
      "2008\n",
      "2009\n",
      "2010\n",
      "2011\n",
      "2012\n",
      "2013\n",
      "2014\n",
      "2015\n",
      "2016\n",
      "2017\n",
      "2018\n",
      "2019\n",
      "2020\n"
     ]
    }
   ],
   "source": [
    "yr_rng = list(range(1991, 2021))\n",
    "data_combined = data_path/\"credit\"/\"data_combined_with_hive_sort_idx_no_div.parquet\"\n",
    "\n",
    "for y in yr_rng:\n",
    "    print(y)\n",
    "    yrly_ddf = dd.read_csv(data_path/\"credit\"/f\"yearly_data_{y}.csv\", dtype=schema)\n",
    "    yrly_ddf = yrly_ddf.set_index(\"Card\", partition_size=\"100MB\")\n",
    "    \n",
    "    if data_combined.exists():    \n",
    "        yrly_ddf.to_parquet(data_combined, append=True, ignore_divisions=True, partition_on=[\"Year\"])\n",
    "    else:\n",
    "        yrly_ddf.to_parquet(data_combined, partition_on=[\"Year\"])"
   ]
  },
  {
   "cell_type": "markdown",
   "metadata": {},
   "source": [
    "## Query performance"
   ]
  },
  {
   "cell_type": "code",
   "execution_count": 10,
   "metadata": {},
   "outputs": [],
   "source": [
    "parquet_path = data_path/\"credit\"/\"data_combined_with_hive_sort_idx_no_div.parquet\"\n",
    "ddf2 = dd.read_parquet(parquet_path)"
   ]
  },
  {
   "cell_type": "code",
   "execution_count": 53,
   "metadata": {},
   "outputs": [
    {
     "data": {
      "text/plain": [
       "30"
      ]
     },
     "execution_count": 53,
     "metadata": {},
     "output_type": "execute_result"
    }
   ],
   "source": [
    "# Number of partitions = number of raw ingested files (no need to split, due to small size)\n",
    "ddf2.npartitions"
   ]
  },
  {
   "cell_type": "code",
   "execution_count": 54,
   "metadata": {},
   "outputs": [
    {
     "data": {
      "text/plain": [
       "False"
      ]
     },
     "execution_count": 54,
     "metadata": {},
     "output_type": "execute_result"
    }
   ],
   "source": [
    "# Unknown divisions, since the specified not to store divisions\n",
    "ddf2.known_divisions"
   ]
  },
  {
   "cell_type": "code",
   "execution_count": 55,
   "metadata": {},
   "outputs": [
    {
     "data": {
      "text/plain": [
       "Index([1, 1, 1, 1, 1], dtype='int64', name='Card')"
      ]
     },
     "execution_count": 55,
     "metadata": {},
     "output_type": "execute_result"
    }
   ],
   "source": [
    "# Check index type, and name 'Card'\n",
    "ddf2.index.head()"
   ]
  },
  {
   "cell_type": "code",
   "execution_count": 56,
   "metadata": {},
   "outputs": [
    {
     "data": {
      "text/plain": [
       "Index(['User', 'Month', 'Day', 'Time', 'Amount', 'Use Chip', 'Merchant Name',\n",
       "       'Merchant City', 'Merchant State', 'Zip', 'MCC', 'Errors?', 'Is Fraud?',\n",
       "       'Year'],\n",
       "      dtype='object')"
      ]
     },
     "execution_count": 56,
     "metadata": {},
     "output_type": "execute_result"
    }
   ],
   "source": [
    "# The rest of data frame columns will excluding the index\n",
    "ddf2.columns"
   ]
  },
  {
   "cell_type": "markdown",
   "metadata": {},
   "source": [
    "With hive partitionning, there are overhead on folder scanning"
   ]
  },
  {
   "cell_type": "code",
   "execution_count": 71,
   "metadata": {},
   "outputs": [
    {
     "name": "stdout",
     "output_type": "stream",
     "text": [
      "4.45 s ± 290 ms per loop (mean ± std. dev. of 7 runs, 1 loop each)\n"
     ]
    }
   ],
   "source": [
    "%%timeit\n",
    "ddf2.groupby(\"User\")[\"MCC\"].nunique().compute()"
   ]
  },
  {
   "cell_type": "code",
   "execution_count": 72,
   "metadata": {},
   "outputs": [
    {
     "name": "stdout",
     "output_type": "stream",
     "text": [
      "3.5 s ± 555 ms per loop (mean ± std. dev. of 7 runs, 1 loop each)\n"
     ]
    }
   ],
   "source": [
    "%%timeit\n",
    "ddf2.reset_index().groupby(\"User\")[\"Card\"].nunique().compute()"
   ]
  },
  {
   "cell_type": "code",
   "execution_count": 11,
   "metadata": {},
   "outputs": [
    {
     "name": "stdout",
     "output_type": "stream",
     "text": [
      "3.2 s ± 116 ms per loop (mean ± std. dev. of 7 runs, 1 loop each)\n"
     ]
    }
   ],
   "source": [
    "%%timeit\n",
    "ddf2.groupby(\"Year\")[\"Zip\"].sum().compute()"
   ]
  },
  {
   "cell_type": "code",
   "execution_count": 16,
   "metadata": {},
   "outputs": [
    {
     "name": "stdout",
     "output_type": "stream",
     "text": [
      "13.5 s ± 1.51 s per loop (mean ± std. dev. of 7 runs, 1 loop each)\n"
     ]
    }
   ],
   "source": [
    "%%timeit\n",
    "ddf2.query(\"Year == 2010\")[\"User\"].count().compute()"
   ]
  },
  {
   "cell_type": "code",
   "execution_count": 21,
   "metadata": {},
   "outputs": [
    {
     "data": {
      "image/svg+xml": [
       "<?xml version=\"1.0\" encoding=\"UTF-8\" standalone=\"no\"?>\n",
       "<!DOCTYPE svg PUBLIC \"-//W3C//DTD SVG 1.1//EN\"\n",
       " \"http://www.w3.org/Graphics/SVG/1.1/DTD/svg11.dtd\">\n",
       "<!-- Generated by graphviz version 2.50.0 (0)\n",
       " -->\n",
       "<!-- Pages: 1 -->\n",
       "<svg width=\"298pt\" height=\"260pt\"\n",
       " viewBox=\"0.00 0.00 298.00 260.00\" xmlns=\"http://www.w3.org/2000/svg\" xmlns:xlink=\"http://www.w3.org/1999/xlink\">\n",
       "<g id=\"graph0\" class=\"graph\" transform=\"scale(1 1) rotate(0) translate(4 256)\">\n",
       "<polygon fill=\"white\" stroke=\"transparent\" points=\"-4,4 -4,-256 294,-256 294,4 -4,4\"/>\n",
       "<!-- 3461947286180730777 -->\n",
       "<g id=\"node1\" class=\"node\">\n",
       "<title>3461947286180730777</title>\n",
       "<polygon fill=\"none\" stroke=\"black\" points=\"239,-252 51,-252 51,-216 239,-216 239,-252\"/>\n",
       "<text text-anchor=\"middle\" x=\"145\" y=\"-229\" font-family=\"Helvetica,sans-Serif\" font-size=\"20.00\">Count(Projection)</text>\n",
       "</g>\n",
       "<!-- 1831174659873582137 -->\n",
       "<g id=\"node2\" class=\"node\">\n",
       "<title>1831174659873582137</title>\n",
       "<polygon fill=\"none\" stroke=\"black\" points=\"269,-180 21,-180 21,-144 269,-144 269,-180\"/>\n",
       "<text text-anchor=\"middle\" x=\"145\" y=\"-157\" font-family=\"Helvetica,sans-Serif\" font-size=\"20.00\">Projection(Query, User)</text>\n",
       "</g>\n",
       "<!-- 1831174659873582137&#45;&gt;3461947286180730777 -->\n",
       "<g id=\"edge1\" class=\"edge\">\n",
       "<title>1831174659873582137&#45;&gt;3461947286180730777</title>\n",
       "<path fill=\"none\" stroke=\"black\" d=\"M145,-180.3C145,-188.02 145,-197.29 145,-205.89\"/>\n",
       "<polygon fill=\"black\" stroke=\"black\" points=\"141.5,-205.9 145,-215.9 148.5,-205.9 141.5,-205.9\"/>\n",
       "</g>\n",
       "<!-- &#45;2091995784436381931 -->\n",
       "<g id=\"node3\" class=\"node\">\n",
       "<title>&#45;2091995784436381931</title>\n",
       "<polygon fill=\"none\" stroke=\"black\" points=\"290,-108 0,-108 0,-72 290,-72 290,-108\"/>\n",
       "<text text-anchor=\"middle\" x=\"145\" y=\"-85\" font-family=\"Helvetica,sans-Serif\" font-size=\"20.00\">Query(ReadParquetFSSpec)</text>\n",
       "</g>\n",
       "<!-- &#45;2091995784436381931&#45;&gt;1831174659873582137 -->\n",
       "<g id=\"edge2\" class=\"edge\">\n",
       "<title>&#45;2091995784436381931&#45;&gt;1831174659873582137</title>\n",
       "<path fill=\"none\" stroke=\"black\" d=\"M145,-108.3C145,-116.02 145,-125.29 145,-133.89\"/>\n",
       "<polygon fill=\"black\" stroke=\"black\" points=\"141.5,-133.9 145,-143.9 148.5,-133.9 141.5,-133.9\"/>\n",
       "</g>\n",
       "<!-- &#45;4258017805610789887 -->\n",
       "<g id=\"node4\" class=\"node\">\n",
       "<title>&#45;4258017805610789887</title>\n",
       "<polygon fill=\"none\" stroke=\"black\" points=\"252.5,-36 37.5,-36 37.5,0 252.5,0 252.5,-36\"/>\n",
       "<text text-anchor=\"middle\" x=\"145\" y=\"-13\" font-family=\"Helvetica,sans-Serif\" font-size=\"20.00\">ReadParquetFSSpec</text>\n",
       "</g>\n",
       "<!-- &#45;4258017805610789887&#45;&gt;&#45;2091995784436381931 -->\n",
       "<g id=\"edge3\" class=\"edge\">\n",
       "<title>&#45;4258017805610789887&#45;&gt;&#45;2091995784436381931</title>\n",
       "<path fill=\"none\" stroke=\"black\" d=\"M145,-36.3C145,-44.02 145,-53.29 145,-61.89\"/>\n",
       "<polygon fill=\"black\" stroke=\"black\" points=\"141.5,-61.9 145,-71.9 148.5,-61.9 141.5,-61.9\"/>\n",
       "</g>\n",
       "</g>\n",
       "</svg>\n"
      ],
      "text/plain": [
       "<graphviz.graphs.Digraph at 0x7fb341471460>"
      ]
     },
     "execution_count": 21,
     "metadata": {},
     "output_type": "execute_result"
    }
   ],
   "source": [
    "ddf2.query(\"Year == 2010\")[\"User\"].count().visualize()"
   ]
  },
  {
   "cell_type": "markdown",
   "metadata": {},
   "source": [
    "To fully utilized hive partition, filtering must definded on `read_parquet` with `filter` parameter defined  \n",
    "No predicate pushdown at query optimization like Spark"
   ]
  },
  {
   "cell_type": "code",
   "execution_count": 27,
   "metadata": {},
   "outputs": [
    {
     "data": {
      "image/svg+xml": [
       "<?xml version=\"1.0\" encoding=\"UTF-8\" standalone=\"no\"?>\n",
       "<!DOCTYPE svg PUBLIC \"-//W3C//DTD SVG 1.1//EN\"\n",
       " \"http://www.w3.org/Graphics/SVG/1.1/DTD/svg11.dtd\">\n",
       "<!-- Generated by graphviz version 2.50.0 (0)\n",
       " -->\n",
       "<!-- Pages: 1 -->\n",
       "<svg width=\"298pt\" height=\"260pt\"\n",
       " viewBox=\"0.00 0.00 298.00 260.00\" xmlns=\"http://www.w3.org/2000/svg\" xmlns:xlink=\"http://www.w3.org/1999/xlink\">\n",
       "<g id=\"graph0\" class=\"graph\" transform=\"scale(1 1) rotate(0) translate(4 256)\">\n",
       "<polygon fill=\"white\" stroke=\"transparent\" points=\"-4,4 -4,-256 294,-256 294,4 -4,4\"/>\n",
       "<!-- &#45;6070802362690940313 -->\n",
       "<g id=\"node1\" class=\"node\">\n",
       "<title>&#45;6070802362690940313</title>\n",
       "<polygon fill=\"none\" stroke=\"black\" points=\"239,-252 51,-252 51,-216 239,-216 239,-252\"/>\n",
       "<text text-anchor=\"middle\" x=\"145\" y=\"-229\" font-family=\"Helvetica,sans-Serif\" font-size=\"20.00\">Count(Projection)</text>\n",
       "</g>\n",
       "<!-- 7310016372279795736 -->\n",
       "<g id=\"node2\" class=\"node\">\n",
       "<title>7310016372279795736</title>\n",
       "<polygon fill=\"none\" stroke=\"black\" points=\"269,-180 21,-180 21,-144 269,-144 269,-180\"/>\n",
       "<text text-anchor=\"middle\" x=\"145\" y=\"-157\" font-family=\"Helvetica,sans-Serif\" font-size=\"20.00\">Projection(Query, User)</text>\n",
       "</g>\n",
       "<!-- 7310016372279795736&#45;&gt;&#45;6070802362690940313 -->\n",
       "<g id=\"edge1\" class=\"edge\">\n",
       "<title>7310016372279795736&#45;&gt;&#45;6070802362690940313</title>\n",
       "<path fill=\"none\" stroke=\"black\" d=\"M145,-180.3C145,-188.02 145,-197.29 145,-205.89\"/>\n",
       "<polygon fill=\"black\" stroke=\"black\" points=\"141.5,-205.9 145,-215.9 148.5,-205.9 141.5,-205.9\"/>\n",
       "</g>\n",
       "<!-- &#45;1355179473263446116 -->\n",
       "<g id=\"node3\" class=\"node\">\n",
       "<title>&#45;1355179473263446116</title>\n",
       "<polygon fill=\"none\" stroke=\"black\" points=\"290,-108 0,-108 0,-72 290,-72 290,-108\"/>\n",
       "<text text-anchor=\"middle\" x=\"145\" y=\"-85\" font-family=\"Helvetica,sans-Serif\" font-size=\"20.00\">Query(ReadParquetFSSpec)</text>\n",
       "</g>\n",
       "<!-- &#45;1355179473263446116&#45;&gt;7310016372279795736 -->\n",
       "<g id=\"edge2\" class=\"edge\">\n",
       "<title>&#45;1355179473263446116&#45;&gt;7310016372279795736</title>\n",
       "<path fill=\"none\" stroke=\"black\" d=\"M145,-108.3C145,-116.02 145,-125.29 145,-133.89\"/>\n",
       "<polygon fill=\"black\" stroke=\"black\" points=\"141.5,-133.9 145,-143.9 148.5,-133.9 141.5,-133.9\"/>\n",
       "</g>\n",
       "<!-- 642371309569690449 -->\n",
       "<g id=\"node4\" class=\"node\">\n",
       "<title>642371309569690449</title>\n",
       "<polygon fill=\"none\" stroke=\"black\" points=\"252.5,-36 37.5,-36 37.5,0 252.5,0 252.5,-36\"/>\n",
       "<text text-anchor=\"middle\" x=\"145\" y=\"-13\" font-family=\"Helvetica,sans-Serif\" font-size=\"20.00\">ReadParquetFSSpec</text>\n",
       "</g>\n",
       "<!-- 642371309569690449&#45;&gt;&#45;1355179473263446116 -->\n",
       "<g id=\"edge3\" class=\"edge\">\n",
       "<title>642371309569690449&#45;&gt;&#45;1355179473263446116</title>\n",
       "<path fill=\"none\" stroke=\"black\" d=\"M145,-36.3C145,-44.02 145,-53.29 145,-61.89\"/>\n",
       "<polygon fill=\"black\" stroke=\"black\" points=\"141.5,-61.9 145,-71.9 148.5,-61.9 141.5,-61.9\"/>\n",
       "</g>\n",
       "</g>\n",
       "</svg>\n"
      ],
      "text/plain": [
       "<graphviz.graphs.Digraph at 0x7fb3881046b0>"
      ]
     },
     "execution_count": 27,
     "metadata": {},
     "output_type": "execute_result"
    }
   ],
   "source": [
    "parquet_path = data_path/\"credit\"/\"data_combined_with_hive_sort_idx_no_div.parquet\"\n",
    "year_2010 = dd.read_parquet(parquet_path, filters=[(\"Year\", \"==\", 2010)])\n",
    "year_2010.query(\"Year == 2010\")[\"User\"].count().visualize()"
   ]
  },
  {
   "cell_type": "code",
   "execution_count": 30,
   "metadata": {},
   "outputs": [
    {
     "name": "stdout",
     "output_type": "stream",
     "text": [
      "1.35 s ± 95.3 ms per loop (mean ± std. dev. of 7 runs, 1 loop each)\n"
     ]
    }
   ],
   "source": [
    "%%timeit\n",
    "year_2010.query(\"Year == 2010\")[\"User\"].count().compute()"
   ]
  }
 ],
 "metadata": {
  "kernelspec": {
   "display_name": "dask",
   "language": "python",
   "name": "python3"
  },
  "language_info": {
   "codemirror_mode": {
    "name": "ipython",
    "version": 3
   },
   "file_extension": ".py",
   "mimetype": "text/x-python",
   "name": "python",
   "nbconvert_exporter": "python",
   "pygments_lexer": "ipython3",
   "version": "3.12.2"
  }
 },
 "nbformat": 4,
 "nbformat_minor": 4
}
