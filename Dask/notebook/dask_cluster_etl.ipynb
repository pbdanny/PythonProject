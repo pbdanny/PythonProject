{
 "cells": [
  {
   "cell_type": "code",
   "execution_count": 28,
   "metadata": {},
   "outputs": [],
   "source": [
    "import os\n",
    "from pathlib import Path\n",
    "import warnings\n",
    "\n",
    "import pandas as pd\n",
    "\n",
    "import dask\n",
    "from dask import dataframe as dd\n",
    "from dask import array as da\n",
    "\n",
    "data_path = Path(os.getcwd()).parent/\"data\""
   ]
  },
  {
   "cell_type": "markdown",
   "metadata": {},
   "source": [
    "# Simulate source data with multiple .csv"
   ]
  },
  {
   "cell_type": "code",
   "execution_count": null,
   "metadata": {},
   "outputs": [
    {
     "ename": "AttributeError",
     "evalue": "'numpy.ndarray' object has no attribute 'compute'",
     "output_type": "error",
     "traceback": [
      "\u001b[0;31m---------------------------------------------------------------------------\u001b[0m\n",
      "\u001b[0;31mAttributeError\u001b[0m                            Traceback (most recent call last)\n",
      "Cell \u001b[0;32mIn[2], line 2\u001b[0m\n",
      "\u001b[1;32m      1\u001b[0m pdf \u001b[38;5;241m=\u001b[39m pd\u001b[38;5;241m.\u001b[39mread_csv(data_path\u001b[38;5;241m/\u001b[39m\u001b[38;5;124m\"\u001b[39m\u001b[38;5;124mcredit_card_transactions-ibm_v2.csv\u001b[39m\u001b[38;5;124m\"\u001b[39m, dtype\u001b[38;5;241m=\u001b[39m{\u001b[38;5;124m'\u001b[39m\u001b[38;5;124mErrors?\u001b[39m\u001b[38;5;124m'\u001b[39m: \u001b[38;5;124m'\u001b[39m\u001b[38;5;124mobject\u001b[39m\u001b[38;5;124m'\u001b[39m})\n",
      "\u001b[0;32m----> 2\u001b[0m uniq_year \u001b[38;5;241m=\u001b[39m \u001b[43mpdf\u001b[49m\u001b[43m[\u001b[49m\u001b[38;5;124;43m\"\u001b[39;49m\u001b[38;5;124;43mYear\u001b[39;49m\u001b[38;5;124;43m\"\u001b[39;49m\u001b[43m]\u001b[49m\u001b[38;5;241;43m.\u001b[39;49m\u001b[43munique\u001b[49m\u001b[43m(\u001b[49m\u001b[43m)\u001b[49m\u001b[38;5;241;43m.\u001b[39;49m\u001b[43mcompute\u001b[49m()\u001b[38;5;241m.\u001b[39mvalues\u001b[38;5;241m.\u001b[39mtolist()\n",
      "\n",
      "\u001b[0;31mAttributeError\u001b[0m: 'numpy.ndarray' object has no attribute 'compute'"
     ]
    }
   ],
   "source": [
    "pdf = pd.read_csv(data_path/\"credit_card_transactions-ibm_v2.csv\", dtype={'Errors?': 'object'})"
   ]
  },
  {
   "cell_type": "code",
   "execution_count": null,
   "metadata": {},
   "outputs": [],
   "source": [
    "uniq_year = pdf[\"Year\"].unique().tolist()"
   ]
  },
  {
   "cell_type": "code",
   "execution_count": null,
   "metadata": {},
   "outputs": [
    {
     "name": "stderr",
     "output_type": "stream",
     "text": [
      "2024-12-22 13:53:23,133 - distributed.shuffle._scheduler_plugin - WARNING - Shuffle fbe1094cc8dd7d4b4c2690824a1f9f5b initialized by task ('shuffle-transfer-fbe1094cc8dd7d4b4c2690824a1f9f5b', 28) executed on worker tcp://127.0.0.1:35539\n",
      "2024-12-22 13:53:52,751 - distributed.shuffle._scheduler_plugin - WARNING - Shuffle fbe1094cc8dd7d4b4c2690824a1f9f5b deactivated due to stimulus 'task-finished-1734850432.743902'\n"
     ]
    }
   ],
   "source": [
    "# ddf = dd.read_csv(data_path/\"credit_card_transactions-ibm_v2.csv\", dtype={'Errors?': 'object'})\n",
    "# uniq_year = ddf[\"Year\"].unique().compute().values.tolist()"
   ]
  },
  {
   "cell_type": "code",
   "execution_count": null,
   "metadata": {},
   "outputs": [
    {
     "data": {
      "text/plain": [
       "User                int64\n",
       "Card                int64\n",
       "Year                int64\n",
       "Month               int64\n",
       "Day                 int64\n",
       "Time               object\n",
       "Amount             object\n",
       "Use Chip           object\n",
       "Merchant Name       int64\n",
       "Merchant City      object\n",
       "Merchant State     object\n",
       "Zip               float64\n",
       "MCC                 int64\n",
       "Errors?            object\n",
       "Is Fraud?          object\n",
       "dtype: object"
      ]
     },
     "metadata": {},
     "output_type": "display_data"
    }
   ],
   "source": [
    "pdf.dtypes"
   ]
  },
  {
   "cell_type": "code",
   "execution_count": null,
   "metadata": {},
   "outputs": [
    {
     "data": {
      "text/plain": [
       "[1991,\n",
       " 1992,\n",
       " 1993,\n",
       " 1994,\n",
       " 1995,\n",
       " 1996,\n",
       " 1997,\n",
       " 1998,\n",
       " 1999,\n",
       " 2000,\n",
       " 2001,\n",
       " 2002,\n",
       " 2003,\n",
       " 2004,\n",
       " 2005,\n",
       " 2006,\n",
       " 2007,\n",
       " 2008,\n",
       " 2009,\n",
       " 2010,\n",
       " 2011,\n",
       " 2012,\n",
       " 2013,\n",
       " 2014,\n",
       " 2015,\n",
       " 2016,\n",
       " 2017,\n",
       " 2018,\n",
       " 2019,\n",
       " 2020]"
      ]
     },
     "metadata": {},
     "output_type": "display_data"
    }
   ],
   "source": [
    "type(uniq_year)\n",
    "uniq_year.sort()\n",
    "uniq_year"
   ]
  },
  {
   "cell_type": "code",
   "execution_count": null,
   "metadata": {},
   "outputs": [
    {
     "name": "stdout",
     "output_type": "stream",
     "text": [
      "1991\n",
      "1992\n",
      "1993\n",
      "1994\n",
      "1995\n",
      "1996\n",
      "1997\n",
      "1998\n",
      "1999\n",
      "2000\n",
      "2001\n",
      "2002\n",
      "2003\n",
      "2004\n",
      "2005\n",
      "2006\n",
      "2007\n",
      "2008\n",
      "2009\n",
      "2010\n",
      "2011\n",
      "2012\n",
      "2013\n",
      "2014\n",
      "2015\n",
      "2016\n",
      "2017\n",
      "2018\n",
      "2019\n",
      "2020\n"
     ]
    }
   ],
   "source": [
    "for y in uniq_year:\n",
    "# for y in [1991]:\n",
    "    print(y)\n",
    "    yrly_ddf = pdf[pdf[\"Year\"] == y]\n",
    "    yrly_ddf.to_csv(data_path/\"credit\"/f\"yearly_data_{y}.csv\", index=False)"
   ]
  },
  {
   "cell_type": "markdown",
   "metadata": {},
   "source": [
    "# Working with (Distributed) Cluster "
   ]
  },
  {
   "cell_type": "markdown",
   "metadata": {},
   "source": [
    "Dask distributed client have version conflicts with library `msgpack-python`  \n",
    "Fix: upgrade msgpack-python == 1.0.5  \n",
    "https://github.com/dask/distributed/issues/8038  "
   ]
  },
  {
   "cell_type": "markdown",
   "metadata": {},
   "source": [
    " **reference for Cluster configuration n_worker, threads_per_worker:**\n",
    "- https://stackoverflow.com/questions/57760475/difference-between-dask-distributed-localcluster-with-threads-vs-processes\n",
    "- https://stackoverflow.com/questions/55784232/right-way-to-set-memory-parameters-for-localcluster-in-dask\n",
    "\n",
    "*Parameter*  \n",
    "\n",
    "n_workers=4 : Number of workers (Dask show _processes_ ), worker memory after allocated to core service (2G) will be distribued equally among each workers if Local machine have memory 16MB, for 4 workers each have 16 - 2 = 14 / 4 ~ 3.5G per worker.\n",
    "** Running dask without without cluster configuration = single worker cluster (n_worker = 1) **   \n",
    "\n",
    "threads_per_worker= # machine cores / # worker\n",
    "\n",
    "memory_limit=machine memory / # n_workers : possible to set beyond the machine limit. "
   ]
  },
  {
   "cell_type": "markdown",
   "metadata": {},
   "source": [
    "**reference for Cluster configuration worker memory**\n",
    "- https://distributed.dask.org/en/stable/worker-memory.html#thresholds-configuration\n",
    "\n",
    "distributed worker memory:  \n",
    "- target: 0.60     # fraction of managed memory where we start spilling to disk  \n",
    "- spill: 0.70      # fraction of process memory where we start spilling to disk  \n",
    "- pause: 0.80      # fraction of process memory at which we pause worker threads  \n",
    "- terminate: 0.95  # fraction of process memory at which we terminate the worker"
   ]
  },
  {
   "cell_type": "markdown",
   "metadata": {},
   "source": [
    "**reference for Cluster shuffle method**  \n",
    "https://docs.coiled.io/blog/shuffling-large-data-at-constant-memory.html  \n",
    "\n",
    "Shuffle is the method of transferring data between worker when function `sort`, `merge`, `groupby` called.  \n",
    "P2P Shuffle is the shuflling technics help reduce worker memory footprint.  "
   ]
  },
  {
   "cell_type": "code",
   "execution_count": 3,
   "metadata": {},
   "outputs": [],
   "source": [
    "from dask.distributed import LocalCluster\n",
    "\n",
    "dask.config.set({ \"distributed.worker.memory.target\": 0.6, \n",
    "                 \"distributed.worker.memory.spill\": 0.7, \n",
    "                 \"distributed.worker.memory.pause\": 0.8, \n",
    "                 \"distributed.worker.memory.terminate\": 0.95,\n",
    "                 \"dataframe.shuffle.method\": \"p2p\" }) \n",
    "\n",
    "client = LocalCluster(n_workers=4).get_client()"
   ]
  },
  {
   "cell_type": "code",
   "execution_count": 6,
   "metadata": {},
   "outputs": [
    {
     "name": "stdout",
     "output_type": "stream",
     "text": [
      "<Client: 'tcp://127.0.0.1:43487' processes=4 threads=4, memory=15.02 GiB>\n"
     ]
    }
   ],
   "source": [
    "# Print the client to see the cluster information\n",
    "print(client)"
   ]
  },
  {
   "cell_type": "code",
   "execution_count": 7,
   "metadata": {},
   "outputs": [
    {
     "data": {
      "text/html": [
       "<div>\n",
       "    <div style=\"width: 24px; height: 24px; background-color: #e1e1e1; border: 3px solid #9D9D9D; border-radius: 5px; position: absolute;\"> </div>\n",
       "    <div style=\"margin-left: 48px;\">\n",
       "        <h3 style=\"margin-bottom: 0px;\">Client</h3>\n",
       "        <p style=\"color: #9D9D9D; margin-bottom: 0px;\">Client-339301ff-ca42-11ef-8654-cc2f719a592a</p>\n",
       "        <table style=\"width: 100%; text-align: left;\">\n",
       "\n",
       "        <tr>\n",
       "        \n",
       "            <td style=\"text-align: left;\"><strong>Connection method:</strong> Cluster object</td>\n",
       "            <td style=\"text-align: left;\"><strong>Cluster type:</strong> distributed.LocalCluster</td>\n",
       "        \n",
       "        </tr>\n",
       "\n",
       "        \n",
       "            <tr>\n",
       "                <td style=\"text-align: left;\">\n",
       "                    <strong>Dashboard: </strong> <a href=\"http://127.0.0.1:8787/status\" target=\"_blank\">http://127.0.0.1:8787/status</a>\n",
       "                </td>\n",
       "                <td style=\"text-align: left;\"></td>\n",
       "            </tr>\n",
       "        \n",
       "\n",
       "        </table>\n",
       "\n",
       "        \n",
       "\n",
       "        \n",
       "            <details>\n",
       "            <summary style=\"margin-bottom: 20px;\"><h3 style=\"display: inline;\">Cluster Info</h3></summary>\n",
       "            <div class=\"jp-RenderedHTMLCommon jp-RenderedHTML jp-mod-trusted jp-OutputArea-output\">\n",
       "    <div style=\"width: 24px; height: 24px; background-color: #e1e1e1; border: 3px solid #9D9D9D; border-radius: 5px; position: absolute;\">\n",
       "    </div>\n",
       "    <div style=\"margin-left: 48px;\">\n",
       "        <h3 style=\"margin-bottom: 0px; margin-top: 0px;\">LocalCluster</h3>\n",
       "        <p style=\"color: #9D9D9D; margin-bottom: 0px;\">febf52c8</p>\n",
       "        <table style=\"width: 100%; text-align: left;\">\n",
       "            <tr>\n",
       "                <td style=\"text-align: left;\">\n",
       "                    <strong>Dashboard:</strong> <a href=\"http://127.0.0.1:8787/status\" target=\"_blank\">http://127.0.0.1:8787/status</a>\n",
       "                </td>\n",
       "                <td style=\"text-align: left;\">\n",
       "                    <strong>Workers:</strong> 4\n",
       "                </td>\n",
       "            </tr>\n",
       "            <tr>\n",
       "                <td style=\"text-align: left;\">\n",
       "                    <strong>Total threads:</strong> 4\n",
       "                </td>\n",
       "                <td style=\"text-align: left;\">\n",
       "                    <strong>Total memory:</strong> 15.02 GiB\n",
       "                </td>\n",
       "            </tr>\n",
       "            \n",
       "            <tr>\n",
       "    <td style=\"text-align: left;\"><strong>Status:</strong> running</td>\n",
       "    <td style=\"text-align: left;\"><strong>Using processes:</strong> True</td>\n",
       "</tr>\n",
       "\n",
       "            \n",
       "        </table>\n",
       "\n",
       "        <details>\n",
       "            <summary style=\"margin-bottom: 20px;\">\n",
       "                <h3 style=\"display: inline;\">Scheduler Info</h3>\n",
       "            </summary>\n",
       "\n",
       "            <div style=\"\">\n",
       "    <div>\n",
       "        <div style=\"width: 24px; height: 24px; background-color: #FFF7E5; border: 3px solid #FF6132; border-radius: 5px; position: absolute;\"> </div>\n",
       "        <div style=\"margin-left: 48px;\">\n",
       "            <h3 style=\"margin-bottom: 0px;\">Scheduler</h3>\n",
       "            <p style=\"color: #9D9D9D; margin-bottom: 0px;\">Scheduler-ee668cb0-d0e7-4eb5-a350-efa009c5cd3b</p>\n",
       "            <table style=\"width: 100%; text-align: left;\">\n",
       "                <tr>\n",
       "                    <td style=\"text-align: left;\">\n",
       "                        <strong>Comm:</strong> tcp://127.0.0.1:43487\n",
       "                    </td>\n",
       "                    <td style=\"text-align: left;\">\n",
       "                        <strong>Workers:</strong> 4\n",
       "                    </td>\n",
       "                </tr>\n",
       "                <tr>\n",
       "                    <td style=\"text-align: left;\">\n",
       "                        <strong>Dashboard:</strong> <a href=\"http://127.0.0.1:8787/status\" target=\"_blank\">http://127.0.0.1:8787/status</a>\n",
       "                    </td>\n",
       "                    <td style=\"text-align: left;\">\n",
       "                        <strong>Total threads:</strong> 4\n",
       "                    </td>\n",
       "                </tr>\n",
       "                <tr>\n",
       "                    <td style=\"text-align: left;\">\n",
       "                        <strong>Started:</strong> Just now\n",
       "                    </td>\n",
       "                    <td style=\"text-align: left;\">\n",
       "                        <strong>Total memory:</strong> 15.02 GiB\n",
       "                    </td>\n",
       "                </tr>\n",
       "            </table>\n",
       "        </div>\n",
       "    </div>\n",
       "\n",
       "    <details style=\"margin-left: 48px;\">\n",
       "        <summary style=\"margin-bottom: 20px;\">\n",
       "            <h3 style=\"display: inline;\">Workers</h3>\n",
       "        </summary>\n",
       "\n",
       "        \n",
       "        <div style=\"margin-bottom: 20px;\">\n",
       "            <div style=\"width: 24px; height: 24px; background-color: #DBF5FF; border: 3px solid #4CC9FF; border-radius: 5px; position: absolute;\"> </div>\n",
       "            <div style=\"margin-left: 48px;\">\n",
       "            <details>\n",
       "                <summary>\n",
       "                    <h4 style=\"margin-bottom: 0px; display: inline;\">Worker: 0</h4>\n",
       "                </summary>\n",
       "                <table style=\"width: 100%; text-align: left;\">\n",
       "                    <tr>\n",
       "                        <td style=\"text-align: left;\">\n",
       "                            <strong>Comm: </strong> tcp://127.0.0.1:39941\n",
       "                        </td>\n",
       "                        <td style=\"text-align: left;\">\n",
       "                            <strong>Total threads: </strong> 1\n",
       "                        </td>\n",
       "                    </tr>\n",
       "                    <tr>\n",
       "                        <td style=\"text-align: left;\">\n",
       "                            <strong>Dashboard: </strong> <a href=\"http://127.0.0.1:39783/status\" target=\"_blank\">http://127.0.0.1:39783/status</a>\n",
       "                        </td>\n",
       "                        <td style=\"text-align: left;\">\n",
       "                            <strong>Memory: </strong> 3.75 GiB\n",
       "                        </td>\n",
       "                    </tr>\n",
       "                    <tr>\n",
       "                        <td style=\"text-align: left;\">\n",
       "                            <strong>Nanny: </strong> tcp://127.0.0.1:40781\n",
       "                        </td>\n",
       "                        <td style=\"text-align: left;\"></td>\n",
       "                    </tr>\n",
       "                    <tr>\n",
       "                        <td colspan=\"2\" style=\"text-align: left;\">\n",
       "                            <strong>Local directory: </strong> /tmp/dask-scratch-space/worker-rwljtop6\n",
       "                        </td>\n",
       "                    </tr>\n",
       "\n",
       "                    \n",
       "\n",
       "                    \n",
       "\n",
       "                </table>\n",
       "            </details>\n",
       "            </div>\n",
       "        </div>\n",
       "        \n",
       "        <div style=\"margin-bottom: 20px;\">\n",
       "            <div style=\"width: 24px; height: 24px; background-color: #DBF5FF; border: 3px solid #4CC9FF; border-radius: 5px; position: absolute;\"> </div>\n",
       "            <div style=\"margin-left: 48px;\">\n",
       "            <details>\n",
       "                <summary>\n",
       "                    <h4 style=\"margin-bottom: 0px; display: inline;\">Worker: 1</h4>\n",
       "                </summary>\n",
       "                <table style=\"width: 100%; text-align: left;\">\n",
       "                    <tr>\n",
       "                        <td style=\"text-align: left;\">\n",
       "                            <strong>Comm: </strong> tcp://127.0.0.1:39737\n",
       "                        </td>\n",
       "                        <td style=\"text-align: left;\">\n",
       "                            <strong>Total threads: </strong> 1\n",
       "                        </td>\n",
       "                    </tr>\n",
       "                    <tr>\n",
       "                        <td style=\"text-align: left;\">\n",
       "                            <strong>Dashboard: </strong> <a href=\"http://127.0.0.1:39125/status\" target=\"_blank\">http://127.0.0.1:39125/status</a>\n",
       "                        </td>\n",
       "                        <td style=\"text-align: left;\">\n",
       "                            <strong>Memory: </strong> 3.75 GiB\n",
       "                        </td>\n",
       "                    </tr>\n",
       "                    <tr>\n",
       "                        <td style=\"text-align: left;\">\n",
       "                            <strong>Nanny: </strong> tcp://127.0.0.1:40365\n",
       "                        </td>\n",
       "                        <td style=\"text-align: left;\"></td>\n",
       "                    </tr>\n",
       "                    <tr>\n",
       "                        <td colspan=\"2\" style=\"text-align: left;\">\n",
       "                            <strong>Local directory: </strong> /tmp/dask-scratch-space/worker-v8dqjo54\n",
       "                        </td>\n",
       "                    </tr>\n",
       "\n",
       "                    \n",
       "\n",
       "                    \n",
       "\n",
       "                </table>\n",
       "            </details>\n",
       "            </div>\n",
       "        </div>\n",
       "        \n",
       "        <div style=\"margin-bottom: 20px;\">\n",
       "            <div style=\"width: 24px; height: 24px; background-color: #DBF5FF; border: 3px solid #4CC9FF; border-radius: 5px; position: absolute;\"> </div>\n",
       "            <div style=\"margin-left: 48px;\">\n",
       "            <details>\n",
       "                <summary>\n",
       "                    <h4 style=\"margin-bottom: 0px; display: inline;\">Worker: 2</h4>\n",
       "                </summary>\n",
       "                <table style=\"width: 100%; text-align: left;\">\n",
       "                    <tr>\n",
       "                        <td style=\"text-align: left;\">\n",
       "                            <strong>Comm: </strong> tcp://127.0.0.1:44775\n",
       "                        </td>\n",
       "                        <td style=\"text-align: left;\">\n",
       "                            <strong>Total threads: </strong> 1\n",
       "                        </td>\n",
       "                    </tr>\n",
       "                    <tr>\n",
       "                        <td style=\"text-align: left;\">\n",
       "                            <strong>Dashboard: </strong> <a href=\"http://127.0.0.1:44761/status\" target=\"_blank\">http://127.0.0.1:44761/status</a>\n",
       "                        </td>\n",
       "                        <td style=\"text-align: left;\">\n",
       "                            <strong>Memory: </strong> 3.75 GiB\n",
       "                        </td>\n",
       "                    </tr>\n",
       "                    <tr>\n",
       "                        <td style=\"text-align: left;\">\n",
       "                            <strong>Nanny: </strong> tcp://127.0.0.1:40929\n",
       "                        </td>\n",
       "                        <td style=\"text-align: left;\"></td>\n",
       "                    </tr>\n",
       "                    <tr>\n",
       "                        <td colspan=\"2\" style=\"text-align: left;\">\n",
       "                            <strong>Local directory: </strong> /tmp/dask-scratch-space/worker-ctdu6iuz\n",
       "                        </td>\n",
       "                    </tr>\n",
       "\n",
       "                    \n",
       "\n",
       "                    \n",
       "\n",
       "                </table>\n",
       "            </details>\n",
       "            </div>\n",
       "        </div>\n",
       "        \n",
       "        <div style=\"margin-bottom: 20px;\">\n",
       "            <div style=\"width: 24px; height: 24px; background-color: #DBF5FF; border: 3px solid #4CC9FF; border-radius: 5px; position: absolute;\"> </div>\n",
       "            <div style=\"margin-left: 48px;\">\n",
       "            <details>\n",
       "                <summary>\n",
       "                    <h4 style=\"margin-bottom: 0px; display: inline;\">Worker: 3</h4>\n",
       "                </summary>\n",
       "                <table style=\"width: 100%; text-align: left;\">\n",
       "                    <tr>\n",
       "                        <td style=\"text-align: left;\">\n",
       "                            <strong>Comm: </strong> tcp://127.0.0.1:45921\n",
       "                        </td>\n",
       "                        <td style=\"text-align: left;\">\n",
       "                            <strong>Total threads: </strong> 1\n",
       "                        </td>\n",
       "                    </tr>\n",
       "                    <tr>\n",
       "                        <td style=\"text-align: left;\">\n",
       "                            <strong>Dashboard: </strong> <a href=\"http://127.0.0.1:34747/status\" target=\"_blank\">http://127.0.0.1:34747/status</a>\n",
       "                        </td>\n",
       "                        <td style=\"text-align: left;\">\n",
       "                            <strong>Memory: </strong> 3.75 GiB\n",
       "                        </td>\n",
       "                    </tr>\n",
       "                    <tr>\n",
       "                        <td style=\"text-align: left;\">\n",
       "                            <strong>Nanny: </strong> tcp://127.0.0.1:41215\n",
       "                        </td>\n",
       "                        <td style=\"text-align: left;\"></td>\n",
       "                    </tr>\n",
       "                    <tr>\n",
       "                        <td colspan=\"2\" style=\"text-align: left;\">\n",
       "                            <strong>Local directory: </strong> /tmp/dask-scratch-space/worker-kht6mkwh\n",
       "                        </td>\n",
       "                    </tr>\n",
       "\n",
       "                    \n",
       "\n",
       "                    \n",
       "\n",
       "                </table>\n",
       "            </details>\n",
       "            </div>\n",
       "        </div>\n",
       "        \n",
       "\n",
       "    </details>\n",
       "</div>\n",
       "\n",
       "        </details>\n",
       "    </div>\n",
       "</div>\n",
       "            </details>\n",
       "        \n",
       "\n",
       "    </div>\n",
       "</div>"
      ],
      "text/plain": [
       "<Client: 'tcp://127.0.0.1:43487' processes=4 threads=4, memory=15.02 GiB>"
      ]
     },
     "execution_count": 7,
     "metadata": {},
     "output_type": "execute_result"
    }
   ],
   "source": [
    "# Show the dashboard link\n",
    "client"
   ]
  },
  {
   "cell_type": "code",
   "execution_count": 8,
   "metadata": {},
   "outputs": [
    {
     "data": {
      "text/plain": [
       "'http://127.0.0.1:8787/status'"
      ]
     },
     "execution_count": 8,
     "metadata": {},
     "output_type": "execute_result"
    }
   ],
   "source": [
    "# Show the dashboard link\n",
    "client.dashboard_link"
   ]
  },
  {
   "cell_type": "markdown",
   "metadata": {},
   "source": [
    "# Case 1) Datamart without Hive Partition"
   ]
  },
  {
   "cell_type": "markdown",
   "metadata": {},
   "source": [
    "## Datamart creation\n",
    "**Configuration**\n",
    "- Appending each raw data in to parquet.\n",
    "- Set index on column `Card` by each raw file ingested, since `Card` is non-unique then (`ignore_divisions=True`)\n",
    "- The index columns is sorted by default\n",
    "- Non-Hive style partition folder (no `partition_on` parameter)"
   ]
  },
  {
   "cell_type": "code",
   "execution_count": 43,
   "metadata": {},
   "outputs": [],
   "source": [
    "schema = {\n",
    "    \"User\": \"int64\",\n",
    "    \"Card\": \"int64\",\n",
    "    \"Year\": \"int64\",\n",
    "    \"Month\": \"int64\",\n",
    "    \"Day\": \"int64\",\n",
    "    \"Time\": \"string\",\n",
    "    \"Amount\": \"string\",\n",
    "    \"Use Chip\": \"string\",\n",
    "    \"Merchant Name\": \"int64\",\n",
    "    \"Merchant City\": \"string\",\n",
    "    \"Merchant State\": \"string\",\n",
    "    \"Zip\": \"float64\",\n",
    "    \"MCC\": \"int64\",\n",
    "    \"Errors?\": \"string\",\n",
    "    \"Is Fraud?\": \"string\"\n",
    "}"
   ]
  },
  {
   "cell_type": "code",
   "execution_count": null,
   "metadata": {},
   "outputs": [
    {
     "name": "stdout",
     "output_type": "stream",
     "text": [
      "1991\n"
     ]
    },
    {
     "ename": "AttributeError",
     "evalue": "'DataFrame' object has no attribute 'sort_index'",
     "output_type": "error",
     "traceback": [
      "\u001b[0;31m---------------------------------------------------------------------------\u001b[0m",
      "\u001b[0;31mAttributeError\u001b[0m                            Traceback (most recent call last)",
      "File \u001b[0;32m~/miniconda3/envs/dask/lib/python3.12/site-packages/dask_expr/_core.py:459\u001b[0m, in \u001b[0;36mExpr.__getattr__\u001b[0;34m(self, key)\u001b[0m\n\u001b[1;32m    458\u001b[0m \u001b[38;5;28;01mtry\u001b[39;00m:\n\u001b[0;32m--> 459\u001b[0m     \u001b[38;5;28;01mreturn\u001b[39;00m \u001b[38;5;28;43mobject\u001b[39;49m\u001b[38;5;241;43m.\u001b[39;49m\u001b[38;5;21;43m__getattribute__\u001b[39;49m\u001b[43m(\u001b[49m\u001b[38;5;28;43mself\u001b[39;49m\u001b[43m,\u001b[49m\u001b[43m \u001b[49m\u001b[43mkey\u001b[49m\u001b[43m)\u001b[49m\n\u001b[1;32m    460\u001b[0m \u001b[38;5;28;01mexcept\u001b[39;00m \u001b[38;5;167;01mAttributeError\u001b[39;00m \u001b[38;5;28;01mas\u001b[39;00m err:\n",
      "\u001b[0;31mAttributeError\u001b[0m: 'SetIndex' object has no attribute 'sort_index'",
      "\nDuring handling of the above exception, another exception occurred:\n",
      "\u001b[0;31mAttributeError\u001b[0m                            Traceback (most recent call last)",
      "File \u001b[0;32m~/miniconda3/envs/dask/lib/python3.12/site-packages/dask_expr/_collection.py:619\u001b[0m, in \u001b[0;36mFrameBase.__getattr__\u001b[0;34m(self, key)\u001b[0m\n\u001b[1;32m    616\u001b[0m \u001b[38;5;28;01mtry\u001b[39;00m:\n\u001b[1;32m    617\u001b[0m     \u001b[38;5;66;03m# Fall back to `expr` API\u001b[39;00m\n\u001b[1;32m    618\u001b[0m     \u001b[38;5;66;03m# (Making sure to convert to/from Expr)\u001b[39;00m\n\u001b[0;32m--> 619\u001b[0m     val \u001b[38;5;241m=\u001b[39m \u001b[38;5;28;43mgetattr\u001b[39;49m\u001b[43m(\u001b[49m\u001b[38;5;28;43mself\u001b[39;49m\u001b[38;5;241;43m.\u001b[39;49m\u001b[43mexpr\u001b[49m\u001b[43m,\u001b[49m\u001b[43m \u001b[49m\u001b[43mkey\u001b[49m\u001b[43m)\u001b[49m\n\u001b[1;32m    620\u001b[0m     \u001b[38;5;28;01mif\u001b[39;00m \u001b[38;5;28mcallable\u001b[39m(val):\n",
      "File \u001b[0;32m~/miniconda3/envs/dask/lib/python3.12/site-packages/dask_expr/_core.py:480\u001b[0m, in \u001b[0;36mExpr.__getattr__\u001b[0;34m(self, key)\u001b[0m\n\u001b[1;32m    479\u001b[0m link \u001b[38;5;241m=\u001b[39m \u001b[38;5;124m\"\u001b[39m\u001b[38;5;124mhttps://github.com/dask-contrib/dask-expr/blob/main/README.md#api-coverage\u001b[39m\u001b[38;5;124m\"\u001b[39m\n\u001b[0;32m--> 480\u001b[0m \u001b[38;5;28;01mraise\u001b[39;00m \u001b[38;5;167;01mAttributeError\u001b[39;00m(\n\u001b[1;32m    481\u001b[0m     \u001b[38;5;124mf\u001b[39m\u001b[38;5;124m\"\u001b[39m\u001b[38;5;132;01m{\u001b[39;00merr\u001b[38;5;132;01m}\u001b[39;00m\u001b[38;5;130;01m\\n\u001b[39;00m\u001b[38;5;130;01m\\n\u001b[39;00m\u001b[38;5;124m\"\u001b[39m\n\u001b[1;32m    482\u001b[0m     \u001b[38;5;124m\"\u001b[39m\u001b[38;5;124mThis often means that you are attempting to use an unsupported \u001b[39m\u001b[38;5;124m\"\u001b[39m\n\u001b[1;32m    483\u001b[0m     \u001b[38;5;124mf\u001b[39m\u001b[38;5;124m\"\u001b[39m\u001b[38;5;124mAPI function. Current API coverage is documented here: \u001b[39m\u001b[38;5;132;01m{\u001b[39;00mlink\u001b[38;5;132;01m}\u001b[39;00m\u001b[38;5;124m.\u001b[39m\u001b[38;5;124m\"\u001b[39m\n\u001b[1;32m    484\u001b[0m )\n",
      "\u001b[0;31mAttributeError\u001b[0m: 'SetIndex' object has no attribute 'sort_index'\n\nThis often means that you are attempting to use an unsupported API function. Current API coverage is documented here: https://github.com/dask-contrib/dask-expr/blob/main/README.md#api-coverage.",
      "\nDuring handling of the above exception, another exception occurred:\n",
      "\u001b[0;31mAttributeError\u001b[0m                            Traceback (most recent call last)",
      "Cell \u001b[0;32mIn[44], line 8\u001b[0m\n\u001b[1;32m      6\u001b[0m yrly_ddf \u001b[38;5;241m=\u001b[39m dd\u001b[38;5;241m.\u001b[39mread_csv(data_path\u001b[38;5;241m/\u001b[39m\u001b[38;5;124m\"\u001b[39m\u001b[38;5;124mcredit\u001b[39m\u001b[38;5;124m\"\u001b[39m\u001b[38;5;241m/\u001b[39m\u001b[38;5;124mf\u001b[39m\u001b[38;5;124m\"\u001b[39m\u001b[38;5;124myearly_data_\u001b[39m\u001b[38;5;132;01m{\u001b[39;00my\u001b[38;5;132;01m}\u001b[39;00m\u001b[38;5;124m.csv\u001b[39m\u001b[38;5;124m\"\u001b[39m, dtype\u001b[38;5;241m=\u001b[39mschema)\n\u001b[1;32m      7\u001b[0m yrly_ddf \u001b[38;5;241m=\u001b[39m yrly_ddf\u001b[38;5;241m.\u001b[39mset_index(\u001b[38;5;124m\"\u001b[39m\u001b[38;5;124mCard\u001b[39m\u001b[38;5;124m\"\u001b[39m, partition_size\u001b[38;5;241m=\u001b[39m\u001b[38;5;124m\"\u001b[39m\u001b[38;5;124m100MB\u001b[39m\u001b[38;5;124m\"\u001b[39m)\n\u001b[0;32m----> 8\u001b[0m yrly_ddf \u001b[38;5;241m=\u001b[39m \u001b[43myrly_ddf\u001b[49m\u001b[38;5;241;43m.\u001b[39;49m\u001b[43msort_index\u001b[49m()\n\u001b[1;32m     10\u001b[0m \u001b[38;5;28;01mif\u001b[39;00m data_combined\u001b[38;5;241m.\u001b[39mexists():    \n\u001b[1;32m     11\u001b[0m     yrly_ddf\u001b[38;5;241m.\u001b[39mto_parquet(data_combined, append\u001b[38;5;241m=\u001b[39m\u001b[38;5;28;01mTrue\u001b[39;00m, ignore_divisions\u001b[38;5;241m=\u001b[39m\u001b[38;5;28;01mTrue\u001b[39;00m)\n",
      "File \u001b[0;32m~/miniconda3/envs/dask/lib/python3.12/site-packages/dask_expr/_collection.py:3044\u001b[0m, in \u001b[0;36mDataFrame.__getattr__\u001b[0;34m(self, key)\u001b[0m\n\u001b[1;32m   3041\u001b[0m     \u001b[38;5;28;01mraise\u001b[39;00m err\n\u001b[1;32m   3042\u001b[0m \u001b[38;5;28;01mexcept\u001b[39;00m \u001b[38;5;167;01mAttributeError\u001b[39;00m:\n\u001b[1;32m   3043\u001b[0m     \u001b[38;5;66;03m# Fall back to `BaseFrame.__getattr__`\u001b[39;00m\n\u001b[0;32m-> 3044\u001b[0m     \u001b[38;5;28;01mreturn\u001b[39;00m \u001b[38;5;28;43msuper\u001b[39;49m\u001b[43m(\u001b[49m\u001b[43m)\u001b[49m\u001b[38;5;241;43m.\u001b[39;49m\u001b[38;5;21;43m__getattr__\u001b[39;49m\u001b[43m(\u001b[49m\u001b[43mkey\u001b[49m\u001b[43m)\u001b[49m\n",
      "File \u001b[0;32m~/miniconda3/envs/dask/lib/python3.12/site-packages/dask_expr/_collection.py:625\u001b[0m, in \u001b[0;36mFrameBase.__getattr__\u001b[0;34m(self, key)\u001b[0m\n\u001b[1;32m    622\u001b[0m     \u001b[38;5;28;01mreturn\u001b[39;00m val\n\u001b[1;32m    623\u001b[0m \u001b[38;5;28;01mexcept\u001b[39;00m \u001b[38;5;167;01mAttributeError\u001b[39;00m:\n\u001b[1;32m    624\u001b[0m     \u001b[38;5;66;03m# Raise original error\u001b[39;00m\n\u001b[0;32m--> 625\u001b[0m     \u001b[38;5;28;01mraise\u001b[39;00m err\n",
      "File \u001b[0;32m~/miniconda3/envs/dask/lib/python3.12/site-packages/dask_expr/_collection.py:614\u001b[0m, in \u001b[0;36mFrameBase.__getattr__\u001b[0;34m(self, key)\u001b[0m\n\u001b[1;32m    611\u001b[0m \u001b[38;5;28;01mdef\u001b[39;00m \u001b[38;5;21m__getattr__\u001b[39m(\u001b[38;5;28mself\u001b[39m, key):\n\u001b[1;32m    612\u001b[0m     \u001b[38;5;28;01mtry\u001b[39;00m:\n\u001b[1;32m    613\u001b[0m         \u001b[38;5;66;03m# Prioritize `FrameBase` attributes\u001b[39;00m\n\u001b[0;32m--> 614\u001b[0m         \u001b[38;5;28;01mreturn\u001b[39;00m \u001b[38;5;28;43mobject\u001b[39;49m\u001b[38;5;241;43m.\u001b[39;49m\u001b[38;5;21;43m__getattribute__\u001b[39;49m\u001b[43m(\u001b[49m\u001b[38;5;28;43mself\u001b[39;49m\u001b[43m,\u001b[49m\u001b[43m \u001b[49m\u001b[43mkey\u001b[49m\u001b[43m)\u001b[49m\n\u001b[1;32m    615\u001b[0m     \u001b[38;5;28;01mexcept\u001b[39;00m \u001b[38;5;167;01mAttributeError\u001b[39;00m \u001b[38;5;28;01mas\u001b[39;00m err:\n\u001b[1;32m    616\u001b[0m         \u001b[38;5;28;01mtry\u001b[39;00m:\n\u001b[1;32m    617\u001b[0m             \u001b[38;5;66;03m# Fall back to `expr` API\u001b[39;00m\n\u001b[1;32m    618\u001b[0m             \u001b[38;5;66;03m# (Making sure to convert to/from Expr)\u001b[39;00m\n",
      "\u001b[0;31mAttributeError\u001b[0m: 'DataFrame' object has no attribute 'sort_index'"
     ]
    }
   ],
   "source": [
    "yr_rng = list(range(1991, 2021))\n",
    "data_combined = data_path/\"credit\"/\"data_combined_no_hive_sort_idx_no_div.parquet\"\n",
    "\n",
    "for y in yr_rng:\n",
    "    print(y)\n",
    "    yrly_ddf = dd.read_csv(data_path/\"credit\"/f\"yearly_data_{y}.csv\", dtype=schema)\n",
    "    yrly_ddf = yrly_ddf.set_index(\"Card\", partition_size=\"100MB\")\n",
    "    \n",
    "    if data_combined.exists():    \n",
    "        yrly_ddf.to_parquet(data_combined, append=True, ignore_divisions=True)\n",
    "    else:\n",
    "        yrly_ddf.to_parquet(data_combined)"
   ]
  },
  {
   "cell_type": "markdown",
   "metadata": {},
   "source": [
    "## Query performance\n",
    "Reference tips to optimized query performance  \n",
    "\n",
    "Indexing  \n",
    "- https://stackoverflow.com/questions/75915860/dask-and-best-practices-with-multiple-indices\n",
    "- https://stackoverflow.com/questions/16626058/what-is-the-performance-impact-of-non-unique-indexes-in-pandas\n",
    "\n",
    "Joining performance \n",
    "- https://stackoverflow.com/questions/71233619/why-do-i-get-always-a-memory-error-after-i-run-dask-with-big-dataframes\n",
    "- https://docs.dask.org/en/latest/dataframe-joins.html#sorted-joins\n",
    "- https://www.coiled.io/blog/dask-dataframe-merge-join"
   ]
  },
  {
   "cell_type": "markdown",
   "metadata": {},
   "source": [
    "The duplicated index (User) force output without division metadata"
   ]
  },
  {
   "cell_type": "code",
   "execution_count": 45,
   "metadata": {},
   "outputs": [],
   "source": [
    "parquet_path = data_path/\"credit\"/\"data_combined_no_hive_sort_idx_no_div.parquet\"\n",
    "ddf = dd.read_parquet(parquet_path)"
   ]
  },
  {
   "cell_type": "code",
   "execution_count": 46,
   "metadata": {},
   "outputs": [
    {
     "data": {
      "text/plain": [
       "30"
      ]
     },
     "execution_count": 46,
     "metadata": {},
     "output_type": "execute_result"
    }
   ],
   "source": [
    "# Number of partitions = number of raw ingested files (no need to split)\n",
    "ddf.npartitions"
   ]
  },
  {
   "cell_type": "code",
   "execution_count": 47,
   "metadata": {},
   "outputs": [
    {
     "data": {
      "text/plain": [
       "False"
      ]
     },
     "execution_count": 47,
     "metadata": {},
     "output_type": "execute_result"
    }
   ],
   "source": [
    "# Unknown divisions, since the specified not to store divisions\n",
    "ddf.known_divisions"
   ]
  },
  {
   "cell_type": "code",
   "execution_count": 48,
   "metadata": {},
   "outputs": [
    {
     "data": {
      "text/plain": [
       "Index([1, 1, 1, 1, 1], dtype='int64', name='Card')"
      ]
     },
     "execution_count": 48,
     "metadata": {},
     "output_type": "execute_result"
    }
   ],
   "source": [
    "# Check index type, and name 'Card'\n",
    "ddf.index.head()"
   ]
  },
  {
   "cell_type": "code",
   "execution_count": 49,
   "metadata": {},
   "outputs": [
    {
     "data": {
      "text/plain": [
       "Index(['User', 'Year', 'Month', 'Day', 'Time', 'Amount', 'Use Chip',\n",
       "       'Merchant Name', 'Merchant City', 'Merchant State', 'Zip', 'MCC',\n",
       "       'Errors?', 'Is Fraud?'],\n",
       "      dtype='object')"
      ]
     },
     "execution_count": 49,
     "metadata": {},
     "output_type": "execute_result"
    }
   ],
   "source": [
    "# The rest of data frame columns will excluding the index\n",
    "ddf.columns"
   ]
  },
  {
   "cell_type": "code",
   "execution_count": 25,
   "metadata": {},
   "outputs": [
    {
     "name": "stderr",
     "output_type": "stream",
     "text": [
      "2025-01-04 09:44:54,186 - distributed.shuffle._scheduler_plugin - WARNING - Shuffle 80bbb5ded36b7367ad15f367b841306e initialized by task ('shuffle-transfer-80bbb5ded36b7367ad15f367b841306e', 0) executed on worker tcp://127.0.0.1:44775\n",
      "2025-01-04 09:45:00,084 - distributed.shuffle._scheduler_plugin - WARNING - Shuffle 80bbb5ded36b7367ad15f367b841306e deactivated due to stimulus 'task-finished-1735958700.0648885'\n",
      "2025-01-04 09:45:45,987 - distributed.shuffle._scheduler_plugin - WARNING - Shuffle 80bbb5ded36b7367ad15f367b841306e initialized by task ('shuffle-transfer-80bbb5ded36b7367ad15f367b841306e', 0) executed on worker tcp://127.0.0.1:44775\n",
      "2025-01-04 09:45:49,731 - distributed.shuffle._scheduler_plugin - WARNING - Shuffle 80bbb5ded36b7367ad15f367b841306e deactivated due to stimulus 'task-finished-1735958749.7271934'\n",
      "2025-01-04 09:46:29,419 - distributed.shuffle._scheduler_plugin - WARNING - Shuffle 80bbb5ded36b7367ad15f367b841306e initialized by task ('shuffle-transfer-80bbb5ded36b7367ad15f367b841306e', 0) executed on worker tcp://127.0.0.1:39941\n",
      "2025-01-04 09:46:33,061 - distributed.shuffle._scheduler_plugin - WARNING - Shuffle 80bbb5ded36b7367ad15f367b841306e deactivated due to stimulus 'task-finished-1735958793.0522726'\n",
      "2025-01-04 09:53:54,728 - distributed.shuffle._scheduler_plugin - WARNING - Shuffle 80bbb5ded36b7367ad15f367b841306e initialized by task ('shuffle-transfer-80bbb5ded36b7367ad15f367b841306e', 0) executed on worker tcp://127.0.0.1:39941\n",
      "2025-01-04 09:53:58,243 - distributed.shuffle._scheduler_plugin - WARNING - Shuffle 80bbb5ded36b7367ad15f367b841306e deactivated due to stimulus 'task-finished-1735959238.2367034'\n",
      "2025-01-04 09:58:41,979 - distributed.shuffle._scheduler_plugin - WARNING - Shuffle 294a778ac44ffce102088bb763700b73 initialized by task ('shuffle-transfer-294a778ac44ffce102088bb763700b73', 0) executed on worker tcp://127.0.0.1:45921\n",
      "2025-01-04 09:58:46,027 - distributed.shuffle._scheduler_plugin - WARNING - Shuffle 294a778ac44ffce102088bb763700b73 deactivated due to stimulus 'task-finished-1735959526.0170994'\n",
      "2025-01-04 09:59:02,666 - distributed.shuffle._scheduler_plugin - WARNING - Shuffle 294a778ac44ffce102088bb763700b73 initialized by task ('shuffle-transfer-294a778ac44ffce102088bb763700b73', 1) executed on worker tcp://127.0.0.1:39941\n",
      "2025-01-04 09:59:04,878 - distributed.shuffle._scheduler_plugin - WARNING - Shuffle 294a778ac44ffce102088bb763700b73 deactivated due to stimulus 'task-finished-1735959544.8699248'\n"
     ]
    },
    {
     "data": {
      "text/plain": [
       "User\n",
       "1683    89\n",
       "1741    83\n",
       "491     84\n",
       "1490    90\n",
       "376     84\n",
       "        ..\n",
       "476     24\n",
       "1623    19\n",
       "312     18\n",
       "1751    17\n",
       "1754    18\n",
       "Name: MCC, Length: 2000, dtype: int64"
      ]
     },
     "execution_count": 25,
     "metadata": {},
     "output_type": "execute_result"
    }
   ],
   "source": [
    "ddf.groupby(\"User\")[\"MCC\"].nunique().compute()"
   ]
  },
  {
   "cell_type": "code",
   "execution_count": 26,
   "metadata": {},
   "outputs": [],
   "source": [
    "# turn off FutureWarnings\n",
    "warnings.filterwarnings(action='ignore', category=FutureWarning)"
   ]
  },
  {
   "cell_type": "code",
   "execution_count": 42,
   "metadata": {},
   "outputs": [
    {
     "data": {
      "text/plain": [
       "Card\n",
       "0    109\n",
       "3    109\n",
       "5    109\n",
       "6    109\n",
       "2    109\n",
       "8     81\n",
       "1    109\n",
       "4    109\n",
       "7    107\n",
       "Name: MCC, dtype: int64"
      ]
     },
     "execution_count": 42,
     "metadata": {},
     "output_type": "execute_result"
    }
   ],
   "source": [
    "ddf.groupby(\"Card\")[\"MCC\"].nunique().compute()"
   ]
  },
  {
   "cell_type": "markdown",
   "metadata": {},
   "source": [
    "# Datamart with Hive Parition\n",
    "Reference  \n",
    "- https://docs.dask.org/en/latest/dataframe-hive.html"
   ]
  },
  {
   "cell_type": "code",
   "execution_count": null,
   "metadata": {},
   "outputs": [],
   "source": []
  },
  {
   "cell_type": "markdown",
   "metadata": {},
   "source": [
    "## Query performance"
   ]
  },
  {
   "cell_type": "markdown",
   "metadata": {},
   "source": []
  }
 ],
 "metadata": {
  "kernelspec": {
   "display_name": "dask",
   "language": "python",
   "name": "python3"
  },
  "language_info": {
   "codemirror_mode": {
    "name": "ipython",
    "version": 3
   },
   "file_extension": ".py",
   "mimetype": "text/x-python",
   "name": "python",
   "nbconvert_exporter": "python",
   "pygments_lexer": "ipython3",
   "version": "3.12.2"
  }
 },
 "nbformat": 4,
 "nbformat_minor": 4
}
