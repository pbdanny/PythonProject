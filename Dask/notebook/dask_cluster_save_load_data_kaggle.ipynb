{
 "cells": [
  {
   "cell_type": "markdown",
   "id": "3def1db8",
   "metadata": {
    "papermill": {
     "duration": 0.011879,
     "end_time": "2025-03-16T05:20:36.179461",
     "exception": false,
     "start_time": "2025-03-16T05:20:36.167582",
     "status": "completed"
    },
    "tags": []
   },
   "source": [
    "# Preface\n",
    "\n",
    "Over the past year, I had the opportunity to work with out-of-core datasets (larger than available memory) in both data engineering and analysis tasks.\n",
    "This article documents my experiments with Dask as a key tool for tackling these challenges.\n",
    "\n",
    "This notebook will focusing on data munging with Dask, comparing with Pandas. There are some limitation that Dask could not 100% compatible with Pasdas coding eg. GroupBy with more than 1 columns."
   ]
  },
  {
   "cell_type": "markdown",
   "id": "763ed0d4",
   "metadata": {
    "execution": {
     "iopub.execute_input": "2025-01-19T07:00:22.540773Z",
     "iopub.status.busy": "2025-01-19T07:00:22.540331Z",
     "iopub.status.idle": "2025-01-19T07:00:22.545035Z",
     "shell.execute_reply": "2025-01-19T07:00:22.543735Z",
     "shell.execute_reply.started": "2025-01-19T07:00:22.540739Z"
    },
    "papermill": {
     "duration": 0.010784,
     "end_time": "2025-03-16T05:20:36.201723",
     "exception": false,
     "start_time": "2025-03-16T05:20:36.190939",
     "status": "completed"
    },
    "tags": []
   },
   "source": [
    "# 1) Simulated data for continuous data integration workflow\n",
    "The raw data use for testing from [Synthetic credit card transaction data](https://www.kaggle.com/datasets/ealtman2019/credit-card-transactions) with single .csv file ~2.3GB in size.  \n",
    "To replicate continuous data ingestion, with new data come as batch in every year. The code below use to split the single csv file in to multiple files separte by Year. "
   ]
  },
  {
   "cell_type": "code",
   "execution_count": 1,
   "id": "fd719575",
   "metadata": {
    "execution": {
     "iopub.execute_input": "2025-03-16T05:20:36.226261Z",
     "iopub.status.busy": "2025-03-16T05:20:36.225857Z",
     "iopub.status.idle": "2025-03-16T05:20:36.232112Z",
     "shell.execute_reply": "2025-03-16T05:20:36.231057Z"
    },
    "papermill": {
     "duration": 0.02152,
     "end_time": "2025-03-16T05:20:36.234308",
     "exception": false,
     "start_time": "2025-03-16T05:20:36.212788",
     "status": "completed"
    },
    "tags": []
   },
   "outputs": [],
   "source": [
    "import os\n",
    "from pathlib import Path\n",
    "\n",
    "# Set data path to support Kaggle dataset\n",
    "data_path = Path(\"/kaggle/input/credit-card-transactions\")"
   ]
  },
  {
   "cell_type": "code",
   "execution_count": 2,
   "id": "f3ad6e16",
   "metadata": {
    "execution": {
     "iopub.execute_input": "2025-03-16T05:20:36.258135Z",
     "iopub.status.busy": "2025-03-16T05:20:36.257731Z",
     "iopub.status.idle": "2025-03-16T05:20:36.269270Z",
     "shell.execute_reply": "2025-03-16T05:20:36.268200Z"
    },
    "papermill": {
     "duration": 0.0256,
     "end_time": "2025-03-16T05:20:36.271238",
     "exception": false,
     "start_time": "2025-03-16T05:20:36.245638",
     "status": "completed"
    },
    "tags": []
   },
   "outputs": [
    {
     "data": {
      "text/plain": [
       "['sd254_users.csv',\n",
       " 'User0_credit_card_transactions.csv',\n",
       " 'sd254_cards.csv',\n",
       " 'credit_card_transactions-ibm_v2.csv']"
      ]
     },
     "execution_count": 2,
     "metadata": {},
     "output_type": "execute_result"
    }
   ],
   "source": [
    "os.listdir(data_path)"
   ]
  },
  {
   "cell_type": "code",
   "execution_count": 3,
   "id": "20ae71d1",
   "metadata": {
    "execution": {
     "iopub.execute_input": "2025-03-16T05:20:36.295973Z",
     "iopub.status.busy": "2025-03-16T05:20:36.295598Z",
     "iopub.status.idle": "2025-03-16T05:21:52.194795Z",
     "shell.execute_reply": "2025-03-16T05:21:52.193363Z"
    },
    "papermill": {
     "duration": 75.91333,
     "end_time": "2025-03-16T05:21:52.196766",
     "exception": false,
     "start_time": "2025-03-16T05:20:36.283436",
     "status": "completed"
    },
    "tags": []
   },
   "outputs": [],
   "source": [
    "import pandas as pd\n",
    "import numpy as np\n",
    "\n",
    "pdf = pd.read_csv(data_path/\"credit_card_transactions-ibm_v2.csv\", dtype={'Errors?': 'object'})"
   ]
  },
  {
   "cell_type": "code",
   "execution_count": 4,
   "id": "833f6a72",
   "metadata": {
    "execution": {
     "iopub.execute_input": "2025-03-16T05:21:52.221607Z",
     "iopub.status.busy": "2025-03-16T05:21:52.221215Z",
     "iopub.status.idle": "2025-03-16T05:21:52.397106Z",
     "shell.execute_reply": "2025-03-16T05:21:52.395843Z"
    },
    "papermill": {
     "duration": 0.190586,
     "end_time": "2025-03-16T05:21:52.399210",
     "exception": false,
     "start_time": "2025-03-16T05:21:52.208624",
     "status": "completed"
    },
    "tags": []
   },
   "outputs": [],
   "source": [
    "uniq_year = pdf[\"Year\"].unique().tolist()"
   ]
  },
  {
   "cell_type": "code",
   "execution_count": 5,
   "id": "90a69f4f",
   "metadata": {
    "execution": {
     "iopub.execute_input": "2025-03-16T05:21:52.423351Z",
     "iopub.status.busy": "2025-03-16T05:21:52.422927Z",
     "iopub.status.idle": "2025-03-16T05:21:52.430903Z",
     "shell.execute_reply": "2025-03-16T05:21:52.429747Z"
    },
    "papermill": {
     "duration": 0.022223,
     "end_time": "2025-03-16T05:21:52.432818",
     "exception": false,
     "start_time": "2025-03-16T05:21:52.410595",
     "status": "completed"
    },
    "tags": []
   },
   "outputs": [
    {
     "data": {
      "text/plain": [
       "User                int64\n",
       "Card                int64\n",
       "Year                int64\n",
       "Month               int64\n",
       "Day                 int64\n",
       "Time               object\n",
       "Amount             object\n",
       "Use Chip           object\n",
       "Merchant Name       int64\n",
       "Merchant City      object\n",
       "Merchant State     object\n",
       "Zip               float64\n",
       "MCC                 int64\n",
       "Errors?            object\n",
       "Is Fraud?          object\n",
       "dtype: object"
      ]
     },
     "execution_count": 5,
     "metadata": {},
     "output_type": "execute_result"
    }
   ],
   "source": [
    "pdf.dtypes"
   ]
  },
  {
   "cell_type": "code",
   "execution_count": 6,
   "id": "7fb8646e",
   "metadata": {
    "execution": {
     "iopub.execute_input": "2025-03-16T05:21:52.457934Z",
     "iopub.status.busy": "2025-03-16T05:21:52.457584Z",
     "iopub.status.idle": "2025-03-16T05:21:52.464330Z",
     "shell.execute_reply": "2025-03-16T05:21:52.463326Z"
    },
    "papermill": {
     "duration": 0.020859,
     "end_time": "2025-03-16T05:21:52.465935",
     "exception": false,
     "start_time": "2025-03-16T05:21:52.445076",
     "status": "completed"
    },
    "tags": []
   },
   "outputs": [
    {
     "data": {
      "text/plain": [
       "[1991,\n",
       " 1992,\n",
       " 1993,\n",
       " 1994,\n",
       " 1995,\n",
       " 1996,\n",
       " 1997,\n",
       " 1998,\n",
       " 1999,\n",
       " 2000,\n",
       " 2001,\n",
       " 2002,\n",
       " 2003,\n",
       " 2004,\n",
       " 2005,\n",
       " 2006,\n",
       " 2007,\n",
       " 2008,\n",
       " 2009,\n",
       " 2010,\n",
       " 2011,\n",
       " 2012,\n",
       " 2013,\n",
       " 2014,\n",
       " 2015,\n",
       " 2016,\n",
       " 2017,\n",
       " 2018,\n",
       " 2019,\n",
       " 2020]"
      ]
     },
     "execution_count": 6,
     "metadata": {},
     "output_type": "execute_result"
    }
   ],
   "source": [
    "type(uniq_year)\n",
    "uniq_year.sort()\n",
    "uniq_year"
   ]
  },
  {
   "cell_type": "code",
   "execution_count": 7,
   "id": "6fa14664",
   "metadata": {
    "execution": {
     "iopub.execute_input": "2025-03-16T05:21:52.490598Z",
     "iopub.status.busy": "2025-03-16T05:21:52.490236Z",
     "iopub.status.idle": "2025-03-16T05:24:06.409566Z",
     "shell.execute_reply": "2025-03-16T05:24:06.408305Z"
    },
    "papermill": {
     "duration": 133.933817,
     "end_time": "2025-03-16T05:24:06.411636",
     "exception": false,
     "start_time": "2025-03-16T05:21:52.477819",
     "status": "completed"
    },
    "tags": []
   },
   "outputs": [
    {
     "name": "stdout",
     "output_type": "stream",
     "text": [
      "1991\n",
      "1992\n",
      "1993\n",
      "1994\n",
      "1995\n",
      "1996\n",
      "1997\n",
      "1998\n",
      "1999\n",
      "2000\n",
      "2001\n",
      "2002\n",
      "2003\n",
      "2004\n",
      "2005\n",
      "2006\n",
      "2007\n",
      "2008\n",
      "2009\n",
      "2010\n",
      "2011\n",
      "2012\n",
      "2013\n",
      "2014\n",
      "2015\n",
      "2016\n",
      "2017\n",
      "2018\n",
      "2019\n",
      "2020\n"
     ]
    }
   ],
   "source": [
    "for y in uniq_year:\n",
    "    print(y)\n",
    "    yrly_ddf = pdf[pdf[\"Year\"] == y]\n",
    "    yrly_ddf.to_csv(f\"/kaggle/working/yearly_data_{y}.csv\", index=False)"
   ]
  },
  {
   "cell_type": "markdown",
   "id": "4f97e0fb",
   "metadata": {
    "papermill": {
     "duration": 0.013347,
     "end_time": "2025-03-16T05:24:06.438227",
     "exception": false,
     "start_time": "2025-03-16T05:24:06.424880",
     "status": "completed"
    },
    "tags": []
   },
   "source": [
    "# 2) Dask Cluster & Dashboard \n",
    "\n",
    "Dask could run locally without explicited cluster initiation. Anyway, suggest to explicite create cluster due to the cluster's dashboard that is very useful for monitoring and optimization dataflow.  \n",
    "\n",
    "Some Dask version conflict with `msgpack-python` library; result in error message about the mentioned library. [To fix the issue, upgrade msgpack-python == 1.0.5](https://github.com/dask/distributed/issues/8038)  "
   ]
  },
  {
   "cell_type": "markdown",
   "id": "f642f6e8",
   "metadata": {
    "papermill": {
     "duration": 0.013549,
     "end_time": "2025-03-16T05:24:06.464803",
     "exception": false,
     "start_time": "2025-03-16T05:24:06.451254",
     "status": "completed"
    },
    "tags": []
   },
   "source": [
    "## Cluster configuration\n",
    "\n",
    "There are 3 important parameters : number of worker, memory config and shuffle method "
   ]
  },
  {
   "cell_type": "markdown",
   "id": "0e860963",
   "metadata": {
    "papermill": {
     "duration": 0.012614,
     "end_time": "2025-03-16T05:24:06.490444",
     "exception": false,
     "start_time": "2025-03-16T05:24:06.477830",
     "status": "completed"
    },
    "tags": []
   },
   "source": [
    "### 1) Number of worker\n",
    "_Worker_ is the smallest computing unit that consist of processer and memory. Similar to Spark's worker. The computation in worker could split into _Threads_ (or cores in Spark definition). Same threads within worker share worker's memory, resulted in faster computation since no need to transfer data between worker.  \n",
    "  \n",
    "Dask could detect the local machine's memory and number of cores, with 4 workers as default and equally separate memory, machine core among worker. Before allocate worker's memory , Dask reserved core service for 2G first, then distribued equally among each workers. If the local machine have 16MB memory, for 4 workers ; each will have (16 - 2 (core service)) = 14 / 4 ~ 3.5G per worker.  \n",
    "\n",
    "The number of worker could adjust by parameter **n_workers**, when Dask show _processes_ ).   \n",
    "\n",
    "**Reference**\n",
    "- [Officail doccuments](https://distributed.dask.org/en/stable/api.html#distributed.LocalCluster)\n",
    "- [Threads Process](https://stackoverflow.com/questions/57760475/difference-between-dask-distributed-localcluster-with-threads-vs-processes)"
   ]
  },
  {
   "cell_type": "markdown",
   "id": "757793cd",
   "metadata": {
    "papermill": {
     "duration": 0.012664,
     "end_time": "2025-03-16T05:24:06.516070",
     "exception": false,
     "start_time": "2025-03-16T05:24:06.503406",
     "status": "completed"
    },
    "tags": []
   },
   "source": [
    "### 2) Memory configuration\n",
    "\n",
    "This will define how Dask handle data in each worker memory and when to spilled to disk / pause or terminate the worker.\n",
    "\n",
    "distributed worker memory:  \n",
    "- target: 0.60     # fraction of managed memory where we start spilling to disk  \n",
    "- spill: 0.70      # fraction of process memory where we start spilling to disk  \n",
    "- pause: 0.80      # fraction of process memory at which we pause worker threads  \n",
    "- terminate: 0.95  # fraction of process memory at which we terminate the worker\n",
    "\n",
    "\n",
    "**Reference**\n",
    "- [Official doccumetns](https://distributed.dask.org/en/stable/worker-memory.html#thresholds-configuration)\n",
    "- [SO on how to set memory config](https://stackoverflow.com/questions/55784232/right-way-to-set-memory-parameters-for-localcluster-in-dask)"
   ]
  },
  {
   "cell_type": "markdown",
   "id": "89defa08",
   "metadata": {
    "papermill": {
     "duration": 0.012708,
     "end_time": "2025-03-16T05:24:06.541805",
     "exception": false,
     "start_time": "2025-03-16T05:24:06.529097",
     "status": "completed"
    },
    "tags": []
   },
   "source": [
    "### 3) Shuffling Method\n",
    "\n",
    "Shuffle is the method of transferring data between worker when use dask function `sort`, `merge`, `groupby`.  \n",
    "Currently Dask default on `P2P Shuffle` technics which help reduce worker memory footprint.\n",
    "\n",
    "**Reference**\n",
    "- [Official doccuments](https://docs.coiled.io/blog/shuffling-large-data-at-constant-memory.html)\n"
   ]
  },
  {
   "cell_type": "code",
   "execution_count": 8,
   "id": "1bb36850",
   "metadata": {
    "execution": {
     "iopub.execute_input": "2025-03-16T05:24:06.569162Z",
     "iopub.status.busy": "2025-03-16T05:24:06.568749Z",
     "iopub.status.idle": "2025-03-16T05:24:13.322433Z",
     "shell.execute_reply": "2025-03-16T05:24:13.321308Z"
    },
    "papermill": {
     "duration": 6.769789,
     "end_time": "2025-03-16T05:24:13.324539",
     "exception": false,
     "start_time": "2025-03-16T05:24:06.554750",
     "status": "completed"
    },
    "tags": []
   },
   "outputs": [],
   "source": [
    "import dask\n",
    "from dask.distributed import LocalCluster\n",
    "from dask import dataframe as dd\n",
    "\n",
    "dask.config.set({ \"distributed.worker.memory.target\": 0.6, \n",
    "                 \"distributed.worker.memory.spill\": 0.7, \n",
    "                 \"distributed.worker.memory.pause\": 0.8, \n",
    "                 \"distributed.worker.memory.terminate\": 0.95,\n",
    "                 \"dataframe.shuffle.method\": \"p2p\" }) \n",
    "\n",
    "client = LocalCluster(n_workers=4).get_client()"
   ]
  },
  {
   "cell_type": "code",
   "execution_count": 9,
   "id": "f856988a",
   "metadata": {
    "execution": {
     "iopub.execute_input": "2025-03-16T05:24:13.353750Z",
     "iopub.status.busy": "2025-03-16T05:24:13.353369Z",
     "iopub.status.idle": "2025-03-16T05:24:13.359453Z",
     "shell.execute_reply": "2025-03-16T05:24:13.358106Z"
    },
    "papermill": {
     "duration": 0.022698,
     "end_time": "2025-03-16T05:24:13.361284",
     "exception": false,
     "start_time": "2025-03-16T05:24:13.338586",
     "status": "completed"
    },
    "tags": []
   },
   "outputs": [
    {
     "name": "stdout",
     "output_type": "stream",
     "text": [
      "<Client: 'tcp://127.0.0.1:35265' processes=4 threads=4, memory=30.00 GiB>\n"
     ]
    }
   ],
   "source": [
    "# Print the client to see the cluster information\n",
    "print(client)"
   ]
  },
  {
   "cell_type": "markdown",
   "id": "b6e6e1cc",
   "metadata": {
    "papermill": {
     "duration": 0.013827,
     "end_time": "2025-03-16T05:24:13.389490",
     "exception": false,
     "start_time": "2025-03-16T05:24:13.375663",
     "status": "completed"
    },
    "tags": []
   },
   "source": [
    "_processs_ = number of total worker  \n",
    "_threads_ = number of total thrads  \n",
    "_memory_ = number of total memory"
   ]
  },
  {
   "cell_type": "code",
   "execution_count": 10,
   "id": "b27047fa",
   "metadata": {
    "execution": {
     "iopub.execute_input": "2025-03-16T05:24:13.418899Z",
     "iopub.status.busy": "2025-03-16T05:24:13.418550Z",
     "iopub.status.idle": "2025-03-16T05:24:13.467107Z",
     "shell.execute_reply": "2025-03-16T05:24:13.465318Z"
    },
    "papermill": {
     "duration": 0.065091,
     "end_time": "2025-03-16T05:24:13.468818",
     "exception": false,
     "start_time": "2025-03-16T05:24:13.403727",
     "status": "completed"
    },
    "tags": []
   },
   "outputs": [
    {
     "data": {
      "text/html": [
       "<div>\n",
       "    <div style=\"width: 24px; height: 24px; background-color: #e1e1e1; border: 3px solid #9D9D9D; border-radius: 5px; position: absolute;\"> </div>\n",
       "    <div style=\"margin-left: 48px;\">\n",
       "        <h3 style=\"margin-bottom: 0px;\">Client</h3>\n",
       "        <p style=\"color: #9D9D9D; margin-bottom: 0px;\">Client-e59ea50e-0226-11f0-800c-0242ac130202</p>\n",
       "        <table style=\"width: 100%; text-align: left;\">\n",
       "\n",
       "        <tr>\n",
       "        \n",
       "            <td style=\"text-align: left;\"><strong>Connection method:</strong> Cluster object</td>\n",
       "            <td style=\"text-align: left;\"><strong>Cluster type:</strong> distributed.LocalCluster</td>\n",
       "        \n",
       "        </tr>\n",
       "\n",
       "        \n",
       "            <tr>\n",
       "                <td style=\"text-align: left;\">\n",
       "                    <strong>Dashboard: </strong> <a href=\"http://127.0.0.1:8787/status\" target=\"_blank\">http://127.0.0.1:8787/status</a>\n",
       "                </td>\n",
       "                <td style=\"text-align: left;\"></td>\n",
       "            </tr>\n",
       "        \n",
       "\n",
       "        </table>\n",
       "\n",
       "        \n",
       "\n",
       "        \n",
       "            <details>\n",
       "            <summary style=\"margin-bottom: 20px;\"><h3 style=\"display: inline;\">Cluster Info</h3></summary>\n",
       "            <div class=\"jp-RenderedHTMLCommon jp-RenderedHTML jp-mod-trusted jp-OutputArea-output\">\n",
       "    <div style=\"width: 24px; height: 24px; background-color: #e1e1e1; border: 3px solid #9D9D9D; border-radius: 5px; position: absolute;\">\n",
       "    </div>\n",
       "    <div style=\"margin-left: 48px;\">\n",
       "        <h3 style=\"margin-bottom: 0px; margin-top: 0px;\">LocalCluster</h3>\n",
       "        <p style=\"color: #9D9D9D; margin-bottom: 0px;\">9544c609</p>\n",
       "        <table style=\"width: 100%; text-align: left;\">\n",
       "            <tr>\n",
       "                <td style=\"text-align: left;\">\n",
       "                    <strong>Dashboard:</strong> <a href=\"http://127.0.0.1:8787/status\" target=\"_blank\">http://127.0.0.1:8787/status</a>\n",
       "                </td>\n",
       "                <td style=\"text-align: left;\">\n",
       "                    <strong>Workers:</strong> 4\n",
       "                </td>\n",
       "            </tr>\n",
       "            <tr>\n",
       "                <td style=\"text-align: left;\">\n",
       "                    <strong>Total threads:</strong> 4\n",
       "                </td>\n",
       "                <td style=\"text-align: left;\">\n",
       "                    <strong>Total memory:</strong> 30.00 GiB\n",
       "                </td>\n",
       "            </tr>\n",
       "            \n",
       "            <tr>\n",
       "    <td style=\"text-align: left;\"><strong>Status:</strong> running</td>\n",
       "    <td style=\"text-align: left;\"><strong>Using processes:</strong> True</td>\n",
       "</tr>\n",
       "\n",
       "            \n",
       "        </table>\n",
       "\n",
       "        <details>\n",
       "            <summary style=\"margin-bottom: 20px;\">\n",
       "                <h3 style=\"display: inline;\">Scheduler Info</h3>\n",
       "            </summary>\n",
       "\n",
       "            <div style=\"\">\n",
       "    <div>\n",
       "        <div style=\"width: 24px; height: 24px; background-color: #FFF7E5; border: 3px solid #FF6132; border-radius: 5px; position: absolute;\"> </div>\n",
       "        <div style=\"margin-left: 48px;\">\n",
       "            <h3 style=\"margin-bottom: 0px;\">Scheduler</h3>\n",
       "            <p style=\"color: #9D9D9D; margin-bottom: 0px;\">Scheduler-0860ec1a-9083-4a3d-bf0c-430e8182b88c</p>\n",
       "            <table style=\"width: 100%; text-align: left;\">\n",
       "                <tr>\n",
       "                    <td style=\"text-align: left;\">\n",
       "                        <strong>Comm:</strong> tcp://127.0.0.1:35265\n",
       "                    </td>\n",
       "                    <td style=\"text-align: left;\">\n",
       "                        <strong>Workers:</strong> 4\n",
       "                    </td>\n",
       "                </tr>\n",
       "                <tr>\n",
       "                    <td style=\"text-align: left;\">\n",
       "                        <strong>Dashboard:</strong> <a href=\"http://127.0.0.1:8787/status\" target=\"_blank\">http://127.0.0.1:8787/status</a>\n",
       "                    </td>\n",
       "                    <td style=\"text-align: left;\">\n",
       "                        <strong>Total threads:</strong> 4\n",
       "                    </td>\n",
       "                </tr>\n",
       "                <tr>\n",
       "                    <td style=\"text-align: left;\">\n",
       "                        <strong>Started:</strong> Just now\n",
       "                    </td>\n",
       "                    <td style=\"text-align: left;\">\n",
       "                        <strong>Total memory:</strong> 30.00 GiB\n",
       "                    </td>\n",
       "                </tr>\n",
       "            </table>\n",
       "        </div>\n",
       "    </div>\n",
       "\n",
       "    <details style=\"margin-left: 48px;\">\n",
       "        <summary style=\"margin-bottom: 20px;\">\n",
       "            <h3 style=\"display: inline;\">Workers</h3>\n",
       "        </summary>\n",
       "\n",
       "        \n",
       "        <div style=\"margin-bottom: 20px;\">\n",
       "            <div style=\"width: 24px; height: 24px; background-color: #DBF5FF; border: 3px solid #4CC9FF; border-radius: 5px; position: absolute;\"> </div>\n",
       "            <div style=\"margin-left: 48px;\">\n",
       "            <details>\n",
       "                <summary>\n",
       "                    <h4 style=\"margin-bottom: 0px; display: inline;\">Worker: 0</h4>\n",
       "                </summary>\n",
       "                <table style=\"width: 100%; text-align: left;\">\n",
       "                    <tr>\n",
       "                        <td style=\"text-align: left;\">\n",
       "                            <strong>Comm: </strong> tcp://127.0.0.1:36085\n",
       "                        </td>\n",
       "                        <td style=\"text-align: left;\">\n",
       "                            <strong>Total threads: </strong> 1\n",
       "                        </td>\n",
       "                    </tr>\n",
       "                    <tr>\n",
       "                        <td style=\"text-align: left;\">\n",
       "                            <strong>Dashboard: </strong> <a href=\"http://127.0.0.1:40615/status\" target=\"_blank\">http://127.0.0.1:40615/status</a>\n",
       "                        </td>\n",
       "                        <td style=\"text-align: left;\">\n",
       "                            <strong>Memory: </strong> 7.50 GiB\n",
       "                        </td>\n",
       "                    </tr>\n",
       "                    <tr>\n",
       "                        <td style=\"text-align: left;\">\n",
       "                            <strong>Nanny: </strong> tcp://127.0.0.1:33629\n",
       "                        </td>\n",
       "                        <td style=\"text-align: left;\"></td>\n",
       "                    </tr>\n",
       "                    <tr>\n",
       "                        <td colspan=\"2\" style=\"text-align: left;\">\n",
       "                            <strong>Local directory: </strong> /tmp/dask-scratch-space/worker-4k8_kqmw\n",
       "                        </td>\n",
       "                    </tr>\n",
       "\n",
       "                    \n",
       "\n",
       "                    \n",
       "\n",
       "                </table>\n",
       "            </details>\n",
       "            </div>\n",
       "        </div>\n",
       "        \n",
       "        <div style=\"margin-bottom: 20px;\">\n",
       "            <div style=\"width: 24px; height: 24px; background-color: #DBF5FF; border: 3px solid #4CC9FF; border-radius: 5px; position: absolute;\"> </div>\n",
       "            <div style=\"margin-left: 48px;\">\n",
       "            <details>\n",
       "                <summary>\n",
       "                    <h4 style=\"margin-bottom: 0px; display: inline;\">Worker: 1</h4>\n",
       "                </summary>\n",
       "                <table style=\"width: 100%; text-align: left;\">\n",
       "                    <tr>\n",
       "                        <td style=\"text-align: left;\">\n",
       "                            <strong>Comm: </strong> tcp://127.0.0.1:42011\n",
       "                        </td>\n",
       "                        <td style=\"text-align: left;\">\n",
       "                            <strong>Total threads: </strong> 1\n",
       "                        </td>\n",
       "                    </tr>\n",
       "                    <tr>\n",
       "                        <td style=\"text-align: left;\">\n",
       "                            <strong>Dashboard: </strong> <a href=\"http://127.0.0.1:33071/status\" target=\"_blank\">http://127.0.0.1:33071/status</a>\n",
       "                        </td>\n",
       "                        <td style=\"text-align: left;\">\n",
       "                            <strong>Memory: </strong> 7.50 GiB\n",
       "                        </td>\n",
       "                    </tr>\n",
       "                    <tr>\n",
       "                        <td style=\"text-align: left;\">\n",
       "                            <strong>Nanny: </strong> tcp://127.0.0.1:39667\n",
       "                        </td>\n",
       "                        <td style=\"text-align: left;\"></td>\n",
       "                    </tr>\n",
       "                    <tr>\n",
       "                        <td colspan=\"2\" style=\"text-align: left;\">\n",
       "                            <strong>Local directory: </strong> /tmp/dask-scratch-space/worker-6lwmfyr2\n",
       "                        </td>\n",
       "                    </tr>\n",
       "\n",
       "                    \n",
       "\n",
       "                    \n",
       "\n",
       "                </table>\n",
       "            </details>\n",
       "            </div>\n",
       "        </div>\n",
       "        \n",
       "        <div style=\"margin-bottom: 20px;\">\n",
       "            <div style=\"width: 24px; height: 24px; background-color: #DBF5FF; border: 3px solid #4CC9FF; border-radius: 5px; position: absolute;\"> </div>\n",
       "            <div style=\"margin-left: 48px;\">\n",
       "            <details>\n",
       "                <summary>\n",
       "                    <h4 style=\"margin-bottom: 0px; display: inline;\">Worker: 2</h4>\n",
       "                </summary>\n",
       "                <table style=\"width: 100%; text-align: left;\">\n",
       "                    <tr>\n",
       "                        <td style=\"text-align: left;\">\n",
       "                            <strong>Comm: </strong> tcp://127.0.0.1:43951\n",
       "                        </td>\n",
       "                        <td style=\"text-align: left;\">\n",
       "                            <strong>Total threads: </strong> 1\n",
       "                        </td>\n",
       "                    </tr>\n",
       "                    <tr>\n",
       "                        <td style=\"text-align: left;\">\n",
       "                            <strong>Dashboard: </strong> <a href=\"http://127.0.0.1:39539/status\" target=\"_blank\">http://127.0.0.1:39539/status</a>\n",
       "                        </td>\n",
       "                        <td style=\"text-align: left;\">\n",
       "                            <strong>Memory: </strong> 7.50 GiB\n",
       "                        </td>\n",
       "                    </tr>\n",
       "                    <tr>\n",
       "                        <td style=\"text-align: left;\">\n",
       "                            <strong>Nanny: </strong> tcp://127.0.0.1:37087\n",
       "                        </td>\n",
       "                        <td style=\"text-align: left;\"></td>\n",
       "                    </tr>\n",
       "                    <tr>\n",
       "                        <td colspan=\"2\" style=\"text-align: left;\">\n",
       "                            <strong>Local directory: </strong> /tmp/dask-scratch-space/worker-dhz3wnal\n",
       "                        </td>\n",
       "                    </tr>\n",
       "\n",
       "                    \n",
       "\n",
       "                    \n",
       "\n",
       "                </table>\n",
       "            </details>\n",
       "            </div>\n",
       "        </div>\n",
       "        \n",
       "        <div style=\"margin-bottom: 20px;\">\n",
       "            <div style=\"width: 24px; height: 24px; background-color: #DBF5FF; border: 3px solid #4CC9FF; border-radius: 5px; position: absolute;\"> </div>\n",
       "            <div style=\"margin-left: 48px;\">\n",
       "            <details>\n",
       "                <summary>\n",
       "                    <h4 style=\"margin-bottom: 0px; display: inline;\">Worker: 3</h4>\n",
       "                </summary>\n",
       "                <table style=\"width: 100%; text-align: left;\">\n",
       "                    <tr>\n",
       "                        <td style=\"text-align: left;\">\n",
       "                            <strong>Comm: </strong> tcp://127.0.0.1:40551\n",
       "                        </td>\n",
       "                        <td style=\"text-align: left;\">\n",
       "                            <strong>Total threads: </strong> 1\n",
       "                        </td>\n",
       "                    </tr>\n",
       "                    <tr>\n",
       "                        <td style=\"text-align: left;\">\n",
       "                            <strong>Dashboard: </strong> <a href=\"http://127.0.0.1:34859/status\" target=\"_blank\">http://127.0.0.1:34859/status</a>\n",
       "                        </td>\n",
       "                        <td style=\"text-align: left;\">\n",
       "                            <strong>Memory: </strong> 7.50 GiB\n",
       "                        </td>\n",
       "                    </tr>\n",
       "                    <tr>\n",
       "                        <td style=\"text-align: left;\">\n",
       "                            <strong>Nanny: </strong> tcp://127.0.0.1:41521\n",
       "                        </td>\n",
       "                        <td style=\"text-align: left;\"></td>\n",
       "                    </tr>\n",
       "                    <tr>\n",
       "                        <td colspan=\"2\" style=\"text-align: left;\">\n",
       "                            <strong>Local directory: </strong> /tmp/dask-scratch-space/worker-7d0djrgo\n",
       "                        </td>\n",
       "                    </tr>\n",
       "\n",
       "                    \n",
       "\n",
       "                    \n",
       "\n",
       "                </table>\n",
       "            </details>\n",
       "            </div>\n",
       "        </div>\n",
       "        \n",
       "\n",
       "    </details>\n",
       "</div>\n",
       "\n",
       "        </details>\n",
       "    </div>\n",
       "</div>\n",
       "            </details>\n",
       "        \n",
       "\n",
       "    </div>\n",
       "</div>"
      ],
      "text/plain": [
       "<Client: 'tcp://127.0.0.1:35265' processes=4 threads=4, memory=30.00 GiB>"
      ]
     },
     "execution_count": 10,
     "metadata": {},
     "output_type": "execute_result"
    }
   ],
   "source": [
    "# Show the dashboard link, not work in kaggle\n",
    "client"
   ]
  },
  {
   "cell_type": "code",
   "execution_count": 11,
   "id": "849d5282",
   "metadata": {
    "execution": {
     "iopub.execute_input": "2025-03-16T05:24:13.499394Z",
     "iopub.status.busy": "2025-03-16T05:24:13.498857Z",
     "iopub.status.idle": "2025-03-16T05:24:13.505362Z",
     "shell.execute_reply": "2025-03-16T05:24:13.504058Z"
    },
    "papermill": {
     "duration": 0.023559,
     "end_time": "2025-03-16T05:24:13.507213",
     "exception": false,
     "start_time": "2025-03-16T05:24:13.483654",
     "status": "completed"
    },
    "tags": []
   },
   "outputs": [
    {
     "data": {
      "text/plain": [
       "'http://127.0.0.1:8787/status'"
      ]
     },
     "execution_count": 11,
     "metadata": {},
     "output_type": "execute_result"
    }
   ],
   "source": [
    "# Show the dashboard link\n",
    "client.dashboard_link"
   ]
  },
  {
   "cell_type": "markdown",
   "id": "6cde8b00",
   "metadata": {
    "papermill": {
     "duration": 0.013943,
     "end_time": "2025-03-16T05:24:13.535421",
     "exception": false,
     "start_time": "2025-03-16T05:24:13.521478",
     "status": "completed"
    },
    "tags": []
   },
   "source": [
    "#3) Importing text to Dask\n",
    "\n",
    "## a) When data with issue\n",
    "\n",
    "Under the hood, Dask use [PyArrow as backend](https://docs.coiled.io/blog/pyarrow-in-pandas-and-dask.html) for data loading and all data type related management.\n",
    "\n",
    "When loading the text data (eg. .csv / .txt) Dask will try to inferring the data type and choose the most memory efficient + preserve data precision. There are 2 behaviour of data inferring\n",
    "1) Numeric : [Data Overflow](https://jakevdp.github.io/PythonDataScienceHandbook/02.01-understanding-data-types.html)\n",
    "2) Numeric, String : Null\n",
    "\n",
    "For example below `w_issue.csv`\n",
    "1) Column `Merchant Name`row#4 have data **Overflow** issue\n",
    "2) Column `Card` (Numeric) row#2, `Use Chip` (String) row#8 with **NULL** issue"
   ]
  },
  {
   "cell_type": "code",
   "execution_count": 12,
   "id": "d213fff0",
   "metadata": {
    "execution": {
     "iopub.execute_input": "2025-03-16T05:24:13.565193Z",
     "iopub.status.busy": "2025-03-16T05:24:13.564768Z",
     "iopub.status.idle": "2025-03-16T05:24:13.761549Z",
     "shell.execute_reply": "2025-03-16T05:24:13.760096Z"
    },
    "papermill": {
     "duration": 0.214194,
     "end_time": "2025-03-16T05:24:13.763629",
     "exception": false,
     "start_time": "2025-03-16T05:24:13.549435",
     "status": "completed"
    },
    "tags": []
   },
   "outputs": [
    {
     "name": "stdout",
     "output_type": "stream",
     "text": [
      "User,Card,Year,Month,Day,Time,Amount,Use Chip,Merchant Name,Merchant City,Merchant State,Zip,MCC,Errors?,Is Fraud?\r\n",
      "0,0,2002,9,1,06:21,$134.09,Swipe Transaction,3527213246127876953,La Verne,CA,91750.0,5300,,No\r\n",
      "0,0,2002,9,1,06:42,$38.48,Swipe Transaction,-727612092139916043,Monterey Park,CA,91754.0,5411,,No\r\n",
      "0,0,2002,9,2,06:22,$120.34,Swipe Transaction,-727612092139916043,Monterey Park,CA,91754.0,5411,,No\r\n",
      "0,0,2002,9,2,17:45,$128.95,Swipe Transaction,3414527459579106770,Monterey Park,CA,91754.0,5651,,No\r\n",
      "0,0,2002,9,3,06:23,$104.71,Swipe Transaction,5817218446178736267,La Verne,CA,91750.0,5912,,No\r\n",
      "0,0,2002,9,3,13:53,$86.19,Swipe Transaction,-7146670748125200898,Monterey Park,CA,91755.0,5970,,No\r\n",
      "0,0,2002,9,4,05:51,$93.84,Swipe Transaction,-727612092139916043,Monterey Park,CA,91754.0,5411,,No\r\n",
      "0,0,2002,9,4,06:09,$123.50,Swipe Transaction,-727612092139916043,Monterey Park,CA,91754.0,5411,,No\r\n",
      "0,0,2002,9,5,06:14,$61.72,Swipe Transaction,-727612092139916043,Monterey Park,CA,91754.0,5411,,No\r\n"
     ]
    }
   ],
   "source": [
    "!head /kaggle/input/dask-credit-card-transaction/dask_text_data_inference/text_no_issue.csv"
   ]
  },
  {
   "cell_type": "code",
   "execution_count": 13,
   "id": "16087f6e",
   "metadata": {
    "execution": {
     "iopub.execute_input": "2025-03-16T05:24:13.798433Z",
     "iopub.status.busy": "2025-03-16T05:24:13.797508Z",
     "iopub.status.idle": "2025-03-16T05:24:13.969847Z",
     "shell.execute_reply": "2025-03-16T05:24:13.968547Z"
    },
    "papermill": {
     "duration": 0.193445,
     "end_time": "2025-03-16T05:24:13.972000",
     "exception": false,
     "start_time": "2025-03-16T05:24:13.778555",
     "status": "completed"
    },
    "tags": []
   },
   "outputs": [
    {
     "name": "stdout",
     "output_type": "stream",
     "text": [
      "User,Card,Year,Month,Day,Time,Amount,Use Chip,Merchant Name,Merchant City,Merchant State,Zip,MCC,Errors?,Is Fraud?\r\n",
      "0,0,2002,9,1,06:21,$134.09,Swipe Transaction,3527213246127876953,La Verne,CA,91750.0,5300,,No\r\n",
      "0,,2002,9,1,06:42,$38.48,Swipe Transaction,-727612092139916043,Monterey Park,CA,91754.0,5411,,No\r\n",
      "0,0,2002,9,2,06:22,$120.34,Swipe Transaction,-727612092139916043,Monterey Park,CA,91754.0,5411,,No\r\n",
      "0,0,2002,9,5,06:14,$61.72,Swipe Transaction,-727612092139916043,Monterey Park,CA,91754.0,5411,,No\r\n",
      "0,0,2002,9,5,09:35,$57.10,Swipe Transaction,405525707848105870567889,La Verne,CA,91750.0,7538,,No\r\n",
      "0,0,2002,9,5,20:18,$76.07,Swipe Transaction,-4500542936415012428,La Verne,CA,91750.0,5814,,No\r\n",
      "0,0,2002,9,5,20:41,$53.91,Online Transaction,-9092677072201095172,ONLINE,,,4900,,No\r\n",
      "0,0,2002,9,8,06:38,$27.75,,4060646732831064559,La Verne,CA,91750.0,5411,,No\r\n",
      "0,0,2002,9,8,13:48,$76.57,Swipe Transaction,-727612092139916043,Monterey Park,CA,91754.0,5411,,No\r\n"
     ]
    }
   ],
   "source": [
    "!head /kaggle/input/dask-credit-card-transaction/dask_text_data_inference/text_w_issue.csv"
   ]
  },
  {
   "cell_type": "code",
   "execution_count": 14,
   "id": "a5793206",
   "metadata": {
    "execution": {
     "iopub.execute_input": "2025-03-16T05:24:14.003751Z",
     "iopub.status.busy": "2025-03-16T05:24:14.003374Z",
     "iopub.status.idle": "2025-03-16T05:24:14.078331Z",
     "shell.execute_reply": "2025-03-16T05:24:14.077100Z"
    },
    "papermill": {
     "duration": 0.09325,
     "end_time": "2025-03-16T05:24:14.080758",
     "exception": false,
     "start_time": "2025-03-16T05:24:13.987508",
     "status": "completed"
    },
    "tags": []
   },
   "outputs": [],
   "source": [
    "no_issue = dd.read_csv(\"/kaggle/input/dask-credit-card-transaction/dask_text_data_inference/text_no_issue.csv\")\n",
    "w_issue = dd.read_csv(\"/kaggle/input/dask-credit-card-transaction/dask_text_data_inference/text_w_issue.csv\")"
   ]
  },
  {
   "cell_type": "code",
   "execution_count": 15,
   "id": "159f3e78",
   "metadata": {
    "execution": {
     "iopub.execute_input": "2025-03-16T05:24:14.111921Z",
     "iopub.status.busy": "2025-03-16T05:24:14.111578Z",
     "iopub.status.idle": "2025-03-16T05:24:15.770325Z",
     "shell.execute_reply": "2025-03-16T05:24:15.768097Z"
    },
    "papermill": {
     "duration": 1.678255,
     "end_time": "2025-03-16T05:24:15.773646",
     "exception": false,
     "start_time": "2025-03-16T05:24:14.095391",
     "status": "completed"
    },
    "tags": []
   },
   "outputs": [
    {
     "data": {
      "text/html": [
       "<div>\n",
       "<style scoped>\n",
       "    .dataframe tbody tr th:only-of-type {\n",
       "        vertical-align: middle;\n",
       "    }\n",
       "\n",
       "    .dataframe tbody tr th {\n",
       "        vertical-align: top;\n",
       "    }\n",
       "\n",
       "    .dataframe thead th {\n",
       "        text-align: right;\n",
       "    }\n",
       "</style>\n",
       "<table border=\"1\" class=\"dataframe\">\n",
       "  <thead>\n",
       "    <tr style=\"text-align: right;\">\n",
       "      <th></th>\n",
       "      <th>no_issue</th>\n",
       "      <th>w_issue</th>\n",
       "    </tr>\n",
       "  </thead>\n",
       "  <tbody>\n",
       "    <tr>\n",
       "      <th>User</th>\n",
       "      <td>int64</td>\n",
       "      <td>int64</td>\n",
       "    </tr>\n",
       "    <tr>\n",
       "      <th>Card</th>\n",
       "      <td>int64</td>\n",
       "      <td>float64</td>\n",
       "    </tr>\n",
       "    <tr>\n",
       "      <th>Year</th>\n",
       "      <td>int64</td>\n",
       "      <td>int64</td>\n",
       "    </tr>\n",
       "    <tr>\n",
       "      <th>Month</th>\n",
       "      <td>int64</td>\n",
       "      <td>int64</td>\n",
       "    </tr>\n",
       "    <tr>\n",
       "      <th>Day</th>\n",
       "      <td>int64</td>\n",
       "      <td>int64</td>\n",
       "    </tr>\n",
       "    <tr>\n",
       "      <th>Time</th>\n",
       "      <td>string[pyarrow]</td>\n",
       "      <td>string[pyarrow]</td>\n",
       "    </tr>\n",
       "    <tr>\n",
       "      <th>Amount</th>\n",
       "      <td>string[pyarrow]</td>\n",
       "      <td>string[pyarrow]</td>\n",
       "    </tr>\n",
       "    <tr>\n",
       "      <th>Use Chip</th>\n",
       "      <td>string[pyarrow]</td>\n",
       "      <td>string[pyarrow]</td>\n",
       "    </tr>\n",
       "    <tr>\n",
       "      <th>Merchant Name</th>\n",
       "      <td>int64</td>\n",
       "      <td>string[pyarrow]</td>\n",
       "    </tr>\n",
       "    <tr>\n",
       "      <th>Merchant City</th>\n",
       "      <td>string[pyarrow]</td>\n",
       "      <td>string[pyarrow]</td>\n",
       "    </tr>\n",
       "    <tr>\n",
       "      <th>Merchant State</th>\n",
       "      <td>string[pyarrow]</td>\n",
       "      <td>string[pyarrow]</td>\n",
       "    </tr>\n",
       "    <tr>\n",
       "      <th>Zip</th>\n",
       "      <td>float64</td>\n",
       "      <td>float64</td>\n",
       "    </tr>\n",
       "    <tr>\n",
       "      <th>MCC</th>\n",
       "      <td>int64</td>\n",
       "      <td>int64</td>\n",
       "    </tr>\n",
       "    <tr>\n",
       "      <th>Errors?</th>\n",
       "      <td>float64</td>\n",
       "      <td>float64</td>\n",
       "    </tr>\n",
       "    <tr>\n",
       "      <th>Is Fraud?</th>\n",
       "      <td>string[pyarrow]</td>\n",
       "      <td>string[pyarrow]</td>\n",
       "    </tr>\n",
       "  </tbody>\n",
       "</table>\n",
       "</div>"
      ],
      "text/plain": [
       "                       no_issue          w_issue\n",
       "User                      int64            int64\n",
       "Card                      int64          float64\n",
       "Year                      int64            int64\n",
       "Month                     int64            int64\n",
       "Day                       int64            int64\n",
       "Time            string[pyarrow]  string[pyarrow]\n",
       "Amount          string[pyarrow]  string[pyarrow]\n",
       "Use Chip        string[pyarrow]  string[pyarrow]\n",
       "Merchant Name             int64  string[pyarrow]\n",
       "Merchant City   string[pyarrow]  string[pyarrow]\n",
       "Merchant State  string[pyarrow]  string[pyarrow]\n",
       "Zip                     float64          float64\n",
       "MCC                       int64            int64\n",
       "Errors?                 float64          float64\n",
       "Is Fraud?       string[pyarrow]  string[pyarrow]"
      ]
     },
     "execution_count": 15,
     "metadata": {},
     "output_type": "execute_result"
    }
   ],
   "source": [
    "pdf = pd.concat([no_issue.dtypes.to_frame(name='no_issue'), w_issue.dtypes.to_frame(name=\"w_issue\")], axis=\"columns\")\n",
    "pdf"
   ]
  },
  {
   "cell_type": "markdown",
   "id": "01a31bb9",
   "metadata": {
    "papermill": {
     "duration": 0.016374,
     "end_time": "2025-03-16T05:24:15.809983",
     "exception": false,
     "start_time": "2025-03-16T05:24:15.793609",
     "status": "completed"
    },
    "tags": []
   },
   "source": [
    "1) Data **overflow** in column `Merchant Name`: Dask change inferring datatype from `Int64` to `Sring` type to preserve the data precision. \n",
    "2) Data with **Null** Column `Card` (Numeric) row#2 : Dask change inferring datatype from `Int64` to `Float64` since `float` could have **Null**\n",
    "3) Data with **Null** Column `Use Chip` (String) row#8: same inferrring type (`String`) since `String` type could handle **NULL**. "
   ]
  },
  {
   "cell_type": "markdown",
   "id": "daac6a6a",
   "metadata": {
    "execution": {
     "iopub.execute_input": "2025-03-16T05:08:24.365735Z",
     "iopub.status.busy": "2025-03-16T05:08:24.365321Z",
     "iopub.status.idle": "2025-03-16T05:08:24.375239Z",
     "shell.execute_reply": "2025-03-16T05:08:24.373057Z",
     "shell.execute_reply.started": "2025-03-16T05:08:24.365669Z"
    },
    "papermill": {
     "duration": 0.015417,
     "end_time": "2025-03-16T05:24:15.842060",
     "exception": false,
     "start_time": "2025-03-16T05:24:15.826643",
     "status": "completed"
    },
    "tags": []
   },
   "source": [
    "## b) Reduce memory footprint when loading text data\n",
    "\n",
    "Specify all columns dtype are more safe and memory efficient.\n",
    "1) `int64 -> int16` or `float64 -> float16`\n",
    "2) `string -> category` caveat : convert `cateory` data type have some complication for data numging, use this strategy if needed only. \n",
    "3) **Anyway**, for data with `Null`, the only suportted datatype are `String`, `float64` or `category`\n",
    "4) Also, specify each column name and datatype could also help overcome corrupted text file loading"
   ]
  },
  {
   "cell_type": "code",
   "execution_count": 16,
   "id": "38c86c0f",
   "metadata": {
    "execution": {
     "iopub.execute_input": "2025-03-16T05:24:15.874984Z",
     "iopub.status.busy": "2025-03-16T05:24:15.874546Z",
     "iopub.status.idle": "2025-03-16T05:24:15.881252Z",
     "shell.execute_reply": "2025-03-16T05:24:15.880042Z"
    },
    "papermill": {
     "duration": 0.024552,
     "end_time": "2025-03-16T05:24:15.883266",
     "exception": false,
     "start_time": "2025-03-16T05:24:15.858714",
     "status": "completed"
    },
    "tags": []
   },
   "outputs": [],
   "source": [
    "# Incase of csv data have error rows, should \n",
    "# Specify column name & dtypes manually\n",
    "# dtype 'category' also reduce amount of memory used\n",
    "ddf_col = [\n",
    "    \"User\",\n",
    "    \"Card\",\n",
    "    \"Year\",\n",
    "    \"Month\",\n",
    "    \"Day\",\n",
    "    \"Time\",\n",
    "    \"Amount\",\n",
    "    \"Use Chip\",\n",
    "    \"Merchant Name\",\n",
    "    \"Merchant City\",\n",
    "    \"Merchant State\",\n",
    "    \"Zip\",\n",
    "    \"MCC\",\n",
    "    \"Errors?\",\n",
    "    \"Is Fraud?\",\n",
    "]\n",
    "\n",
    "ddf_dtypes = {\n",
    "    'User':'int16', \n",
    "    'Card':'int16',\n",
    "    'Year':'int16',\n",
    "    'Month':'int16', \n",
    "    'Day':'int16',\n",
    "    'Time':'string', \n",
    "    'Amount':'string',\n",
    "    'Use Chip':'category',\n",
    "    'Merchant Name':'string',\n",
    "    'Merchant City':'string',\n",
    "    'Merchant State':'string',\n",
    "    'Zip':'category',\n",
    "    'MCC':'int16',\n",
    "    'Errors?':'category',\n",
    "    'Is Fraud?':'category',\n",
    "}"
   ]
  },
  {
   "cell_type": "code",
   "execution_count": 17,
   "id": "acbb7a5c",
   "metadata": {
    "execution": {
     "iopub.execute_input": "2025-03-16T05:24:15.916566Z",
     "iopub.status.busy": "2025-03-16T05:24:15.916197Z",
     "iopub.status.idle": "2025-03-16T05:24:15.962564Z",
     "shell.execute_reply": "2025-03-16T05:24:15.961260Z"
    },
    "papermill": {
     "duration": 0.064447,
     "end_time": "2025-03-16T05:24:15.964538",
     "exception": false,
     "start_time": "2025-03-16T05:24:15.900091",
     "status": "completed"
    },
    "tags": []
   },
   "outputs": [],
   "source": [
    "# Use skiprows=1 for skipping header row, when manually specily the column name\n",
    "adjusted_dtypes = dd.read_csv(\"/kaggle/input/dask-credit-card-transaction/dask_text_data_inference/text_no_issue.csv\",\n",
    "                              skiprows=1,\n",
    "                              names=ddf_col,\n",
    "                              dtype=ddf_dtypes)"
   ]
  },
  {
   "cell_type": "code",
   "execution_count": 18,
   "id": "04659aa3",
   "metadata": {
    "execution": {
     "iopub.execute_input": "2025-03-16T05:24:15.996795Z",
     "iopub.status.busy": "2025-03-16T05:24:15.996411Z",
     "iopub.status.idle": "2025-03-16T05:24:17.304045Z",
     "shell.execute_reply": "2025-03-16T05:24:17.302632Z"
    },
    "papermill": {
     "duration": 1.3264,
     "end_time": "2025-03-16T05:24:17.306314",
     "exception": false,
     "start_time": "2025-03-16T05:24:15.979914",
     "status": "completed"
    },
    "tags": []
   },
   "outputs": [
    {
     "data": {
      "text/html": [
       "<div>\n",
       "<style scoped>\n",
       "    .dataframe tbody tr th:only-of-type {\n",
       "        vertical-align: middle;\n",
       "    }\n",
       "\n",
       "    .dataframe tbody tr th {\n",
       "        vertical-align: top;\n",
       "    }\n",
       "\n",
       "    .dataframe thead th {\n",
       "        text-align: right;\n",
       "    }\n",
       "</style>\n",
       "<table border=\"1\" class=\"dataframe\">\n",
       "  <thead>\n",
       "    <tr style=\"text-align: right;\">\n",
       "      <th></th>\n",
       "      <th>inferred_dtype</th>\n",
       "      <th>adjusted_dtype</th>\n",
       "    </tr>\n",
       "  </thead>\n",
       "  <tbody>\n",
       "    <tr>\n",
       "      <th>Index</th>\n",
       "      <td>128</td>\n",
       "      <td>128</td>\n",
       "    </tr>\n",
       "    <tr>\n",
       "      <th>User</th>\n",
       "      <td>72</td>\n",
       "      <td>18</td>\n",
       "    </tr>\n",
       "    <tr>\n",
       "      <th>Card</th>\n",
       "      <td>72</td>\n",
       "      <td>18</td>\n",
       "    </tr>\n",
       "    <tr>\n",
       "      <th>Year</th>\n",
       "      <td>72</td>\n",
       "      <td>18</td>\n",
       "    </tr>\n",
       "    <tr>\n",
       "      <th>Month</th>\n",
       "      <td>72</td>\n",
       "      <td>18</td>\n",
       "    </tr>\n",
       "    <tr>\n",
       "      <th>Day</th>\n",
       "      <td>72</td>\n",
       "      <td>18</td>\n",
       "    </tr>\n",
       "    <tr>\n",
       "      <th>Time</th>\n",
       "      <td>558</td>\n",
       "      <td>558</td>\n",
       "    </tr>\n",
       "    <tr>\n",
       "      <th>Amount</th>\n",
       "      <td>572</td>\n",
       "      <td>572</td>\n",
       "    </tr>\n",
       "    <tr>\n",
       "      <th>Use Chip</th>\n",
       "      <td>666</td>\n",
       "      <td>83</td>\n",
       "    </tr>\n",
       "    <tr>\n",
       "      <th>Merchant Name</th>\n",
       "      <td>72</td>\n",
       "      <td>685</td>\n",
       "    </tr>\n",
       "    <tr>\n",
       "      <th>Merchant City</th>\n",
       "      <td>620</td>\n",
       "      <td>620</td>\n",
       "    </tr>\n",
       "    <tr>\n",
       "      <th>Merchant State</th>\n",
       "      <td>531</td>\n",
       "      <td>531</td>\n",
       "    </tr>\n",
       "    <tr>\n",
       "      <th>Zip</th>\n",
       "      <td>72</td>\n",
       "      <td>201</td>\n",
       "    </tr>\n",
       "    <tr>\n",
       "      <th>MCC</th>\n",
       "      <td>72</td>\n",
       "      <td>18</td>\n",
       "    </tr>\n",
       "    <tr>\n",
       "      <th>Errors?</th>\n",
       "      <td>72</td>\n",
       "      <td>9</td>\n",
       "    </tr>\n",
       "    <tr>\n",
       "      <th>Is Fraud?</th>\n",
       "      <td>531</td>\n",
       "      <td>68</td>\n",
       "    </tr>\n",
       "  </tbody>\n",
       "</table>\n",
       "</div>"
      ],
      "text/plain": [
       "                inferred_dtype  adjusted_dtype\n",
       "Index                      128             128\n",
       "User                        72              18\n",
       "Card                        72              18\n",
       "Year                        72              18\n",
       "Month                       72              18\n",
       "Day                         72              18\n",
       "Time                       558             558\n",
       "Amount                     572             572\n",
       "Use Chip                   666              83\n",
       "Merchant Name               72             685\n",
       "Merchant City              620             620\n",
       "Merchant State             531             531\n",
       "Zip                         72             201\n",
       "MCC                         72              18\n",
       "Errors?                     72               9\n",
       "Is Fraud?                  531              68"
      ]
     },
     "execution_count": 18,
     "metadata": {},
     "output_type": "execute_result"
    }
   ],
   "source": [
    "pdf = pd.concat([ no_issue.memory_usage(deep=True).compute().to_frame(name=\"inferred_dtype\"),\n",
    "                adjusted_dtypes.memory_usage(deep=True).compute().to_frame(name=\"adjusted_dtype\")],\n",
    "                axis=\"columns\")\n",
    "pdf"
   ]
  },
  {
   "cell_type": "markdown",
   "id": "7733c23b",
   "metadata": {
    "papermill": {
     "duration": 0.014662,
     "end_time": "2025-03-16T05:24:17.336343",
     "exception": false,
     "start_time": "2025-03-16T05:24:17.321681",
     "status": "completed"
    },
    "tags": []
   },
   "source": [
    "# 4) Data materialization & configuration\n",
    "\n",
    "Dask have capability for data integration tasks like appending parquet file or [store parquet in Hive directory format](https://docs.dask.org/en/latest/dataframe-hive.html\n",
    "). We could use Dask to create datamart/datacube.    \n",
    "\n",
    "This part explore Dask capability as above and test the query performance. All the test case use separated by year data that have create from step above.  \n",
    "\n",
    "Also while creating datamart we also could create **Index**; but this things are similar to Pandas index than DBMS index. Correctly indexing could help Dask in some situation like `sort`, `merge`, `groupby`.\n",
    "\n",
    "**Reference**\n",
    "- [Work-around for multi-indexing in Dask](https://stackoverflow.com/questions/75915860/dask-and-best-practices-with-multiple-indices)\n",
    "- [Non unique index](https://stackoverflow.com/questions/16626058/what-is-the-performance-impact-of-non-unique-indexes-in-pandas)"
   ]
  },
  {
   "cell_type": "markdown",
   "id": "6148c0d3",
   "metadata": {
    "papermill": {
     "duration": 0.016013,
     "end_time": "2025-03-16T05:24:17.368556",
     "exception": false,
     "start_time": "2025-03-16T05:24:17.352543",
     "status": "completed"
    },
    "tags": []
   },
   "source": [
    "## a) Datamart with No Hive directory\n",
    "**Configuration**\n",
    "- Set index on column `Card` by each raw file ingested, since `Card` is non-unique then division in each raw file ingest need to turn off (`ignore_divisions=True`) for appending into .parquet.\n",
    "- The index columns is sorted by default.\n",
    "- Non-Hive style partition folder (no `partition_on` parameter)"
   ]
  },
  {
   "cell_type": "code",
   "execution_count": 19,
   "id": "5d8d7aa1",
   "metadata": {
    "execution": {
     "iopub.execute_input": "2025-03-16T05:24:17.401570Z",
     "iopub.status.busy": "2025-03-16T05:24:17.401081Z",
     "iopub.status.idle": "2025-03-16T05:24:17.406650Z",
     "shell.execute_reply": "2025-03-16T05:24:17.405584Z"
    },
    "papermill": {
     "duration": 0.02473,
     "end_time": "2025-03-16T05:24:17.408576",
     "exception": false,
     "start_time": "2025-03-16T05:24:17.383846",
     "status": "completed"
    },
    "tags": []
   },
   "outputs": [],
   "source": [
    "schema = {\n",
    "    \"User\": \"int64\",\n",
    "    \"Card\": \"int64\",\n",
    "    \"Year\": \"int64\",\n",
    "    \"Month\": \"int64\",\n",
    "    \"Day\": \"int64\",\n",
    "    \"Time\": \"string\",\n",
    "    \"Amount\": \"string\",\n",
    "    \"Use Chip\": \"string\",\n",
    "    \"Merchant Name\": \"int64\",\n",
    "    \"Merchant City\": \"string\",\n",
    "    \"Merchant State\": \"string\",\n",
    "    \"Zip\": \"float64\",\n",
    "    \"MCC\": \"int64\",\n",
    "    \"Errors?\": \"string\",\n",
    "    \"Is Fraud?\": \"string\"\n",
    "}"
   ]
  },
  {
   "cell_type": "code",
   "execution_count": 20,
   "id": "62d0d795",
   "metadata": {
    "execution": {
     "iopub.execute_input": "2025-03-16T05:24:17.441121Z",
     "iopub.status.busy": "2025-03-16T05:24:17.440719Z",
     "iopub.status.idle": "2025-03-16T05:27:28.450715Z",
     "shell.execute_reply": "2025-03-16T05:27:28.447137Z"
    },
    "papermill": {
     "duration": 191.03736,
     "end_time": "2025-03-16T05:27:28.461297",
     "exception": false,
     "start_time": "2025-03-16T05:24:17.423937",
     "status": "completed"
    },
    "tags": []
   },
   "outputs": [
    {
     "name": "stdout",
     "output_type": "stream",
     "text": [
      "1991\n",
      "1992\n",
      "1993\n",
      "1994\n",
      "1995\n",
      "1996\n",
      "1997\n",
      "1998\n",
      "1999\n",
      "2000\n",
      "2001\n",
      "2002\n",
      "2003\n",
      "2004\n",
      "2005\n",
      "2006\n",
      "2007\n",
      "2008\n",
      "2009\n",
      "2010\n",
      "2011\n",
      "2012\n",
      "2013\n",
      "2014\n",
      "2015\n",
      "2016\n",
      "2017\n",
      "2018\n",
      "2019\n",
      "2020\n"
     ]
    }
   ],
   "source": [
    "yr_rng = list(range(1991, 2021))\n",
    "data_combined = Path(\"data_combined_no_hive_sort_idx_no_div.parquet\")\n",
    "\n",
    "for y in yr_rng:\n",
    "    print(y)\n",
    "    yrly_ddf = dd.read_csv(f\"/kaggle/working/yearly_data_{y}.csv\", dtype=schema)\n",
    "    yrly_ddf = yrly_ddf.set_index(\"Card\", partition_size=\"100MB\")\n",
    "    \n",
    "    if data_combined.exists():    \n",
    "        yrly_ddf.to_parquet(data_combined, append=True, ignore_divisions=True)\n",
    "    else:\n",
    "        yrly_ddf.to_parquet(data_combined)"
   ]
  },
  {
   "cell_type": "markdown",
   "id": "65cd5fe9",
   "metadata": {
    "papermill": {
     "duration": 0.021495,
     "end_time": "2025-03-16T05:27:28.518618",
     "exception": false,
     "start_time": "2025-03-16T05:27:28.497123",
     "status": "completed"
    },
    "tags": []
   },
   "source": [
    "### Test Query performance"
   ]
  },
  {
   "cell_type": "code",
   "execution_count": 21,
   "id": "a3565942",
   "metadata": {
    "execution": {
     "iopub.execute_input": "2025-03-16T05:27:28.560223Z",
     "iopub.status.busy": "2025-03-16T05:27:28.559582Z",
     "iopub.status.idle": "2025-03-16T05:27:28.597005Z",
     "shell.execute_reply": "2025-03-16T05:27:28.595498Z"
    },
    "papermill": {
     "duration": 0.060727,
     "end_time": "2025-03-16T05:27:28.599661",
     "exception": false,
     "start_time": "2025-03-16T05:27:28.538934",
     "status": "completed"
    },
    "tags": []
   },
   "outputs": [],
   "source": [
    "parquet_path = Path(\"data_combined_no_hive_sort_idx_no_div.parquet\")\n",
    "ddf = dd.read_parquet(parquet_path)"
   ]
  },
  {
   "cell_type": "code",
   "execution_count": 22,
   "id": "b6743ec8",
   "metadata": {
    "execution": {
     "iopub.execute_input": "2025-03-16T05:27:28.636232Z",
     "iopub.status.busy": "2025-03-16T05:27:28.635767Z",
     "iopub.status.idle": "2025-03-16T05:27:28.647372Z",
     "shell.execute_reply": "2025-03-16T05:27:28.645537Z"
    },
    "papermill": {
     "duration": 0.031571,
     "end_time": "2025-03-16T05:27:28.649491",
     "exception": false,
     "start_time": "2025-03-16T05:27:28.617920",
     "status": "completed"
    },
    "tags": []
   },
   "outputs": [
    {
     "data": {
      "text/plain": [
       "30"
      ]
     },
     "execution_count": 22,
     "metadata": {},
     "output_type": "execute_result"
    }
   ],
   "source": [
    "# Number of partitions = number of raw ingested files (no need to split, due to small size)\n",
    "ddf.npartitions"
   ]
  },
  {
   "cell_type": "code",
   "execution_count": 23,
   "id": "178d7df9",
   "metadata": {
    "execution": {
     "iopub.execute_input": "2025-03-16T05:27:28.688726Z",
     "iopub.status.busy": "2025-03-16T05:27:28.688269Z",
     "iopub.status.idle": "2025-03-16T05:27:28.695447Z",
     "shell.execute_reply": "2025-03-16T05:27:28.694221Z"
    },
    "papermill": {
     "duration": 0.028371,
     "end_time": "2025-03-16T05:27:28.697589",
     "exception": false,
     "start_time": "2025-03-16T05:27:28.669218",
     "status": "completed"
    },
    "tags": []
   },
   "outputs": [
    {
     "data": {
      "text/plain": [
       "False"
      ]
     },
     "execution_count": 23,
     "metadata": {},
     "output_type": "execute_result"
    }
   ],
   "source": [
    "# Unknown divisions, since the specified not to store divisions\n",
    "ddf.known_divisions"
   ]
  },
  {
   "cell_type": "code",
   "execution_count": 24,
   "id": "607cdba2",
   "metadata": {
    "execution": {
     "iopub.execute_input": "2025-03-16T05:27:28.759591Z",
     "iopub.status.busy": "2025-03-16T05:27:28.757234Z",
     "iopub.status.idle": "2025-03-16T05:27:28.875943Z",
     "shell.execute_reply": "2025-03-16T05:27:28.874680Z"
    },
    "papermill": {
     "duration": 0.151698,
     "end_time": "2025-03-16T05:27:28.878312",
     "exception": false,
     "start_time": "2025-03-16T05:27:28.726614",
     "status": "completed"
    },
    "tags": []
   },
   "outputs": [
    {
     "data": {
      "text/plain": [
       "Index([1, 1, 1, 1, 1], dtype='int64', name='Card')"
      ]
     },
     "execution_count": 24,
     "metadata": {},
     "output_type": "execute_result"
    }
   ],
   "source": [
    "# Check index type, and name 'Card'\n",
    "ddf.index.head()"
   ]
  },
  {
   "cell_type": "code",
   "execution_count": 25,
   "id": "20d12189",
   "metadata": {
    "execution": {
     "iopub.execute_input": "2025-03-16T05:27:28.919175Z",
     "iopub.status.busy": "2025-03-16T05:27:28.918644Z",
     "iopub.status.idle": "2025-03-16T05:27:28.926626Z",
     "shell.execute_reply": "2025-03-16T05:27:28.925074Z"
    },
    "papermill": {
     "duration": 0.029115,
     "end_time": "2025-03-16T05:27:28.928573",
     "exception": false,
     "start_time": "2025-03-16T05:27:28.899458",
     "status": "completed"
    },
    "tags": []
   },
   "outputs": [
    {
     "data": {
      "text/plain": [
       "Index(['User', 'Year', 'Month', 'Day', 'Time', 'Amount', 'Use Chip',\n",
       "       'Merchant Name', 'Merchant City', 'Merchant State', 'Zip', 'MCC',\n",
       "       'Errors?', 'Is Fraud?'],\n",
       "      dtype='object')"
      ]
     },
     "execution_count": 25,
     "metadata": {},
     "output_type": "execute_result"
    }
   ],
   "source": [
    "# The rest of data frame columns will excluding the index\n",
    "ddf.columns"
   ]
  },
  {
   "cell_type": "code",
   "execution_count": 26,
   "id": "a85b4c99",
   "metadata": {
    "execution": {
     "iopub.execute_input": "2025-03-16T05:27:28.965886Z",
     "iopub.status.busy": "2025-03-16T05:27:28.965485Z",
     "iopub.status.idle": "2025-03-16T05:27:42.333319Z",
     "shell.execute_reply": "2025-03-16T05:27:42.331281Z"
    },
    "papermill": {
     "duration": 13.388782,
     "end_time": "2025-03-16T05:27:42.335307",
     "exception": false,
     "start_time": "2025-03-16T05:27:28.946525",
     "status": "completed"
    },
    "tags": []
   },
   "outputs": [
    {
     "name": "stdout",
     "output_type": "stream",
     "text": [
      "The slowest run took 40.20 times longer than the fastest. This could mean that an intermediate result is being cached.\n",
      "1.51 s ± 630 ms per loop (mean ± std. dev. of 7 runs, 1 loop each)\n"
     ]
    }
   ],
   "source": [
    "%%timeit\n",
    "ddf.groupby(\"Card\")[\"MCC\"].nunique().compute()"
   ]
  },
  {
   "cell_type": "code",
   "execution_count": 27,
   "id": "39027fd9",
   "metadata": {
    "execution": {
     "iopub.execute_input": "2025-03-16T05:27:42.375831Z",
     "iopub.status.busy": "2025-03-16T05:27:42.375340Z",
     "iopub.status.idle": "2025-03-16T05:27:53.059053Z",
     "shell.execute_reply": "2025-03-16T05:27:53.056634Z"
    },
    "papermill": {
     "duration": 10.706549,
     "end_time": "2025-03-16T05:27:53.061280",
     "exception": false,
     "start_time": "2025-03-16T05:27:42.354731",
     "status": "completed"
    },
    "tags": []
   },
   "outputs": [
    {
     "name": "stdout",
     "output_type": "stream",
     "text": [
      "1.32 s ± 34.8 ms per loop (mean ± std. dev. of 7 runs, 1 loop each)\n"
     ]
    }
   ],
   "source": [
    "%%timeit\n",
    "# To groupby and aggregate index column, reset_index() is needed\n",
    "ddf.reset_index().groupby(\"User\")[\"Card\"].nunique().compute()"
   ]
  },
  {
   "cell_type": "code",
   "execution_count": 28,
   "id": "c6ba4adb",
   "metadata": {
    "execution": {
     "iopub.execute_input": "2025-03-16T05:27:53.098484Z",
     "iopub.status.busy": "2025-03-16T05:27:53.098098Z",
     "iopub.status.idle": "2025-03-16T05:28:05.556660Z",
     "shell.execute_reply": "2025-03-16T05:28:05.554165Z"
    },
    "papermill": {
     "duration": 12.482082,
     "end_time": "2025-03-16T05:28:05.561332",
     "exception": false,
     "start_time": "2025-03-16T05:27:53.079250",
     "status": "completed"
    },
    "tags": []
   },
   "outputs": [
    {
     "name": "stdout",
     "output_type": "stream",
     "text": [
      "1.58 s ± 329 ms per loop (mean ± std. dev. of 7 runs, 1 loop each)\n"
     ]
    }
   ],
   "source": [
    "%%timeit\n",
    "ddf.groupby(\"Year\")[\"Zip\"].sum().compute()"
   ]
  },
  {
   "cell_type": "code",
   "execution_count": 29,
   "id": "3d644811",
   "metadata": {
    "execution": {
     "iopub.execute_input": "2025-03-16T05:28:05.605295Z",
     "iopub.status.busy": "2025-03-16T05:28:05.604475Z",
     "iopub.status.idle": "2025-03-16T05:28:44.437754Z",
     "shell.execute_reply": "2025-03-16T05:28:44.436378Z"
    },
    "papermill": {
     "duration": 38.873254,
     "end_time": "2025-03-16T05:28:44.455756",
     "exception": false,
     "start_time": "2025-03-16T05:28:05.582502",
     "status": "completed"
    },
    "tags": []
   },
   "outputs": [
    {
     "name": "stdout",
     "output_type": "stream",
     "text": [
      "4.76 s ± 312 ms per loop (mean ± std. dev. of 7 runs, 1 loop each)\n"
     ]
    }
   ],
   "source": [
    "%%timeit\n",
    "ddf.query(\"Year == 2010\")[\"User\"].count().compute()"
   ]
  },
  {
   "cell_type": "code",
   "execution_count": 30,
   "id": "9bbfb1a8",
   "metadata": {
    "execution": {
     "iopub.execute_input": "2025-03-16T05:28:44.495127Z",
     "iopub.status.busy": "2025-03-16T05:28:44.494693Z",
     "iopub.status.idle": "2025-03-16T05:28:45.098524Z",
     "shell.execute_reply": "2025-03-16T05:28:45.097232Z"
    },
    "papermill": {
     "duration": 0.625393,
     "end_time": "2025-03-16T05:28:45.100440",
     "exception": false,
     "start_time": "2025-03-16T05:28:44.475047",
     "status": "completed"
    },
    "tags": []
   },
   "outputs": [
    {
     "data": {
      "image/svg+xml": [
       "<?xml version=\"1.0\" encoding=\"UTF-8\" standalone=\"no\"?>\n",
       "<!DOCTYPE svg PUBLIC \"-//W3C//DTD SVG 1.1//EN\"\n",
       " \"http://www.w3.org/Graphics/SVG/1.1/DTD/svg11.dtd\">\n",
       "<!-- Generated by graphviz version 2.43.0 (0)\n",
       " -->\n",
       "<!-- Title: %3 Pages: 1 -->\n",
       "<svg width=\"283pt\" height=\"260pt\"\n",
       " viewBox=\"0.00 0.00 283.00 260.00\" xmlns=\"http://www.w3.org/2000/svg\" xmlns:xlink=\"http://www.w3.org/1999/xlink\">\n",
       "<g id=\"graph0\" class=\"graph\" transform=\"scale(1 1) rotate(0) translate(4 256)\">\n",
       "<title>%3</title>\n",
       "<polygon fill=\"white\" stroke=\"transparent\" points=\"-4,4 -4,-256 279,-256 279,4 -4,4\"/>\n",
       "<!-- &#45;3324477298424723868 -->\n",
       "<g id=\"node1\" class=\"node\">\n",
       "<title>&#45;3324477298424723868</title>\n",
       "<polygon fill=\"none\" stroke=\"black\" points=\"224,-252 51,-252 51,-216 224,-216 224,-252\"/>\n",
       "<text text-anchor=\"middle\" x=\"137.5\" y=\"-229\" font-family=\"Helvetica,sans-Serif\" font-size=\"20.00\">Count(Projection)</text>\n",
       "</g>\n",
       "<!-- 6300467007260011273 -->\n",
       "<g id=\"node2\" class=\"node\">\n",
       "<title>6300467007260011273</title>\n",
       "<polygon fill=\"none\" stroke=\"black\" points=\"250,-180 25,-180 25,-144 250,-144 250,-180\"/>\n",
       "<text text-anchor=\"middle\" x=\"137.5\" y=\"-157\" font-family=\"Helvetica,sans-Serif\" font-size=\"20.00\">Projection(Query, User)</text>\n",
       "</g>\n",
       "<!-- 6300467007260011273&#45;&gt;&#45;3324477298424723868 -->\n",
       "<g id=\"edge1\" class=\"edge\">\n",
       "<title>6300467007260011273&#45;&gt;&#45;3324477298424723868</title>\n",
       "<path fill=\"none\" stroke=\"black\" d=\"M137.5,-180.3C137.5,-188.02 137.5,-197.29 137.5,-205.89\"/>\n",
       "<polygon fill=\"black\" stroke=\"black\" points=\"134,-205.9 137.5,-215.9 141,-205.9 134,-205.9\"/>\n",
       "</g>\n",
       "<!-- 868633996743174695 -->\n",
       "<g id=\"node3\" class=\"node\">\n",
       "<title>868633996743174695</title>\n",
       "<polygon fill=\"none\" stroke=\"black\" points=\"275,-108 0,-108 0,-72 275,-72 275,-108\"/>\n",
       "<text text-anchor=\"middle\" x=\"137.5\" y=\"-85\" font-family=\"Helvetica,sans-Serif\" font-size=\"20.00\">Query(ReadParquetFSSpec)</text>\n",
       "</g>\n",
       "<!-- 868633996743174695&#45;&gt;6300467007260011273 -->\n",
       "<g id=\"edge2\" class=\"edge\">\n",
       "<title>868633996743174695&#45;&gt;6300467007260011273</title>\n",
       "<path fill=\"none\" stroke=\"black\" d=\"M137.5,-108.3C137.5,-116.02 137.5,-125.29 137.5,-133.89\"/>\n",
       "<polygon fill=\"black\" stroke=\"black\" points=\"134,-133.9 137.5,-143.9 141,-133.9 134,-133.9\"/>\n",
       "</g>\n",
       "<!-- &#45;1406941148113527429 -->\n",
       "<g id=\"node4\" class=\"node\">\n",
       "<title>&#45;1406941148113527429</title>\n",
       "<polygon fill=\"none\" stroke=\"black\" points=\"240.5,-36 34.5,-36 34.5,0 240.5,0 240.5,-36\"/>\n",
       "<text text-anchor=\"middle\" x=\"137.5\" y=\"-13\" font-family=\"Helvetica,sans-Serif\" font-size=\"20.00\">ReadParquetFSSpec</text>\n",
       "</g>\n",
       "<!-- &#45;1406941148113527429&#45;&gt;868633996743174695 -->\n",
       "<g id=\"edge3\" class=\"edge\">\n",
       "<title>&#45;1406941148113527429&#45;&gt;868633996743174695</title>\n",
       "<path fill=\"none\" stroke=\"black\" d=\"M137.5,-36.3C137.5,-44.02 137.5,-53.29 137.5,-61.89\"/>\n",
       "<polygon fill=\"black\" stroke=\"black\" points=\"134,-61.9 137.5,-71.9 141,-61.9 134,-61.9\"/>\n",
       "</g>\n",
       "</g>\n",
       "</svg>\n"
      ],
      "text/plain": [
       "<graphviz.graphs.Digraph at 0x7a26321c1810>"
      ]
     },
     "execution_count": 30,
     "metadata": {},
     "output_type": "execute_result"
    }
   ],
   "source": [
    "ddf.query(\"Year == 2010\")[\"User\"].count().visualize()"
   ]
  },
  {
   "cell_type": "markdown",
   "id": "cabe5f99",
   "metadata": {
    "papermill": {
     "duration": 0.018575,
     "end_time": "2025-03-16T05:28:45.138201",
     "exception": false,
     "start_time": "2025-03-16T05:28:45.119626",
     "status": "completed"
    },
    "tags": []
   },
   "source": [
    "## b) Datamart with Hive directory\n",
    "\n",
    "**Configuration**\n",
    "- Set index on column `Card` by each raw file ingested, since `Card` is non-unique then division in each raw file ingest need to turn off (`ignore_divisions=True`) for appending into .parquet\n",
    "- The index columns is sorted by default\n",
    "- With Hive style partition folder on columns \"Year\" (`partition_on`=\"Year\")"
   ]
  },
  {
   "cell_type": "code",
   "execution_count": 31,
   "id": "c4034356",
   "metadata": {
    "execution": {
     "iopub.execute_input": "2025-03-16T05:28:45.178566Z",
     "iopub.status.busy": "2025-03-16T05:28:45.178164Z",
     "iopub.status.idle": "2025-03-16T05:28:45.183791Z",
     "shell.execute_reply": "2025-03-16T05:28:45.182594Z"
    },
    "papermill": {
     "duration": 0.028089,
     "end_time": "2025-03-16T05:28:45.185738",
     "exception": false,
     "start_time": "2025-03-16T05:28:45.157649",
     "status": "completed"
    },
    "tags": []
   },
   "outputs": [],
   "source": [
    "schema = {\n",
    "    \"User\": \"int64\",\n",
    "    \"Card\": \"int64\",\n",
    "    \"Year\": \"int64\",\n",
    "    \"Month\": \"int64\",\n",
    "    \"Day\": \"int64\",\n",
    "    \"Time\": \"string\",\n",
    "    \"Amount\": \"string\",\n",
    "    \"Use Chip\": \"string\",\n",
    "    \"Merchant Name\": \"int64\",\n",
    "    \"Merchant City\": \"string\",\n",
    "    \"Merchant State\": \"string\",\n",
    "    \"Zip\": \"float64\",\n",
    "    \"MCC\": \"int64\",\n",
    "    \"Errors?\": \"string\",\n",
    "    \"Is Fraud?\": \"string\"\n",
    "}"
   ]
  },
  {
   "cell_type": "code",
   "execution_count": 32,
   "id": "c0aa61a6",
   "metadata": {
    "execution": {
     "iopub.execute_input": "2025-03-16T05:28:45.226814Z",
     "iopub.status.busy": "2025-03-16T05:28:45.226383Z",
     "iopub.status.idle": "2025-03-16T05:32:03.709433Z",
     "shell.execute_reply": "2025-03-16T05:32:03.707444Z"
    },
    "papermill": {
     "duration": 198.506836,
     "end_time": "2025-03-16T05:32:03.711812",
     "exception": false,
     "start_time": "2025-03-16T05:28:45.204976",
     "status": "completed"
    },
    "tags": []
   },
   "outputs": [
    {
     "name": "stdout",
     "output_type": "stream",
     "text": [
      "1991\n",
      "1992\n",
      "1993\n",
      "1994\n",
      "1995\n",
      "1996\n",
      "1997\n",
      "1998\n",
      "1999\n",
      "2000\n",
      "2001\n",
      "2002\n",
      "2003\n",
      "2004\n",
      "2005\n",
      "2006\n",
      "2007\n",
      "2008\n",
      "2009\n",
      "2010\n",
      "2011\n",
      "2012\n",
      "2013\n",
      "2014\n",
      "2015\n",
      "2016\n",
      "2017\n",
      "2018\n",
      "2019\n",
      "2020\n"
     ]
    }
   ],
   "source": [
    "yr_rng = list(range(1991, 2021))\n",
    "data_combined = Path(\"data_combined_with_hive_sort_idx_no_div.parquet\")\n",
    "\n",
    "for y in yr_rng:\n",
    "    print(y)\n",
    "    yrly_ddf = dd.read_csv(f\"/kaggle/working/yearly_data_{y}.csv\", dtype=schema)\n",
    "    yrly_ddf = yrly_ddf.set_index(\"Card\", partition_size=\"100MB\")\n",
    "    \n",
    "    if data_combined.exists():    \n",
    "        yrly_ddf.to_parquet(data_combined, append=True, ignore_divisions=True, partition_on=[\"Year\"])\n",
    "    else:\n",
    "        yrly_ddf.to_parquet(data_combined, partition_on=[\"Year\"])"
   ]
  },
  {
   "cell_type": "markdown",
   "id": "a328cebf",
   "metadata": {
    "papermill": {
     "duration": 0.021323,
     "end_time": "2025-03-16T05:32:03.755904",
     "exception": false,
     "start_time": "2025-03-16T05:32:03.734581",
     "status": "completed"
    },
    "tags": []
   },
   "source": [
    "### Query performance"
   ]
  },
  {
   "cell_type": "code",
   "execution_count": 33,
   "id": "5b42fb99",
   "metadata": {
    "execution": {
     "iopub.execute_input": "2025-03-16T05:32:03.806194Z",
     "iopub.status.busy": "2025-03-16T05:32:03.805771Z",
     "iopub.status.idle": "2025-03-16T05:32:03.836618Z",
     "shell.execute_reply": "2025-03-16T05:32:03.835361Z"
    },
    "papermill": {
     "duration": 0.05709,
     "end_time": "2025-03-16T05:32:03.839279",
     "exception": false,
     "start_time": "2025-03-16T05:32:03.782189",
     "status": "completed"
    },
    "tags": []
   },
   "outputs": [],
   "source": [
    "parquet_path = Path(\"data_combined_with_hive_sort_idx_no_div.parquet\")\n",
    "ddf2 = dd.read_parquet(parquet_path)"
   ]
  },
  {
   "cell_type": "code",
   "execution_count": 34,
   "id": "1d3bd374",
   "metadata": {
    "execution": {
     "iopub.execute_input": "2025-03-16T05:32:03.882708Z",
     "iopub.status.busy": "2025-03-16T05:32:03.882195Z",
     "iopub.status.idle": "2025-03-16T05:32:03.894720Z",
     "shell.execute_reply": "2025-03-16T05:32:03.893437Z"
    },
    "papermill": {
     "duration": 0.036749,
     "end_time": "2025-03-16T05:32:03.896681",
     "exception": false,
     "start_time": "2025-03-16T05:32:03.859932",
     "status": "completed"
    },
    "tags": []
   },
   "outputs": [
    {
     "data": {
      "text/plain": [
       "30"
      ]
     },
     "execution_count": 34,
     "metadata": {},
     "output_type": "execute_result"
    }
   ],
   "source": [
    "# Number of partitions = number of raw ingested files (no need to split, due to small size)\n",
    "ddf2.npartitions"
   ]
  },
  {
   "cell_type": "code",
   "execution_count": 35,
   "id": "8d785fc1",
   "metadata": {
    "execution": {
     "iopub.execute_input": "2025-03-16T05:32:03.943002Z",
     "iopub.status.busy": "2025-03-16T05:32:03.942194Z",
     "iopub.status.idle": "2025-03-16T05:32:03.949655Z",
     "shell.execute_reply": "2025-03-16T05:32:03.948435Z"
    },
    "papermill": {
     "duration": 0.033335,
     "end_time": "2025-03-16T05:32:03.951889",
     "exception": false,
     "start_time": "2025-03-16T05:32:03.918554",
     "status": "completed"
    },
    "tags": []
   },
   "outputs": [
    {
     "data": {
      "text/plain": [
       "False"
      ]
     },
     "execution_count": 35,
     "metadata": {},
     "output_type": "execute_result"
    }
   ],
   "source": [
    "# Unknown divisions, since the specified not to store divisions\n",
    "ddf2.known_divisions"
   ]
  },
  {
   "cell_type": "code",
   "execution_count": 36,
   "id": "99aa4024",
   "metadata": {
    "execution": {
     "iopub.execute_input": "2025-03-16T05:32:03.997105Z",
     "iopub.status.busy": "2025-03-16T05:32:03.996344Z",
     "iopub.status.idle": "2025-03-16T05:32:04.112745Z",
     "shell.execute_reply": "2025-03-16T05:32:04.111547Z"
    },
    "papermill": {
     "duration": 0.141382,
     "end_time": "2025-03-16T05:32:04.115167",
     "exception": false,
     "start_time": "2025-03-16T05:32:03.973785",
     "status": "completed"
    },
    "tags": []
   },
   "outputs": [
    {
     "data": {
      "text/plain": [
       "Index([1, 1, 1, 1, 1], dtype='int64', name='Card')"
      ]
     },
     "execution_count": 36,
     "metadata": {},
     "output_type": "execute_result"
    }
   ],
   "source": [
    "# Check index type, and name 'Card'\n",
    "ddf2.index.head()"
   ]
  },
  {
   "cell_type": "code",
   "execution_count": 37,
   "id": "ef0d1aa4",
   "metadata": {
    "execution": {
     "iopub.execute_input": "2025-03-16T05:32:04.172750Z",
     "iopub.status.busy": "2025-03-16T05:32:04.172314Z",
     "iopub.status.idle": "2025-03-16T05:32:04.179119Z",
     "shell.execute_reply": "2025-03-16T05:32:04.177884Z"
    },
    "papermill": {
     "duration": 0.033034,
     "end_time": "2025-03-16T05:32:04.181707",
     "exception": false,
     "start_time": "2025-03-16T05:32:04.148673",
     "status": "completed"
    },
    "tags": []
   },
   "outputs": [
    {
     "data": {
      "text/plain": [
       "Index(['User', 'Month', 'Day', 'Time', 'Amount', 'Use Chip', 'Merchant Name',\n",
       "       'Merchant City', 'Merchant State', 'Zip', 'MCC', 'Errors?', 'Is Fraud?',\n",
       "       'Year'],\n",
       "      dtype='object')"
      ]
     },
     "execution_count": 37,
     "metadata": {},
     "output_type": "execute_result"
    }
   ],
   "source": [
    "# The rest of data frame columns will excluding the index\n",
    "ddf2.columns"
   ]
  },
  {
   "cell_type": "markdown",
   "id": "e5b8895f",
   "metadata": {
    "papermill": {
     "duration": 0.023004,
     "end_time": "2025-03-16T05:32:04.233784",
     "exception": false,
     "start_time": "2025-03-16T05:32:04.210780",
     "status": "completed"
    },
    "tags": []
   },
   "source": [
    "With hive partitionning, there are overhead on folder scanning"
   ]
  },
  {
   "cell_type": "code",
   "execution_count": 38,
   "id": "c65762a6",
   "metadata": {
    "execution": {
     "iopub.execute_input": "2025-03-16T05:32:04.284316Z",
     "iopub.status.busy": "2025-03-16T05:32:04.283860Z",
     "iopub.status.idle": "2025-03-16T05:32:18.757634Z",
     "shell.execute_reply": "2025-03-16T05:32:18.755449Z"
    },
    "papermill": {
     "duration": 14.503432,
     "end_time": "2025-03-16T05:32:18.761200",
     "exception": false,
     "start_time": "2025-03-16T05:32:04.257768",
     "status": "completed"
    },
    "tags": []
   },
   "outputs": [
    {
     "name": "stdout",
     "output_type": "stream",
     "text": [
      "1.8 s ± 26.7 ms per loop (mean ± std. dev. of 7 runs, 1 loop each)\n"
     ]
    }
   ],
   "source": [
    "%%timeit\n",
    "ddf2.groupby(\"User\")[\"MCC\"].nunique().compute()"
   ]
  },
  {
   "cell_type": "code",
   "execution_count": 39,
   "id": "45cf4fba",
   "metadata": {
    "execution": {
     "iopub.execute_input": "2025-03-16T05:32:18.808373Z",
     "iopub.status.busy": "2025-03-16T05:32:18.807918Z",
     "iopub.status.idle": "2025-03-16T05:32:30.563067Z",
     "shell.execute_reply": "2025-03-16T05:32:30.561647Z"
    },
    "papermill": {
     "duration": 11.781928,
     "end_time": "2025-03-16T05:32:30.565708",
     "exception": false,
     "start_time": "2025-03-16T05:32:18.783780",
     "status": "completed"
    },
    "tags": []
   },
   "outputs": [
    {
     "name": "stdout",
     "output_type": "stream",
     "text": [
      "1.46 s ± 52.1 ms per loop (mean ± std. dev. of 7 runs, 1 loop each)\n"
     ]
    }
   ],
   "source": [
    "%%timeit\n",
    "ddf2.reset_index().groupby(\"User\")[\"Card\"].nunique().compute()"
   ]
  },
  {
   "cell_type": "code",
   "execution_count": 40,
   "id": "9dbe6451",
   "metadata": {
    "execution": {
     "iopub.execute_input": "2025-03-16T05:32:30.609388Z",
     "iopub.status.busy": "2025-03-16T05:32:30.608983Z",
     "iopub.status.idle": "2025-03-16T05:32:42.183478Z",
     "shell.execute_reply": "2025-03-16T05:32:42.181870Z"
    },
    "papermill": {
     "duration": 11.59825,
     "end_time": "2025-03-16T05:32:42.185716",
     "exception": false,
     "start_time": "2025-03-16T05:32:30.587466",
     "status": "completed"
    },
    "tags": []
   },
   "outputs": [
    {
     "name": "stderr",
     "output_type": "stream",
     "text": [
      "/usr/local/lib/python3.10/dist-packages/dask_expr/_groupby.py:1554: FutureWarning: The default of observed=False is deprecated and will be changed to True in a future version of pandas. Pass observed=False to retain current behavior or observed=True to adopt the future default and silence this warning.\n",
      "  self._meta = self.obj._meta.groupby(\n",
      "/usr/local/lib/python3.10/dist-packages/dask_expr/_groupby.py:1554: FutureWarning: The default of observed=False is deprecated and will be changed to True in a future version of pandas. Pass observed=False to retain current behavior or observed=True to adopt the future default and silence this warning.\n",
      "  self._meta = self.obj._meta.groupby(\n",
      "/usr/local/lib/python3.10/dist-packages/dask_expr/_groupby.py:1554: FutureWarning: The default of observed=False is deprecated and will be changed to True in a future version of pandas. Pass observed=False to retain current behavior or observed=True to adopt the future default and silence this warning.\n",
      "  self._meta = self.obj._meta.groupby(\n",
      "/usr/local/lib/python3.10/dist-packages/dask_expr/_groupby.py:1554: FutureWarning: The default of observed=False is deprecated and will be changed to True in a future version of pandas. Pass observed=False to retain current behavior or observed=True to adopt the future default and silence this warning.\n",
      "  self._meta = self.obj._meta.groupby(\n",
      "/usr/local/lib/python3.10/dist-packages/dask_expr/_groupby.py:1554: FutureWarning: The default of observed=False is deprecated and will be changed to True in a future version of pandas. Pass observed=False to retain current behavior or observed=True to adopt the future default and silence this warning.\n",
      "  self._meta = self.obj._meta.groupby(\n",
      "/usr/local/lib/python3.10/dist-packages/dask_expr/_groupby.py:1554: FutureWarning: The default of observed=False is deprecated and will be changed to True in a future version of pandas. Pass observed=False to retain current behavior or observed=True to adopt the future default and silence this warning.\n",
      "  self._meta = self.obj._meta.groupby(\n",
      "/usr/local/lib/python3.10/dist-packages/dask_expr/_groupby.py:1554: FutureWarning: The default of observed=False is deprecated and will be changed to True in a future version of pandas. Pass observed=False to retain current behavior or observed=True to adopt the future default and silence this warning.\n",
      "  self._meta = self.obj._meta.groupby(\n",
      "/usr/local/lib/python3.10/dist-packages/dask_expr/_groupby.py:1554: FutureWarning: The default of observed=False is deprecated and will be changed to True in a future version of pandas. Pass observed=False to retain current behavior or observed=True to adopt the future default and silence this warning.\n",
      "  self._meta = self.obj._meta.groupby(\n"
     ]
    },
    {
     "name": "stdout",
     "output_type": "stream",
     "text": [
      "1.46 s ± 155 ms per loop (mean ± std. dev. of 7 runs, 1 loop each)\n"
     ]
    }
   ],
   "source": [
    "%%timeit\n",
    "ddf2.groupby(\"Year\")[\"Zip\"].sum().compute()"
   ]
  },
  {
   "cell_type": "code",
   "execution_count": 41,
   "id": "45fe87fd",
   "metadata": {
    "execution": {
     "iopub.execute_input": "2025-03-16T05:32:42.237150Z",
     "iopub.status.busy": "2025-03-16T05:32:42.236708Z",
     "iopub.status.idle": "2025-03-16T05:33:23.361444Z",
     "shell.execute_reply": "2025-03-16T05:33:23.358807Z"
    },
    "papermill": {
     "duration": 41.170593,
     "end_time": "2025-03-16T05:33:23.383526",
     "exception": false,
     "start_time": "2025-03-16T05:32:42.212933",
     "status": "completed"
    },
    "tags": []
   },
   "outputs": [
    {
     "name": "stdout",
     "output_type": "stream",
     "text": [
      "5.12 s ± 310 ms per loop (mean ± std. dev. of 7 runs, 1 loop each)\n"
     ]
    }
   ],
   "source": [
    "%%timeit\n",
    "ddf2.query(\"Year == 2010\")[\"User\"].count().compute()"
   ]
  },
  {
   "cell_type": "code",
   "execution_count": 42,
   "id": "3cc4edaa",
   "metadata": {
    "execution": {
     "iopub.execute_input": "2025-03-16T05:33:23.429422Z",
     "iopub.status.busy": "2025-03-16T05:33:23.429022Z",
     "iopub.status.idle": "2025-03-16T05:33:23.493816Z",
     "shell.execute_reply": "2025-03-16T05:33:23.492656Z"
    },
    "papermill": {
     "duration": 0.090657,
     "end_time": "2025-03-16T05:33:23.495840",
     "exception": false,
     "start_time": "2025-03-16T05:33:23.405183",
     "status": "completed"
    },
    "tags": []
   },
   "outputs": [
    {
     "data": {
      "image/svg+xml": [
       "<?xml version=\"1.0\" encoding=\"UTF-8\" standalone=\"no\"?>\n",
       "<!DOCTYPE svg PUBLIC \"-//W3C//DTD SVG 1.1//EN\"\n",
       " \"http://www.w3.org/Graphics/SVG/1.1/DTD/svg11.dtd\">\n",
       "<!-- Generated by graphviz version 2.43.0 (0)\n",
       " -->\n",
       "<!-- Title: %3 Pages: 1 -->\n",
       "<svg width=\"283pt\" height=\"260pt\"\n",
       " viewBox=\"0.00 0.00 283.00 260.00\" xmlns=\"http://www.w3.org/2000/svg\" xmlns:xlink=\"http://www.w3.org/1999/xlink\">\n",
       "<g id=\"graph0\" class=\"graph\" transform=\"scale(1 1) rotate(0) translate(4 256)\">\n",
       "<title>%3</title>\n",
       "<polygon fill=\"white\" stroke=\"transparent\" points=\"-4,4 -4,-256 279,-256 279,4 -4,4\"/>\n",
       "<!-- &#45;3357817358666293559 -->\n",
       "<g id=\"node1\" class=\"node\">\n",
       "<title>&#45;3357817358666293559</title>\n",
       "<polygon fill=\"none\" stroke=\"black\" points=\"224,-252 51,-252 51,-216 224,-216 224,-252\"/>\n",
       "<text text-anchor=\"middle\" x=\"137.5\" y=\"-229\" font-family=\"Helvetica,sans-Serif\" font-size=\"20.00\">Count(Projection)</text>\n",
       "</g>\n",
       "<!-- 8661169985176571778 -->\n",
       "<g id=\"node2\" class=\"node\">\n",
       "<title>8661169985176571778</title>\n",
       "<polygon fill=\"none\" stroke=\"black\" points=\"250,-180 25,-180 25,-144 250,-144 250,-180\"/>\n",
       "<text text-anchor=\"middle\" x=\"137.5\" y=\"-157\" font-family=\"Helvetica,sans-Serif\" font-size=\"20.00\">Projection(Query, User)</text>\n",
       "</g>\n",
       "<!-- 8661169985176571778&#45;&gt;&#45;3357817358666293559 -->\n",
       "<g id=\"edge1\" class=\"edge\">\n",
       "<title>8661169985176571778&#45;&gt;&#45;3357817358666293559</title>\n",
       "<path fill=\"none\" stroke=\"black\" d=\"M137.5,-180.3C137.5,-188.02 137.5,-197.29 137.5,-205.89\"/>\n",
       "<polygon fill=\"black\" stroke=\"black\" points=\"134,-205.9 137.5,-215.9 141,-205.9 134,-205.9\"/>\n",
       "</g>\n",
       "<!-- 617260438833079473 -->\n",
       "<g id=\"node3\" class=\"node\">\n",
       "<title>617260438833079473</title>\n",
       "<polygon fill=\"none\" stroke=\"black\" points=\"275,-108 0,-108 0,-72 275,-72 275,-108\"/>\n",
       "<text text-anchor=\"middle\" x=\"137.5\" y=\"-85\" font-family=\"Helvetica,sans-Serif\" font-size=\"20.00\">Query(ReadParquetFSSpec)</text>\n",
       "</g>\n",
       "<!-- 617260438833079473&#45;&gt;8661169985176571778 -->\n",
       "<g id=\"edge2\" class=\"edge\">\n",
       "<title>617260438833079473&#45;&gt;8661169985176571778</title>\n",
       "<path fill=\"none\" stroke=\"black\" d=\"M137.5,-108.3C137.5,-116.02 137.5,-125.29 137.5,-133.89\"/>\n",
       "<polygon fill=\"black\" stroke=\"black\" points=\"134,-133.9 137.5,-143.9 141,-133.9 134,-133.9\"/>\n",
       "</g>\n",
       "<!-- 3385609453381025512 -->\n",
       "<g id=\"node4\" class=\"node\">\n",
       "<title>3385609453381025512</title>\n",
       "<polygon fill=\"none\" stroke=\"black\" points=\"240.5,-36 34.5,-36 34.5,0 240.5,0 240.5,-36\"/>\n",
       "<text text-anchor=\"middle\" x=\"137.5\" y=\"-13\" font-family=\"Helvetica,sans-Serif\" font-size=\"20.00\">ReadParquetFSSpec</text>\n",
       "</g>\n",
       "<!-- 3385609453381025512&#45;&gt;617260438833079473 -->\n",
       "<g id=\"edge3\" class=\"edge\">\n",
       "<title>3385609453381025512&#45;&gt;617260438833079473</title>\n",
       "<path fill=\"none\" stroke=\"black\" d=\"M137.5,-36.3C137.5,-44.02 137.5,-53.29 137.5,-61.89\"/>\n",
       "<polygon fill=\"black\" stroke=\"black\" points=\"134,-61.9 137.5,-71.9 141,-61.9 134,-61.9\"/>\n",
       "</g>\n",
       "</g>\n",
       "</svg>\n"
      ],
      "text/plain": [
       "<graphviz.graphs.Digraph at 0x7a263e2adc30>"
      ]
     },
     "execution_count": 42,
     "metadata": {},
     "output_type": "execute_result"
    }
   ],
   "source": [
    "ddf2.query(\"Year == 2010\")[\"User\"].count().visualize()"
   ]
  },
  {
   "cell_type": "markdown",
   "id": "2a598138",
   "metadata": {
    "papermill": {
     "duration": 0.024444,
     "end_time": "2025-03-16T05:33:23.545707",
     "exception": false,
     "start_time": "2025-03-16T05:33:23.521263",
     "status": "completed"
    },
    "tags": []
   },
   "source": [
    "To fully utilized hive partition must definded filtering at `read_parquet` command. No predicate pushdown at query optimization like Spark."
   ]
  },
  {
   "cell_type": "code",
   "execution_count": 43,
   "id": "c00aa0f8",
   "metadata": {
    "execution": {
     "iopub.execute_input": "2025-03-16T05:33:23.596407Z",
     "iopub.status.busy": "2025-03-16T05:33:23.595903Z",
     "iopub.status.idle": "2025-03-16T05:33:23.675849Z",
     "shell.execute_reply": "2025-03-16T05:33:23.674661Z"
    },
    "papermill": {
     "duration": 0.107425,
     "end_time": "2025-03-16T05:33:23.678402",
     "exception": false,
     "start_time": "2025-03-16T05:33:23.570977",
     "status": "completed"
    },
    "tags": []
   },
   "outputs": [
    {
     "data": {
      "image/svg+xml": [
       "<?xml version=\"1.0\" encoding=\"UTF-8\" standalone=\"no\"?>\n",
       "<!DOCTYPE svg PUBLIC \"-//W3C//DTD SVG 1.1//EN\"\n",
       " \"http://www.w3.org/Graphics/SVG/1.1/DTD/svg11.dtd\">\n",
       "<!-- Generated by graphviz version 2.43.0 (0)\n",
       " -->\n",
       "<!-- Title: %3 Pages: 1 -->\n",
       "<svg width=\"283pt\" height=\"260pt\"\n",
       " viewBox=\"0.00 0.00 283.00 260.00\" xmlns=\"http://www.w3.org/2000/svg\" xmlns:xlink=\"http://www.w3.org/1999/xlink\">\n",
       "<g id=\"graph0\" class=\"graph\" transform=\"scale(1 1) rotate(0) translate(4 256)\">\n",
       "<title>%3</title>\n",
       "<polygon fill=\"white\" stroke=\"transparent\" points=\"-4,4 -4,-256 279,-256 279,4 -4,4\"/>\n",
       "<!-- 5378294619767102919 -->\n",
       "<g id=\"node1\" class=\"node\">\n",
       "<title>5378294619767102919</title>\n",
       "<polygon fill=\"none\" stroke=\"black\" points=\"224,-252 51,-252 51,-216 224,-216 224,-252\"/>\n",
       "<text text-anchor=\"middle\" x=\"137.5\" y=\"-229\" font-family=\"Helvetica,sans-Serif\" font-size=\"20.00\">Count(Projection)</text>\n",
       "</g>\n",
       "<!-- &#45;5539963288215576876 -->\n",
       "<g id=\"node2\" class=\"node\">\n",
       "<title>&#45;5539963288215576876</title>\n",
       "<polygon fill=\"none\" stroke=\"black\" points=\"250,-180 25,-180 25,-144 250,-144 250,-180\"/>\n",
       "<text text-anchor=\"middle\" x=\"137.5\" y=\"-157\" font-family=\"Helvetica,sans-Serif\" font-size=\"20.00\">Projection(Query, User)</text>\n",
       "</g>\n",
       "<!-- &#45;5539963288215576876&#45;&gt;5378294619767102919 -->\n",
       "<g id=\"edge1\" class=\"edge\">\n",
       "<title>&#45;5539963288215576876&#45;&gt;5378294619767102919</title>\n",
       "<path fill=\"none\" stroke=\"black\" d=\"M137.5,-180.3C137.5,-188.02 137.5,-197.29 137.5,-205.89\"/>\n",
       "<polygon fill=\"black\" stroke=\"black\" points=\"134,-205.9 137.5,-215.9 141,-205.9 134,-205.9\"/>\n",
       "</g>\n",
       "<!-- &#45;1061167959111752048 -->\n",
       "<g id=\"node3\" class=\"node\">\n",
       "<title>&#45;1061167959111752048</title>\n",
       "<polygon fill=\"none\" stroke=\"black\" points=\"275,-108 0,-108 0,-72 275,-72 275,-108\"/>\n",
       "<text text-anchor=\"middle\" x=\"137.5\" y=\"-85\" font-family=\"Helvetica,sans-Serif\" font-size=\"20.00\">Query(ReadParquetFSSpec)</text>\n",
       "</g>\n",
       "<!-- &#45;1061167959111752048&#45;&gt;&#45;5539963288215576876 -->\n",
       "<g id=\"edge2\" class=\"edge\">\n",
       "<title>&#45;1061167959111752048&#45;&gt;&#45;5539963288215576876</title>\n",
       "<path fill=\"none\" stroke=\"black\" d=\"M137.5,-108.3C137.5,-116.02 137.5,-125.29 137.5,-133.89\"/>\n",
       "<polygon fill=\"black\" stroke=\"black\" points=\"134,-133.9 137.5,-143.9 141,-133.9 134,-133.9\"/>\n",
       "</g>\n",
       "<!-- &#45;8520907800931056451 -->\n",
       "<g id=\"node4\" class=\"node\">\n",
       "<title>&#45;8520907800931056451</title>\n",
       "<polygon fill=\"none\" stroke=\"black\" points=\"240.5,-36 34.5,-36 34.5,0 240.5,0 240.5,-36\"/>\n",
       "<text text-anchor=\"middle\" x=\"137.5\" y=\"-13\" font-family=\"Helvetica,sans-Serif\" font-size=\"20.00\">ReadParquetFSSpec</text>\n",
       "</g>\n",
       "<!-- &#45;8520907800931056451&#45;&gt;&#45;1061167959111752048 -->\n",
       "<g id=\"edge3\" class=\"edge\">\n",
       "<title>&#45;8520907800931056451&#45;&gt;&#45;1061167959111752048</title>\n",
       "<path fill=\"none\" stroke=\"black\" d=\"M137.5,-36.3C137.5,-44.02 137.5,-53.29 137.5,-61.89\"/>\n",
       "<polygon fill=\"black\" stroke=\"black\" points=\"134,-61.9 137.5,-71.9 141,-61.9 134,-61.9\"/>\n",
       "</g>\n",
       "</g>\n",
       "</svg>\n"
      ],
      "text/plain": [
       "<graphviz.graphs.Digraph at 0x7a263f5ef9d0>"
      ]
     },
     "execution_count": 43,
     "metadata": {},
     "output_type": "execute_result"
    }
   ],
   "source": [
    "parquet_path = Path(\"data_combined_with_hive_sort_idx_no_div.parquet\")\n",
    "year_2010 = dd.read_parquet(parquet_path, filters=[(\"Year\", \"==\", 2010)])\n",
    "year_2010.query(\"Year == 2010\")[\"User\"].count().visualize()"
   ]
  },
  {
   "cell_type": "code",
   "execution_count": 44,
   "id": "65572f7b",
   "metadata": {
    "execution": {
     "iopub.execute_input": "2025-03-16T05:33:23.726420Z",
     "iopub.status.busy": "2025-03-16T05:33:23.725418Z",
     "iopub.status.idle": "2025-03-16T05:33:31.801431Z",
     "shell.execute_reply": "2025-03-16T05:33:31.800186Z"
    },
    "papermill": {
     "duration": 8.10231,
     "end_time": "2025-03-16T05:33:31.803707",
     "exception": false,
     "start_time": "2025-03-16T05:33:23.701397",
     "status": "completed"
    },
    "tags": []
   },
   "outputs": [
    {
     "name": "stdout",
     "output_type": "stream",
     "text": [
      "1 s ± 24 ms per loop (mean ± std. dev. of 7 runs, 1 loop each)\n"
     ]
    }
   ],
   "source": [
    "%%timeit\n",
    "year_2010.query(\"Year == 2010\")[\"User\"].count().compute()"
   ]
  }
 ],
 "metadata": {
  "kaggle": {
   "accelerator": "none",
   "dataSources": [
    {
     "databundleVersionId": 2750544,
     "datasetId": 1478095,
     "sourceId": 2705785,
     "sourceType": "datasetVersion"
    },
    {
     "databundleVersionId": 11430367,
     "datasetId": 6507382,
     "sourceId": 11045603,
     "sourceType": "datasetVersion"
    }
   ],
   "dockerImageVersionId": 30839,
   "isGpuEnabled": false,
   "isInternetEnabled": true,
   "language": "python",
   "sourceType": "notebook"
  },
  "kernelspec": {
   "display_name": "Python 3",
   "language": "python",
   "name": "python3"
  },
  "language_info": {
   "codemirror_mode": {
    "name": "ipython",
    "version": 3
   },
   "file_extension": ".py",
   "mimetype": "text/x-python",
   "name": "python",
   "nbconvert_exporter": "python",
   "pygments_lexer": "ipython3",
   "version": "3.10.12"
  },
  "papermill": {
   "default_parameters": {},
   "duration": 781.120771,
   "end_time": "2025-03-16T05:33:34.065339",
   "environment_variables": {},
   "exception": null,
   "input_path": "__notebook__.ipynb",
   "output_path": "__notebook__.ipynb",
   "parameters": {},
   "start_time": "2025-03-16T05:20:32.944568",
   "version": "2.6.0"
  }
 },
 "nbformat": 4,
 "nbformat_minor": 5
}
