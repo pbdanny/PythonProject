{
 "cells": [
  {
   "cell_type": "markdown",
   "id": "cbdbb7f7-430d-4653-91e7-013d7363e6ea",
   "metadata": {},
   "source": [
    "Reference - Performance  \n",
    "- https://stackoverflow.com/questions/72440603/dask-dataframe-parallel-task/74236686#74236686\n",
    "- https://targomo.medium.com/how-we-learned-to-love-dask-and-achieved-a-40x-speedup-aa14e72d99c0#fa71"
   ]
  },
  {
   "cell_type": "code",
   "execution_count": 1,
   "id": "9c471b82-9797-4349-b0a7-d30dad8052f9",
   "metadata": {},
   "outputs": [],
   "source": [
    "import dask\n",
    "from dask import dataframe as dd"
   ]
  },
  {
   "cell_type": "code",
   "execution_count": 2,
   "id": "755645c1-d4bd-4777-9ad2-568791fd73d3",
   "metadata": {},
   "outputs": [],
   "source": [
    "from dask.distributed import LocalCluster"
   ]
  },
  {
   "cell_type": "code",
   "execution_count": 3,
   "id": "ee45d2ad-e99b-453f-8ebe-be5837f61d89",
   "metadata": {},
   "outputs": [
    {
     "name": "stderr",
     "output_type": "stream",
     "text": [
      "2025-01-03 15:31:05,254 - distributed.shuffle._scheduler_plugin - WARNING - Shuffle 9ac505d494808f140da21862b15cc975 initialized by task ('shuffle-transfer-9ac505d494808f140da21862b15cc975', 2964) executed on worker tcp://127.0.0.1:60872\n",
      "2025-01-03 15:33:40,334 - distributed.shuffle._scheduler_plugin - WARNING - Shuffle 4fc156e3e63eb923ee9d9ac529a5ba7c initialized by task ('shuffle-transfer-4fc156e3e63eb923ee9d9ac529a5ba7c', 999) executed on worker tcp://127.0.0.1:60875\n",
      "2025-01-03 15:37:04,525 - distributed.shuffle._scheduler_plugin - WARNING - Shuffle 9ac505d494808f140da21862b15cc975 deactivated due to stimulus 'task-finished-1735893424.4725535'\n",
      "2025-01-03 15:45:57,608 - distributed.shuffle._scheduler_plugin - WARNING - Shuffle 4fc156e3e63eb923ee9d9ac529a5ba7c deactivated due to stimulus 'task-finished-1735893957.5906599'\n",
      "2025-01-03 15:49:14,106 - distributed.shuffle._scheduler_plugin - WARNING - Shuffle 0f9318e5943ad7baf274a14397eac00c initialized by task ('shuffle-transfer-0f9318e5943ad7baf274a14397eac00c', 27) executed on worker tcp://127.0.0.1:60875\n",
      "2025-01-03 15:49:32,606 - distributed.shuffle._scheduler_plugin - WARNING - Shuffle 0f9318e5943ad7baf274a14397eac00c deactivated due to stimulus 'task-finished-1735894172.6064796'\n",
      "2025-01-03 15:49:33,471 - distributed.shuffle._scheduler_plugin - WARNING - Shuffle 58193f56ac46af49aab5e12677a96b1f initialized by task ('shuffle-transfer-58193f56ac46af49aab5e12677a96b1f', 100) executed on worker tcp://127.0.0.1:60874\n",
      "2025-01-03 15:49:54,484 - distributed.shuffle._scheduler_plugin - WARNING - Shuffle 58193f56ac46af49aab5e12677a96b1f deactivated due to stimulus 'task-finished-1735894194.4836774'\n",
      "2025-01-03 15:52:58,419 - distributed.shuffle._scheduler_plugin - WARNING - Shuffle 6d8e9b9035625f0486b3b33f7dfb7c09 initialized by task ('shuffle-transfer-6d8e9b9035625f0486b3b33f7dfb7c09', 57) executed on worker tcp://127.0.0.1:60874\n",
      "2025-01-03 15:53:17,512 - distributed.shuffle._scheduler_plugin - WARNING - Shuffle 6d8e9b9035625f0486b3b33f7dfb7c09 deactivated due to stimulus 'task-finished-1735894397.5127363'\n",
      "2025-01-03 16:00:35,766 - distributed.nanny - WARNING - Restarting worker\n",
      "2025-01-03 16:00:35,767 - distributed.nanny - WARNING - Restarting worker\n",
      "2025-01-03 16:00:35,773 - distributed.nanny - WARNING - Restarting worker\n",
      "2025-01-03 16:00:35,775 - distributed.nanny - WARNING - Restarting worker\n"
     ]
    }
   ],
   "source": [
    "# with dask.config.set({\"dataframe.shuffle.method\": \"tasks\"}):\n",
    "dask.config.set({\n",
    "    \"distributed.workers.memory.target\": 0.75,\n",
    "    \"distributed.workers.memory.spill\": 0.85,\n",
    "    \"distributed.workers.memory.terminate\": 0.98,\n",
    "    \"dataframe.shuffle.method\": \"p2p\"})\n",
    "client = LocalCluster(n_workers=4).get_client() # reduce # of worker for larger worker memory"
   ]
  },
  {
   "cell_type": "code",
   "execution_count": 4,
   "id": "c478a47b-feb0-4240-8a94-a4fd89f6f175",
   "metadata": {},
   "outputs": [
    {
     "data": {
      "text/html": [
       "<div>\n",
       "    <div style=\"width: 24px; height: 24px; background-color: #e1e1e1; border: 3px solid #9D9D9D; border-radius: 5px; position: absolute;\"> </div>\n",
       "    <div style=\"margin-left: 48px;\">\n",
       "        <h3 style=\"margin-bottom: 0px;\">Client</h3>\n",
       "        <p style=\"color: #9D9D9D; margin-bottom: 0px;\">Client-1f0a6101-c9ab-11ef-8384-1091d1044c72</p>\n",
       "        <table style=\"width: 100%; text-align: left;\">\n",
       "\n",
       "        <tr>\n",
       "        \n",
       "            <td style=\"text-align: left;\"><strong>Connection method:</strong> Cluster object</td>\n",
       "            <td style=\"text-align: left;\"><strong>Cluster type:</strong> distributed.LocalCluster</td>\n",
       "        \n",
       "        </tr>\n",
       "\n",
       "        \n",
       "            <tr>\n",
       "                <td style=\"text-align: left;\">\n",
       "                    <strong>Dashboard: </strong> <a href=\"http://127.0.0.1:8787/status\" target=\"_blank\">http://127.0.0.1:8787/status</a>\n",
       "                </td>\n",
       "                <td style=\"text-align: left;\"></td>\n",
       "            </tr>\n",
       "        \n",
       "\n",
       "        </table>\n",
       "\n",
       "        \n",
       "\n",
       "        \n",
       "            <details>\n",
       "            <summary style=\"margin-bottom: 20px;\"><h3 style=\"display: inline;\">Cluster Info</h3></summary>\n",
       "            <div class=\"jp-RenderedHTMLCommon jp-RenderedHTML jp-mod-trusted jp-OutputArea-output\">\n",
       "    <div style=\"width: 24px; height: 24px; background-color: #e1e1e1; border: 3px solid #9D9D9D; border-radius: 5px; position: absolute;\">\n",
       "    </div>\n",
       "    <div style=\"margin-left: 48px;\">\n",
       "        <h3 style=\"margin-bottom: 0px; margin-top: 0px;\">LocalCluster</h3>\n",
       "        <p style=\"color: #9D9D9D; margin-bottom: 0px;\">a0f2ca5a</p>\n",
       "        <table style=\"width: 100%; text-align: left;\">\n",
       "            <tr>\n",
       "                <td style=\"text-align: left;\">\n",
       "                    <strong>Dashboard:</strong> <a href=\"http://127.0.0.1:8787/status\" target=\"_blank\">http://127.0.0.1:8787/status</a>\n",
       "                </td>\n",
       "                <td style=\"text-align: left;\">\n",
       "                    <strong>Workers:</strong> 4\n",
       "                </td>\n",
       "            </tr>\n",
       "            <tr>\n",
       "                <td style=\"text-align: left;\">\n",
       "                    <strong>Total threads:</strong> 12\n",
       "                </td>\n",
       "                <td style=\"text-align: left;\">\n",
       "                    <strong>Total memory:</strong> 29.66 GiB\n",
       "                </td>\n",
       "            </tr>\n",
       "            \n",
       "            <tr>\n",
       "    <td style=\"text-align: left;\"><strong>Status:</strong> running</td>\n",
       "    <td style=\"text-align: left;\"><strong>Using processes:</strong> True</td>\n",
       "</tr>\n",
       "\n",
       "            \n",
       "        </table>\n",
       "\n",
       "        <details>\n",
       "            <summary style=\"margin-bottom: 20px;\">\n",
       "                <h3 style=\"display: inline;\">Scheduler Info</h3>\n",
       "            </summary>\n",
       "\n",
       "            <div style=\"\">\n",
       "    <div>\n",
       "        <div style=\"width: 24px; height: 24px; background-color: #FFF7E5; border: 3px solid #FF6132; border-radius: 5px; position: absolute;\"> </div>\n",
       "        <div style=\"margin-left: 48px;\">\n",
       "            <h3 style=\"margin-bottom: 0px;\">Scheduler</h3>\n",
       "            <p style=\"color: #9D9D9D; margin-bottom: 0px;\">Scheduler-66801951-4d8b-40c7-9cf8-71d1c1aa886c</p>\n",
       "            <table style=\"width: 100%; text-align: left;\">\n",
       "                <tr>\n",
       "                    <td style=\"text-align: left;\">\n",
       "                        <strong>Comm:</strong> tcp://127.0.0.1:60853\n",
       "                    </td>\n",
       "                    <td style=\"text-align: left;\">\n",
       "                        <strong>Workers:</strong> 4\n",
       "                    </td>\n",
       "                </tr>\n",
       "                <tr>\n",
       "                    <td style=\"text-align: left;\">\n",
       "                        <strong>Dashboard:</strong> <a href=\"http://127.0.0.1:8787/status\" target=\"_blank\">http://127.0.0.1:8787/status</a>\n",
       "                    </td>\n",
       "                    <td style=\"text-align: left;\">\n",
       "                        <strong>Total threads:</strong> 12\n",
       "                    </td>\n",
       "                </tr>\n",
       "                <tr>\n",
       "                    <td style=\"text-align: left;\">\n",
       "                        <strong>Started:</strong> Just now\n",
       "                    </td>\n",
       "                    <td style=\"text-align: left;\">\n",
       "                        <strong>Total memory:</strong> 29.66 GiB\n",
       "                    </td>\n",
       "                </tr>\n",
       "            </table>\n",
       "        </div>\n",
       "    </div>\n",
       "\n",
       "    <details style=\"margin-left: 48px;\">\n",
       "        <summary style=\"margin-bottom: 20px;\">\n",
       "            <h3 style=\"display: inline;\">Workers</h3>\n",
       "        </summary>\n",
       "\n",
       "        \n",
       "        <div style=\"margin-bottom: 20px;\">\n",
       "            <div style=\"width: 24px; height: 24px; background-color: #DBF5FF; border: 3px solid #4CC9FF; border-radius: 5px; position: absolute;\"> </div>\n",
       "            <div style=\"margin-left: 48px;\">\n",
       "            <details>\n",
       "                <summary>\n",
       "                    <h4 style=\"margin-bottom: 0px; display: inline;\">Worker: 0</h4>\n",
       "                </summary>\n",
       "                <table style=\"width: 100%; text-align: left;\">\n",
       "                    <tr>\n",
       "                        <td style=\"text-align: left;\">\n",
       "                            <strong>Comm: </strong> tcp://127.0.0.1:60872\n",
       "                        </td>\n",
       "                        <td style=\"text-align: left;\">\n",
       "                            <strong>Total threads: </strong> 3\n",
       "                        </td>\n",
       "                    </tr>\n",
       "                    <tr>\n",
       "                        <td style=\"text-align: left;\">\n",
       "                            <strong>Dashboard: </strong> <a href=\"http://127.0.0.1:60876/status\" target=\"_blank\">http://127.0.0.1:60876/status</a>\n",
       "                        </td>\n",
       "                        <td style=\"text-align: left;\">\n",
       "                            <strong>Memory: </strong> 7.42 GiB\n",
       "                        </td>\n",
       "                    </tr>\n",
       "                    <tr>\n",
       "                        <td style=\"text-align: left;\">\n",
       "                            <strong>Nanny: </strong> tcp://127.0.0.1:60856\n",
       "                        </td>\n",
       "                        <td style=\"text-align: left;\"></td>\n",
       "                    </tr>\n",
       "                    <tr>\n",
       "                        <td colspan=\"2\" style=\"text-align: left;\">\n",
       "                            <strong>Local directory: </strong> C:\\Users\\O_THAN~1.B\\AppData\\Local\\Temp\\dask-scratch-space\\worker-qd3qv3uy\n",
       "                        </td>\n",
       "                    </tr>\n",
       "\n",
       "                    \n",
       "\n",
       "                    \n",
       "\n",
       "                </table>\n",
       "            </details>\n",
       "            </div>\n",
       "        </div>\n",
       "        \n",
       "        <div style=\"margin-bottom: 20px;\">\n",
       "            <div style=\"width: 24px; height: 24px; background-color: #DBF5FF; border: 3px solid #4CC9FF; border-radius: 5px; position: absolute;\"> </div>\n",
       "            <div style=\"margin-left: 48px;\">\n",
       "            <details>\n",
       "                <summary>\n",
       "                    <h4 style=\"margin-bottom: 0px; display: inline;\">Worker: 1</h4>\n",
       "                </summary>\n",
       "                <table style=\"width: 100%; text-align: left;\">\n",
       "                    <tr>\n",
       "                        <td style=\"text-align: left;\">\n",
       "                            <strong>Comm: </strong> tcp://127.0.0.1:60874\n",
       "                        </td>\n",
       "                        <td style=\"text-align: left;\">\n",
       "                            <strong>Total threads: </strong> 3\n",
       "                        </td>\n",
       "                    </tr>\n",
       "                    <tr>\n",
       "                        <td style=\"text-align: left;\">\n",
       "                            <strong>Dashboard: </strong> <a href=\"http://127.0.0.1:60878/status\" target=\"_blank\">http://127.0.0.1:60878/status</a>\n",
       "                        </td>\n",
       "                        <td style=\"text-align: left;\">\n",
       "                            <strong>Memory: </strong> 7.42 GiB\n",
       "                        </td>\n",
       "                    </tr>\n",
       "                    <tr>\n",
       "                        <td style=\"text-align: left;\">\n",
       "                            <strong>Nanny: </strong> tcp://127.0.0.1:60858\n",
       "                        </td>\n",
       "                        <td style=\"text-align: left;\"></td>\n",
       "                    </tr>\n",
       "                    <tr>\n",
       "                        <td colspan=\"2\" style=\"text-align: left;\">\n",
       "                            <strong>Local directory: </strong> C:\\Users\\O_THAN~1.B\\AppData\\Local\\Temp\\dask-scratch-space\\worker-n_41ieu0\n",
       "                        </td>\n",
       "                    </tr>\n",
       "\n",
       "                    \n",
       "\n",
       "                    \n",
       "\n",
       "                </table>\n",
       "            </details>\n",
       "            </div>\n",
       "        </div>\n",
       "        \n",
       "        <div style=\"margin-bottom: 20px;\">\n",
       "            <div style=\"width: 24px; height: 24px; background-color: #DBF5FF; border: 3px solid #4CC9FF; border-radius: 5px; position: absolute;\"> </div>\n",
       "            <div style=\"margin-left: 48px;\">\n",
       "            <details>\n",
       "                <summary>\n",
       "                    <h4 style=\"margin-bottom: 0px; display: inline;\">Worker: 2</h4>\n",
       "                </summary>\n",
       "                <table style=\"width: 100%; text-align: left;\">\n",
       "                    <tr>\n",
       "                        <td style=\"text-align: left;\">\n",
       "                            <strong>Comm: </strong> tcp://127.0.0.1:60875\n",
       "                        </td>\n",
       "                        <td style=\"text-align: left;\">\n",
       "                            <strong>Total threads: </strong> 3\n",
       "                        </td>\n",
       "                    </tr>\n",
       "                    <tr>\n",
       "                        <td style=\"text-align: left;\">\n",
       "                            <strong>Dashboard: </strong> <a href=\"http://127.0.0.1:60882/status\" target=\"_blank\">http://127.0.0.1:60882/status</a>\n",
       "                        </td>\n",
       "                        <td style=\"text-align: left;\">\n",
       "                            <strong>Memory: </strong> 7.42 GiB\n",
       "                        </td>\n",
       "                    </tr>\n",
       "                    <tr>\n",
       "                        <td style=\"text-align: left;\">\n",
       "                            <strong>Nanny: </strong> tcp://127.0.0.1:60860\n",
       "                        </td>\n",
       "                        <td style=\"text-align: left;\"></td>\n",
       "                    </tr>\n",
       "                    <tr>\n",
       "                        <td colspan=\"2\" style=\"text-align: left;\">\n",
       "                            <strong>Local directory: </strong> C:\\Users\\O_THAN~1.B\\AppData\\Local\\Temp\\dask-scratch-space\\worker-x8bnf0jt\n",
       "                        </td>\n",
       "                    </tr>\n",
       "\n",
       "                    \n",
       "\n",
       "                    \n",
       "\n",
       "                </table>\n",
       "            </details>\n",
       "            </div>\n",
       "        </div>\n",
       "        \n",
       "        <div style=\"margin-bottom: 20px;\">\n",
       "            <div style=\"width: 24px; height: 24px; background-color: #DBF5FF; border: 3px solid #4CC9FF; border-radius: 5px; position: absolute;\"> </div>\n",
       "            <div style=\"margin-left: 48px;\">\n",
       "            <details>\n",
       "                <summary>\n",
       "                    <h4 style=\"margin-bottom: 0px; display: inline;\">Worker: 3</h4>\n",
       "                </summary>\n",
       "                <table style=\"width: 100%; text-align: left;\">\n",
       "                    <tr>\n",
       "                        <td style=\"text-align: left;\">\n",
       "                            <strong>Comm: </strong> tcp://127.0.0.1:60873\n",
       "                        </td>\n",
       "                        <td style=\"text-align: left;\">\n",
       "                            <strong>Total threads: </strong> 3\n",
       "                        </td>\n",
       "                    </tr>\n",
       "                    <tr>\n",
       "                        <td style=\"text-align: left;\">\n",
       "                            <strong>Dashboard: </strong> <a href=\"http://127.0.0.1:60880/status\" target=\"_blank\">http://127.0.0.1:60880/status</a>\n",
       "                        </td>\n",
       "                        <td style=\"text-align: left;\">\n",
       "                            <strong>Memory: </strong> 7.42 GiB\n",
       "                        </td>\n",
       "                    </tr>\n",
       "                    <tr>\n",
       "                        <td style=\"text-align: left;\">\n",
       "                            <strong>Nanny: </strong> tcp://127.0.0.1:60862\n",
       "                        </td>\n",
       "                        <td style=\"text-align: left;\"></td>\n",
       "                    </tr>\n",
       "                    <tr>\n",
       "                        <td colspan=\"2\" style=\"text-align: left;\">\n",
       "                            <strong>Local directory: </strong> C:\\Users\\O_THAN~1.B\\AppData\\Local\\Temp\\dask-scratch-space\\worker-81yj0wn_\n",
       "                        </td>\n",
       "                    </tr>\n",
       "\n",
       "                    \n",
       "\n",
       "                    \n",
       "\n",
       "                </table>\n",
       "            </details>\n",
       "            </div>\n",
       "        </div>\n",
       "        \n",
       "\n",
       "    </details>\n",
       "</div>\n",
       "\n",
       "        </details>\n",
       "    </div>\n",
       "</div>\n",
       "            </details>\n",
       "        \n",
       "\n",
       "    </div>\n",
       "</div>"
      ],
      "text/plain": [
       "<Client: 'tcp://127.0.0.1:60853' processes=4 threads=12, memory=29.66 GiB>"
      ]
     },
     "execution_count": 4,
     "metadata": {},
     "output_type": "execute_result"
    }
   ],
   "source": [
    "client"
   ]
  },
  {
   "cell_type": "code",
   "execution_count": 5,
   "id": "c7a868f4-57c0-4724-bc8b-2164e19a735a",
   "metadata": {},
   "outputs": [],
   "source": [
    "%run \"C:\\Users\\o_thanakrit.b\\OneDrive - KASIKORNBANKGROUP\\เอกสาร\\code_and_finding\\template.ipynb\""
   ]
  },
  {
   "cell_type": "markdown",
   "id": "69321c51-f3d3-4de8-9007-7c7751684b8d",
   "metadata": {
    "jp-MarkdownHeadingCollapsed": true
   },
   "source": [
    "## Case 1) Compute multiple columns and aggregate \n",
    "without interim materialized as parquet"
   ]
  },
  {
   "cell_type": "code",
   "execution_count": 6,
   "id": "8c5998bc-7ea2-43e6-b2cb-cd9ed8ec14ba",
   "metadata": {},
   "outputs": [],
   "source": [
    "risk_full = dd.read_parquet(mart_risk_path/\"risk_new_full2_blc_profit_usage.parquet\")\n",
    "card_type = dd.read_parquet(staging_path/\"card_type.parquet\")\n",
    "ecl = dd.read_parquet(staging_path/\"ecl_202112_202404.parquet\")"
   ]
  },
  {
   "cell_type": "code",
   "execution_count": 7,
   "id": "6583ffa7-3795-4611-a7fa-98ed54e4049a",
   "metadata": {},
   "outputs": [],
   "source": [
    "apr24_status_blck = risk_full.query(\"mnth_cd == 202404\").loc[:, [\"uniq_key\", \"card_status\", \"blc_cd\"]]"
   ]
  },
  {
   "cell_type": "code",
   "execution_count": 8,
   "id": "947ea3ea-effb-4e99-b229-8b852af4c5c1",
   "metadata": {},
   "outputs": [
    {
     "data": {
      "text/plain": [
       "4390810"
      ]
     },
     "execution_count": 8,
     "metadata": {},
     "output_type": "execute_result"
    }
   ],
   "source": [
    "apr24_status_blck[\"uniq_key\"].count().compute()"
   ]
  },
  {
   "cell_type": "code",
   "execution_count": 9,
   "id": "a9dea68e-4762-4c25-9f97-b68195ab5acf",
   "metadata": {},
   "outputs": [],
   "source": [
    "fy2023 = dd.read_parquet(mart_fy2023_path/\"data_fy2023_fix_mkt_exp_add_usage_consu_pri_crd_blk_rm_wlx.parquet\")"
   ]
  },
  {
   "cell_type": "code",
   "execution_count": 10,
   "id": "d15cb5c5-44a8-4b89-950b-54379be2c0c2",
   "metadata": {},
   "outputs": [
    {
     "data": {
      "text/plain": [
       "3997489"
      ]
     },
     "execution_count": 10,
     "metadata": {},
     "output_type": "execute_result"
    }
   ],
   "source": [
    "fy2023[\"uniq_key\"].drop_duplicates().count().compute()"
   ]
  },
  {
   "cell_type": "code",
   "execution_count": 27,
   "id": "4af534c3-e537-49b4-912a-1396283f5159",
   "metadata": {},
   "outputs": [
    {
     "data": {
      "text/plain": [
       "2329585"
      ]
     },
     "execution_count": 27,
     "metadata": {},
     "output_type": "execute_result"
    }
   ],
   "source": [
    "fy2023[\"cc_cst_real\"].drop_duplicates().count().compute()"
   ]
  },
  {
   "cell_type": "code",
   "execution_count": 29,
   "id": "eea39285-e45f-4de6-a02b-d439fa8ba8bf",
   "metadata": {},
   "outputs": [
    {
     "data": {
      "text/plain": [
       "339553470.2632297"
      ]
     },
     "execution_count": 29,
     "metadata": {},
     "output_type": "execute_result"
    }
   ],
   "source": [
    "fy2023[\"gain_and_loss\"].sum().compute()"
   ]
  },
  {
   "cell_type": "code",
   "execution_count": 33,
   "id": "6b65d8c1-dc14-494e-994c-884fca70f67e",
   "metadata": {
    "collapsed": true,
    "jupyter": {
     "outputs_hidden": true
    }
   },
   "outputs": [
    {
     "data": {
      "text/plain": [
       "cc_cst_real                              0\n",
       "uniq_key                                 0\n",
       "net_interest_rec                         0\n",
       "mftp_total                               0\n",
       "annual_fee                               0\n",
       "interchange_fee                          0\n",
       "merchant_discount_fee                    0\n",
       "cash_adv_fee                             0\n",
       "gain_and_loss                            0\n",
       "collection_fee                           0\n",
       "fee_waived_off                           0\n",
       "debt_collection_exp                      0\n",
       "fee_paid_visa                            0\n",
       "issuer_license_fee                       0\n",
       "total_issuer_domestic                    0\n",
       "total_issuer_inter                       0\n",
       "total_account_card_fee                   0\n",
       "total_concierge_fee                      0\n",
       "cashback                                 0\n",
       "loyalty_point_redem                      0\n",
       "activity_based_costing_expense           0\n",
       "specific_business_tax                    0\n",
       "fraud_loss                               0\n",
       "credit_limit_card                        0\n",
       "credit_limit_cust                        0\n",
       "credit_utilization                       0\n",
       "opn_dt                                  12\n",
       "card_status                              0\n",
       "past_due_amt                             0\n",
       "stmt_amt                          16961949\n",
       "mth_end_bal                              0\n",
       "crn_pymt_due_amt                  16961949\n",
       "util                               3762421\n",
       "cr_lmt_amt                               0\n",
       "acq_cnl                           11146192\n",
       "lmt_at_app                        14198820\n",
       "mnth_cd                                  0\n",
       "MOB                                     12\n",
       "behv                                     0\n",
       "pymt_amt                                 0\n",
       "dlq_bck                                  0\n",
       "ews                                      0\n",
       "b_scor                                   0\n",
       "marketing_exp                            0\n",
       "cash_draw                                0\n",
       "smc_draw                                 0\n",
       "spd_draw                                 0\n",
       "smp_draw                                 0\n",
       "cc_cst_first_num                         0\n",
       "card_flag                                0\n",
       "int_inc                                  0\n",
       "cof                                      0\n",
       "fee_rev                                  0\n",
       "var_cost                                 0\n",
       "fix_cost                                 0\n",
       "profit                                   0\n",
       "usage                                    0\n",
       "blc_cd                                   0\n",
       "behv_new                                 0\n",
       "w_flag                            42593238\n",
       "dtype: int64"
      ]
     },
     "execution_count": 33,
     "metadata": {},
     "output_type": "execute_result"
    }
   ],
   "source": [
    "fy2023.isna().sum().compute()"
   ]
  },
  {
   "cell_type": "code",
   "execution_count": 11,
   "id": "485f609f-ec30-4b00-8d24-b27f4893c666",
   "metadata": {},
   "outputs": [],
   "source": [
    "fy2023_lv2 = \\\n",
    "(fy2023\n",
    " .drop(columns=[\"fee_rev\", \"var_cost\", \"fix_cost\", \"profit\", \"w_flag\"])\n",
    " # Level 2 - Revenue\n",
    " .assign(interchg_fee = lambda x : x[\"interchange_fee\"] + x[\"merchant_discount_fee\"])\n",
    " .assign(fx_fee = lambda x : x[\"gain_and_loss\"])\n",
    " # Level 2 - Cost\n",
    " .assign(fixed_cost = lambda x : x[\"debt_collection_exp\"] + x[\"activity_based_costing_expense\"] + x[\"fee_waived_off\"] + \n",
    "         x[\"marketing_exp\"] + x[\"specific_business_tax\"])\n",
    " .assign(reward_burn = lambda x : x[\"loyalty_point_redem\"])\n",
    " .assign(scheme_fee = lambda x : x[\"fee_paid_visa\"] + x[\"issuer_license_fee\"] + x[\"total_account_card_fee\"] + x[\"total_concierge_fee\"] +\n",
    "        x[\"total_issuer_domestic\"] + x[\"total_issuer_inter\"])\n",
    ")"
   ]
  },
  {
   "cell_type": "code",
   "execution_count": 12,
   "id": "985e7808-c70f-4cf5-88ec-113a799f176d",
   "metadata": {},
   "outputs": [],
   "source": [
    "fy2023_lv1 = \\\n",
    "(fy2023_lv2\n",
    " # Level 1\n",
    " .assign(revenue = lambda x : x[\"annual_fee\"] + x[\"cash_adv_fee\"] + x[\"collection_fee\"] + x[\"fx_fee\"] + x[\"interchg_fee\"] + x[\"int_inc\"])\n",
    " .assign(cost = lambda x : x[\"cashback\"] + x[\"cof\"] + x[\"fixed_cost\"] + x[\"fraud_loss\"] + x[\"reward_burn\"] + x[\"scheme_fee\"])\n",
    ")"
   ]
  },
  {
   "cell_type": "code",
   "execution_count": 13,
   "id": "3763301e-5a61-43f0-88b1-f60c02364ef7",
   "metadata": {},
   "outputs": [
    {
     "data": {
      "text/plain": [
       "243"
      ]
     },
     "execution_count": 13,
     "metadata": {},
     "output_type": "execute_result"
    }
   ],
   "source": [
    "fy2023_lv1.npartitions"
   ]
  },
  {
   "cell_type": "code",
   "execution_count": 14,
   "id": "4d381437-a53f-47a2-bf46-c281f2d2abf5",
   "metadata": {},
   "outputs": [
    {
     "data": {
      "text/plain": [
       "False"
      ]
     },
     "execution_count": 14,
     "metadata": {},
     "output_type": "execute_result"
    }
   ],
   "source": [
    "fy2023_lv1.known_divisions"
   ]
  },
  {
   "cell_type": "markdown",
   "id": "e1dc056b-985d-4c11-b26b-420c304e055b",
   "metadata": {
    "jp-MarkdownHeadingCollapsed": true
   },
   "source": [
    "### Learning 1.a) Setting index, make dask ran with less memory consumption\n",
    "Without setting index result as follow:-  \n",
    "- In cluster mode, shown error `P2P shuffling d79d3838cc0a585ef76cba9e940d99d8 failed during unpack phase`\n",
    "- For single worker, shown could `MemoryError: Unable to allocate for an array with shape (X, X) and data type X`"
   ]
  },
  {
   "cell_type": "code",
   "execution_count": 20,
   "id": "b3c68503-9e1e-40cd-ab0f-3d8e96b8df53",
   "metadata": {},
   "outputs": [],
   "source": [
    "fy2023_profit = \\\n",
    "(fy2023_lv1\n",
    " .fillna(0.0)\n",
    " .loc[: , [\n",
    " \"cc_cst_real\", \n",
    " \"uniq_key\",\n",
    " # Level 1        \n",
    " \"revenue\", \"cost\",\n",
    " # Level 2 - Cost\n",
    "  \"cashback\", \"cof\", \"fixed_cost\", \"fraud_loss\", \"reward_burn\", \"scheme_fee\",\n",
    " # Level 2 - Revenue\n",
    "  \"annual_fee\", \"cash_adv_fee\", \"collection_fee\", \"fx_fee\", \"interchg_fee\", \"int_inc\",\n",
    " # level 3 \n",
    "  \"mftp_total\", \"activity_based_costing_expense\", \"debt_collection_exp\", \"fee_waived_off\", \"marketing_exp\", \"specific_business_tax\",\n",
    "  \"fee_paid_visa\", \"issuer_license_fee\", \"total_account_card_fee\", \"total_concierge_fee\", \"total_issuer_domestic\", \"total_issuer_inter\",\n",
    "  \"gain_and_loss\", \"interchange_fee\", \"merchant_discount_fee\", \"net_interest_rec\",\n",
    " # Variable\n",
    " 'past_due_amt', 'stmt_amt', 'mth_end_bal', 'crn_pymt_due_amt', 'pymt_amt', 'cash_draw', 'smc_draw', 'spd_draw', 'smp_draw', 'usage',\n",
    "  ]]\n",
    " # multi-groupby - consumed memory, avoid\n",
    " .groupby([\"cc_cst_real\", \"uniq_key\"])\n",
    " # .groupby([\"uniq_key\"])\n",
    " .sum()\n",
    " .reset_index()\n",
    ")"
   ]
  },
  {
   "cell_type": "code",
   "execution_count": 21,
   "id": "8886ce22-fa6a-49ff-b813-8a99b443ae8f",
   "metadata": {},
   "outputs": [
    {
     "data": {
      "text/plain": [
       "1"
      ]
     },
     "execution_count": 21,
     "metadata": {},
     "output_type": "execute_result"
    }
   ],
   "source": [
    "fy2023_profit.npartitions"
   ]
  },
  {
   "cell_type": "code",
   "execution_count": 22,
   "id": "9870da0b-e5ee-475c-9fa2-4060028fd387",
   "metadata": {},
   "outputs": [
    {
     "data": {
      "text/plain": [
       "WindowsPath('C:/Users/o_thanakrit.b/OneDrive - KASIKORNBANKGROUP/เอกสาร/data_process/temp/test_write.parquet')"
      ]
     },
     "execution_count": 22,
     "metadata": {},
     "output_type": "execute_result"
    }
   ],
   "source": [
    "output_parquet = process_path/\"temp\"/\"test_case1.parquet\"\n",
    "output_parquet"
   ]
  },
  {
   "cell_type": "code",
   "execution_count": 23,
   "id": "e671d0d9-d1c9-495d-b4f9-d534f4e02d64",
   "metadata": {},
   "outputs": [
    {
     "ename": "RuntimeError",
     "evalue": "P2P shuffling d79d3838cc0a585ef76cba9e940d99d8 failed during unpack phase",
     "output_type": "error",
     "traceback": [
      "\u001b[1;31m---------------------------------------------------------------------------\u001b[0m",
      "\u001b[1;31mArrowMemoryError\u001b[0m                          Traceback (most recent call last)",
      "File \u001b[1;32m~\\.conda\\envs\\clust\\Lib\\site-packages\\distributed\\shuffle\\_core.py:518\u001b[0m, in \u001b[0;36mhandle_unpack_errors\u001b[1;34m()\u001b[0m\n\u001b[0;32m    517\u001b[0m \u001b[38;5;28;01mtry\u001b[39;00m:\n\u001b[1;32m--> 518\u001b[0m     \u001b[38;5;28;01myield\u001b[39;00m\n\u001b[0;32m    519\u001b[0m \u001b[38;5;28;01mexcept\u001b[39;00m Reschedule \u001b[38;5;28;01mas\u001b[39;00m e:\n",
      "File \u001b[1;32m~\\.conda\\envs\\clust\\Lib\\site-packages\\distributed\\shuffle\\_shuffle.py:98\u001b[0m, in \u001b[0;36mshuffle_unpack\u001b[1;34m()\u001b[0m\n\u001b[0;32m     97\u001b[0m \u001b[38;5;28;01mwith\u001b[39;00m handle_unpack_errors(\u001b[38;5;28mid\u001b[39m):\n\u001b[1;32m---> 98\u001b[0m     \u001b[38;5;28;01mreturn\u001b[39;00m get_worker_plugin()\u001b[38;5;241m.\u001b[39mget_output_partition(\n\u001b[0;32m     99\u001b[0m         \u001b[38;5;28mid\u001b[39m, barrier_run_id, output_partition\n\u001b[0;32m    100\u001b[0m     )\n",
      "File \u001b[1;32m~\\.conda\\envs\\clust\\Lib\\site-packages\\distributed\\shuffle\\_worker_plugin.py:444\u001b[0m, in \u001b[0;36mget_output_partition\u001b[1;34m()\u001b[0m\n\u001b[0;32m    443\u001b[0m key \u001b[38;5;241m=\u001b[39m thread_state\u001b[38;5;241m.\u001b[39mkey\n\u001b[1;32m--> 444\u001b[0m \u001b[38;5;28;01mreturn\u001b[39;00m shuffle_run\u001b[38;5;241m.\u001b[39mget_output_partition(\n\u001b[0;32m    445\u001b[0m     partition_id\u001b[38;5;241m=\u001b[39mpartition_id,\n\u001b[0;32m    446\u001b[0m     key\u001b[38;5;241m=\u001b[39mkey,\n\u001b[0;32m    447\u001b[0m     meta\u001b[38;5;241m=\u001b[39mmeta,\n\u001b[0;32m    448\u001b[0m )\n",
      "File \u001b[1;32m~\\.conda\\envs\\clust\\Lib\\site-packages\\distributed\\shuffle\\_core.py:378\u001b[0m, in \u001b[0;36mget_output_partition\u001b[1;34m()\u001b[0m\n\u001b[0;32m    372\u001b[0m \u001b[38;5;28;01mwith\u001b[39;00m (\n\u001b[0;32m    373\u001b[0m     \u001b[38;5;66;03m# Log metrics both in the \"execute\" and in the \"p2p\" contexts\u001b[39;00m\n\u001b[0;32m    374\u001b[0m     \u001b[38;5;28mself\u001b[39m\u001b[38;5;241m.\u001b[39m_capture_metrics(\u001b[38;5;124m\"\u001b[39m\u001b[38;5;124mforeground\u001b[39m\u001b[38;5;124m\"\u001b[39m),\n\u001b[0;32m    375\u001b[0m     context_meter\u001b[38;5;241m.\u001b[39mmeter(\u001b[38;5;124m\"\u001b[39m\u001b[38;5;124mp2p-get-output-noncpu\u001b[39m\u001b[38;5;124m\"\u001b[39m),\n\u001b[0;32m    376\u001b[0m     context_meter\u001b[38;5;241m.\u001b[39mmeter(\u001b[38;5;124m\"\u001b[39m\u001b[38;5;124mp2p-get-output-cpu\u001b[39m\u001b[38;5;124m\"\u001b[39m, func\u001b[38;5;241m=\u001b[39mthread_time),\n\u001b[0;32m    377\u001b[0m ):\n\u001b[1;32m--> 378\u001b[0m     \u001b[38;5;28;01mreturn\u001b[39;00m \u001b[38;5;28mself\u001b[39m\u001b[38;5;241m.\u001b[39m_get_output_partition(partition_id, key, \u001b[38;5;241m*\u001b[39m\u001b[38;5;241m*\u001b[39mkwargs)\n",
      "File \u001b[1;32m~\\.conda\\envs\\clust\\Lib\\site-packages\\distributed\\shuffle\\_shuffle.py:544\u001b[0m, in \u001b[0;36m_get_output_partition\u001b[1;34m()\u001b[0m\n\u001b[0;32m    543\u001b[0m     data \u001b[38;5;241m=\u001b[39m \u001b[38;5;28mself\u001b[39m\u001b[38;5;241m.\u001b[39m_read_from_disk((partition_id,))\n\u001b[1;32m--> 544\u001b[0m     \u001b[38;5;28;01mreturn\u001b[39;00m convert_shards(data, \u001b[38;5;28mself\u001b[39m\u001b[38;5;241m.\u001b[39mmeta, \u001b[38;5;28mself\u001b[39m\u001b[38;5;241m.\u001b[39mcolumn, \u001b[38;5;28mself\u001b[39m\u001b[38;5;241m.\u001b[39mdrop_column)\n\u001b[0;32m    545\u001b[0m \u001b[38;5;28;01mexcept\u001b[39;00m DataUnavailable:\n",
      "File \u001b[1;32m~\\.conda\\envs\\clust\\Lib\\site-packages\\distributed\\shuffle\\_arrow.py:72\u001b[0m, in \u001b[0;36mconvert_shards\u001b[1;34m()\u001b[0m\n\u001b[0;32m     71\u001b[0m     meta \u001b[38;5;241m=\u001b[39m meta\u001b[38;5;241m.\u001b[39mdrop(columns\u001b[38;5;241m=\u001b[39mpartition_column)\n\u001b[1;32m---> 72\u001b[0m df \u001b[38;5;241m=\u001b[39m from_pyarrow_table_dispatch(meta, table, self_destruct\u001b[38;5;241m=\u001b[39m\u001b[38;5;28;01mTrue\u001b[39;00m)\n\u001b[0;32m     73\u001b[0m reconciled_dtypes \u001b[38;5;241m=\u001b[39m {}\n",
      "File \u001b[1;32m~\\.conda\\envs\\clust\\Lib\\site-packages\\dask\\utils.py:773\u001b[0m, in \u001b[0;36m__call__\u001b[1;34m()\u001b[0m\n\u001b[0;32m    772\u001b[0m meth \u001b[38;5;241m=\u001b[39m \u001b[38;5;28mself\u001b[39m\u001b[38;5;241m.\u001b[39mdispatch(\u001b[38;5;28mtype\u001b[39m(arg))\n\u001b[1;32m--> 773\u001b[0m \u001b[38;5;28;01mreturn\u001b[39;00m meth(arg, \u001b[38;5;241m*\u001b[39margs, \u001b[38;5;241m*\u001b[39m\u001b[38;5;241m*\u001b[39mkwargs)\n",
      "File \u001b[1;32m~\\.conda\\envs\\clust\\Lib\\site-packages\\dask\\dataframe\\backends.py:243\u001b[0m, in \u001b[0;36mget_pandas_dataframe_from_pyarrow\u001b[1;34m()\u001b[0m\n\u001b[0;32m    242\u001b[0m types_mapper \u001b[38;5;241m=\u001b[39m kwargs\u001b[38;5;241m.\u001b[39mpop(\u001b[38;5;124m\"\u001b[39m\u001b[38;5;124mtypes_mapper\u001b[39m\u001b[38;5;124m\"\u001b[39m, default_types_mapper)\n\u001b[1;32m--> 243\u001b[0m \u001b[38;5;28;01mreturn\u001b[39;00m table\u001b[38;5;241m.\u001b[39mto_pandas(types_mapper\u001b[38;5;241m=\u001b[39mtypes_mapper, \u001b[38;5;241m*\u001b[39m\u001b[38;5;241m*\u001b[39mkwargs)\n",
      "File \u001b[1;32m~\\.conda\\envs\\clust\\Lib\\site-packages\\pyarrow\\array.pxi:885\u001b[0m, in \u001b[0;36mpyarrow.lib._PandasConvertible.to_pandas\u001b[1;34m()\u001b[0m\n\u001b[0;32m    884\u001b[0m )\n\u001b[1;32m--> 885\u001b[0m return self._to_pandas(options, categories=categories,\n\u001b[0;32m    886\u001b[0m                        ignore_metadata=ignore_metadata,\n",
      "File \u001b[1;32m~\\.conda\\envs\\clust\\Lib\\site-packages\\pyarrow\\table.pxi:5002\u001b[0m, in \u001b[0;36mpyarrow.lib.Table._to_pandas\u001b[1;34m()\u001b[0m\n\u001b[0;32m   5001\u001b[0m from pyarrow.pandas_compat import table_to_dataframe\n\u001b[1;32m-> 5002\u001b[0m df = table_to_dataframe(\n\u001b[0;32m   5003\u001b[0m     options, self, categories,\n",
      "File \u001b[1;32m~\\.conda\\envs\\clust\\Lib\\site-packages\\pyarrow\\pandas_compat.py:784\u001b[0m, in \u001b[0;36mtable_to_dataframe\u001b[1;34m()\u001b[0m\n\u001b[0;32m    783\u001b[0m column_names \u001b[38;5;241m=\u001b[39m table\u001b[38;5;241m.\u001b[39mcolumn_names\n\u001b[1;32m--> 784\u001b[0m result \u001b[38;5;241m=\u001b[39m pa\u001b[38;5;241m.\u001b[39mlib\u001b[38;5;241m.\u001b[39mtable_to_blocks(options, table, categories,\n\u001b[0;32m    785\u001b[0m                                 \u001b[38;5;28mlist\u001b[39m(ext_columns_dtypes\u001b[38;5;241m.\u001b[39mkeys()))\n\u001b[0;32m    786\u001b[0m \u001b[38;5;28;01mif\u001b[39;00m _pandas_api\u001b[38;5;241m.\u001b[39mis_ge_v3():\n",
      "File \u001b[1;32m~\\.conda\\envs\\clust\\Lib\\site-packages\\pyarrow\\table.pxi:3941\u001b[0m, in \u001b[0;36mpyarrow.lib.table_to_blocks\u001b[1;34m()\u001b[0m\n\u001b[0;32m   3940\u001b[0m with nogil:\n\u001b[1;32m-> 3941\u001b[0m     check_status(\n\u001b[0;32m   3942\u001b[0m         libarrow_python.ConvertTableToPandas(c_options, move(c_table),\n",
      "File \u001b[1;32m~\\.conda\\envs\\clust\\Lib\\site-packages\\pyarrow\\error.pxi:92\u001b[0m, in \u001b[0;36mpyarrow.lib.check_status\u001b[1;34m()\u001b[0m\n\u001b[0;32m     91\u001b[0m \n\u001b[1;32m---> 92\u001b[0m         raise convert_status(status)\n\u001b[0;32m     93\u001b[0m \n",
      "\u001b[1;31mArrowMemoryError\u001b[0m: malloc of size 909322240 failed",
      "\nThe above exception was the direct cause of the following exception:\n",
      "\u001b[1;31mRuntimeError\u001b[0m                              Traceback (most recent call last)",
      "Cell \u001b[1;32mIn[23], line 1\u001b[0m\n\u001b[1;32m----> 1\u001b[0m fy2023_profit\u001b[38;5;241m.\u001b[39mto_parquet(output_parquet, overwrite\u001b[38;5;241m=\u001b[39m\u001b[38;5;28;01mTrue\u001b[39;00m)\n",
      "File \u001b[1;32m~\\.conda\\envs\\clust\\Lib\\site-packages\\dask_expr\\_collection.py:3298\u001b[0m, in \u001b[0;36mDataFrame.to_parquet\u001b[1;34m(self, path, **kwargs)\u001b[0m\n\u001b[0;32m   3295\u001b[0m \u001b[38;5;28;01mdef\u001b[39;00m \u001b[38;5;21mto_parquet\u001b[39m(\u001b[38;5;28mself\u001b[39m, path, \u001b[38;5;241m*\u001b[39m\u001b[38;5;241m*\u001b[39mkwargs):\n\u001b[0;32m   3296\u001b[0m     \u001b[38;5;28;01mfrom\u001b[39;00m \u001b[38;5;21;01mdask_expr\u001b[39;00m\u001b[38;5;21;01m.\u001b[39;00m\u001b[38;5;21;01mio\u001b[39;00m\u001b[38;5;21;01m.\u001b[39;00m\u001b[38;5;21;01mparquet\u001b[39;00m \u001b[38;5;28;01mimport\u001b[39;00m to_parquet\n\u001b[1;32m-> 3298\u001b[0m     \u001b[38;5;28;01mreturn\u001b[39;00m to_parquet(\u001b[38;5;28mself\u001b[39m, path, \u001b[38;5;241m*\u001b[39m\u001b[38;5;241m*\u001b[39mkwargs)\n",
      "File \u001b[1;32m~\\.conda\\envs\\clust\\Lib\\site-packages\\dask_expr\\io\\parquet.py:653\u001b[0m, in \u001b[0;36mto_parquet\u001b[1;34m(df, path, compression, write_index, append, overwrite, ignore_divisions, partition_on, storage_options, custom_metadata, write_metadata_file, compute, compute_kwargs, schema, name_function, filesystem, engine, **kwargs)\u001b[0m\n\u001b[0;32m    632\u001b[0m     out \u001b[38;5;241m=\u001b[39m new_collection(\n\u001b[0;32m    633\u001b[0m         ToParquet(\n\u001b[0;32m    634\u001b[0m             df,\n\u001b[1;32m   (...)\u001b[0m\n\u001b[0;32m    649\u001b[0m         )\n\u001b[0;32m    650\u001b[0m     )\n\u001b[0;32m    652\u001b[0m \u001b[38;5;28;01mif\u001b[39;00m compute:\n\u001b[1;32m--> 653\u001b[0m     out \u001b[38;5;241m=\u001b[39m out\u001b[38;5;241m.\u001b[39mcompute(\u001b[38;5;241m*\u001b[39m\u001b[38;5;241m*\u001b[39mcompute_kwargs)\n\u001b[0;32m    655\u001b[0m \u001b[38;5;66;03m# Invalidate the filesystem listing cache for the output path after write.\u001b[39;00m\n\u001b[0;32m    656\u001b[0m \u001b[38;5;66;03m# We do this before returning, even if `compute=False`. This helps ensure\u001b[39;00m\n\u001b[0;32m    657\u001b[0m \u001b[38;5;66;03m# that reading files that were just written succeeds.\u001b[39;00m\n\u001b[0;32m    658\u001b[0m fs\u001b[38;5;241m.\u001b[39minvalidate_cache(path)\n",
      "File \u001b[1;32m~\\.conda\\envs\\clust\\Lib\\site-packages\\dask_expr\\_collection.py:477\u001b[0m, in \u001b[0;36mFrameBase.compute\u001b[1;34m(self, fuse, **kwargs)\u001b[0m\n\u001b[0;32m    475\u001b[0m     out \u001b[38;5;241m=\u001b[39m out\u001b[38;5;241m.\u001b[39mrepartition(npartitions\u001b[38;5;241m=\u001b[39m\u001b[38;5;241m1\u001b[39m)\n\u001b[0;32m    476\u001b[0m out \u001b[38;5;241m=\u001b[39m out\u001b[38;5;241m.\u001b[39moptimize(fuse\u001b[38;5;241m=\u001b[39mfuse)\n\u001b[1;32m--> 477\u001b[0m \u001b[38;5;28;01mreturn\u001b[39;00m DaskMethodsMixin\u001b[38;5;241m.\u001b[39mcompute(out, \u001b[38;5;241m*\u001b[39m\u001b[38;5;241m*\u001b[39mkwargs)\n",
      "File \u001b[1;32m~\\.conda\\envs\\clust\\Lib\\site-packages\\dask\\base.py:376\u001b[0m, in \u001b[0;36mDaskMethodsMixin.compute\u001b[1;34m(self, **kwargs)\u001b[0m\n\u001b[0;32m    352\u001b[0m \u001b[38;5;28;01mdef\u001b[39;00m \u001b[38;5;21mcompute\u001b[39m(\u001b[38;5;28mself\u001b[39m, \u001b[38;5;241m*\u001b[39m\u001b[38;5;241m*\u001b[39mkwargs):\n\u001b[0;32m    353\u001b[0m \u001b[38;5;250m    \u001b[39m\u001b[38;5;124;03m\"\"\"Compute this dask collection\u001b[39;00m\n\u001b[0;32m    354\u001b[0m \n\u001b[0;32m    355\u001b[0m \u001b[38;5;124;03m    This turns a lazy Dask collection into its in-memory equivalent.\u001b[39;00m\n\u001b[1;32m   (...)\u001b[0m\n\u001b[0;32m    374\u001b[0m \u001b[38;5;124;03m    dask.compute\u001b[39;00m\n\u001b[0;32m    375\u001b[0m \u001b[38;5;124;03m    \"\"\"\u001b[39;00m\n\u001b[1;32m--> 376\u001b[0m     (result,) \u001b[38;5;241m=\u001b[39m compute(\u001b[38;5;28mself\u001b[39m, traverse\u001b[38;5;241m=\u001b[39m\u001b[38;5;28;01mFalse\u001b[39;00m, \u001b[38;5;241m*\u001b[39m\u001b[38;5;241m*\u001b[39mkwargs)\n\u001b[0;32m    377\u001b[0m     \u001b[38;5;28;01mreturn\u001b[39;00m result\n",
      "File \u001b[1;32m~\\.conda\\envs\\clust\\Lib\\site-packages\\dask\\base.py:664\u001b[0m, in \u001b[0;36mcompute\u001b[1;34m(traverse, optimize_graph, scheduler, get, *args, **kwargs)\u001b[0m\n\u001b[0;32m    661\u001b[0m     postcomputes\u001b[38;5;241m.\u001b[39mappend(x\u001b[38;5;241m.\u001b[39m__dask_postcompute__())\n\u001b[0;32m    663\u001b[0m \u001b[38;5;28;01mwith\u001b[39;00m shorten_traceback():\n\u001b[1;32m--> 664\u001b[0m     results \u001b[38;5;241m=\u001b[39m schedule(dsk, keys, \u001b[38;5;241m*\u001b[39m\u001b[38;5;241m*\u001b[39mkwargs)\n\u001b[0;32m    666\u001b[0m \u001b[38;5;28;01mreturn\u001b[39;00m repack([f(r, \u001b[38;5;241m*\u001b[39ma) \u001b[38;5;28;01mfor\u001b[39;00m r, (f, a) \u001b[38;5;129;01min\u001b[39;00m \u001b[38;5;28mzip\u001b[39m(results, postcomputes)])\n",
      "File \u001b[1;32m~\\.conda\\envs\\clust\\Lib\\site-packages\\distributed\\shuffle\\_shuffle.py:97\u001b[0m, in \u001b[0;36mshuffle_unpack\u001b[1;34m()\u001b[0m\n\u001b[0;32m     94\u001b[0m \u001b[38;5;28;01mdef\u001b[39;00m \u001b[38;5;21mshuffle_unpack\u001b[39m(\n\u001b[0;32m     95\u001b[0m     \u001b[38;5;28mid\u001b[39m: ShuffleId, output_partition: \u001b[38;5;28mint\u001b[39m, barrier_run_id: \u001b[38;5;28mint\u001b[39m\n\u001b[0;32m     96\u001b[0m ) \u001b[38;5;241m-\u001b[39m\u001b[38;5;241m>\u001b[39m pd\u001b[38;5;241m.\u001b[39mDataFrame:\n\u001b[1;32m---> 97\u001b[0m     \u001b[38;5;28;01mwith\u001b[39;00m handle_unpack_errors(\u001b[38;5;28mid\u001b[39m):\n\u001b[0;32m     98\u001b[0m         \u001b[38;5;28;01mreturn\u001b[39;00m get_worker_plugin()\u001b[38;5;241m.\u001b[39mget_output_partition(\n\u001b[0;32m     99\u001b[0m             \u001b[38;5;28mid\u001b[39m, barrier_run_id, output_partition\n\u001b[0;32m    100\u001b[0m         )\n",
      "File \u001b[1;32m~\\.conda\\envs\\clust\\Lib\\contextlib.py:158\u001b[0m, in \u001b[0;36m__exit__\u001b[1;34m()\u001b[0m\n\u001b[0;32m    156\u001b[0m     value \u001b[38;5;241m=\u001b[39m typ()\n\u001b[0;32m    157\u001b[0m \u001b[38;5;28;01mtry\u001b[39;00m:\n\u001b[1;32m--> 158\u001b[0m     \u001b[38;5;28mself\u001b[39m\u001b[38;5;241m.\u001b[39mgen\u001b[38;5;241m.\u001b[39mthrow(value)\n\u001b[0;32m    159\u001b[0m \u001b[38;5;28;01mexcept\u001b[39;00m \u001b[38;5;167;01mStopIteration\u001b[39;00m \u001b[38;5;28;01mas\u001b[39;00m exc:\n\u001b[0;32m    160\u001b[0m     \u001b[38;5;66;03m# Suppress StopIteration *unless* it's the same exception that\u001b[39;00m\n\u001b[0;32m    161\u001b[0m     \u001b[38;5;66;03m# was passed to throw().  This prevents a StopIteration\u001b[39;00m\n\u001b[0;32m    162\u001b[0m     \u001b[38;5;66;03m# raised inside the \"with\" statement from being suppressed.\u001b[39;00m\n\u001b[0;32m    163\u001b[0m     \u001b[38;5;28;01mreturn\u001b[39;00m exc \u001b[38;5;129;01mis\u001b[39;00m \u001b[38;5;129;01mnot\u001b[39;00m value\n",
      "File \u001b[1;32m~\\.conda\\envs\\clust\\Lib\\site-packages\\distributed\\shuffle\\_core.py:526\u001b[0m, in \u001b[0;36mhandle_unpack_errors\u001b[1;34m()\u001b[0m\n\u001b[0;32m    524\u001b[0m     \u001b[38;5;28;01mraise\u001b[39;00m\n\u001b[0;32m    525\u001b[0m \u001b[38;5;28;01mexcept\u001b[39;00m \u001b[38;5;167;01mException\u001b[39;00m \u001b[38;5;28;01mas\u001b[39;00m e:\n\u001b[1;32m--> 526\u001b[0m     \u001b[38;5;28;01mraise\u001b[39;00m \u001b[38;5;167;01mRuntimeError\u001b[39;00m(\u001b[38;5;124mf\u001b[39m\u001b[38;5;124m\"\u001b[39m\u001b[38;5;124mP2P shuffling \u001b[39m\u001b[38;5;132;01m{\u001b[39;00m\u001b[38;5;28mid\u001b[39m\u001b[38;5;132;01m}\u001b[39;00m\u001b[38;5;124m failed during unpack phase\u001b[39m\u001b[38;5;124m\"\u001b[39m) \u001b[38;5;28;01mfrom\u001b[39;00m \u001b[38;5;21;01me\u001b[39;00m\n",
      "\u001b[1;31mRuntimeError\u001b[0m: P2P shuffling d79d3838cc0a585ef76cba9e940d99d8 failed during unpack phase"
     ]
    }
   ],
   "source": [
    "fy2023_profit.to_parquet(output_parquet, overwrite=True)"
   ]
  },
  {
   "cell_type": "markdown",
   "id": "b2e8b1d8-9b07-4773-b424-dadb891809f8",
   "metadata": {
    "jp-MarkdownHeadingCollapsed": true
   },
   "source": [
    "### Learning 1.b) After set_index on 1 of the aggregate key (uniq_key)  \n",
    "- Performance improved, even muliple groupby columns with both index and non index column"
   ]
  },
  {
   "cell_type": "code",
   "execution_count": 15,
   "id": "ea1c0dc4-da15-4995-8ea6-3ba82a3bfe73",
   "metadata": {},
   "outputs": [],
   "source": [
    "fy2023_lv1 = fy2023_lv1.set_index(\"uniq_key\", partition_size=\"100MB\")"
   ]
  },
  {
   "cell_type": "code",
   "execution_count": 16,
   "id": "941f3ab9-6df1-4a75-898b-694c58f47a46",
   "metadata": {},
   "outputs": [
    {
     "data": {
      "text/plain": [
       "243"
      ]
     },
     "execution_count": 16,
     "metadata": {},
     "output_type": "execute_result"
    }
   ],
   "source": [
    "fy2023_lv1.npartitions"
   ]
  },
  {
   "cell_type": "code",
   "execution_count": 17,
   "id": "612f0b98-a72b-4170-829c-cb4ba41b0396",
   "metadata": {},
   "outputs": [],
   "source": [
    "fy2023_profit = \\\n",
    "(fy2023_lv1\n",
    " .fillna(0.0)\n",
    " .loc[: , [\n",
    " \"cc_cst_real\",\n",
    " # \"uniq_key\",\n",
    " # Level 1        \n",
    " \"revenue\", \"cost\",\n",
    " # Level 2 - Cost\n",
    "  \"cashback\", \"cof\", \"fixed_cost\", \"fraud_loss\", \"reward_burn\", \"scheme_fee\",\n",
    " # Level 2 - Revenue\n",
    "  \"annual_fee\", \"cash_adv_fee\", \"collection_fee\", \"fx_fee\", \"interchg_fee\", \"int_inc\",\n",
    " # level 3 \n",
    "  \"mftp_total\", \"activity_based_costing_expense\", \"debt_collection_exp\", \"fee_waived_off\", \"marketing_exp\", \"specific_business_tax\",\n",
    "  \"fee_paid_visa\", \"issuer_license_fee\", \"total_account_card_fee\", \"total_concierge_fee\", \"total_issuer_domestic\", \"total_issuer_inter\",\n",
    "  \"gain_and_loss\", \"interchange_fee\", \"merchant_discount_fee\", \"net_interest_rec\",\n",
    " # Variable\n",
    " 'past_due_amt', 'stmt_amt', 'mth_end_bal', 'crn_pymt_due_amt', 'pymt_amt', 'cash_draw', 'smc_draw', 'spd_draw', 'smp_draw', 'usage',\n",
    "  ]]\n",
    " .groupby([\"cc_cst_real\", \"uniq_key\"])\n",
    " # .groupby([\"uniq_key\"])\n",
    " .sum()\n",
    " .reset_index()\n",
    ")"
   ]
  },
  {
   "cell_type": "code",
   "execution_count": 26,
   "id": "9d3491b0-bf43-41b5-aafd-b04bf3c43ca2",
   "metadata": {},
   "outputs": [
    {
     "data": {
      "text/plain": [
       "1"
      ]
     },
     "execution_count": 26,
     "metadata": {},
     "output_type": "execute_result"
    }
   ],
   "source": [
    "# Number of result partition still sames\n",
    "fy2023_profit.npartitions"
   ]
  },
  {
   "cell_type": "code",
   "execution_count": 20,
   "id": "690d5387-9893-4e7a-a552-5ef9a6cbdcaa",
   "metadata": {},
   "outputs": [],
   "source": [
    "output_parquet = process_path/\"temp\"/\"test_case1.parquet\"\n",
    "output_parquet\n",
    "fy2023_profit.to_parquet(output_parquet, overwrite=True)"
   ]
  },
  {
   "cell_type": "code",
   "execution_count": 21,
   "id": "8d586e91-814f-471a-a861-a4d95973fa59",
   "metadata": {},
   "outputs": [],
   "source": [
    "ddf = dd.read_parquet(output_parquet)"
   ]
  },
  {
   "cell_type": "code",
   "execution_count": 22,
   "id": "13f48253-05fa-42d4-849b-dc0230d92672",
   "metadata": {},
   "outputs": [
    {
     "data": {
      "text/plain": [
       "Index(['cc_cst_real', 'uniq_key', 'revenue', 'cost', 'cashback', 'cof',\n",
       "       'fixed_cost', 'fraud_loss', 'reward_burn', 'scheme_fee', 'annual_fee',\n",
       "       'cash_adv_fee', 'collection_fee', 'fx_fee', 'interchg_fee', 'int_inc',\n",
       "       'mftp_total', 'activity_based_costing_expense', 'debt_collection_exp',\n",
       "       'fee_waived_off', 'marketing_exp', 'specific_business_tax',\n",
       "       'fee_paid_visa', 'issuer_license_fee', 'total_account_card_fee',\n",
       "       'total_concierge_fee', 'total_issuer_domestic', 'total_issuer_inter',\n",
       "       'gain_and_loss', 'interchange_fee', 'merchant_discount_fee',\n",
       "       'net_interest_rec', 'past_due_amt', 'stmt_amt', 'mth_end_bal',\n",
       "       'crn_pymt_due_amt', 'pymt_amt', 'cash_draw', 'smc_draw', 'spd_draw',\n",
       "       'smp_draw', 'usage'],\n",
       "      dtype='object')"
      ]
     },
     "execution_count": 22,
     "metadata": {},
     "output_type": "execute_result"
    }
   ],
   "source": [
    "ddf.columns"
   ]
  },
  {
   "cell_type": "code",
   "execution_count": 23,
   "id": "7e8bcb8a-11e9-4f25-9c3f-34bcabb950fd",
   "metadata": {},
   "outputs": [
    {
     "data": {
      "text/plain": [
       "3997498"
      ]
     },
     "execution_count": 23,
     "metadata": {},
     "output_type": "execute_result"
    }
   ],
   "source": [
    "ddf[\"uniq_key\"].count().compute()"
   ]
  },
  {
   "cell_type": "code",
   "execution_count": 28,
   "id": "658fec46-8b66-4afe-9b85-fa62bd92146a",
   "metadata": {},
   "outputs": [
    {
     "data": {
      "text/plain": [
       "2329585"
      ]
     },
     "execution_count": 28,
     "metadata": {},
     "output_type": "execute_result"
    }
   ],
   "source": [
    "ddf[\"cc_cst_real\"].drop_duplicates().count().compute()"
   ]
  },
  {
   "cell_type": "code",
   "execution_count": 32,
   "id": "3c68297f-2d7f-44cb-a230-018e7079f107",
   "metadata": {},
   "outputs": [
    {
     "data": {
      "text/plain": [
       "339553470.2632297"
      ]
     },
     "execution_count": 32,
     "metadata": {},
     "output_type": "execute_result"
    }
   ],
   "source": [
    "ddf[\"fx_fee\"].sum().compute()"
   ]
  },
  {
   "cell_type": "markdown",
   "id": "35822e5b-af4f-4c71-b074-0f605f56a9f5",
   "metadata": {},
   "source": [
    "## Case 2) Merge with multiple key  "
   ]
  },
  {
   "cell_type": "code",
   "execution_count": 6,
   "id": "5872660a-7114-48d7-b338-aecb9838bd74",
   "metadata": {},
   "outputs": [],
   "source": [
    "fin_profit = dd.read_parquet(staging_path/\"fin_profit_full_fix.parquet\")\n",
    "risk_mob = dd.read_parquet(staging_path/\"risk_new_full2.parquet\")"
   ]
  },
  {
   "cell_type": "code",
   "execution_count": 7,
   "id": "7329f568-0baa-47cf-ace9-db73072a2352",
   "metadata": {},
   "outputs": [
    {
     "data": {
      "text/plain": [
       "4704"
      ]
     },
     "execution_count": 7,
     "metadata": {},
     "output_type": "execute_result"
    }
   ],
   "source": [
    "fin_profit.npartitions"
   ]
  },
  {
   "cell_type": "code",
   "execution_count": 32,
   "id": "2c1a5695-a2c6-4ef9-8589-8263bce8e538",
   "metadata": {},
   "outputs": [
    {
     "data": {
      "text/plain": [
       "5040042"
      ]
     },
     "execution_count": 32,
     "metadata": {},
     "output_type": "execute_result"
    }
   ],
   "source": [
    "fin_profit[\"uniq_key\"].drop_duplicates().count().compute()"
   ]
  },
  {
   "cell_type": "code",
   "execution_count": 8,
   "id": "9d0094c2-07fa-4f12-b530-a0be76f20437",
   "metadata": {},
   "outputs": [
    {
     "data": {
      "text/plain": [
       "3052"
      ]
     },
     "execution_count": 8,
     "metadata": {},
     "output_type": "execute_result"
    }
   ],
   "source": [
    "risk_mob.npartitions"
   ]
  },
  {
   "cell_type": "code",
   "execution_count": 33,
   "id": "e5312ecc-a18a-47d4-83e0-8ce5a28d0dc6",
   "metadata": {},
   "outputs": [
    {
     "data": {
      "text/plain": [
       "5266283"
      ]
     },
     "execution_count": 33,
     "metadata": {},
     "output_type": "execute_result"
    }
   ],
   "source": [
    "risk_mob[\"uniq_key\"].drop_duplicates().count().compute()"
   ]
  },
  {
   "cell_type": "markdown",
   "id": "e55d82ca-4590-4585-b08e-3cbed787ba6a",
   "metadata": {
    "jp-MarkdownHeadingCollapsed": true
   },
   "source": [
    "### Learning 2.a) All are non-indexed the operation will be super slow"
   ]
  },
  {
   "cell_type": "code",
   "execution_count": 12,
   "id": "997ffd02-253c-46fc-a1ec-d575f68b85c3",
   "metadata": {},
   "outputs": [],
   "source": [
    "profit_risk = fin_profit.merge(risk_mob, on=[\"uniq_key\", \"mnth_cd\"], how=\"inner\")"
   ]
  },
  {
   "cell_type": "code",
   "execution_count": 13,
   "id": "386069ba-6e19-4135-99d0-437df9e59e1f",
   "metadata": {},
   "outputs": [
    {
     "data": {
      "text/plain": [
       "Index(['cc_cst_real', 'uniq_key', 'net_interest_rec', 'mftp_total',\n",
       "       'annual_fee', 'interchange_fee', 'merchant_discount_fee',\n",
       "       'cash_adv_fee', 'gain_and_loss', 'collection_fee', 'fee_waived_off',\n",
       "       'fee_paid', 'debt_collection_exp', 'fee_paid_visa', 'membership_fee',\n",
       "       'issuer_license_fee', 'total_issuer_domestic', 'total_issuer_inter',\n",
       "       'total_account_card_fee', 'total_concierge_fee', 'net_total_income',\n",
       "       'expense', 'marketing_exp', 'cashback', 'loyalty_point_redem',\n",
       "       'activity_based_costing_expense', 'specific_business_tax', 'fraud_loss',\n",
       "       'credit_limit_card', 'credit_limit_cust', 'credit_utilization',\n",
       "       'mnth_cd', 'fund_rev', 'fee_rev', 'var_cost', 'fix_cost', 'profit',\n",
       "       'opn_dt', 'card_status', 'past_due_amt', 'stmt_amt', 'mth_end_bal',\n",
       "       'crn_pymt_due_amt', 'util', 'cr_lmt_amt', 'acq_cnl', 'lmt_at_app',\n",
       "       'MOB', 'behv', 'pymt_amt', 'dlq_bck', 'ews', 'b_scor'],\n",
       "      dtype='object')"
      ]
     },
     "execution_count": 13,
     "metadata": {},
     "output_type": "execute_result"
    }
   ],
   "source": [
    "profit_risk.columns"
   ]
  },
  {
   "cell_type": "code",
   "execution_count": 14,
   "id": "26ec22c9-7dc4-4337-bac3-02af4e16f908",
   "metadata": {
    "scrolled": true
   },
   "outputs": [
    {
     "data": {
      "text/html": [
       "<div>\n",
       "<style scoped>\n",
       "    .dataframe tbody tr th:only-of-type {\n",
       "        vertical-align: middle;\n",
       "    }\n",
       "\n",
       "    .dataframe tbody tr th {\n",
       "        vertical-align: top;\n",
       "    }\n",
       "\n",
       "    .dataframe thead th {\n",
       "        text-align: right;\n",
       "    }\n",
       "</style>\n",
       "<table border=\"1\" class=\"dataframe\">\n",
       "  <thead>\n",
       "    <tr style=\"text-align: right;\">\n",
       "      <th></th>\n",
       "      <th>n_card</th>\n",
       "    </tr>\n",
       "    <tr>\n",
       "      <th>mnth_cd</th>\n",
       "      <th></th>\n",
       "    </tr>\n",
       "  </thead>\n",
       "  <tbody>\n",
       "    <tr>\n",
       "      <th>202211</th>\n",
       "      <td>4336132</td>\n",
       "    </tr>\n",
       "    <tr>\n",
       "      <th>202312</th>\n",
       "      <td>4412985</td>\n",
       "    </tr>\n",
       "    <tr>\n",
       "      <th>202310</th>\n",
       "      <td>4339072</td>\n",
       "    </tr>\n",
       "    <tr>\n",
       "      <th>202201</th>\n",
       "      <td>3768929</td>\n",
       "    </tr>\n",
       "    <tr>\n",
       "      <th>202203</th>\n",
       "      <td>3885359</td>\n",
       "    </tr>\n",
       "    <tr>\n",
       "      <th>202208</th>\n",
       "      <td>4174318</td>\n",
       "    </tr>\n",
       "    <tr>\n",
       "      <th>202202</th>\n",
       "      <td>3824222</td>\n",
       "    </tr>\n",
       "    <tr>\n",
       "      <th>202402</th>\n",
       "      <td>4316013</td>\n",
       "    </tr>\n",
       "    <tr>\n",
       "      <th>202204</th>\n",
       "      <td>3939578</td>\n",
       "    </tr>\n",
       "    <tr>\n",
       "      <th>202403</th>\n",
       "      <td>4355090</td>\n",
       "    </tr>\n",
       "    <tr>\n",
       "      <th>202302</th>\n",
       "      <td>3978927</td>\n",
       "    </tr>\n",
       "    <tr>\n",
       "      <th>202307</th>\n",
       "      <td>4217848</td>\n",
       "    </tr>\n",
       "    <tr>\n",
       "      <th>202309</th>\n",
       "      <td>4298417</td>\n",
       "    </tr>\n",
       "    <tr>\n",
       "      <th>202304</th>\n",
       "      <td>4054493</td>\n",
       "    </tr>\n",
       "    <tr>\n",
       "      <th>202311</th>\n",
       "      <td>4379804</td>\n",
       "    </tr>\n",
       "    <tr>\n",
       "      <th>202308</th>\n",
       "      <td>4256528</td>\n",
       "    </tr>\n",
       "    <tr>\n",
       "      <th>202210</th>\n",
       "      <td>4286459</td>\n",
       "    </tr>\n",
       "    <tr>\n",
       "      <th>202209</th>\n",
       "      <td>4236370</td>\n",
       "    </tr>\n",
       "    <tr>\n",
       "      <th>202306</th>\n",
       "      <td>4181312</td>\n",
       "    </tr>\n",
       "    <tr>\n",
       "      <th>202206</th>\n",
       "      <td>4061910</td>\n",
       "    </tr>\n",
       "    <tr>\n",
       "      <th>202303</th>\n",
       "      <td>4308545</td>\n",
       "    </tr>\n",
       "    <tr>\n",
       "      <th>202301</th>\n",
       "      <td>3939282</td>\n",
       "    </tr>\n",
       "    <tr>\n",
       "      <th>202205</th>\n",
       "      <td>4001731</td>\n",
       "    </tr>\n",
       "    <tr>\n",
       "      <th>202305</th>\n",
       "      <td>4142895</td>\n",
       "    </tr>\n",
       "    <tr>\n",
       "      <th>202401</th>\n",
       "      <td>4278919</td>\n",
       "    </tr>\n",
       "    <tr>\n",
       "      <th>202404</th>\n",
       "      <td>4390810</td>\n",
       "    </tr>\n",
       "    <tr>\n",
       "      <th>202207</th>\n",
       "      <td>4116525</td>\n",
       "    </tr>\n",
       "    <tr>\n",
       "      <th>202212</th>\n",
       "      <td>4378098</td>\n",
       "    </tr>\n",
       "  </tbody>\n",
       "</table>\n",
       "</div>"
      ],
      "text/plain": [
       "          n_card\n",
       "mnth_cd         \n",
       "202211   4336132\n",
       "202312   4412985\n",
       "202310   4339072\n",
       "202201   3768929\n",
       "202203   3885359\n",
       "202208   4174318\n",
       "202202   3824222\n",
       "202402   4316013\n",
       "202204   3939578\n",
       "202403   4355090\n",
       "202302   3978927\n",
       "202307   4217848\n",
       "202309   4298417\n",
       "202304   4054493\n",
       "202311   4379804\n",
       "202308   4256528\n",
       "202210   4286459\n",
       "202209   4236370\n",
       "202306   4181312\n",
       "202206   4061910\n",
       "202303   4308545\n",
       "202301   3939282\n",
       "202205   4001731\n",
       "202305   4142895\n",
       "202401   4278919\n",
       "202404   4390810\n",
       "202207   4116525\n",
       "202212   4378098"
      ]
     },
     "execution_count": 14,
     "metadata": {},
     "output_type": "execute_result"
    }
   ],
   "source": [
    "profit_risk.groupby(\"mnth_cd\").agg(n_card = (\"uniq_key\", \"count\")).compute()"
   ]
  },
  {
   "cell_type": "code",
   "execution_count": null,
   "id": "dc35645d-572f-46c4-9e8a-fcfdf86789e3",
   "metadata": {},
   "outputs": [],
   "source": [
    "output_parquet = process_path/\"temp\"/\"test_case2.parquet\"\n",
    "output_parquet\n",
    "profit_risk.to_parquet(output_parquet)"
   ]
  },
  {
   "cell_type": "markdown",
   "id": "b0487b61-f556-48c7-8f3c-a1b026bae156",
   "metadata": {
    "jp-MarkdownHeadingCollapsed": true
   },
   "source": [
    "### Learning 2.b) Set one column as index key  \n",
    "- Merging process faster. Anyway, could not materialized dataframe"
   ]
  },
  {
   "cell_type": "code",
   "execution_count": 17,
   "id": "73c17e2a-0939-46e0-a226-b12661232f2f",
   "metadata": {},
   "outputs": [],
   "source": [
    "fin_profit = fin_profit.set_index(\"mnth_cd\", partition_size=\"100MB\")"
   ]
  },
  {
   "cell_type": "code",
   "execution_count": 18,
   "id": "0ee9f670-7864-4612-becd-d3c8552ab0ea",
   "metadata": {},
   "outputs": [],
   "source": [
    "risk_mob = risk_mob.set_index(\"mnth_cd\", partition_size=\"100MB\")"
   ]
  },
  {
   "cell_type": "code",
   "execution_count": 19,
   "id": "d8dac7dd-7c0a-4acc-a7eb-b5c940f10e76",
   "metadata": {},
   "outputs": [],
   "source": [
    "profit_risk = fin_profit.merge(risk_mob, on=[\"uniq_key\", \"mnth_cd\"], how=\"inner\")"
   ]
  },
  {
   "cell_type": "code",
   "execution_count": 20,
   "id": "a73808aa-6bcc-496a-9db7-f0a054dd7b65",
   "metadata": {},
   "outputs": [
    {
     "data": {
      "text/plain": [
       "Index(['cc_cst_real', 'uniq_key', 'net_interest_rec', 'mftp_total',\n",
       "       'annual_fee', 'interchange_fee', 'merchant_discount_fee',\n",
       "       'cash_adv_fee', 'gain_and_loss', 'collection_fee', 'fee_waived_off',\n",
       "       'fee_paid', 'debt_collection_exp', 'fee_paid_visa', 'membership_fee',\n",
       "       'issuer_license_fee', 'total_issuer_domestic', 'total_issuer_inter',\n",
       "       'total_account_card_fee', 'total_concierge_fee', 'net_total_income',\n",
       "       'expense', 'marketing_exp', 'cashback', 'loyalty_point_redem',\n",
       "       'activity_based_costing_expense', 'specific_business_tax', 'fraud_loss',\n",
       "       'credit_limit_card', 'credit_limit_cust', 'credit_utilization',\n",
       "       'fund_rev', 'fee_rev', 'var_cost', 'fix_cost', 'profit', 'opn_dt',\n",
       "       'card_status', 'past_due_amt', 'stmt_amt', 'mth_end_bal',\n",
       "       'crn_pymt_due_amt', 'util', 'cr_lmt_amt', 'acq_cnl', 'lmt_at_app',\n",
       "       'MOB', 'behv', 'pymt_amt', 'dlq_bck', 'ews', 'b_scor'],\n",
       "      dtype='object')"
      ]
     },
     "execution_count": 20,
     "metadata": {},
     "output_type": "execute_result"
    }
   ],
   "source": [
    "profit_risk.columns"
   ]
  },
  {
   "cell_type": "code",
   "execution_count": 21,
   "id": "987e8c77-797f-4c99-8501-8397e2a5651c",
   "metadata": {
    "scrolled": true
   },
   "outputs": [
    {
     "data": {
      "text/html": [
       "<div>\n",
       "<style scoped>\n",
       "    .dataframe tbody tr th:only-of-type {\n",
       "        vertical-align: middle;\n",
       "    }\n",
       "\n",
       "    .dataframe tbody tr th {\n",
       "        vertical-align: top;\n",
       "    }\n",
       "\n",
       "    .dataframe thead th {\n",
       "        text-align: right;\n",
       "    }\n",
       "</style>\n",
       "<table border=\"1\" class=\"dataframe\">\n",
       "  <thead>\n",
       "    <tr style=\"text-align: right;\">\n",
       "      <th></th>\n",
       "      <th>n_card</th>\n",
       "    </tr>\n",
       "    <tr>\n",
       "      <th>mnth_cd</th>\n",
       "      <th></th>\n",
       "    </tr>\n",
       "  </thead>\n",
       "  <tbody>\n",
       "    <tr>\n",
       "      <th>202206</th>\n",
       "      <td>4061910</td>\n",
       "    </tr>\n",
       "    <tr>\n",
       "      <th>202211</th>\n",
       "      <td>4336132</td>\n",
       "    </tr>\n",
       "    <tr>\n",
       "      <th>202312</th>\n",
       "      <td>4412985</td>\n",
       "    </tr>\n",
       "    <tr>\n",
       "      <th>202403</th>\n",
       "      <td>4355090</td>\n",
       "    </tr>\n",
       "    <tr>\n",
       "      <th>202208</th>\n",
       "      <td>4174318</td>\n",
       "    </tr>\n",
       "    <tr>\n",
       "      <th>202404</th>\n",
       "      <td>4390810</td>\n",
       "    </tr>\n",
       "    <tr>\n",
       "      <th>202205</th>\n",
       "      <td>4001731</td>\n",
       "    </tr>\n",
       "    <tr>\n",
       "      <th>202209</th>\n",
       "      <td>4236370</td>\n",
       "    </tr>\n",
       "    <tr>\n",
       "      <th>202306</th>\n",
       "      <td>4181312</td>\n",
       "    </tr>\n",
       "    <tr>\n",
       "      <th>202201</th>\n",
       "      <td>3768929</td>\n",
       "    </tr>\n",
       "    <tr>\n",
       "      <th>202202</th>\n",
       "      <td>3824222</td>\n",
       "    </tr>\n",
       "    <tr>\n",
       "      <th>202207</th>\n",
       "      <td>4116525</td>\n",
       "    </tr>\n",
       "    <tr>\n",
       "      <th>202301</th>\n",
       "      <td>3939282</td>\n",
       "    </tr>\n",
       "    <tr>\n",
       "      <th>202303</th>\n",
       "      <td>4308545</td>\n",
       "    </tr>\n",
       "    <tr>\n",
       "      <th>202304</th>\n",
       "      <td>4054493</td>\n",
       "    </tr>\n",
       "    <tr>\n",
       "      <th>202311</th>\n",
       "      <td>4379804</td>\n",
       "    </tr>\n",
       "    <tr>\n",
       "      <th>202401</th>\n",
       "      <td>4278919</td>\n",
       "    </tr>\n",
       "    <tr>\n",
       "      <th>202402</th>\n",
       "      <td>4316013</td>\n",
       "    </tr>\n",
       "    <tr>\n",
       "      <th>202204</th>\n",
       "      <td>3939578</td>\n",
       "    </tr>\n",
       "    <tr>\n",
       "      <th>202302</th>\n",
       "      <td>3978927</td>\n",
       "    </tr>\n",
       "    <tr>\n",
       "      <th>202305</th>\n",
       "      <td>4142895</td>\n",
       "    </tr>\n",
       "    <tr>\n",
       "      <th>202309</th>\n",
       "      <td>4298417</td>\n",
       "    </tr>\n",
       "    <tr>\n",
       "      <th>202210</th>\n",
       "      <td>4286459</td>\n",
       "    </tr>\n",
       "    <tr>\n",
       "      <th>202212</th>\n",
       "      <td>4378098</td>\n",
       "    </tr>\n",
       "    <tr>\n",
       "      <th>202307</th>\n",
       "      <td>4217848</td>\n",
       "    </tr>\n",
       "    <tr>\n",
       "      <th>202203</th>\n",
       "      <td>3885359</td>\n",
       "    </tr>\n",
       "    <tr>\n",
       "      <th>202308</th>\n",
       "      <td>4256528</td>\n",
       "    </tr>\n",
       "    <tr>\n",
       "      <th>202310</th>\n",
       "      <td>4339072</td>\n",
       "    </tr>\n",
       "  </tbody>\n",
       "</table>\n",
       "</div>"
      ],
      "text/plain": [
       "          n_card\n",
       "mnth_cd         \n",
       "202206   4061910\n",
       "202211   4336132\n",
       "202312   4412985\n",
       "202403   4355090\n",
       "202208   4174318\n",
       "202404   4390810\n",
       "202205   4001731\n",
       "202209   4236370\n",
       "202306   4181312\n",
       "202201   3768929\n",
       "202202   3824222\n",
       "202207   4116525\n",
       "202301   3939282\n",
       "202303   4308545\n",
       "202304   4054493\n",
       "202311   4379804\n",
       "202401   4278919\n",
       "202402   4316013\n",
       "202204   3939578\n",
       "202302   3978927\n",
       "202305   4142895\n",
       "202309   4298417\n",
       "202210   4286459\n",
       "202212   4378098\n",
       "202307   4217848\n",
       "202203   3885359\n",
       "202308   4256528\n",
       "202310   4339072"
      ]
     },
     "execution_count": 21,
     "metadata": {},
     "output_type": "execute_result"
    }
   ],
   "source": [
    "profit_risk.groupby(\"mnth_cd\").agg(n_card = (\"uniq_key\", \"count\")).compute()"
   ]
  },
  {
   "cell_type": "code",
   "execution_count": 22,
   "id": "f9b455f9-ce4c-4e7d-84a4-1d8ef2b5d482",
   "metadata": {},
   "outputs": [
    {
     "name": "stderr",
     "output_type": "stream",
     "text": [
      "C:\\Users\\o_thanakrit.b\\.conda\\envs\\clust\\Lib\\site-packages\\distributed\\client.py:3358: UserWarning: Sending large graph of size 14.33 MiB.\n",
      "This may cause some slowdown.\n",
      "Consider loading the data with Dask directly\n",
      " or using futures or delayed objects to embed the data into the graph without repetition.\n",
      "See also https://docs.dask.org/en/stable/best-practices.html#load-data-with-dask for more information.\n",
      "  warnings.warn(\n"
     ]
    },
    {
     "ename": "RuntimeError",
     "evalue": "P2P shuffling 3735961f20e29c8c7a7f914e049d27a7 failed during unpack phase",
     "output_type": "error",
     "traceback": [
      "\u001b[1;31m---------------------------------------------------------------------------\u001b[0m",
      "\u001b[1;31mArrowMemoryError\u001b[0m                          Traceback (most recent call last)",
      "File \u001b[1;32m~\\.conda\\envs\\clust\\Lib\\site-packages\\distributed\\shuffle\\_core.py:518\u001b[0m, in \u001b[0;36mhandle_unpack_errors\u001b[1;34m()\u001b[0m\n\u001b[0;32m    517\u001b[0m \u001b[38;5;28;01mtry\u001b[39;00m:\n\u001b[1;32m--> 518\u001b[0m     \u001b[38;5;28;01myield\u001b[39;00m\n\u001b[0;32m    519\u001b[0m \u001b[38;5;28;01mexcept\u001b[39;00m Reschedule \u001b[38;5;28;01mas\u001b[39;00m e:\n",
      "File \u001b[1;32m~\\.conda\\envs\\clust\\Lib\\site-packages\\distributed\\shuffle\\_shuffle.py:98\u001b[0m, in \u001b[0;36mshuffle_unpack\u001b[1;34m()\u001b[0m\n\u001b[0;32m     97\u001b[0m \u001b[38;5;28;01mwith\u001b[39;00m handle_unpack_errors(\u001b[38;5;28mid\u001b[39m):\n\u001b[1;32m---> 98\u001b[0m     \u001b[38;5;28;01mreturn\u001b[39;00m get_worker_plugin()\u001b[38;5;241m.\u001b[39mget_output_partition(\n\u001b[0;32m     99\u001b[0m         \u001b[38;5;28mid\u001b[39m, barrier_run_id, output_partition\n\u001b[0;32m    100\u001b[0m     )\n",
      "File \u001b[1;32m~\\.conda\\envs\\clust\\Lib\\site-packages\\distributed\\shuffle\\_worker_plugin.py:444\u001b[0m, in \u001b[0;36mget_output_partition\u001b[1;34m()\u001b[0m\n\u001b[0;32m    443\u001b[0m key \u001b[38;5;241m=\u001b[39m thread_state\u001b[38;5;241m.\u001b[39mkey\n\u001b[1;32m--> 444\u001b[0m \u001b[38;5;28;01mreturn\u001b[39;00m shuffle_run\u001b[38;5;241m.\u001b[39mget_output_partition(\n\u001b[0;32m    445\u001b[0m     partition_id\u001b[38;5;241m=\u001b[39mpartition_id,\n\u001b[0;32m    446\u001b[0m     key\u001b[38;5;241m=\u001b[39mkey,\n\u001b[0;32m    447\u001b[0m     meta\u001b[38;5;241m=\u001b[39mmeta,\n\u001b[0;32m    448\u001b[0m )\n",
      "File \u001b[1;32m~\\.conda\\envs\\clust\\Lib\\site-packages\\distributed\\shuffle\\_core.py:378\u001b[0m, in \u001b[0;36mget_output_partition\u001b[1;34m()\u001b[0m\n\u001b[0;32m    372\u001b[0m \u001b[38;5;28;01mwith\u001b[39;00m (\n\u001b[0;32m    373\u001b[0m     \u001b[38;5;66;03m# Log metrics both in the \"execute\" and in the \"p2p\" contexts\u001b[39;00m\n\u001b[0;32m    374\u001b[0m     \u001b[38;5;28mself\u001b[39m\u001b[38;5;241m.\u001b[39m_capture_metrics(\u001b[38;5;124m\"\u001b[39m\u001b[38;5;124mforeground\u001b[39m\u001b[38;5;124m\"\u001b[39m),\n\u001b[0;32m    375\u001b[0m     context_meter\u001b[38;5;241m.\u001b[39mmeter(\u001b[38;5;124m\"\u001b[39m\u001b[38;5;124mp2p-get-output-noncpu\u001b[39m\u001b[38;5;124m\"\u001b[39m),\n\u001b[0;32m    376\u001b[0m     context_meter\u001b[38;5;241m.\u001b[39mmeter(\u001b[38;5;124m\"\u001b[39m\u001b[38;5;124mp2p-get-output-cpu\u001b[39m\u001b[38;5;124m\"\u001b[39m, func\u001b[38;5;241m=\u001b[39mthread_time),\n\u001b[0;32m    377\u001b[0m ):\n\u001b[1;32m--> 378\u001b[0m     \u001b[38;5;28;01mreturn\u001b[39;00m \u001b[38;5;28mself\u001b[39m\u001b[38;5;241m.\u001b[39m_get_output_partition(partition_id, key, \u001b[38;5;241m*\u001b[39m\u001b[38;5;241m*\u001b[39mkwargs)\n",
      "File \u001b[1;32m~\\.conda\\envs\\clust\\Lib\\site-packages\\distributed\\shuffle\\_shuffle.py:544\u001b[0m, in \u001b[0;36m_get_output_partition\u001b[1;34m()\u001b[0m\n\u001b[0;32m    543\u001b[0m     data \u001b[38;5;241m=\u001b[39m \u001b[38;5;28mself\u001b[39m\u001b[38;5;241m.\u001b[39m_read_from_disk((partition_id,))\n\u001b[1;32m--> 544\u001b[0m     \u001b[38;5;28;01mreturn\u001b[39;00m convert_shards(data, \u001b[38;5;28mself\u001b[39m\u001b[38;5;241m.\u001b[39mmeta, \u001b[38;5;28mself\u001b[39m\u001b[38;5;241m.\u001b[39mcolumn, \u001b[38;5;28mself\u001b[39m\u001b[38;5;241m.\u001b[39mdrop_column)\n\u001b[0;32m    545\u001b[0m \u001b[38;5;28;01mexcept\u001b[39;00m DataUnavailable:\n",
      "File \u001b[1;32m~\\.conda\\envs\\clust\\Lib\\site-packages\\distributed\\shuffle\\_arrow.py:72\u001b[0m, in \u001b[0;36mconvert_shards\u001b[1;34m()\u001b[0m\n\u001b[0;32m     71\u001b[0m     meta \u001b[38;5;241m=\u001b[39m meta\u001b[38;5;241m.\u001b[39mdrop(columns\u001b[38;5;241m=\u001b[39mpartition_column)\n\u001b[1;32m---> 72\u001b[0m df \u001b[38;5;241m=\u001b[39m from_pyarrow_table_dispatch(meta, table, self_destruct\u001b[38;5;241m=\u001b[39m\u001b[38;5;28;01mTrue\u001b[39;00m)\n\u001b[0;32m     73\u001b[0m reconciled_dtypes \u001b[38;5;241m=\u001b[39m {}\n",
      "File \u001b[1;32m~\\.conda\\envs\\clust\\Lib\\site-packages\\dask\\utils.py:773\u001b[0m, in \u001b[0;36m__call__\u001b[1;34m()\u001b[0m\n\u001b[0;32m    772\u001b[0m meth \u001b[38;5;241m=\u001b[39m \u001b[38;5;28mself\u001b[39m\u001b[38;5;241m.\u001b[39mdispatch(\u001b[38;5;28mtype\u001b[39m(arg))\n\u001b[1;32m--> 773\u001b[0m \u001b[38;5;28;01mreturn\u001b[39;00m meth(arg, \u001b[38;5;241m*\u001b[39margs, \u001b[38;5;241m*\u001b[39m\u001b[38;5;241m*\u001b[39mkwargs)\n",
      "File \u001b[1;32m~\\.conda\\envs\\clust\\Lib\\site-packages\\dask\\dataframe\\backends.py:243\u001b[0m, in \u001b[0;36mget_pandas_dataframe_from_pyarrow\u001b[1;34m()\u001b[0m\n\u001b[0;32m    242\u001b[0m types_mapper \u001b[38;5;241m=\u001b[39m kwargs\u001b[38;5;241m.\u001b[39mpop(\u001b[38;5;124m\"\u001b[39m\u001b[38;5;124mtypes_mapper\u001b[39m\u001b[38;5;124m\"\u001b[39m, default_types_mapper)\n\u001b[1;32m--> 243\u001b[0m \u001b[38;5;28;01mreturn\u001b[39;00m table\u001b[38;5;241m.\u001b[39mto_pandas(types_mapper\u001b[38;5;241m=\u001b[39mtypes_mapper, \u001b[38;5;241m*\u001b[39m\u001b[38;5;241m*\u001b[39mkwargs)\n",
      "File \u001b[1;32m~\\.conda\\envs\\clust\\Lib\\site-packages\\pyarrow\\array.pxi:885\u001b[0m, in \u001b[0;36mpyarrow.lib._PandasConvertible.to_pandas\u001b[1;34m()\u001b[0m\n\u001b[0;32m    884\u001b[0m )\n\u001b[1;32m--> 885\u001b[0m return self._to_pandas(options, categories=categories,\n\u001b[0;32m    886\u001b[0m                        ignore_metadata=ignore_metadata,\n",
      "File \u001b[1;32m~\\.conda\\envs\\clust\\Lib\\site-packages\\pyarrow\\table.pxi:5002\u001b[0m, in \u001b[0;36mpyarrow.lib.Table._to_pandas\u001b[1;34m()\u001b[0m\n\u001b[0;32m   5001\u001b[0m from pyarrow.pandas_compat import table_to_dataframe\n\u001b[1;32m-> 5002\u001b[0m df = table_to_dataframe(\n\u001b[0;32m   5003\u001b[0m     options, self, categories,\n",
      "File \u001b[1;32m~\\.conda\\envs\\clust\\Lib\\site-packages\\pyarrow\\pandas_compat.py:784\u001b[0m, in \u001b[0;36mtable_to_dataframe\u001b[1;34m()\u001b[0m\n\u001b[0;32m    783\u001b[0m column_names \u001b[38;5;241m=\u001b[39m table\u001b[38;5;241m.\u001b[39mcolumn_names\n\u001b[1;32m--> 784\u001b[0m result \u001b[38;5;241m=\u001b[39m pa\u001b[38;5;241m.\u001b[39mlib\u001b[38;5;241m.\u001b[39mtable_to_blocks(options, table, categories,\n\u001b[0;32m    785\u001b[0m                                 \u001b[38;5;28mlist\u001b[39m(ext_columns_dtypes\u001b[38;5;241m.\u001b[39mkeys()))\n\u001b[0;32m    786\u001b[0m \u001b[38;5;28;01mif\u001b[39;00m _pandas_api\u001b[38;5;241m.\u001b[39mis_ge_v3():\n",
      "File \u001b[1;32m~\\.conda\\envs\\clust\\Lib\\site-packages\\pyarrow\\table.pxi:3941\u001b[0m, in \u001b[0;36mpyarrow.lib.table_to_blocks\u001b[1;34m()\u001b[0m\n\u001b[0;32m   3940\u001b[0m with nogil:\n\u001b[1;32m-> 3941\u001b[0m     check_status(\n\u001b[0;32m   3942\u001b[0m         libarrow_python.ConvertTableToPandas(c_options, move(c_table),\n",
      "File \u001b[1;32m~\\.conda\\envs\\clust\\Lib\\site-packages\\pyarrow\\error.pxi:92\u001b[0m, in \u001b[0;36mpyarrow.lib.check_status\u001b[1;34m()\u001b[0m\n\u001b[0;32m     91\u001b[0m \n\u001b[1;32m---> 92\u001b[0m         raise convert_status(status)\n\u001b[0;32m     93\u001b[0m \n",
      "\u001b[1;31mArrowMemoryError\u001b[0m: malloc of size 1190842688 failed",
      "\nThe above exception was the direct cause of the following exception:\n",
      "\u001b[1;31mRuntimeError\u001b[0m                              Traceback (most recent call last)",
      "Cell \u001b[1;32mIn[22], line 3\u001b[0m\n\u001b[0;32m      1\u001b[0m output_parquet \u001b[38;5;241m=\u001b[39m process_path\u001b[38;5;241m/\u001b[39m\u001b[38;5;124m\"\u001b[39m\u001b[38;5;124mtemp\u001b[39m\u001b[38;5;124m\"\u001b[39m\u001b[38;5;241m/\u001b[39m\u001b[38;5;124m\"\u001b[39m\u001b[38;5;124mtest_case2.parquet\u001b[39m\u001b[38;5;124m\"\u001b[39m\n\u001b[0;32m      2\u001b[0m output_parquet\n\u001b[1;32m----> 3\u001b[0m profit_risk\u001b[38;5;241m.\u001b[39mto_parquet(output_parquet)\n",
      "File \u001b[1;32m~\\.conda\\envs\\clust\\Lib\\site-packages\\dask_expr\\_collection.py:3298\u001b[0m, in \u001b[0;36mDataFrame.to_parquet\u001b[1;34m(self, path, **kwargs)\u001b[0m\n\u001b[0;32m   3295\u001b[0m \u001b[38;5;28;01mdef\u001b[39;00m \u001b[38;5;21mto_parquet\u001b[39m(\u001b[38;5;28mself\u001b[39m, path, \u001b[38;5;241m*\u001b[39m\u001b[38;5;241m*\u001b[39mkwargs):\n\u001b[0;32m   3296\u001b[0m     \u001b[38;5;28;01mfrom\u001b[39;00m \u001b[38;5;21;01mdask_expr\u001b[39;00m\u001b[38;5;21;01m.\u001b[39;00m\u001b[38;5;21;01mio\u001b[39;00m\u001b[38;5;21;01m.\u001b[39;00m\u001b[38;5;21;01mparquet\u001b[39;00m \u001b[38;5;28;01mimport\u001b[39;00m to_parquet\n\u001b[1;32m-> 3298\u001b[0m     \u001b[38;5;28;01mreturn\u001b[39;00m to_parquet(\u001b[38;5;28mself\u001b[39m, path, \u001b[38;5;241m*\u001b[39m\u001b[38;5;241m*\u001b[39mkwargs)\n",
      "File \u001b[1;32m~\\.conda\\envs\\clust\\Lib\\site-packages\\dask_expr\\io\\parquet.py:653\u001b[0m, in \u001b[0;36mto_parquet\u001b[1;34m(df, path, compression, write_index, append, overwrite, ignore_divisions, partition_on, storage_options, custom_metadata, write_metadata_file, compute, compute_kwargs, schema, name_function, filesystem, engine, **kwargs)\u001b[0m\n\u001b[0;32m    632\u001b[0m     out \u001b[38;5;241m=\u001b[39m new_collection(\n\u001b[0;32m    633\u001b[0m         ToParquet(\n\u001b[0;32m    634\u001b[0m             df,\n\u001b[1;32m   (...)\u001b[0m\n\u001b[0;32m    649\u001b[0m         )\n\u001b[0;32m    650\u001b[0m     )\n\u001b[0;32m    652\u001b[0m \u001b[38;5;28;01mif\u001b[39;00m compute:\n\u001b[1;32m--> 653\u001b[0m     out \u001b[38;5;241m=\u001b[39m out\u001b[38;5;241m.\u001b[39mcompute(\u001b[38;5;241m*\u001b[39m\u001b[38;5;241m*\u001b[39mcompute_kwargs)\n\u001b[0;32m    655\u001b[0m \u001b[38;5;66;03m# Invalidate the filesystem listing cache for the output path after write.\u001b[39;00m\n\u001b[0;32m    656\u001b[0m \u001b[38;5;66;03m# We do this before returning, even if `compute=False`. This helps ensure\u001b[39;00m\n\u001b[0;32m    657\u001b[0m \u001b[38;5;66;03m# that reading files that were just written succeeds.\u001b[39;00m\n\u001b[0;32m    658\u001b[0m fs\u001b[38;5;241m.\u001b[39minvalidate_cache(path)\n",
      "File \u001b[1;32m~\\.conda\\envs\\clust\\Lib\\site-packages\\dask_expr\\_collection.py:477\u001b[0m, in \u001b[0;36mFrameBase.compute\u001b[1;34m(self, fuse, **kwargs)\u001b[0m\n\u001b[0;32m    475\u001b[0m     out \u001b[38;5;241m=\u001b[39m out\u001b[38;5;241m.\u001b[39mrepartition(npartitions\u001b[38;5;241m=\u001b[39m\u001b[38;5;241m1\u001b[39m)\n\u001b[0;32m    476\u001b[0m out \u001b[38;5;241m=\u001b[39m out\u001b[38;5;241m.\u001b[39moptimize(fuse\u001b[38;5;241m=\u001b[39mfuse)\n\u001b[1;32m--> 477\u001b[0m \u001b[38;5;28;01mreturn\u001b[39;00m DaskMethodsMixin\u001b[38;5;241m.\u001b[39mcompute(out, \u001b[38;5;241m*\u001b[39m\u001b[38;5;241m*\u001b[39mkwargs)\n",
      "File \u001b[1;32m~\\.conda\\envs\\clust\\Lib\\site-packages\\dask\\base.py:376\u001b[0m, in \u001b[0;36mDaskMethodsMixin.compute\u001b[1;34m(self, **kwargs)\u001b[0m\n\u001b[0;32m    352\u001b[0m \u001b[38;5;28;01mdef\u001b[39;00m \u001b[38;5;21mcompute\u001b[39m(\u001b[38;5;28mself\u001b[39m, \u001b[38;5;241m*\u001b[39m\u001b[38;5;241m*\u001b[39mkwargs):\n\u001b[0;32m    353\u001b[0m \u001b[38;5;250m    \u001b[39m\u001b[38;5;124;03m\"\"\"Compute this dask collection\u001b[39;00m\n\u001b[0;32m    354\u001b[0m \n\u001b[0;32m    355\u001b[0m \u001b[38;5;124;03m    This turns a lazy Dask collection into its in-memory equivalent.\u001b[39;00m\n\u001b[1;32m   (...)\u001b[0m\n\u001b[0;32m    374\u001b[0m \u001b[38;5;124;03m    dask.compute\u001b[39;00m\n\u001b[0;32m    375\u001b[0m \u001b[38;5;124;03m    \"\"\"\u001b[39;00m\n\u001b[1;32m--> 376\u001b[0m     (result,) \u001b[38;5;241m=\u001b[39m compute(\u001b[38;5;28mself\u001b[39m, traverse\u001b[38;5;241m=\u001b[39m\u001b[38;5;28;01mFalse\u001b[39;00m, \u001b[38;5;241m*\u001b[39m\u001b[38;5;241m*\u001b[39mkwargs)\n\u001b[0;32m    377\u001b[0m     \u001b[38;5;28;01mreturn\u001b[39;00m result\n",
      "File \u001b[1;32m~\\.conda\\envs\\clust\\Lib\\site-packages\\dask\\base.py:664\u001b[0m, in \u001b[0;36mcompute\u001b[1;34m(traverse, optimize_graph, scheduler, get, *args, **kwargs)\u001b[0m\n\u001b[0;32m    661\u001b[0m     postcomputes\u001b[38;5;241m.\u001b[39mappend(x\u001b[38;5;241m.\u001b[39m__dask_postcompute__())\n\u001b[0;32m    663\u001b[0m \u001b[38;5;28;01mwith\u001b[39;00m shorten_traceback():\n\u001b[1;32m--> 664\u001b[0m     results \u001b[38;5;241m=\u001b[39m schedule(dsk, keys, \u001b[38;5;241m*\u001b[39m\u001b[38;5;241m*\u001b[39mkwargs)\n\u001b[0;32m    666\u001b[0m \u001b[38;5;28;01mreturn\u001b[39;00m repack([f(r, \u001b[38;5;241m*\u001b[39ma) \u001b[38;5;28;01mfor\u001b[39;00m r, (f, a) \u001b[38;5;129;01min\u001b[39;00m \u001b[38;5;28mzip\u001b[39m(results, postcomputes)])\n",
      "File \u001b[1;32m~\\.conda\\envs\\clust\\Lib\\site-packages\\distributed\\shuffle\\_shuffle.py:97\u001b[0m, in \u001b[0;36mshuffle_unpack\u001b[1;34m()\u001b[0m\n\u001b[0;32m     94\u001b[0m \u001b[38;5;28;01mdef\u001b[39;00m \u001b[38;5;21mshuffle_unpack\u001b[39m(\n\u001b[0;32m     95\u001b[0m     \u001b[38;5;28mid\u001b[39m: ShuffleId, output_partition: \u001b[38;5;28mint\u001b[39m, barrier_run_id: \u001b[38;5;28mint\u001b[39m\n\u001b[0;32m     96\u001b[0m ) \u001b[38;5;241m-\u001b[39m\u001b[38;5;241m>\u001b[39m pd\u001b[38;5;241m.\u001b[39mDataFrame:\n\u001b[1;32m---> 97\u001b[0m     \u001b[38;5;28;01mwith\u001b[39;00m handle_unpack_errors(\u001b[38;5;28mid\u001b[39m):\n\u001b[0;32m     98\u001b[0m         \u001b[38;5;28;01mreturn\u001b[39;00m get_worker_plugin()\u001b[38;5;241m.\u001b[39mget_output_partition(\n\u001b[0;32m     99\u001b[0m             \u001b[38;5;28mid\u001b[39m, barrier_run_id, output_partition\n\u001b[0;32m    100\u001b[0m         )\n",
      "File \u001b[1;32m~\\.conda\\envs\\clust\\Lib\\contextlib.py:158\u001b[0m, in \u001b[0;36m__exit__\u001b[1;34m()\u001b[0m\n\u001b[0;32m    156\u001b[0m     value \u001b[38;5;241m=\u001b[39m typ()\n\u001b[0;32m    157\u001b[0m \u001b[38;5;28;01mtry\u001b[39;00m:\n\u001b[1;32m--> 158\u001b[0m     \u001b[38;5;28mself\u001b[39m\u001b[38;5;241m.\u001b[39mgen\u001b[38;5;241m.\u001b[39mthrow(value)\n\u001b[0;32m    159\u001b[0m \u001b[38;5;28;01mexcept\u001b[39;00m \u001b[38;5;167;01mStopIteration\u001b[39;00m \u001b[38;5;28;01mas\u001b[39;00m exc:\n\u001b[0;32m    160\u001b[0m     \u001b[38;5;66;03m# Suppress StopIteration *unless* it's the same exception that\u001b[39;00m\n\u001b[0;32m    161\u001b[0m     \u001b[38;5;66;03m# was passed to throw().  This prevents a StopIteration\u001b[39;00m\n\u001b[0;32m    162\u001b[0m     \u001b[38;5;66;03m# raised inside the \"with\" statement from being suppressed.\u001b[39;00m\n\u001b[0;32m    163\u001b[0m     \u001b[38;5;28;01mreturn\u001b[39;00m exc \u001b[38;5;129;01mis\u001b[39;00m \u001b[38;5;129;01mnot\u001b[39;00m value\n",
      "File \u001b[1;32m~\\.conda\\envs\\clust\\Lib\\site-packages\\distributed\\shuffle\\_core.py:526\u001b[0m, in \u001b[0;36mhandle_unpack_errors\u001b[1;34m()\u001b[0m\n\u001b[0;32m    524\u001b[0m     \u001b[38;5;28;01mraise\u001b[39;00m\n\u001b[0;32m    525\u001b[0m \u001b[38;5;28;01mexcept\u001b[39;00m \u001b[38;5;167;01mException\u001b[39;00m \u001b[38;5;28;01mas\u001b[39;00m e:\n\u001b[1;32m--> 526\u001b[0m     \u001b[38;5;28;01mraise\u001b[39;00m \u001b[38;5;167;01mRuntimeError\u001b[39;00m(\u001b[38;5;124mf\u001b[39m\u001b[38;5;124m\"\u001b[39m\u001b[38;5;124mP2P shuffling \u001b[39m\u001b[38;5;132;01m{\u001b[39;00m\u001b[38;5;28mid\u001b[39m\u001b[38;5;132;01m}\u001b[39;00m\u001b[38;5;124m failed during unpack phase\u001b[39m\u001b[38;5;124m\"\u001b[39m) \u001b[38;5;28;01mfrom\u001b[39;00m \u001b[38;5;21;01me\u001b[39;00m\n",
      "\u001b[1;31mRuntimeError\u001b[0m: P2P shuffling 3735961f20e29c8c7a7f914e049d27a7 failed during unpack phase"
     ]
    }
   ],
   "source": [
    "output_parquet = process_path/\"temp\"/\"test_case2.parquet\"\n",
    "output_parquet\n",
    "profit_risk.to_parquet(output_parquet)"
   ]
  },
  {
   "cell_type": "markdown",
   "id": "6e019c18-fb8b-48a7-be14-60827329a608",
   "metadata": {
    "jp-MarkdownHeadingCollapsed": true
   },
   "source": [
    "### Learning 2.c) Create pseudo-key as index\n",
    "- `np.int64` support data range (-9_223_372_036_854_775_808 to 9_223_372_036_854_775_807)\n",
    "- Could create key on-the-fly , merge and materialized."
   ]
  },
  {
   "cell_type": "code",
   "execution_count": 9,
   "id": "5a304838-c9a2-4bde-b619-b3c4471b51ab",
   "metadata": {},
   "outputs": [
    {
     "data": {
      "text/plain": [
       "uniq_key    int64\n",
       "mnth_cd     int32\n",
       "dtype: object"
      ]
     },
     "execution_count": 9,
     "metadata": {},
     "output_type": "execute_result"
    }
   ],
   "source": [
    "fin_profit.loc[:, [\"uniq_key\", \"mnth_cd\"]].dtypes"
   ]
  },
  {
   "cell_type": "code",
   "execution_count": 10,
   "id": "997d375b-559f-49f9-8c12-eceee52ff530",
   "metadata": {},
   "outputs": [
    {
     "data": {
      "text/plain": [
       "uniq_key    int64\n",
       "mnth_cd     int32\n",
       "dtype: object"
      ]
     },
     "execution_count": 10,
     "metadata": {},
     "output_type": "execute_result"
    }
   ],
   "source": [
    "risk_mob.loc[:, [\"uniq_key\", \"mnth_cd\"]].dtypes"
   ]
  },
  {
   "cell_type": "code",
   "execution_count": 11,
   "id": "1a2d2bbe-ab66-41a1-a914-43c38fbe7e54",
   "metadata": {},
   "outputs": [
    {
     "data": {
      "text/plain": [
       "5266283.0"
      ]
     },
     "execution_count": 11,
     "metadata": {},
     "output_type": "execute_result"
    }
   ],
   "source": [
    "fin_profit[\"uniq_key\"].max().compute()"
   ]
  },
  {
   "cell_type": "code",
   "execution_count": 12,
   "id": "8090c8a1-e6ab-4958-ace0-115e86b42f65",
   "metadata": {},
   "outputs": [
    {
     "data": {
      "text/plain": [
       "5266283"
      ]
     },
     "execution_count": 12,
     "metadata": {},
     "output_type": "execute_result"
    }
   ],
   "source": [
    "risk_mob[\"uniq_key\"].max().compute()"
   ]
  },
  {
   "cell_type": "code",
   "execution_count": 20,
   "id": "48d7ca20-1b70-45eb-9cc1-c011bb67eb43",
   "metadata": {},
   "outputs": [],
   "source": [
    "def create_pseudo_key(ddf):\n",
    "    ddf[\"key\"] = ddf[\"mnth_cd\"]*1e10 + ddf[\"uniq_key\"]\n",
    "    return ddf"
   ]
  },
  {
   "cell_type": "code",
   "execution_count": 24,
   "id": "a7ef2fa7-6fac-4a18-99d1-9daaebd7156c",
   "metadata": {},
   "outputs": [],
   "source": [
    "fin_profit_key = create_pseudo_key(fin_profit)\n",
    "risk_mob_key = create_pseudo_key(risk_mob)"
   ]
  },
  {
   "cell_type": "code",
   "execution_count": 25,
   "id": "e31118fb-8fa9-43d9-86f8-e30752a0dc84",
   "metadata": {},
   "outputs": [],
   "source": [
    "fin_profit_key = fin_profit_key.set_index(\"key\", partition_size=\"100MB\")\n",
    "risk_mob_key = risk_mob_key.set_index(\"key\", partition_size=\"100MB\")"
   ]
  },
  {
   "cell_type": "code",
   "execution_count": 26,
   "id": "594fff4e-8fb6-406b-b9b9-3c409d3d7590",
   "metadata": {},
   "outputs": [],
   "source": [
    "profit_risk = fin_profit_key.merge(risk_mob_key, left_index=True, right_index=True, how=\"inner\")"
   ]
  },
  {
   "cell_type": "code",
   "execution_count": 27,
   "id": "6445a97a-d503-4501-b93e-f5b138e0656d",
   "metadata": {},
   "outputs": [
    {
     "name": "stderr",
     "output_type": "stream",
     "text": [
      "C:\\Users\\o_thanakrit.b\\.conda\\envs\\clust\\Lib\\site-packages\\distributed\\client.py:3358: UserWarning: Sending large graph of size 15.47 MiB.\n",
      "This may cause some slowdown.\n",
      "Consider loading the data with Dask directly\n",
      " or using futures or delayed objects to embed the data into the graph without repetition.\n",
      "See also https://docs.dask.org/en/stable/best-practices.html#load-data-with-dask for more information.\n",
      "  warnings.warn(\n",
      "C:\\Users\\o_thanakrit.b\\.conda\\envs\\clust\\Lib\\site-packages\\distributed\\client.py:3358: UserWarning: Sending large graph of size 12.22 MiB.\n",
      "This may cause some slowdown.\n",
      "Consider loading the data with Dask directly\n",
      " or using futures or delayed objects to embed the data into the graph without repetition.\n",
      "See also https://docs.dask.org/en/stable/best-practices.html#load-data-with-dask for more information.\n",
      "  warnings.warn(\n"
     ]
    }
   ],
   "source": [
    "output_parquet = process_path/\"temp\"/\"test_case2.parquet\"\n",
    "output_parquet\n",
    "profit_risk.to_parquet(output_parquet)"
   ]
  },
  {
   "cell_type": "code",
   "execution_count": 28,
   "id": "8a57c3da-62c5-4eb4-92a7-7230e5e88d93",
   "metadata": {},
   "outputs": [],
   "source": [
    "ddf = dd.read_parquet(output_parquet)"
   ]
  },
  {
   "cell_type": "code",
   "execution_count": 30,
   "id": "23a9de9c-3b13-4a03-b757-000b7599921c",
   "metadata": {},
   "outputs": [
    {
     "data": {
      "text/plain": [
       "cc_cst_real                                 int64\n",
       "uniq_key_x                                  int64\n",
       "net_interest_rec                          float64\n",
       "mftp_total                                float64\n",
       "annual_fee                                float64\n",
       "interchange_fee                           float64\n",
       "merchant_discount_fee                     float64\n",
       "cash_adv_fee                              float64\n",
       "gain_and_loss                             float64\n",
       "collection_fee                            float64\n",
       "fee_waived_off                            float64\n",
       "fee_paid                                  float64\n",
       "debt_collection_exp                       float64\n",
       "fee_paid_visa                             float64\n",
       "membership_fee                            float64\n",
       "issuer_license_fee                        float64\n",
       "total_issuer_domestic                     float64\n",
       "total_issuer_inter                        float64\n",
       "total_account_card_fee                    float64\n",
       "total_concierge_fee                       float64\n",
       "net_total_income                          float64\n",
       "expense                                   float64\n",
       "marketing_exp                             float64\n",
       "cashback                                  float64\n",
       "loyalty_point_redem                       float64\n",
       "activity_based_costing_expense            float64\n",
       "specific_business_tax                     float64\n",
       "fraud_loss                                float64\n",
       "credit_limit_card                         float64\n",
       "credit_limit_cust                         float64\n",
       "credit_utilization                        float64\n",
       "mnth_cd_x                                   int32\n",
       "fund_rev                                  float64\n",
       "fee_rev                                   float64\n",
       "var_cost                                  float64\n",
       "fix_cost                                  float64\n",
       "profit                                    float64\n",
       "uniq_key_y                                  int64\n",
       "opn_dt                             datetime64[ns]\n",
       "card_status                       string[pyarrow]\n",
       "past_due_amt                              float64\n",
       "stmt_amt                                  float64\n",
       "mth_end_bal                               float64\n",
       "crn_pymt_due_amt                          float64\n",
       "util                                      float64\n",
       "cr_lmt_amt                                float64\n",
       "acq_cnl                           string[pyarrow]\n",
       "lmt_at_app                                float64\n",
       "mnth_cd_y                                   int32\n",
       "MOB                                       float64\n",
       "behv                              string[pyarrow]\n",
       "pymt_amt                                  float64\n",
       "dlq_bck                           string[pyarrow]\n",
       "ews                               string[pyarrow]\n",
       "b_scor                            string[pyarrow]\n",
       "dtype: object"
      ]
     },
     "execution_count": 30,
     "metadata": {},
     "output_type": "execute_result"
    }
   ],
   "source": [
    "ddf.dtypes"
   ]
  },
  {
   "cell_type": "code",
   "execution_count": 34,
   "id": "2843915a-303a-4be9-9812-f5a8f0e24f44",
   "metadata": {},
   "outputs": [
    {
     "data": {
      "text/plain": [
       "7755"
      ]
     },
     "execution_count": 34,
     "metadata": {},
     "output_type": "execute_result"
    }
   ],
   "source": [
    "ddf.npartitions"
   ]
  },
  {
   "cell_type": "code",
   "execution_count": 36,
   "id": "b02ea04a-ee45-4552-8666-0fe45464bfc1",
   "metadata": {},
   "outputs": [
    {
     "data": {
      "text/plain": [
       "5040042"
      ]
     },
     "execution_count": 36,
     "metadata": {},
     "output_type": "execute_result"
    }
   ],
   "source": [
    "ddf[\"uniq_key_x\"].drop_duplicates().count().compute()"
   ]
  },
  {
   "cell_type": "code",
   "execution_count": null,
   "id": "d3766631-6628-4695-a34d-d2a914a8311f",
   "metadata": {},
   "outputs": [],
   "source": []
  }
 ],
 "metadata": {
  "kernelspec": {
   "display_name": "Python 3 (ipykernel)",
   "language": "python",
   "name": "python3"
  },
  "language_info": {
   "codemirror_mode": {
    "name": "ipython",
    "version": 3
   },
   "file_extension": ".py",
   "mimetype": "text/x-python",
   "name": "python",
   "nbconvert_exporter": "python",
   "pygments_lexer": "ipython3",
   "version": "3.12.3"
  }
 },
 "nbformat": 4,
 "nbformat_minor": 5
}
