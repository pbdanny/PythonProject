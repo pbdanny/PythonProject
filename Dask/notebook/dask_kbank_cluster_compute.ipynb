{
 "cells": [
  {
   "cell_type": "code",
   "execution_count": 1,
   "metadata": {},
   "outputs": [
    {
     "name": "stderr",
     "output_type": "stream",
     "text": [
      "2025-01-10 13:06:04,852 - distributed.shuffle._scheduler_plugin - WARNING - Shuffle 245ebc6b4cc13edf382dd4fd6ea97288 initialized by task ('shuffle-transfer-245ebc6b4cc13edf382dd4fd6ea97288', 7) executed on worker tcp://127.0.0.1:54480\n",
      "2025-01-10 13:06:07,028 - distributed.shuffle._scheduler_plugin - WARNING - Shuffle 245ebc6b4cc13edf382dd4fd6ea97288 deactivated due to stimulus 'task-finished-1736489167.028161'\n"
     ]
    }
   ],
   "source": [
    "import dask\n",
    "from dask import dataframe as dd\n",
    "import warnings\n",
    "\n",
    "from dask.distributed import LocalCluster\n",
    "\n",
    "warnings.filterwarnings(action='ignore', category=FutureWarning)\n",
    "\n",
    "# with dask.config.set({\"dataframe.shuffle.method\": \"tasks\"}):\n",
    "dask.config.set({\n",
    "    \"distributed.workers.memory.target\": 0.75,\n",
    "    \"distributed.workers.memory.spill\": 0.85,\n",
    "    \"distributed.workers.memory.terminate\": 0.98,\n",
    "    \"dataframe.shuffle.method\": \"p2p\"})\n",
    "client = LocalCluster(n_workers=4).get_client() # reduce # of worker for larger worker memory"
   ]
  },
  {
   "cell_type": "code",
   "execution_count": 2,
   "metadata": {},
   "outputs": [
    {
     "data": {
      "text/html": [
       "<div>\n",
       "    <div style=\"width: 24px; height: 24px; background-color: #e1e1e1; border: 3px solid #9D9D9D; border-radius: 5px; position: absolute;\"> </div>\n",
       "    <div style=\"margin-left: 48px;\">\n",
       "        <h3 style=\"margin-bottom: 0px;\">Client</h3>\n",
       "        <p style=\"color: #9D9D9D; margin-bottom: 0px;\">Client-e8a0b5e0-cf18-11ef-b444-1091d1044c72</p>\n",
       "        <table style=\"width: 100%; text-align: left;\">\n",
       "\n",
       "        <tr>\n",
       "        \n",
       "            <td style=\"text-align: left;\"><strong>Connection method:</strong> Cluster object</td>\n",
       "            <td style=\"text-align: left;\"><strong>Cluster type:</strong> distributed.LocalCluster</td>\n",
       "        \n",
       "        </tr>\n",
       "\n",
       "        \n",
       "            <tr>\n",
       "                <td style=\"text-align: left;\">\n",
       "                    <strong>Dashboard: </strong> <a href=\"http://127.0.0.1:8787/status\" target=\"_blank\">http://127.0.0.1:8787/status</a>\n",
       "                </td>\n",
       "                <td style=\"text-align: left;\"></td>\n",
       "            </tr>\n",
       "        \n",
       "\n",
       "        </table>\n",
       "\n",
       "        \n",
       "\n",
       "        \n",
       "            <details>\n",
       "            <summary style=\"margin-bottom: 20px;\"><h3 style=\"display: inline;\">Cluster Info</h3></summary>\n",
       "            <div class=\"jp-RenderedHTMLCommon jp-RenderedHTML jp-mod-trusted jp-OutputArea-output\">\n",
       "    <div style=\"width: 24px; height: 24px; background-color: #e1e1e1; border: 3px solid #9D9D9D; border-radius: 5px; position: absolute;\">\n",
       "    </div>\n",
       "    <div style=\"margin-left: 48px;\">\n",
       "        <h3 style=\"margin-bottom: 0px; margin-top: 0px;\">LocalCluster</h3>\n",
       "        <p style=\"color: #9D9D9D; margin-bottom: 0px;\">82c41fb8</p>\n",
       "        <table style=\"width: 100%; text-align: left;\">\n",
       "            <tr>\n",
       "                <td style=\"text-align: left;\">\n",
       "                    <strong>Dashboard:</strong> <a href=\"http://127.0.0.1:8787/status\" target=\"_blank\">http://127.0.0.1:8787/status</a>\n",
       "                </td>\n",
       "                <td style=\"text-align: left;\">\n",
       "                    <strong>Workers:</strong> 4\n",
       "                </td>\n",
       "            </tr>\n",
       "            <tr>\n",
       "                <td style=\"text-align: left;\">\n",
       "                    <strong>Total threads:</strong> 12\n",
       "                </td>\n",
       "                <td style=\"text-align: left;\">\n",
       "                    <strong>Total memory:</strong> 29.66 GiB\n",
       "                </td>\n",
       "            </tr>\n",
       "            \n",
       "            <tr>\n",
       "    <td style=\"text-align: left;\"><strong>Status:</strong> running</td>\n",
       "    <td style=\"text-align: left;\"><strong>Using processes:</strong> True</td>\n",
       "</tr>\n",
       "\n",
       "            \n",
       "        </table>\n",
       "\n",
       "        <details>\n",
       "            <summary style=\"margin-bottom: 20px;\">\n",
       "                <h3 style=\"display: inline;\">Scheduler Info</h3>\n",
       "            </summary>\n",
       "\n",
       "            <div style=\"\">\n",
       "    <div>\n",
       "        <div style=\"width: 24px; height: 24px; background-color: #FFF7E5; border: 3px solid #FF6132; border-radius: 5px; position: absolute;\"> </div>\n",
       "        <div style=\"margin-left: 48px;\">\n",
       "            <h3 style=\"margin-bottom: 0px;\">Scheduler</h3>\n",
       "            <p style=\"color: #9D9D9D; margin-bottom: 0px;\">Scheduler-a5923c4a-ec9f-4b05-8a3c-4a255877d90e</p>\n",
       "            <table style=\"width: 100%; text-align: left;\">\n",
       "                <tr>\n",
       "                    <td style=\"text-align: left;\">\n",
       "                        <strong>Comm:</strong> tcp://127.0.0.1:54459\n",
       "                    </td>\n",
       "                    <td style=\"text-align: left;\">\n",
       "                        <strong>Workers:</strong> 4\n",
       "                    </td>\n",
       "                </tr>\n",
       "                <tr>\n",
       "                    <td style=\"text-align: left;\">\n",
       "                        <strong>Dashboard:</strong> <a href=\"http://127.0.0.1:8787/status\" target=\"_blank\">http://127.0.0.1:8787/status</a>\n",
       "                    </td>\n",
       "                    <td style=\"text-align: left;\">\n",
       "                        <strong>Total threads:</strong> 12\n",
       "                    </td>\n",
       "                </tr>\n",
       "                <tr>\n",
       "                    <td style=\"text-align: left;\">\n",
       "                        <strong>Started:</strong> Just now\n",
       "                    </td>\n",
       "                    <td style=\"text-align: left;\">\n",
       "                        <strong>Total memory:</strong> 29.66 GiB\n",
       "                    </td>\n",
       "                </tr>\n",
       "            </table>\n",
       "        </div>\n",
       "    </div>\n",
       "\n",
       "    <details style=\"margin-left: 48px;\">\n",
       "        <summary style=\"margin-bottom: 20px;\">\n",
       "            <h3 style=\"display: inline;\">Workers</h3>\n",
       "        </summary>\n",
       "\n",
       "        \n",
       "        <div style=\"margin-bottom: 20px;\">\n",
       "            <div style=\"width: 24px; height: 24px; background-color: #DBF5FF; border: 3px solid #4CC9FF; border-radius: 5px; position: absolute;\"> </div>\n",
       "            <div style=\"margin-left: 48px;\">\n",
       "            <details>\n",
       "                <summary>\n",
       "                    <h4 style=\"margin-bottom: 0px; display: inline;\">Worker: 0</h4>\n",
       "                </summary>\n",
       "                <table style=\"width: 100%; text-align: left;\">\n",
       "                    <tr>\n",
       "                        <td style=\"text-align: left;\">\n",
       "                            <strong>Comm: </strong> tcp://127.0.0.1:54479\n",
       "                        </td>\n",
       "                        <td style=\"text-align: left;\">\n",
       "                            <strong>Total threads: </strong> 3\n",
       "                        </td>\n",
       "                    </tr>\n",
       "                    <tr>\n",
       "                        <td style=\"text-align: left;\">\n",
       "                            <strong>Dashboard: </strong> <a href=\"http://127.0.0.1:54484/status\" target=\"_blank\">http://127.0.0.1:54484/status</a>\n",
       "                        </td>\n",
       "                        <td style=\"text-align: left;\">\n",
       "                            <strong>Memory: </strong> 7.42 GiB\n",
       "                        </td>\n",
       "                    </tr>\n",
       "                    <tr>\n",
       "                        <td style=\"text-align: left;\">\n",
       "                            <strong>Nanny: </strong> tcp://127.0.0.1:54462\n",
       "                        </td>\n",
       "                        <td style=\"text-align: left;\"></td>\n",
       "                    </tr>\n",
       "                    <tr>\n",
       "                        <td colspan=\"2\" style=\"text-align: left;\">\n",
       "                            <strong>Local directory: </strong> C:\\Users\\O_THAN~1.B\\AppData\\Local\\Temp\\dask-scratch-space\\worker-zxzdp2tm\n",
       "                        </td>\n",
       "                    </tr>\n",
       "\n",
       "                    \n",
       "\n",
       "                    \n",
       "\n",
       "                </table>\n",
       "            </details>\n",
       "            </div>\n",
       "        </div>\n",
       "        \n",
       "        <div style=\"margin-bottom: 20px;\">\n",
       "            <div style=\"width: 24px; height: 24px; background-color: #DBF5FF; border: 3px solid #4CC9FF; border-radius: 5px; position: absolute;\"> </div>\n",
       "            <div style=\"margin-left: 48px;\">\n",
       "            <details>\n",
       "                <summary>\n",
       "                    <h4 style=\"margin-bottom: 0px; display: inline;\">Worker: 1</h4>\n",
       "                </summary>\n",
       "                <table style=\"width: 100%; text-align: left;\">\n",
       "                    <tr>\n",
       "                        <td style=\"text-align: left;\">\n",
       "                            <strong>Comm: </strong> tcp://127.0.0.1:54478\n",
       "                        </td>\n",
       "                        <td style=\"text-align: left;\">\n",
       "                            <strong>Total threads: </strong> 3\n",
       "                        </td>\n",
       "                    </tr>\n",
       "                    <tr>\n",
       "                        <td style=\"text-align: left;\">\n",
       "                            <strong>Dashboard: </strong> <a href=\"http://127.0.0.1:54482/status\" target=\"_blank\">http://127.0.0.1:54482/status</a>\n",
       "                        </td>\n",
       "                        <td style=\"text-align: left;\">\n",
       "                            <strong>Memory: </strong> 7.42 GiB\n",
       "                        </td>\n",
       "                    </tr>\n",
       "                    <tr>\n",
       "                        <td style=\"text-align: left;\">\n",
       "                            <strong>Nanny: </strong> tcp://127.0.0.1:54464\n",
       "                        </td>\n",
       "                        <td style=\"text-align: left;\"></td>\n",
       "                    </tr>\n",
       "                    <tr>\n",
       "                        <td colspan=\"2\" style=\"text-align: left;\">\n",
       "                            <strong>Local directory: </strong> C:\\Users\\O_THAN~1.B\\AppData\\Local\\Temp\\dask-scratch-space\\worker-znxft4q8\n",
       "                        </td>\n",
       "                    </tr>\n",
       "\n",
       "                    \n",
       "\n",
       "                    \n",
       "\n",
       "                </table>\n",
       "            </details>\n",
       "            </div>\n",
       "        </div>\n",
       "        \n",
       "        <div style=\"margin-bottom: 20px;\">\n",
       "            <div style=\"width: 24px; height: 24px; background-color: #DBF5FF; border: 3px solid #4CC9FF; border-radius: 5px; position: absolute;\"> </div>\n",
       "            <div style=\"margin-left: 48px;\">\n",
       "            <details>\n",
       "                <summary>\n",
       "                    <h4 style=\"margin-bottom: 0px; display: inline;\">Worker: 2</h4>\n",
       "                </summary>\n",
       "                <table style=\"width: 100%; text-align: left;\">\n",
       "                    <tr>\n",
       "                        <td style=\"text-align: left;\">\n",
       "                            <strong>Comm: </strong> tcp://127.0.0.1:54481\n",
       "                        </td>\n",
       "                        <td style=\"text-align: left;\">\n",
       "                            <strong>Total threads: </strong> 3\n",
       "                        </td>\n",
       "                    </tr>\n",
       "                    <tr>\n",
       "                        <td style=\"text-align: left;\">\n",
       "                            <strong>Dashboard: </strong> <a href=\"http://127.0.0.1:54488/status\" target=\"_blank\">http://127.0.0.1:54488/status</a>\n",
       "                        </td>\n",
       "                        <td style=\"text-align: left;\">\n",
       "                            <strong>Memory: </strong> 7.42 GiB\n",
       "                        </td>\n",
       "                    </tr>\n",
       "                    <tr>\n",
       "                        <td style=\"text-align: left;\">\n",
       "                            <strong>Nanny: </strong> tcp://127.0.0.1:54466\n",
       "                        </td>\n",
       "                        <td style=\"text-align: left;\"></td>\n",
       "                    </tr>\n",
       "                    <tr>\n",
       "                        <td colspan=\"2\" style=\"text-align: left;\">\n",
       "                            <strong>Local directory: </strong> C:\\Users\\O_THAN~1.B\\AppData\\Local\\Temp\\dask-scratch-space\\worker-rgcx1jcv\n",
       "                        </td>\n",
       "                    </tr>\n",
       "\n",
       "                    \n",
       "\n",
       "                    \n",
       "\n",
       "                </table>\n",
       "            </details>\n",
       "            </div>\n",
       "        </div>\n",
       "        \n",
       "        <div style=\"margin-bottom: 20px;\">\n",
       "            <div style=\"width: 24px; height: 24px; background-color: #DBF5FF; border: 3px solid #4CC9FF; border-radius: 5px; position: absolute;\"> </div>\n",
       "            <div style=\"margin-left: 48px;\">\n",
       "            <details>\n",
       "                <summary>\n",
       "                    <h4 style=\"margin-bottom: 0px; display: inline;\">Worker: 3</h4>\n",
       "                </summary>\n",
       "                <table style=\"width: 100%; text-align: left;\">\n",
       "                    <tr>\n",
       "                        <td style=\"text-align: left;\">\n",
       "                            <strong>Comm: </strong> tcp://127.0.0.1:54480\n",
       "                        </td>\n",
       "                        <td style=\"text-align: left;\">\n",
       "                            <strong>Total threads: </strong> 3\n",
       "                        </td>\n",
       "                    </tr>\n",
       "                    <tr>\n",
       "                        <td style=\"text-align: left;\">\n",
       "                            <strong>Dashboard: </strong> <a href=\"http://127.0.0.1:54486/status\" target=\"_blank\">http://127.0.0.1:54486/status</a>\n",
       "                        </td>\n",
       "                        <td style=\"text-align: left;\">\n",
       "                            <strong>Memory: </strong> 7.42 GiB\n",
       "                        </td>\n",
       "                    </tr>\n",
       "                    <tr>\n",
       "                        <td style=\"text-align: left;\">\n",
       "                            <strong>Nanny: </strong> tcp://127.0.0.1:54468\n",
       "                        </td>\n",
       "                        <td style=\"text-align: left;\"></td>\n",
       "                    </tr>\n",
       "                    <tr>\n",
       "                        <td colspan=\"2\" style=\"text-align: left;\">\n",
       "                            <strong>Local directory: </strong> C:\\Users\\O_THAN~1.B\\AppData\\Local\\Temp\\dask-scratch-space\\worker-vspocvb0\n",
       "                        </td>\n",
       "                    </tr>\n",
       "\n",
       "                    \n",
       "\n",
       "                    \n",
       "\n",
       "                </table>\n",
       "            </details>\n",
       "            </div>\n",
       "        </div>\n",
       "        \n",
       "\n",
       "    </details>\n",
       "</div>\n",
       "\n",
       "        </details>\n",
       "    </div>\n",
       "</div>\n",
       "            </details>\n",
       "        \n",
       "\n",
       "    </div>\n",
       "</div>"
      ],
      "text/plain": [
       "<Client: 'tcp://127.0.0.1:54459' processes=4 threads=12, memory=29.66 GiB>"
      ]
     },
     "execution_count": 2,
     "metadata": {},
     "output_type": "execute_result"
    }
   ],
   "source": [
    "client"
   ]
  },
  {
   "cell_type": "code",
   "execution_count": 3,
   "metadata": {},
   "outputs": [],
   "source": [
    "%run \"C:\\Users\\o_thanakrit.b\\OneDrive - KASIKORNBANKGROUP\\เอกสาร\\code_and_finding\\template.ipynb\""
   ]
  },
  {
   "cell_type": "code",
   "execution_count": 4,
   "metadata": {
    "_cell_guid": "b1076dfc-b9ad-4769-8c92-a6c4dae69d19",
    "_uuid": "8f2839f25d086af736a60e9eeb907d3b93b6e0e5"
   },
   "outputs": [],
   "source": [
    "risk_full = dd.read_parquet(mart_risk_path/\"risk_new_full2_blc_profit_usage.parquet\")\n",
    "card_type = dd.read_parquet(staging_path/\"card_type.parquet\")\n",
    "ecl = dd.read_parquet(staging_path/\"ecl_202112_202404.parquet\")"
   ]
  },
  {
   "cell_type": "markdown",
   "metadata": {},
   "source": [
    "# Check data configuration"
   ]
  },
  {
   "cell_type": "code",
   "execution_count": 5,
   "metadata": {},
   "outputs": [
    {
     "name": "stdout",
     "output_type": "stream",
     "text": [
      "Division know : False, number of partition : 249\n"
     ]
    }
   ],
   "source": [
    "print(f\"Division know : {risk_full.known_divisions}, number of partition : {risk_full.npartitions}\")"
   ]
  },
  {
   "cell_type": "code",
   "execution_count": 6,
   "metadata": {},
   "outputs": [
    {
     "data": {
      "text/plain": [
       "Index                  132 B\n",
       "uniq_key            3.88 MiB\n",
       "opn_dt              3.88 MiB\n",
       "card_status         6.61 MiB\n",
       "past_due_amt        3.88 MiB\n",
       "stmt_amt            3.88 MiB\n",
       "mth_end_bal         3.88 MiB\n",
       "crn_pymt_due_amt    3.88 MiB\n",
       "util                3.88 MiB\n",
       "cr_lmt_amt          3.88 MiB\n",
       "acq_cnl             6.42 MiB\n",
       "lmt_at_app          3.88 MiB\n",
       "mnth_cd             1.94 MiB\n",
       "MOB                 3.88 MiB\n",
       "behv                7.92 MiB\n",
       "pymt_amt            3.88 MiB\n",
       "dlq_bck             6.90 MiB\n",
       "ews                 4.49 MiB\n",
       "b_scor              4.28 MiB\n",
       "blc_cd              4.69 MiB\n",
       "usage               3.88 MiB\n",
       "profit              3.88 MiB\n",
       "dtype: object"
      ]
     },
     "execution_count": 6,
     "metadata": {},
     "output_type": "execute_result"
    }
   ],
   "source": [
    "risk_full.partitions[0].memory_usage(deep=True).compute().apply(dask.utils.format_bytes)"
   ]
  },
  {
   "cell_type": "code",
   "execution_count": 7,
   "metadata": {},
   "outputs": [
    {
     "data": {
      "text/plain": [
       "'93.65 MiB'"
      ]
     },
     "execution_count": 7,
     "metadata": {},
     "output_type": "execute_result"
    }
   ],
   "source": [
    "dask.utils.format_bytes(risk_full.partitions[0].memory_usage(deep=True).compute().sum())"
   ]
  },
  {
   "cell_type": "markdown",
   "metadata": {},
   "source": [
    "# Test distributed computation"
   ]
  },
  {
   "cell_type": "markdown",
   "metadata": {},
   "source": [
    "## Univariate stats"
   ]
  },
  {
   "cell_type": "code",
   "execution_count": 8,
   "metadata": {},
   "outputs": [
    {
     "data": {
      "text/html": [
       "<div>\n",
       "<style scoped>\n",
       "    .dataframe tbody tr th:only-of-type {\n",
       "        vertical-align: middle;\n",
       "    }\n",
       "\n",
       "    .dataframe tbody tr th {\n",
       "        vertical-align: top;\n",
       "    }\n",
       "\n",
       "    .dataframe thead th {\n",
       "        text-align: right;\n",
       "    }\n",
       "</style>\n",
       "<table border=\"1\" class=\"dataframe\">\n",
       "  <thead>\n",
       "    <tr style=\"text-align: right;\">\n",
       "      <th></th>\n",
       "      <th>min</th>\n",
       "      <th>max</th>\n",
       "      <th>mean</th>\n",
       "      <th>std</th>\n",
       "      <th>count</th>\n",
       "      <th>size</th>\n",
       "    </tr>\n",
       "    <tr>\n",
       "      <th>MOB</th>\n",
       "      <th></th>\n",
       "      <th></th>\n",
       "      <th></th>\n",
       "      <th></th>\n",
       "      <th></th>\n",
       "      <th></th>\n",
       "    </tr>\n",
       "  </thead>\n",
       "  <tbody>\n",
       "    <tr>\n",
       "      <th>112.0</th>\n",
       "      <td>-894033.259823</td>\n",
       "      <td>282638.960000</td>\n",
       "      <td>158.739698</td>\n",
       "      <td>2167.645656</td>\n",
       "      <td>496703</td>\n",
       "      <td>496703</td>\n",
       "    </tr>\n",
       "    <tr>\n",
       "      <th>75.0</th>\n",
       "      <td>-343778.907447</td>\n",
       "      <td>209982.208449</td>\n",
       "      <td>175.126430</td>\n",
       "      <td>1798.006515</td>\n",
       "      <td>334230</td>\n",
       "      <td>334230</td>\n",
       "    </tr>\n",
       "    <tr>\n",
       "      <th>52.0</th>\n",
       "      <td>-150394.521088</td>\n",
       "      <td>585629.429237</td>\n",
       "      <td>80.270897</td>\n",
       "      <td>1377.228642</td>\n",
       "      <td>1036520</td>\n",
       "      <td>1036520</td>\n",
       "    </tr>\n",
       "    <tr>\n",
       "      <th>35.0</th>\n",
       "      <td>-551346.552140</td>\n",
       "      <td>552635.185751</td>\n",
       "      <td>93.503238</td>\n",
       "      <td>1553.366551</td>\n",
       "      <td>976902</td>\n",
       "      <td>976902</td>\n",
       "    </tr>\n",
       "    <tr>\n",
       "      <th>7.0</th>\n",
       "      <td>-147556.056876</td>\n",
       "      <td>139345.865751</td>\n",
       "      <td>69.104988</td>\n",
       "      <td>1030.837296</td>\n",
       "      <td>1228923</td>\n",
       "      <td>1228923</td>\n",
       "    </tr>\n",
       "    <tr>\n",
       "      <th>...</th>\n",
       "      <td>...</td>\n",
       "      <td>...</td>\n",
       "      <td>...</td>\n",
       "      <td>...</td>\n",
       "      <td>...</td>\n",
       "      <td>...</td>\n",
       "    </tr>\n",
       "    <tr>\n",
       "      <th>722.0</th>\n",
       "      <td>-69.885029</td>\n",
       "      <td>-69.885029</td>\n",
       "      <td>-69.885029</td>\n",
       "      <td>NaN</td>\n",
       "      <td>1</td>\n",
       "      <td>1</td>\n",
       "    </tr>\n",
       "    <tr>\n",
       "      <th>723.0</th>\n",
       "      <td>-89.269725</td>\n",
       "      <td>-89.269725</td>\n",
       "      <td>-89.269725</td>\n",
       "      <td>NaN</td>\n",
       "      <td>1</td>\n",
       "      <td>1</td>\n",
       "    </tr>\n",
       "    <tr>\n",
       "      <th>726.0</th>\n",
       "      <td>-102.591827</td>\n",
       "      <td>-102.591827</td>\n",
       "      <td>-102.591827</td>\n",
       "      <td>NaN</td>\n",
       "      <td>1</td>\n",
       "      <td>1</td>\n",
       "    </tr>\n",
       "    <tr>\n",
       "      <th>728.0</th>\n",
       "      <td>-71.477588</td>\n",
       "      <td>-71.477588</td>\n",
       "      <td>-71.477588</td>\n",
       "      <td>NaN</td>\n",
       "      <td>1</td>\n",
       "      <td>1</td>\n",
       "    </tr>\n",
       "    <tr>\n",
       "      <th>551.0</th>\n",
       "      <td>-82.804671</td>\n",
       "      <td>-82.804671</td>\n",
       "      <td>-82.804671</td>\n",
       "      <td>NaN</td>\n",
       "      <td>1</td>\n",
       "      <td>1</td>\n",
       "    </tr>\n",
       "  </tbody>\n",
       "</table>\n",
       "<p>580 rows × 6 columns</p>\n",
       "</div>"
      ],
      "text/plain": [
       "                 min            max        mean          std    count     size\n",
       "MOB                                                                           \n",
       "112.0 -894033.259823  282638.960000  158.739698  2167.645656   496703   496703\n",
       "75.0  -343778.907447  209982.208449  175.126430  1798.006515   334230   334230\n",
       "52.0  -150394.521088  585629.429237   80.270897  1377.228642  1036520  1036520\n",
       "35.0  -551346.552140  552635.185751   93.503238  1553.366551   976902   976902\n",
       "7.0   -147556.056876  139345.865751   69.104988  1030.837296  1228923  1228923\n",
       "...              ...            ...         ...          ...      ...      ...\n",
       "722.0     -69.885029     -69.885029  -69.885029          NaN        1        1\n",
       "723.0     -89.269725     -89.269725  -89.269725          NaN        1        1\n",
       "726.0    -102.591827    -102.591827 -102.591827          NaN        1        1\n",
       "728.0     -71.477588     -71.477588  -71.477588          NaN        1        1\n",
       "551.0     -82.804671     -82.804671  -82.804671          NaN        1        1\n",
       "\n",
       "[580 rows x 6 columns]"
      ]
     },
     "execution_count": 8,
     "metadata": {},
     "output_type": "execute_result"
    }
   ],
   "source": [
    "risk_full.groupby([\"MOB\"])[\"profit\"].agg([\"min\", \"max\", \"mean\", \"std\", \"count\", \"size\"]).compute()"
   ]
  },
  {
   "cell_type": "markdown",
   "metadata": {},
   "source": [
    "## Mode take longti"
   ]
  },
  {
   "cell_type": "code",
   "execution_count": null,
   "metadata": {},
   "outputs": [],
   "source": [
    "risk_full[[\"profit\"]].mode().compute()"
   ]
  },
  {
   "cell_type": "code",
   "execution_count": 8,
   "metadata": {},
   "outputs": [
    {
     "data": {
      "text/plain": [
       "uniq_key                     int64\n",
       "card_tp            string[pyarrow]\n",
       "issur_card_lvl2    string[pyarrow]\n",
       "dtype: object"
      ]
     },
     "execution_count": 8,
     "metadata": {},
     "output_type": "execute_result"
    }
   ],
   "source": [
    "card_type.dtypes"
   ]
  },
  {
   "cell_type": "code",
   "execution_count": 11,
   "metadata": {},
   "outputs": [
    {
     "data": {
      "text/plain": [
       "0                         PTT\n",
       "1                    PLATINUM\n",
       "2                    One Siam\n",
       "3                     CLASSIC\n",
       "4                        BDMS\n",
       "5                  KING POWER\n",
       "6                     Passion\n",
       "7                      Wisdom\n",
       "8                        Line\n",
       "9                   SIGNATURE\n",
       "10                     Shopee\n",
       "11                        SME\n",
       "12                       GOLD\n",
       "13    MUANG THAI SMILE CREDIT\n",
       "14                       Corp\n",
       "15                        CGA\n",
       "16                      Amway\n",
       "17                  THAMMASAT\n",
       "18                   Infinite\n",
       "Name: card_tp, dtype: string"
      ]
     },
     "execution_count": 11,
     "metadata": {},
     "output_type": "execute_result"
    }
   ],
   "source": [
    "card_type.card_tp.unique().compute()"
   ]
  },
  {
   "cell_type": "code",
   "execution_count": 49,
   "metadata": {},
   "outputs": [],
   "source": [
    "card_type_pdf = card_type.compute()"
   ]
  },
  {
   "cell_type": "code",
   "execution_count": 51,
   "metadata": {},
   "outputs": [
    {
     "data": {
      "text/html": [
       "<div>\n",
       "<style scoped>\n",
       "    .dataframe tbody tr th:only-of-type {\n",
       "        vertical-align: middle;\n",
       "    }\n",
       "\n",
       "    .dataframe tbody tr th {\n",
       "        vertical-align: top;\n",
       "    }\n",
       "\n",
       "    .dataframe thead th {\n",
       "        text-align: right;\n",
       "    }\n",
       "</style>\n",
       "<table border=\"1\" class=\"dataframe\">\n",
       "  <thead>\n",
       "    <tr style=\"text-align: right;\">\n",
       "      <th></th>\n",
       "      <th>uniq_key</th>\n",
       "      <th>card_tp</th>\n",
       "      <th>issur_card_lvl2</th>\n",
       "      <th>tag_card_tp</th>\n",
       "    </tr>\n",
       "  </thead>\n",
       "  <tbody>\n",
       "    <tr>\n",
       "      <th>0</th>\n",
       "      <td>1</td>\n",
       "      <td>PTT</td>\n",
       "      <td>PLATINUM</td>\n",
       "      <td>PTT</td>\n",
       "    </tr>\n",
       "    <tr>\n",
       "      <th>1</th>\n",
       "      <td>2</td>\n",
       "      <td>PTT</td>\n",
       "      <td>PLATINUM</td>\n",
       "      <td>PTT</td>\n",
       "    </tr>\n",
       "    <tr>\n",
       "      <th>2</th>\n",
       "      <td>3</td>\n",
       "      <td>PLATINUM</td>\n",
       "      <td>PLATINUM</td>\n",
       "      <td>Generic</td>\n",
       "    </tr>\n",
       "    <tr>\n",
       "      <th>3</th>\n",
       "      <td>4</td>\n",
       "      <td>PLATINUM</td>\n",
       "      <td>PLATINUM</td>\n",
       "      <td>Generic</td>\n",
       "    </tr>\n",
       "    <tr>\n",
       "      <th>4</th>\n",
       "      <td>5</td>\n",
       "      <td>One Siam</td>\n",
       "      <td>SIGNATURE</td>\n",
       "      <td>One Siam</td>\n",
       "    </tr>\n",
       "  </tbody>\n",
       "</table>\n",
       "</div>"
      ],
      "text/plain": [
       "   uniq_key   card_tp issur_card_lvl2 tag_card_tp\n",
       "0         1       PTT        PLATINUM         PTT\n",
       "1         2       PTT        PLATINUM         PTT\n",
       "2         3  PLATINUM        PLATINUM     Generic\n",
       "3         4  PLATINUM        PLATINUM     Generic\n",
       "4         5  One Siam       SIGNATURE    One Siam"
      ]
     },
     "execution_count": 51,
     "metadata": {},
     "output_type": "execute_result"
    }
   ],
   "source": [
    "(card_type_pdf\n",
    " .assign(tag_card_tp = lambda x : np.where(x[\"card_tp\"].isin([\"CLASSIC\", \"PLATINUM\", \"GOLD\", \"SIGNATURE\", \"Infinite\"]), \"Generic\", x[\"card_tp\"]))\n",
    ").head()"
   ]
  },
  {
   "cell_type": "code",
   "execution_count": 72,
   "metadata": {},
   "outputs": [],
   "source": [
    "card_type[\"tag_card_tp\"] = card_type[\"card_tp\"].isin([\"CLASSIC\", \"PLATINUM\", \"GOLD\", \"SIGNATURE\", \"Infinite\"])"
   ]
  },
  {
   "cell_type": "code",
   "execution_count": 77,
   "metadata": {},
   "outputs": [
    {
     "data": {
      "text/html": [
       "<div>\n",
       "<style scoped>\n",
       "    .dataframe tbody tr th:only-of-type {\n",
       "        vertical-align: middle;\n",
       "    }\n",
       "\n",
       "    .dataframe tbody tr th {\n",
       "        vertical-align: top;\n",
       "    }\n",
       "\n",
       "    .dataframe thead th {\n",
       "        text-align: right;\n",
       "    }\n",
       "</style>\n",
       "<table border=\"1\" class=\"dataframe\">\n",
       "  <thead>\n",
       "    <tr style=\"text-align: right;\">\n",
       "      <th></th>\n",
       "      <th>uniq_key</th>\n",
       "      <th>card_tp</th>\n",
       "      <th>issur_card_lvl2</th>\n",
       "      <th>tag_card_tp</th>\n",
       "    </tr>\n",
       "  </thead>\n",
       "  <tbody>\n",
       "    <tr>\n",
       "      <th>0</th>\n",
       "      <td>1</td>\n",
       "      <td>PTT</td>\n",
       "      <td>PLATINUM</td>\n",
       "      <td>PTT</td>\n",
       "    </tr>\n",
       "    <tr>\n",
       "      <th>1</th>\n",
       "      <td>2</td>\n",
       "      <td>PTT</td>\n",
       "      <td>PLATINUM</td>\n",
       "      <td>PTT</td>\n",
       "    </tr>\n",
       "    <tr>\n",
       "      <th>2</th>\n",
       "      <td>3</td>\n",
       "      <td>PLATINUM</td>\n",
       "      <td>PLATINUM</td>\n",
       "      <td>Generic</td>\n",
       "    </tr>\n",
       "    <tr>\n",
       "      <th>3</th>\n",
       "      <td>4</td>\n",
       "      <td>PLATINUM</td>\n",
       "      <td>PLATINUM</td>\n",
       "      <td>Generic</td>\n",
       "    </tr>\n",
       "    <tr>\n",
       "      <th>4</th>\n",
       "      <td>5</td>\n",
       "      <td>One Siam</td>\n",
       "      <td>SIGNATURE</td>\n",
       "      <td>One Siam</td>\n",
       "    </tr>\n",
       "  </tbody>\n",
       "</table>\n",
       "</div>"
      ],
      "text/plain": [
       "   uniq_key   card_tp issur_card_lvl2 tag_card_tp\n",
       "0         1       PTT        PLATINUM         PTT\n",
       "1         2       PTT        PLATINUM         PTT\n",
       "2         3  PLATINUM        PLATINUM     Generic\n",
       "3         4  PLATINUM        PLATINUM     Generic\n",
       "4         5  One Siam       SIGNATURE    One Siam"
      ]
     },
     "execution_count": 77,
     "metadata": {},
     "output_type": "execute_result"
    }
   ],
   "source": [
    "card_type.assign(tag_card_tp = lambda x : x[\"card_tp\"].mask( x[\"card_tp\"].isin([\"CLASSIC\", \"PLATINUM\", \"GOLD\", \"SIGNATURE\", \"Infinite\"]), \"Generic\")).head()"
   ]
  },
  {
   "cell_type": "code",
   "execution_count": null,
   "metadata": {},
   "outputs": [],
   "source": [
    "card_type.assign(tag_card_tp = lambda x : x[\"card_tp\"].where( x[\"card_tp\"].isin([\"CLASSIC\", \"PLATINUM\", \"GOLD\", \"SIGNATURE\", \"Infinite\"]), \"Generic\")).head()"
   ]
  },
  {
   "cell_type": "code",
   "execution_count": null,
   "metadata": {},
   "outputs": [],
   "source": []
  },
  {
   "cell_type": "code",
   "execution_count": 10,
   "metadata": {},
   "outputs": [
    {
     "data": {
      "text/plain": [
       "uniq_key        int64\n",
       "ECL_OVRD_W    float64\n",
       "mnth_cd         int32\n",
       "dtype: object"
      ]
     },
     "execution_count": 10,
     "metadata": {},
     "output_type": "execute_result"
    }
   ],
   "source": [
    "ecl.dtypes"
   ]
  },
  {
   "cell_type": "code",
   "execution_count": 11,
   "metadata": {},
   "outputs": [],
   "source": [
    "apr24_ecl = ecl.query(\"mnth_cd == 202404\").loc[:, [\"uniq_key\", \"ECL_OVRD_W\"]]"
   ]
  },
  {
   "cell_type": "code",
   "execution_count": 12,
   "metadata": {},
   "outputs": [
    {
     "data": {
      "text/plain": [
       "8818415222.777327"
      ]
     },
     "execution_count": 12,
     "metadata": {},
     "output_type": "execute_result"
    }
   ],
   "source": [
    "apr24_ecl[\"ECL_OVRD_W\"].sum().compute()"
   ]
  },
  {
   "cell_type": "code",
   "execution_count": 13,
   "metadata": {},
   "outputs": [
    {
     "data": {
      "text/plain": [
       "4114628"
      ]
     },
     "execution_count": 13,
     "metadata": {},
     "output_type": "execute_result"
    }
   ],
   "source": [
    "apr24_ecl[\"uniq_key\"].count().compute()"
   ]
  },
  {
   "cell_type": "code",
   "execution_count": 14,
   "metadata": {},
   "outputs": [],
   "source": [
    "apr24_status_blck_pdf = apr24_status_blck.compute()\n",
    "apr24_ecl_pdf = apr24_ecl.compute()"
   ]
  },
  {
   "cell_type": "code",
   "execution_count": 15,
   "metadata": {},
   "outputs": [],
   "source": [
    "status_blck_ecl = apr24_status_blck_pdf.merge(apr24_ecl_pdf, on=\"uniq_key\", how=\"left\")"
   ]
  },
  {
   "cell_type": "code",
   "execution_count": 17,
   "metadata": {},
   "outputs": [
    {
     "data": {
      "text/plain": [
       "uniq_key                 int64\n",
       "card_status    string[pyarrow]\n",
       "blc_cd         string[pyarrow]\n",
       "ECL_OVRD_W             float64\n",
       "dtype: object"
      ]
     },
     "execution_count": 17,
     "metadata": {},
     "output_type": "execute_result"
    }
   ],
   "source": [
    "status_blck_ecl.dtypes"
   ]
  },
  {
   "cell_type": "code",
   "execution_count": 19,
   "metadata": {},
   "outputs": [],
   "source": [
    "status_blck_ecl = status_blck_ecl.fillna({\"ECL_OVRD_W\":0.0})"
   ]
  },
  {
   "cell_type": "code",
   "execution_count": 21,
   "metadata": {
    "collapsed": true,
    "jupyter": {
     "outputs_hidden": true
    }
   },
   "outputs": [
    {
     "data": {
      "text/html": [
       "<div>\n",
       "<style scoped>\n",
       "    .dataframe tbody tr th:only-of-type {\n",
       "        vertical-align: middle;\n",
       "    }\n",
       "\n",
       "    .dataframe tbody tr th {\n",
       "        vertical-align: top;\n",
       "    }\n",
       "\n",
       "    .dataframe thead th {\n",
       "        text-align: right;\n",
       "    }\n",
       "</style>\n",
       "<table border=\"1\" class=\"dataframe\">\n",
       "  <thead>\n",
       "    <tr style=\"text-align: right;\">\n",
       "      <th></th>\n",
       "      <th>card_status</th>\n",
       "      <th>blc_cd</th>\n",
       "      <th>n_card</th>\n",
       "      <th>tt_ecl</th>\n",
       "    </tr>\n",
       "  </thead>\n",
       "  <tbody>\n",
       "    <tr>\n",
       "      <th>0</th>\n",
       "      <td>Invalid</td>\n",
       "      <td>B</td>\n",
       "      <td>933</td>\n",
       "      <td>1.206941e+07</td>\n",
       "    </tr>\n",
       "    <tr>\n",
       "      <th>1</th>\n",
       "      <td>Invalid</td>\n",
       "      <td>C</td>\n",
       "      <td>23</td>\n",
       "      <td>3.492986e+06</td>\n",
       "    </tr>\n",
       "    <tr>\n",
       "      <th>2</th>\n",
       "      <td>Invalid</td>\n",
       "      <td>D</td>\n",
       "      <td>7370</td>\n",
       "      <td>1.800725e+07</td>\n",
       "    </tr>\n",
       "    <tr>\n",
       "      <th>3</th>\n",
       "      <td>Invalid</td>\n",
       "      <td>F</td>\n",
       "      <td>809</td>\n",
       "      <td>1.599575e+05</td>\n",
       "    </tr>\n",
       "    <tr>\n",
       "      <th>4</th>\n",
       "      <td>Invalid</td>\n",
       "      <td>H</td>\n",
       "      <td>16</td>\n",
       "      <td>3.457216e+05</td>\n",
       "    </tr>\n",
       "    <tr>\n",
       "      <th>5</th>\n",
       "      <td>Invalid</td>\n",
       "      <td>I</td>\n",
       "      <td>1</td>\n",
       "      <td>5.643167e+02</td>\n",
       "    </tr>\n",
       "    <tr>\n",
       "      <th>6</th>\n",
       "      <td>Invalid</td>\n",
       "      <td>J</td>\n",
       "      <td>33352</td>\n",
       "      <td>8.456106e+05</td>\n",
       "    </tr>\n",
       "    <tr>\n",
       "      <th>7</th>\n",
       "      <td>Invalid</td>\n",
       "      <td>L</td>\n",
       "      <td>412911</td>\n",
       "      <td>2.656537e+07</td>\n",
       "    </tr>\n",
       "    <tr>\n",
       "      <th>8</th>\n",
       "      <td>Invalid</td>\n",
       "      <td>M</td>\n",
       "      <td>6865</td>\n",
       "      <td>2.968408e+07</td>\n",
       "    </tr>\n",
       "    <tr>\n",
       "      <th>9</th>\n",
       "      <td>Invalid</td>\n",
       "      <td>N</td>\n",
       "      <td>187</td>\n",
       "      <td>6.569545e+04</td>\n",
       "    </tr>\n",
       "    <tr>\n",
       "      <th>10</th>\n",
       "      <td>Invalid</td>\n",
       "      <td>NA</td>\n",
       "      <td>117029</td>\n",
       "      <td>3.862344e+07</td>\n",
       "    </tr>\n",
       "    <tr>\n",
       "      <th>11</th>\n",
       "      <td>Invalid</td>\n",
       "      <td>O</td>\n",
       "      <td>311715</td>\n",
       "      <td>4.542988e+09</td>\n",
       "    </tr>\n",
       "    <tr>\n",
       "      <th>12</th>\n",
       "      <td>Invalid</td>\n",
       "      <td>P</td>\n",
       "      <td>293</td>\n",
       "      <td>3.089289e+06</td>\n",
       "    </tr>\n",
       "    <tr>\n",
       "      <th>13</th>\n",
       "      <td>Invalid</td>\n",
       "      <td>R</td>\n",
       "      <td>1228</td>\n",
       "      <td>3.658953e+06</td>\n",
       "    </tr>\n",
       "    <tr>\n",
       "      <th>14</th>\n",
       "      <td>Invalid</td>\n",
       "      <td>S</td>\n",
       "      <td>8</td>\n",
       "      <td>0.000000e+00</td>\n",
       "    </tr>\n",
       "    <tr>\n",
       "      <th>15</th>\n",
       "      <td>Invalid</td>\n",
       "      <td>T</td>\n",
       "      <td>6213</td>\n",
       "      <td>7.422120e+07</td>\n",
       "    </tr>\n",
       "    <tr>\n",
       "      <th>16</th>\n",
       "      <td>Invalid</td>\n",
       "      <td>U</td>\n",
       "      <td>102055</td>\n",
       "      <td>3.709114e+06</td>\n",
       "    </tr>\n",
       "    <tr>\n",
       "      <th>17</th>\n",
       "      <td>Invalid</td>\n",
       "      <td>W</td>\n",
       "      <td>73132</td>\n",
       "      <td>0.000000e+00</td>\n",
       "    </tr>\n",
       "    <tr>\n",
       "      <th>18</th>\n",
       "      <td>Invalid</td>\n",
       "      <td>X</td>\n",
       "      <td>347180</td>\n",
       "      <td>2.115109e+07</td>\n",
       "    </tr>\n",
       "    <tr>\n",
       "      <th>19</th>\n",
       "      <td>Valid</td>\n",
       "      <td>C</td>\n",
       "      <td>150</td>\n",
       "      <td>1.397068e+07</td>\n",
       "    </tr>\n",
       "    <tr>\n",
       "      <th>20</th>\n",
       "      <td>Valid</td>\n",
       "      <td>G</td>\n",
       "      <td>36</td>\n",
       "      <td>1.170402e+05</td>\n",
       "    </tr>\n",
       "    <tr>\n",
       "      <th>21</th>\n",
       "      <td>Valid</td>\n",
       "      <td>H</td>\n",
       "      <td>30253</td>\n",
       "      <td>1.564156e+08</td>\n",
       "    </tr>\n",
       "    <tr>\n",
       "      <th>22</th>\n",
       "      <td>Valid</td>\n",
       "      <td>N</td>\n",
       "      <td>27200</td>\n",
       "      <td>2.347312e+07</td>\n",
       "    </tr>\n",
       "    <tr>\n",
       "      <th>23</th>\n",
       "      <td>Valid</td>\n",
       "      <td>NA</td>\n",
       "      <td>2812453</td>\n",
       "      <td>2.923424e+09</td>\n",
       "    </tr>\n",
       "    <tr>\n",
       "      <th>24</th>\n",
       "      <td>Valid</td>\n",
       "      <td>P</td>\n",
       "      <td>5218</td>\n",
       "      <td>4.125551e+07</td>\n",
       "    </tr>\n",
       "    <tr>\n",
       "      <th>25</th>\n",
       "      <td>Valid</td>\n",
       "      <td>R</td>\n",
       "      <td>6049</td>\n",
       "      <td>6.119197e+07</td>\n",
       "    </tr>\n",
       "    <tr>\n",
       "      <th>26</th>\n",
       "      <td>Valid</td>\n",
       "      <td>T</td>\n",
       "      <td>88131</td>\n",
       "      <td>8.198892e+08</td>\n",
       "    </tr>\n",
       "  </tbody>\n",
       "</table>\n",
       "</div>"
      ],
      "text/plain": [
       "   card_status blc_cd   n_card        tt_ecl\n",
       "0      Invalid      B      933  1.206941e+07\n",
       "1      Invalid      C       23  3.492986e+06\n",
       "2      Invalid      D     7370  1.800725e+07\n",
       "3      Invalid      F      809  1.599575e+05\n",
       "4      Invalid      H       16  3.457216e+05\n",
       "5      Invalid      I        1  5.643167e+02\n",
       "6      Invalid      J    33352  8.456106e+05\n",
       "7      Invalid      L   412911  2.656537e+07\n",
       "8      Invalid      M     6865  2.968408e+07\n",
       "9      Invalid      N      187  6.569545e+04\n",
       "10     Invalid     NA   117029  3.862344e+07\n",
       "11     Invalid      O   311715  4.542988e+09\n",
       "12     Invalid      P      293  3.089289e+06\n",
       "13     Invalid      R     1228  3.658953e+06\n",
       "14     Invalid      S        8  0.000000e+00\n",
       "15     Invalid      T     6213  7.422120e+07\n",
       "16     Invalid      U   102055  3.709114e+06\n",
       "17     Invalid      W    73132  0.000000e+00\n",
       "18     Invalid      X   347180  2.115109e+07\n",
       "19       Valid      C      150  1.397068e+07\n",
       "20       Valid      G       36  1.170402e+05\n",
       "21       Valid      H    30253  1.564156e+08\n",
       "22       Valid      N    27200  2.347312e+07\n",
       "23       Valid     NA  2812453  2.923424e+09\n",
       "24       Valid      P     5218  4.125551e+07\n",
       "25       Valid      R     6049  6.119197e+07\n",
       "26       Valid      T    88131  8.198892e+08"
      ]
     },
     "execution_count": 21,
     "metadata": {},
     "output_type": "execute_result"
    }
   ],
   "source": [
    "status_blck_ecl.groupby([\"card_status\", \"blc_cd\"], as_index=False).agg(n_card = (\"uniq_key\", \"count\"), tt_ecl = (\"ECL_OVRD_W\", \"sum\"))"
   ]
  },
  {
   "cell_type": "code",
   "execution_count": 22,
   "metadata": {},
   "outputs": [],
   "source": [
    "status_blck_ecl.groupby([\"card_status\", \"blc_cd\"], as_index=False).agg(n_card = (\"uniq_key\", \"count\"), tt_ecl = (\"ECL_OVRD_W\", \"sum\")).to_csv(\"apr24_card_status_blck_ecl.csv\")"
   ]
  },
  {
   "cell_type": "code",
   "execution_count": 27,
   "metadata": {},
   "outputs": [],
   "source": [
    "apr24_status_blck = risk_full.query(\"mnth_cd == 202404\").loc[:, [\"uniq_key\", \"card_status\", \"blc_cd\"]]\n",
    "apr24_ecl = ecl.query(\"mnth_cd == 202404\").loc[:, [\"uniq_key\", \"ECL_OVRD_W\"]]\n",
    "jan24_blck = risk_full.query(\"mnth_cd == 202401\").loc[:, [\"uniq_key\", \"card_status\", \"blc_cd\"]].rename(columns = {\"card_status\":\"card_status_jan24\", \"blc_cd\":\"blc_cd_jan24\"})\n",
    "oct23_blck = risk_full.query(\"mnth_cd == 202312\").loc[:, [\"uniq_key\", \"card_status\", \"blc_cd\"]].rename(columns = {\"card_status\":\"card_status_oct23\", \"blc_cd\":\"blc_cd_oct23\"})"
   ]
  },
  {
   "cell_type": "code",
   "execution_count": 28,
   "metadata": {},
   "outputs": [],
   "source": [
    "apr24_status_blck_pdf = apr24_status_blck.compute()\n",
    "apr24_ecl_pdf = apr24_ecl.compute()\n",
    "jan24_blck_pdf = jan24_blck.compute()\n",
    "oct23_blck_pdf = oct23_blck.compute()"
   ]
  },
  {
   "cell_type": "code",
   "execution_count": 47,
   "metadata": {},
   "outputs": [],
   "source": [
    "apr24_status_blck_ecl_back_date = \\\n",
    "(apr24_status_blck_pdf\n",
    " .merge(apr24_ecl_pdf, on=\"uniq_key\", how=\"left\")\n",
    " .fillna({\"ECL_OVRD_W\":0.0})\n",
    " .merge(jan24_blck_pdf, on=\"uniq_key\", how=\"left\")\n",
    " .merge(oct23_blck_pdf, on=\"uniq_key\", how=\"left\")\n",
    " .fillna({\"blc_cd_jan24\":\"NA\", \"blc_cd_oct23\":\"NA\"})\n",
    ")"
   ]
  },
  {
   "cell_type": "code",
   "execution_count": 48,
   "metadata": {},
   "outputs": [
    {
     "data": {
      "text/plain": [
       "uniq_key                       int64\n",
       "card_status          string[pyarrow]\n",
       "blc_cd               string[pyarrow]\n",
       "ECL_OVRD_W                   float64\n",
       "card_status_jan24    string[pyarrow]\n",
       "blc_cd_jan24         string[pyarrow]\n",
       "card_status_oct23    string[pyarrow]\n",
       "blc_cd_oct23         string[pyarrow]\n",
       "dtype: object"
      ]
     },
     "execution_count": 48,
     "metadata": {},
     "output_type": "execute_result"
    }
   ],
   "source": [
    "apr24_status_blck_ecl_back_date.dtypes"
   ]
  },
  {
   "cell_type": "code",
   "execution_count": 49,
   "metadata": {},
   "outputs": [],
   "source": [
    "(apr24_status_blck_ecl_back_date\n",
    " .groupby([\"card_status\", \"blc_cd\", \"blc_cd_jan24\", \"blc_cd_oct23\"], as_index=False)\n",
    " .agg(n_card = (\"uniq_key\", \"count\"),\n",
    "      tt_ecl = (\"ECL_OVRD_W\", \"sum\")\n",
    "      )\n",
    ").to_csv(\"blc_duration_apr24_jan24_oct23.csv\")"
   ]
  },
  {
   "cell_type": "code",
   "execution_count": 39,
   "metadata": {},
   "outputs": [
    {
     "data": {
      "text/plain": [
       "4390810"
      ]
     },
     "execution_count": 39,
     "metadata": {},
     "output_type": "execute_result"
    }
   ],
   "source": [
    "apr24_status_blck_ecl_back_date[\"blc_cd\"].count()"
   ]
  },
  {
   "cell_type": "code",
   "execution_count": 38,
   "metadata": {},
   "outputs": [],
   "source": [
    "(apr24_status_blck_pdf\n",
    " .assign(b_scor_flg = lambda x : np.where(x[\"b_scor\"].isna(), \"N\", \"Y\"))\n",
    " .merge(apr24_ecl_pdf, on=\"uniq_key\", how=\"left\")\n",
    " .fillna({\"ECL_OVRD_W\":0.0, \"dlq_bck\":\"<NA>\"})\n",
    " .groupby([\"card_status\", \"blc_cd\", \"dlq_bck\", \"b_scor_flg\"], as_index=False)\n",
    " .agg(n_card = (\"uniq_key\", \"count\"), tt_ecl = (\"ECL_OVRD_W\", \"sum\"))\n",
    ").to_csv(\"apr24_blc_cd_dpd_b_scor.csv\", index=False)"
   ]
  },
  {
   "cell_type": "code",
   "execution_count": null,
   "metadata": {},
   "outputs": [],
   "source": []
  }
 ],
 "metadata": {
  "kaggle": {
   "accelerator": "none",
   "dataSources": [
    {
     "datasetId": 6244069,
     "sourceId": 10119657,
     "sourceType": "datasetVersion"
    }
   ],
   "dockerImageVersionId": 30804,
   "isGpuEnabled": false,
   "isInternetEnabled": true,
   "language": "python",
   "sourceType": "notebook"
  },
  "kernelspec": {
   "display_name": "Python 3 (ipykernel)",
   "language": "python",
   "name": "python3"
  },
  "language_info": {
   "codemirror_mode": {
    "name": "ipython",
    "version": 3
   },
   "file_extension": ".py",
   "mimetype": "text/x-python",
   "name": "python",
   "nbconvert_exporter": "python",
   "pygments_lexer": "ipython3",
   "version": "3.12.3"
  }
 },
 "nbformat": 4,
 "nbformat_minor": 4
}
