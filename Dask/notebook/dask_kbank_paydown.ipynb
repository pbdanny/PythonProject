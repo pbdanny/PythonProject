{
 "cells": [
  {
   "cell_type": "code",
   "execution_count": 5,
   "metadata": {
    "execution": {
     "iopub.execute_input": "2024-09-16T09:28:22.381083Z",
     "iopub.status.busy": "2024-09-16T09:28:22.380538Z",
     "iopub.status.idle": "2024-09-16T09:28:22.386830Z",
     "shell.execute_reply": "2024-09-16T09:28:22.385118Z",
     "shell.execute_reply.started": "2024-09-16T09:28:22.381033Z"
    },
    "trusted": true
   },
   "outputs": [],
   "source": [
    "# !pip install dask"
   ]
  },
  {
   "cell_type": "code",
   "execution_count": 9,
   "metadata": {
    "execution": {
     "iopub.execute_input": "2024-09-16T09:29:24.418096Z",
     "iopub.status.busy": "2024-09-16T09:29:24.417586Z",
     "iopub.status.idle": "2024-09-16T09:29:24.424574Z",
     "shell.execute_reply": "2024-09-16T09:29:24.423016Z",
     "shell.execute_reply.started": "2024-09-16T09:29:24.418051Z"
    },
    "trusted": true
   },
   "outputs": [],
   "source": [
    "import pandas as pd\n",
    "import numpy as np"
   ]
  },
  {
   "cell_type": "code",
   "execution_count": 10,
   "metadata": {
    "execution": {
     "iopub.execute_input": "2024-09-16T09:29:24.857532Z",
     "iopub.status.busy": "2024-09-16T09:29:24.857050Z",
     "iopub.status.idle": "2024-09-16T09:29:24.906113Z",
     "shell.execute_reply": "2024-09-16T09:29:24.904820Z",
     "shell.execute_reply.started": "2024-09-16T09:29:24.857481Z"
    },
    "trusted": true
   },
   "outputs": [],
   "source": [
    "pdf = pd.read_csv(\"/kaggle/input/paydown/sample_data_for_PayDown.csv\")"
   ]
  },
  {
   "cell_type": "code",
   "execution_count": 11,
   "metadata": {
    "execution": {
     "iopub.execute_input": "2024-09-16T09:29:26.060495Z",
     "iopub.status.busy": "2024-09-16T09:29:26.059129Z",
     "iopub.status.idle": "2024-09-16T09:29:26.084798Z",
     "shell.execute_reply": "2024-09-16T09:29:26.083315Z",
     "shell.execute_reply.started": "2024-09-16T09:29:26.060427Z"
    },
    "trusted": true
   },
   "outputs": [],
   "source": [
    "behv_usage_pdf = pdf.loc[:, [\"uniq_key\", \"mnth_cd\", \"behv\", \"Total Usage\", \"profit\"]].rename(columns={\"Total Usage\":\"usage\"})"
   ]
  },
  {
   "cell_type": "code",
   "execution_count": 12,
   "metadata": {
    "execution": {
     "iopub.execute_input": "2024-09-16T09:29:27.056583Z",
     "iopub.status.busy": "2024-09-16T09:29:27.056134Z",
     "iopub.status.idle": "2024-09-16T09:29:27.071594Z",
     "shell.execute_reply": "2024-09-16T09:29:27.069940Z",
     "shell.execute_reply.started": "2024-09-16T09:29:27.056539Z"
    },
    "trusted": true
   },
   "outputs": [
    {
     "data": {
      "text/plain": [
       "114"
      ]
     },
     "execution_count": 12,
     "metadata": {},
     "output_type": "execute_result"
    }
   ],
   "source": [
    "behv_usage_pdf[\"uniq_key\"].nunique()"
   ]
  },
  {
   "cell_type": "code",
   "execution_count": 13,
   "metadata": {
    "execution": {
     "iopub.execute_input": "2024-09-16T09:29:27.822836Z",
     "iopub.status.busy": "2024-09-16T09:29:27.822376Z",
     "iopub.status.idle": "2024-09-16T09:29:27.844144Z",
     "shell.execute_reply": "2024-09-16T09:29:27.842565Z",
     "shell.execute_reply.started": "2024-09-16T09:29:27.822792Z"
    },
    "trusted": true
   },
   "outputs": [],
   "source": [
    "cust_202312 = behv_usage_pdf.query(\"mnth_cd == 202312\")[\"uniq_key\"].drop_duplicates()\n",
    "cust_202301 = behv_usage_pdf.query(\"mnth_cd == 202301\")[\"uniq_key\"].drop_duplicates()"
   ]
  },
  {
   "cell_type": "code",
   "execution_count": 14,
   "metadata": {
    "execution": {
     "iopub.execute_input": "2024-09-16T09:29:28.276955Z",
     "iopub.status.busy": "2024-09-16T09:29:28.276499Z",
     "iopub.status.idle": "2024-09-16T09:29:28.285460Z",
     "shell.execute_reply": "2024-09-16T09:29:28.284210Z",
     "shell.execute_reply.started": "2024-09-16T09:29:28.276912Z"
    },
    "trusted": true
   },
   "outputs": [
    {
     "data": {
      "text/plain": [
       "114"
      ]
     },
     "execution_count": 14,
     "metadata": {},
     "output_type": "execute_result"
    }
   ],
   "source": [
    "cust_202312.count()"
   ]
  },
  {
   "cell_type": "code",
   "execution_count": 15,
   "metadata": {
    "execution": {
     "iopub.execute_input": "2024-09-16T09:29:28.655335Z",
     "iopub.status.busy": "2024-09-16T09:29:28.654856Z",
     "iopub.status.idle": "2024-09-16T09:29:28.664466Z",
     "shell.execute_reply": "2024-09-16T09:29:28.663110Z",
     "shell.execute_reply.started": "2024-09-16T09:29:28.655288Z"
    },
    "trusted": true
   },
   "outputs": [
    {
     "data": {
      "text/plain": [
       "104"
      ]
     },
     "execution_count": 15,
     "metadata": {},
     "output_type": "execute_result"
    }
   ],
   "source": [
    "cust_202301.count()"
   ]
  },
  {
   "cell_type": "code",
   "execution_count": 20,
   "metadata": {
    "execution": {
     "iopub.execute_input": "2024-09-16T09:29:35.383370Z",
     "iopub.status.busy": "2024-09-16T09:29:35.382877Z",
     "iopub.status.idle": "2024-09-16T09:29:35.390051Z",
     "shell.execute_reply": "2024-09-16T09:29:35.388556Z",
     "shell.execute_reply.started": "2024-09-16T09:29:35.383326Z"
    },
    "trusted": true
   },
   "outputs": [],
   "source": [
    "cust_12_mth = cust_202312[cust_202312.isin(cust_202301)].to_frame()"
   ]
  },
  {
   "cell_type": "code",
   "execution_count": 22,
   "metadata": {
    "execution": {
     "iopub.execute_input": "2024-09-16T09:29:54.171219Z",
     "iopub.status.busy": "2024-09-16T09:29:54.170778Z",
     "iopub.status.idle": "2024-09-16T09:29:54.191714Z",
     "shell.execute_reply": "2024-09-16T09:29:54.190001Z",
     "shell.execute_reply.started": "2024-09-16T09:29:54.171176Z"
    },
    "trusted": true
   },
   "outputs": [],
   "source": [
    "card_behv_12_mnth = behv_usage_pdf.merge(cust_12_mth, on=[\"uniq_key\"])"
   ]
  },
  {
   "cell_type": "code",
   "execution_count": 23,
   "metadata": {
    "execution": {
     "iopub.execute_input": "2024-09-16T09:29:56.324561Z",
     "iopub.status.busy": "2024-09-16T09:29:56.324094Z",
     "iopub.status.idle": "2024-09-16T09:29:56.333941Z",
     "shell.execute_reply": "2024-09-16T09:29:56.332579Z",
     "shell.execute_reply.started": "2024-09-16T09:29:56.324514Z"
    },
    "trusted": true
   },
   "outputs": [
    {
     "data": {
      "text/plain": [
       "104"
      ]
     },
     "execution_count": 23,
     "metadata": {},
     "output_type": "execute_result"
    }
   ],
   "source": [
    "card_behv_12_mnth[\"uniq_key\"].nunique()"
   ]
  },
  {
   "cell_type": "code",
   "execution_count": 24,
   "metadata": {
    "execution": {
     "iopub.execute_input": "2024-09-16T09:29:57.711927Z",
     "iopub.status.busy": "2024-09-16T09:29:57.711470Z",
     "iopub.status.idle": "2024-09-16T09:29:57.721213Z",
     "shell.execute_reply": "2024-09-16T09:29:57.719810Z",
     "shell.execute_reply.started": "2024-09-16T09:29:57.711859Z"
    },
    "trusted": true
   },
   "outputs": [],
   "source": [
    "pay_down_flg = (card_behv_12_mnth\n",
    " .assign(pay_down_flg = lambda x :  (x[\"behv\"] == \"Revolver\") & (x[\"usage\"] == 0) )\n",
    ")"
   ]
  },
  {
   "cell_type": "code",
   "execution_count": 25,
   "metadata": {
    "execution": {
     "iopub.execute_input": "2024-09-16T09:29:59.086535Z",
     "iopub.status.busy": "2024-09-16T09:29:59.086016Z",
     "iopub.status.idle": "2024-09-16T09:29:59.120456Z",
     "shell.execute_reply": "2024-09-16T09:29:59.119180Z",
     "shell.execute_reply.started": "2024-09-16T09:29:59.086434Z"
    },
    "trusted": true
   },
   "outputs": [],
   "source": [
    "pay_down_flag_list = (pay_down_flg\n",
    " .sort_values([\"uniq_key\", \"mnth_cd\"], ascending=False)\n",
    " .groupby(\"uniq_key\", as_index=False)\n",
    " .agg(pay_down_flg_list = (\"pay_down_flg\", list),\n",
    "      profit = (\"profit\", \"sum\")\n",
    "     )\n",
    " .astype({\"pay_down_flg_list\":\"string\"})\n",
    ")"
   ]
  },
  {
   "cell_type": "code",
   "execution_count": 26,
   "metadata": {
    "execution": {
     "iopub.execute_input": "2024-09-16T09:30:00.855804Z",
     "iopub.status.busy": "2024-09-16T09:30:00.855121Z",
     "iopub.status.idle": "2024-09-16T09:30:00.880357Z",
     "shell.execute_reply": "2024-09-16T09:30:00.879011Z",
     "shell.execute_reply.started": "2024-09-16T09:30:00.855745Z"
    },
    "trusted": true
   },
   "outputs": [
    {
     "data": {
      "text/html": [
       "<div>\n",
       "<style scoped>\n",
       "    .dataframe tbody tr th:only-of-type {\n",
       "        vertical-align: middle;\n",
       "    }\n",
       "\n",
       "    .dataframe tbody tr th {\n",
       "        vertical-align: top;\n",
       "    }\n",
       "\n",
       "    .dataframe thead th {\n",
       "        text-align: right;\n",
       "    }\n",
       "</style>\n",
       "<table border=\"1\" class=\"dataframe\">\n",
       "  <thead>\n",
       "    <tr style=\"text-align: right;\">\n",
       "      <th></th>\n",
       "      <th>uniq_key</th>\n",
       "      <th>pay_down_flg_list</th>\n",
       "      <th>profit</th>\n",
       "    </tr>\n",
       "  </thead>\n",
       "  <tbody>\n",
       "    <tr>\n",
       "      <th>102</th>\n",
       "      <td>4855</td>\n",
       "      <td>[True, True, True, True, False, False, False, False, False, False, False, False]</td>\n",
       "      <td>14183.552944</td>\n",
       "    </tr>\n",
       "  </tbody>\n",
       "</table>\n",
       "</div>"
      ],
      "text/plain": [
       "     uniq_key  \\\n",
       "102      4855   \n",
       "\n",
       "                                                                    pay_down_flg_list  \\\n",
       "102  [True, True, True, True, False, False, False, False, False, False, False, False]   \n",
       "\n",
       "           profit  \n",
       "102  14183.552944  "
      ]
     },
     "metadata": {},
     "output_type": "display_data"
    }
   ],
   "source": [
    "with pd.option_context('display.max_colwidth', None):\n",
    "    display(pay_down_flag_list[pay_down_flag_list[\"uniq_key\"] == 4855])"
   ]
  },
  {
   "cell_type": "code",
   "execution_count": 27,
   "metadata": {
    "execution": {
     "iopub.execute_input": "2024-09-16T09:30:02.838144Z",
     "iopub.status.busy": "2024-09-16T09:30:02.837636Z",
     "iopub.status.idle": "2024-09-16T09:30:02.854518Z",
     "shell.execute_reply": "2024-09-16T09:30:02.852963Z",
     "shell.execute_reply.started": "2024-09-16T09:30:02.838095Z"
    },
    "trusted": true
   },
   "outputs": [
    {
     "data": {
      "text/html": [
       "<div>\n",
       "<style scoped>\n",
       "    .dataframe tbody tr th:only-of-type {\n",
       "        vertical-align: middle;\n",
       "    }\n",
       "\n",
       "    .dataframe tbody tr th {\n",
       "        vertical-align: top;\n",
       "    }\n",
       "\n",
       "    .dataframe thead th {\n",
       "        text-align: right;\n",
       "    }\n",
       "</style>\n",
       "<table border=\"1\" class=\"dataframe\">\n",
       "  <thead>\n",
       "    <tr style=\"text-align: right;\">\n",
       "      <th></th>\n",
       "      <th>uniq_key</th>\n",
       "      <th>pay_down_flg_list</th>\n",
       "      <th>profit</th>\n",
       "    </tr>\n",
       "  </thead>\n",
       "  <tbody>\n",
       "    <tr>\n",
       "      <th>4</th>\n",
       "      <td>187</td>\n",
       "      <td>[True, True, True, True, False, False, False, ...</td>\n",
       "      <td>293.887386</td>\n",
       "    </tr>\n",
       "    <tr>\n",
       "      <th>102</th>\n",
       "      <td>4855</td>\n",
       "      <td>[True, True, True, True, False, False, False, ...</td>\n",
       "      <td>14183.552944</td>\n",
       "    </tr>\n",
       "  </tbody>\n",
       "</table>\n",
       "</div>"
      ],
      "text/plain": [
       "     uniq_key                                  pay_down_flg_list        profit\n",
       "4         187  [True, True, True, True, False, False, False, ...    293.887386\n",
       "102      4855  [True, True, True, True, False, False, False, ...  14183.552944"
      ]
     },
     "execution_count": 27,
     "metadata": {},
     "output_type": "execute_result"
    }
   ],
   "source": [
    "pay_down_flag_list[pay_down_flag_list[\"pay_down_flg_list\"] == \"[True, True, True, True, False, False, False, False, False, False, False, False]\"]"
   ]
  },
  {
   "cell_type": "code",
   "execution_count": 28,
   "metadata": {
    "execution": {
     "iopub.execute_input": "2024-09-16T09:30:04.268126Z",
     "iopub.status.busy": "2024-09-16T09:30:04.267599Z",
     "iopub.status.idle": "2024-09-16T09:30:04.286053Z",
     "shell.execute_reply": "2024-09-16T09:30:04.284205Z",
     "shell.execute_reply.started": "2024-09-16T09:30:04.268076Z"
    },
    "trusted": true
   },
   "outputs": [],
   "source": [
    "profit_group = (pay_down_flag_list\n",
    " .groupby(\"pay_down_flg_list\")\n",
    " .agg(n_card = (\"uniq_key\", \"count\"),\n",
    "      tt_profit = (\"profit\", \"sum\")\n",
    "     )\n",
    ")"
   ]
  },
  {
   "cell_type": "code",
   "execution_count": 29,
   "metadata": {
    "execution": {
     "iopub.execute_input": "2024-09-16T09:30:06.111165Z",
     "iopub.status.busy": "2024-09-16T09:30:06.110696Z",
     "iopub.status.idle": "2024-09-16T09:30:06.127583Z",
     "shell.execute_reply": "2024-09-16T09:30:06.125966Z",
     "shell.execute_reply.started": "2024-09-16T09:30:06.111110Z"
    },
    "trusted": true
   },
   "outputs": [
    {
     "data": {
      "text/html": [
       "<div>\n",
       "<style scoped>\n",
       "    .dataframe tbody tr th:only-of-type {\n",
       "        vertical-align: middle;\n",
       "    }\n",
       "\n",
       "    .dataframe tbody tr th {\n",
       "        vertical-align: top;\n",
       "    }\n",
       "\n",
       "    .dataframe thead th {\n",
       "        text-align: right;\n",
       "    }\n",
       "</style>\n",
       "<table border=\"1\" class=\"dataframe\">\n",
       "  <thead>\n",
       "    <tr style=\"text-align: right;\">\n",
       "      <th></th>\n",
       "      <th>n_card</th>\n",
       "      <th>tt_profit</th>\n",
       "    </tr>\n",
       "    <tr>\n",
       "      <th>pay_down_flg_list</th>\n",
       "      <th></th>\n",
       "      <th></th>\n",
       "    </tr>\n",
       "  </thead>\n",
       "  <tbody>\n",
       "    <tr>\n",
       "      <th>[True, True, True, True, True, True, True, True, True, True, True, True]</th>\n",
       "      <td>1</td>\n",
       "      <td>6015.723894</td>\n",
       "    </tr>\n",
       "    <tr>\n",
       "      <th>[True, True, True, True, True, True, True, True, True, True, True, False]</th>\n",
       "      <td>1</td>\n",
       "      <td>1396.106840</td>\n",
       "    </tr>\n",
       "    <tr>\n",
       "      <th>[True, True, True, True, True, True, True, True, True, False, False, False]</th>\n",
       "      <td>1</td>\n",
       "      <td>-27.582475</td>\n",
       "    </tr>\n",
       "    <tr>\n",
       "      <th>[True, True, True, True, True, True, True, False, True, False, False, False]</th>\n",
       "      <td>1</td>\n",
       "      <td>1139.704091</td>\n",
       "    </tr>\n",
       "    <tr>\n",
       "      <th>[True, True, True, True, True, True, True, False, False, False, False, False]</th>\n",
       "      <td>1</td>\n",
       "      <td>17346.056158</td>\n",
       "    </tr>\n",
       "    <tr>\n",
       "      <th>...</th>\n",
       "      <td>...</td>\n",
       "      <td>...</td>\n",
       "    </tr>\n",
       "    <tr>\n",
       "      <th>[False, False, False, False, False, False, False, False, False, True, False, True]</th>\n",
       "      <td>1</td>\n",
       "      <td>7405.737179</td>\n",
       "    </tr>\n",
       "    <tr>\n",
       "      <th>[False, False, False, False, False, False, False, False, False, True, False, False]</th>\n",
       "      <td>1</td>\n",
       "      <td>9082.934124</td>\n",
       "    </tr>\n",
       "    <tr>\n",
       "      <th>[False, False, False, False, False, False, False, False, False, False, True, False]</th>\n",
       "      <td>3</td>\n",
       "      <td>5845.243784</td>\n",
       "    </tr>\n",
       "    <tr>\n",
       "      <th>[False, False, False, False, False, False, False, False, False, False, False, True]</th>\n",
       "      <td>3</td>\n",
       "      <td>-1029.873139</td>\n",
       "    </tr>\n",
       "    <tr>\n",
       "      <th>[False, False, False, False, False, False, False, False, False, False, False, False]</th>\n",
       "      <td>19</td>\n",
       "      <td>-649.187704</td>\n",
       "    </tr>\n",
       "  </tbody>\n",
       "</table>\n",
       "<p>68 rows × 2 columns</p>\n",
       "</div>"
      ],
      "text/plain": [
       "                                                    n_card     tt_profit\n",
       "pay_down_flg_list                                                       \n",
       "[True, True, True, True, True, True, True, True...       1   6015.723894\n",
       "[True, True, True, True, True, True, True, True...       1   1396.106840\n",
       "[True, True, True, True, True, True, True, True...       1    -27.582475\n",
       "[True, True, True, True, True, True, True, Fals...       1   1139.704091\n",
       "[True, True, True, True, True, True, True, Fals...       1  17346.056158\n",
       "...                                                    ...           ...\n",
       "[False, False, False, False, False, False, Fals...       1   7405.737179\n",
       "[False, False, False, False, False, False, Fals...       1   9082.934124\n",
       "[False, False, False, False, False, False, Fals...       3   5845.243784\n",
       "[False, False, False, False, False, False, Fals...       3  -1029.873139\n",
       "[False, False, False, False, False, False, Fals...      19   -649.187704\n",
       "\n",
       "[68 rows x 2 columns]"
      ]
     },
     "execution_count": 29,
     "metadata": {},
     "output_type": "execute_result"
    }
   ],
   "source": [
    "profit_group.sort_index(ascending=False)"
   ]
  },
  {
   "cell_type": "markdown",
   "metadata": {},
   "source": [
    "## Create Lead column (shift(-x))"
   ]
  },
  {
   "cell_type": "code",
   "execution_count": 30,
   "metadata": {
    "execution": {
     "iopub.execute_input": "2024-09-16T09:30:08.481287Z",
     "iopub.status.busy": "2024-09-16T09:30:08.480784Z",
     "iopub.status.idle": "2024-09-16T09:30:08.524607Z",
     "shell.execute_reply": "2024-09-16T09:30:08.523105Z",
     "shell.execute_reply.started": "2024-09-16T09:30:08.481224Z"
    },
    "trusted": true
   },
   "outputs": [],
   "source": [
    "pay_down_lead = (pay_down_flg\n",
    " .sort_values([\"uniq_key\", \"mnth_cd\"], ascending=False)\n",
    " .assign(curr = lambda x : x[\"pay_down_flg\"])\n",
    " .assign(lead1 = lambda x : x.groupby(\"uniq_key\")[\"pay_down_flg\"].shift(-1))\n",
    " .assign(lead2 = lambda x : x.groupby(\"uniq_key\")[\"pay_down_flg\"].shift(-2))\n",
    " .assign(lead3 = lambda x : x.groupby(\"uniq_key\")[\"pay_down_flg\"].shift(-3))\n",
    " .assign(lead4 = lambda x : x.groupby(\"uniq_key\")[\"pay_down_flg\"].shift(-4))\n",
    " .assign(lead5 = lambda x : x.groupby(\"uniq_key\")[\"pay_down_flg\"].shift(-5))\n",
    " .assign(lead6 = lambda x : x.groupby(\"uniq_key\")[\"pay_down_flg\"].shift(-6))\n",
    " .assign(lead7 = lambda x : x.groupby(\"uniq_key\")[\"pay_down_flg\"].shift(-7))\n",
    " .assign(lead8 = lambda x : x.groupby(\"uniq_key\")[\"pay_down_flg\"].shift(-8))\n",
    " .assign(lead9 = lambda x : x.groupby(\"uniq_key\")[\"pay_down_flg\"].shift(-9))\n",
    " .assign(lead10 = lambda x : x.groupby(\"uniq_key\")[\"pay_down_flg\"].shift(-10))\n",
    " .assign(lead11 = lambda x : x.groupby(\"uniq_key\")[\"pay_down_flg\"].shift(-11))\n",
    " .query(\"mnth_cd == 202312\")\n",
    ")"
   ]
  },
  {
   "cell_type": "code",
   "execution_count": 31,
   "metadata": {
    "execution": {
     "iopub.execute_input": "2024-09-16T09:30:10.216460Z",
     "iopub.status.busy": "2024-09-16T09:30:10.216032Z",
     "iopub.status.idle": "2024-09-16T09:30:10.241223Z",
     "shell.execute_reply": "2024-09-16T09:30:10.239918Z",
     "shell.execute_reply.started": "2024-09-16T09:30:10.216413Z"
    },
    "trusted": true
   },
   "outputs": [
    {
     "data": {
      "text/html": [
       "<div>\n",
       "<style scoped>\n",
       "    .dataframe tbody tr th:only-of-type {\n",
       "        vertical-align: middle;\n",
       "    }\n",
       "\n",
       "    .dataframe tbody tr th {\n",
       "        vertical-align: top;\n",
       "    }\n",
       "\n",
       "    .dataframe thead th {\n",
       "        text-align: right;\n",
       "    }\n",
       "</style>\n",
       "<table border=\"1\" class=\"dataframe\">\n",
       "  <thead>\n",
       "    <tr style=\"text-align: right;\">\n",
       "      <th></th>\n",
       "      <th>uniq_key</th>\n",
       "      <th>mnth_cd</th>\n",
       "      <th>behv</th>\n",
       "      <th>usage</th>\n",
       "      <th>profit</th>\n",
       "      <th>pay_down_flg</th>\n",
       "      <th>curr</th>\n",
       "      <th>lead1</th>\n",
       "      <th>lead2</th>\n",
       "      <th>lead3</th>\n",
       "      <th>lead4</th>\n",
       "      <th>lead5</th>\n",
       "      <th>lead6</th>\n",
       "      <th>lead7</th>\n",
       "      <th>lead8</th>\n",
       "      <th>lead9</th>\n",
       "      <th>lead10</th>\n",
       "      <th>lead11</th>\n",
       "    </tr>\n",
       "  </thead>\n",
       "  <tbody>\n",
       "    <tr>\n",
       "      <th>1146</th>\n",
       "      <td>4861</td>\n",
       "      <td>202312</td>\n",
       "      <td>Revolver</td>\n",
       "      <td>0.0</td>\n",
       "      <td>186.930860</td>\n",
       "      <td>True</td>\n",
       "      <td>True</td>\n",
       "      <td>True</td>\n",
       "      <td>True</td>\n",
       "      <td>True</td>\n",
       "      <td>True</td>\n",
       "      <td>True</td>\n",
       "      <td>False</td>\n",
       "      <td>True</td>\n",
       "      <td>True</td>\n",
       "      <td>True</td>\n",
       "      <td>True</td>\n",
       "      <td>True</td>\n",
       "    </tr>\n",
       "    <tr>\n",
       "      <th>1162</th>\n",
       "      <td>4855</td>\n",
       "      <td>202312</td>\n",
       "      <td>Revolver</td>\n",
       "      <td>0.0</td>\n",
       "      <td>3122.936243</td>\n",
       "      <td>True</td>\n",
       "      <td>True</td>\n",
       "      <td>True</td>\n",
       "      <td>True</td>\n",
       "      <td>True</td>\n",
       "      <td>False</td>\n",
       "      <td>False</td>\n",
       "      <td>False</td>\n",
       "      <td>False</td>\n",
       "      <td>False</td>\n",
       "      <td>False</td>\n",
       "      <td>False</td>\n",
       "      <td>False</td>\n",
       "    </tr>\n",
       "    <tr>\n",
       "      <th>1151</th>\n",
       "      <td>4848</td>\n",
       "      <td>202312</td>\n",
       "      <td>Revolver</td>\n",
       "      <td>0.0</td>\n",
       "      <td>-88.860153</td>\n",
       "      <td>True</td>\n",
       "      <td>True</td>\n",
       "      <td>True</td>\n",
       "      <td>True</td>\n",
       "      <td>False</td>\n",
       "      <td>False</td>\n",
       "      <td>False</td>\n",
       "      <td>False</td>\n",
       "      <td>False</td>\n",
       "      <td>False</td>\n",
       "      <td>False</td>\n",
       "      <td>False</td>\n",
       "      <td>True</td>\n",
       "    </tr>\n",
       "    <tr>\n",
       "      <th>1230</th>\n",
       "      <td>4697</td>\n",
       "      <td>202312</td>\n",
       "      <td>Inactive</td>\n",
       "      <td>503.0</td>\n",
       "      <td>-132.636638</td>\n",
       "      <td>False</td>\n",
       "      <td>False</td>\n",
       "      <td>False</td>\n",
       "      <td>False</td>\n",
       "      <td>False</td>\n",
       "      <td>False</td>\n",
       "      <td>False</td>\n",
       "      <td>False</td>\n",
       "      <td>False</td>\n",
       "      <td>False</td>\n",
       "      <td>False</td>\n",
       "      <td>False</td>\n",
       "      <td>False</td>\n",
       "    </tr>\n",
       "    <tr>\n",
       "      <th>1183</th>\n",
       "      <td>4526</td>\n",
       "      <td>202312</td>\n",
       "      <td>Inactive</td>\n",
       "      <td>0.0</td>\n",
       "      <td>0.000000</td>\n",
       "      <td>False</td>\n",
       "      <td>False</td>\n",
       "      <td>False</td>\n",
       "      <td>False</td>\n",
       "      <td>False</td>\n",
       "      <td>False</td>\n",
       "      <td>False</td>\n",
       "      <td>False</td>\n",
       "      <td>True</td>\n",
       "      <td>True</td>\n",
       "      <td>True</td>\n",
       "      <td>True</td>\n",
       "      <td>False</td>\n",
       "    </tr>\n",
       "  </tbody>\n",
       "</table>\n",
       "</div>"
      ],
      "text/plain": [
       "      uniq_key  mnth_cd      behv  usage       profit  pay_down_flg   curr  \\\n",
       "1146      4861   202312  Revolver    0.0   186.930860          True   True   \n",
       "1162      4855   202312  Revolver    0.0  3122.936243          True   True   \n",
       "1151      4848   202312  Revolver    0.0   -88.860153          True   True   \n",
       "1230      4697   202312  Inactive  503.0  -132.636638         False  False   \n",
       "1183      4526   202312  Inactive    0.0     0.000000         False  False   \n",
       "\n",
       "      lead1  lead2  lead3  lead4  lead5  lead6  lead7  lead8  lead9 lead10  \\\n",
       "1146   True   True   True   True   True  False   True   True   True   True   \n",
       "1162   True   True   True  False  False  False  False  False  False  False   \n",
       "1151   True   True  False  False  False  False  False  False  False  False   \n",
       "1230  False  False  False  False  False  False  False  False  False  False   \n",
       "1183  False  False  False  False  False  False   True   True   True   True   \n",
       "\n",
       "     lead11  \n",
       "1146   True  \n",
       "1162  False  \n",
       "1151   True  \n",
       "1230  False  \n",
       "1183  False  "
      ]
     },
     "execution_count": 31,
     "metadata": {},
     "output_type": "execute_result"
    }
   ],
   "source": [
    "pay_down_lead.head()"
   ]
  },
  {
   "cell_type": "code",
   "execution_count": 32,
   "metadata": {
    "execution": {
     "iopub.execute_input": "2024-09-16T09:30:10.901133Z",
     "iopub.status.busy": "2024-09-16T09:30:10.900162Z",
     "iopub.status.idle": "2024-09-16T09:30:10.919232Z",
     "shell.execute_reply": "2024-09-16T09:30:10.917958Z",
     "shell.execute_reply.started": "2024-09-16T09:30:10.901067Z"
    },
    "trusted": true
   },
   "outputs": [
    {
     "data": {
      "text/html": [
       "<div>\n",
       "<style scoped>\n",
       "    .dataframe tbody tr th:only-of-type {\n",
       "        vertical-align: middle;\n",
       "    }\n",
       "\n",
       "    .dataframe tbody tr th {\n",
       "        vertical-align: top;\n",
       "    }\n",
       "\n",
       "    .dataframe thead th {\n",
       "        text-align: right;\n",
       "    }\n",
       "</style>\n",
       "<table border=\"1\" class=\"dataframe\">\n",
       "  <thead>\n",
       "    <tr style=\"text-align: right;\">\n",
       "      <th></th>\n",
       "      <th>uniq_key</th>\n",
       "      <th>mnth_cd</th>\n",
       "      <th>behv</th>\n",
       "      <th>usage</th>\n",
       "      <th>profit</th>\n",
       "    </tr>\n",
       "  </thead>\n",
       "  <tbody>\n",
       "    <tr>\n",
       "      <th>1162</th>\n",
       "      <td>4855</td>\n",
       "      <td>202312</td>\n",
       "      <td>Revolver</td>\n",
       "      <td>0.00</td>\n",
       "      <td>3122.936243</td>\n",
       "    </tr>\n",
       "    <tr>\n",
       "      <th>1058</th>\n",
       "      <td>4855</td>\n",
       "      <td>202311</td>\n",
       "      <td>Revolver</td>\n",
       "      <td>0.00</td>\n",
       "      <td>3116.264802</td>\n",
       "    </tr>\n",
       "    <tr>\n",
       "      <th>954</th>\n",
       "      <td>4855</td>\n",
       "      <td>202310</td>\n",
       "      <td>Revolver</td>\n",
       "      <td>0.00</td>\n",
       "      <td>2417.558213</td>\n",
       "    </tr>\n",
       "    <tr>\n",
       "      <th>850</th>\n",
       "      <td>4855</td>\n",
       "      <td>202309</td>\n",
       "      <td>Revolver</td>\n",
       "      <td>0.00</td>\n",
       "      <td>3270.233883</td>\n",
       "    </tr>\n",
       "    <tr>\n",
       "      <th>746</th>\n",
       "      <td>4855</td>\n",
       "      <td>202308</td>\n",
       "      <td>Revolver</td>\n",
       "      <td>66881.77</td>\n",
       "      <td>2039.341660</td>\n",
       "    </tr>\n",
       "    <tr>\n",
       "      <th>642</th>\n",
       "      <td>4855</td>\n",
       "      <td>202307</td>\n",
       "      <td>Revolver</td>\n",
       "      <td>554386.41</td>\n",
       "      <td>5327.613489</td>\n",
       "    </tr>\n",
       "    <tr>\n",
       "      <th>538</th>\n",
       "      <td>4855</td>\n",
       "      <td>202306</td>\n",
       "      <td>Revolver</td>\n",
       "      <td>95381.62</td>\n",
       "      <td>3390.882576</td>\n",
       "    </tr>\n",
       "    <tr>\n",
       "      <th>434</th>\n",
       "      <td>4855</td>\n",
       "      <td>202305</td>\n",
       "      <td>Revolver</td>\n",
       "      <td>85671.92</td>\n",
       "      <td>428.448091</td>\n",
       "    </tr>\n",
       "    <tr>\n",
       "      <th>330</th>\n",
       "      <td>4855</td>\n",
       "      <td>202304</td>\n",
       "      <td>Transactor</td>\n",
       "      <td>47300.24</td>\n",
       "      <td>-12356.100080</td>\n",
       "    </tr>\n",
       "    <tr>\n",
       "      <th>226</th>\n",
       "      <td>4855</td>\n",
       "      <td>202303</td>\n",
       "      <td>Transactor</td>\n",
       "      <td>33762.20</td>\n",
       "      <td>516.618416</td>\n",
       "    </tr>\n",
       "    <tr>\n",
       "      <th>122</th>\n",
       "      <td>4855</td>\n",
       "      <td>202302</td>\n",
       "      <td>Transactor</td>\n",
       "      <td>26075.69</td>\n",
       "      <td>1575.251694</td>\n",
       "    </tr>\n",
       "    <tr>\n",
       "      <th>18</th>\n",
       "      <td>4855</td>\n",
       "      <td>202301</td>\n",
       "      <td>Revolver</td>\n",
       "      <td>139361.03</td>\n",
       "      <td>1334.503957</td>\n",
       "    </tr>\n",
       "  </tbody>\n",
       "</table>\n",
       "</div>"
      ],
      "text/plain": [
       "      uniq_key  mnth_cd        behv      usage        profit\n",
       "1162      4855   202312    Revolver       0.00   3122.936243\n",
       "1058      4855   202311    Revolver       0.00   3116.264802\n",
       "954       4855   202310    Revolver       0.00   2417.558213\n",
       "850       4855   202309    Revolver       0.00   3270.233883\n",
       "746       4855   202308    Revolver   66881.77   2039.341660\n",
       "642       4855   202307    Revolver  554386.41   5327.613489\n",
       "538       4855   202306    Revolver   95381.62   3390.882576\n",
       "434       4855   202305    Revolver   85671.92    428.448091\n",
       "330       4855   202304  Transactor   47300.24 -12356.100080\n",
       "226       4855   202303  Transactor   33762.20    516.618416\n",
       "122       4855   202302  Transactor   26075.69   1575.251694\n",
       "18        4855   202301    Revolver  139361.03   1334.503957"
      ]
     },
     "execution_count": 32,
     "metadata": {},
     "output_type": "execute_result"
    }
   ],
   "source": [
    "card_behv_12_mnth[card_behv_12_mnth[\"uniq_key\"]==4855].sort_values(\"mnth_cd\", ascending=False)"
   ]
  }
 ],
 "metadata": {
  "kaggle": {
   "accelerator": "none",
   "dataSources": [
    {
     "datasetId": 5714585,
     "sourceId": 9410746,
     "sourceType": "datasetVersion"
    }
   ],
   "dockerImageVersionId": 30761,
   "isGpuEnabled": false,
   "isInternetEnabled": false,
   "language": "python",
   "sourceType": "notebook"
  },
  "kernelspec": {
   "display_name": "Python 3",
   "language": "python",
   "name": "python3"
  },
  "language_info": {
   "codemirror_mode": {
    "name": "ipython",
    "version": 3
   },
   "file_extension": ".py",
   "mimetype": "text/x-python",
   "name": "python",
   "nbconvert_exporter": "python",
   "pygments_lexer": "ipython3",
   "version": "3.10.14"
  }
 },
 "nbformat": 4,
 "nbformat_minor": 4
}
