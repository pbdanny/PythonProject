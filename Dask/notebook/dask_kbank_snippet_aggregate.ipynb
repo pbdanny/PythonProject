{
 "cells": [
  {
   "cell_type": "code",
   "execution_count": 1,
   "id": "03bee063-7108-483b-9c52-5a6f751293fa",
   "metadata": {
    "editable": true,
    "slideshow": {
     "slide_type": ""
    },
    "tags": []
   },
   "outputs": [],
   "source": [
    "%run \"C:\\Users\\o_thanakrit.b\\OneDrive - KASIKORNBANKGROUP\\เอกสาร\\code_and_finding\\template.ipynb\""
   ]
  },
  {
   "cell_type": "code",
   "execution_count": 2,
   "id": "3f5109ed-7bc8-4cbb-a805-984122c32b81",
   "metadata": {},
   "outputs": [],
   "source": [
    "fy2023 = dd.read_parquet(mart_fy2023_path/\"data_fy2023_fix_mkt_exp_add_usage_consu_pri_crd_blk_rm_wlx_reFormula.parquet\")\n",
    "ecl = dd.read_parquet(mart_fy2023_path/\"profit\"/\"rolled_annual_card_ecl_delta_dec23vsdec22.parquet\")\n",
    "card_profit_net_ecl = dd.read_parquet(mart_fy2023_path/\"profit\"/\"rolled_annual_card_profit_net_ecl.parquet\")\n",
    "\n",
    "card_os = dd.read_parquet(mart_fy2023_path/\"rolled_annual_card_os.parquet\")\n",
    "card_cl = dd.read_parquet(mart_fy2023_path/\"rolled_annual_card_cl.parquet\")\n",
    "card_util = dd.read_parquet(mart_fy2023_path/\"rolled_annual_card_util_new.parquet\").reset_index()\n",
    "card_seg = dd.read_parquet(mart_fy2023_path/\"rolled_annual_card_segment_adj.parquet\").loc[:, [\"uniq_key\", \"card_status_flag\", \"card_annual_segment_adj\"]]\n",
    "\n",
    "card_type = dd.read_parquet(staging_path/\"card_type.parquet\")\n",
    "card_dim = dd.read_parquet(staging_path/\"cust_card_dim.parquet\")\n",
    "tier_typ_gr = dd.read_csv(\"card_tier_type_mapper.csv\")\n",
    "\n",
    "# Use customer CL since all customer shared CL\n",
    "cust_cl = dd.read_parquet(mart_fy2023_path/\"rolled_annual_cust_cl.parquet\")\n",
    "\n",
    "# New SA SE\n",
    "new_occ = dd.read_parquet(staging_path/\"sa_se_bsn2.parquet\").drop_duplicates()"
   ]
  },
  {
   "cell_type": "code",
   "execution_count": 3,
   "id": "ae55ba38-9e6d-41b3-b20b-8da8417f3339",
   "metadata": {},
   "outputs": [
    {
     "data": {
      "text/plain": [
       "Index(['uniq_key', 'sa_se_fnl', 'bsn_tp', 'bsn_dsc'], dtype='object')"
      ]
     },
     "execution_count": 3,
     "metadata": {},
     "output_type": "execute_result"
    }
   ],
   "source": [
    "new_occ.columns"
   ]
  },
  {
   "cell_type": "markdown",
   "id": "b62d636d-69d7-425f-b0f7-c87f48b565e4",
   "metadata": {},
   "source": [
    "## Focus segment analysis\n",
    "- Affluent AUM - Revolver Freq.\n",
    "- Affluent Income - Revolver Freq.\n",
    "- Mass - Revolver Freq."
   ]
  },
  {
   "cell_type": "code",
   "execution_count": 4,
   "id": "fe226fd8-ff45-415c-9c0b-5e21bc2c4a6b",
   "metadata": {},
   "outputs": [],
   "source": [
    "card_cube = dd.read_parquet(mart_fy2023_path/\"card_cube\"/\"rolled_annual_card.parquet\")"
   ]
  },
  {
   "cell_type": "code",
   "execution_count": 5,
   "id": "76bdee3a-f5e1-4335-8d4a-c3896a26a4c9",
   "metadata": {},
   "outputs": [
    {
     "data": {
      "text/plain": [
       "3997489"
      ]
     },
     "execution_count": 5,
     "metadata": {},
     "output_type": "execute_result"
    }
   ],
   "source": [
    "card_cube[\"uniq_key\"].nunique().compute()"
   ]
  },
  {
   "cell_type": "code",
   "execution_count": 6,
   "id": "f8303097-4857-494c-8617-7e0be71c43f4",
   "metadata": {},
   "outputs": [
    {
     "data": {
      "text/plain": [
       "2329585"
      ]
     },
     "execution_count": 6,
     "metadata": {},
     "output_type": "execute_result"
    }
   ],
   "source": [
    "card_cube[\"cc_cst_real\"].nunique().compute()"
   ]
  },
  {
   "cell_type": "code",
   "execution_count": 7,
   "id": "1bf24962-8420-4ab3-99db-fc3c503c2a14",
   "metadata": {},
   "outputs": [
    {
     "data": {
      "text/plain": [
       "Index(['cc_cst_real', 'uniq_key', 'revenue', 'cost', 'cashback', 'cof',\n",
       "       'fixed_cost', 'fraud_loss', 'reward_burn', 'scheme_fee', 'annual_fee',\n",
       "       'cash_adv_fee', 'collection_fee', 'fx_fee', 'interchg_fee', 'int_inc',\n",
       "       'mftp_total', 'activity_based_costing_expense', 'debt_collection_exp',\n",
       "       'fee_waived_off', 'marketing_exp', 'specific_business_tax',\n",
       "       'fee_paid_visa', 'issuer_license_fee', 'total_account_card_fee',\n",
       "       'total_concierge_fee', 'total_issuer_domestic', 'total_issuer_inter',\n",
       "       'gain_and_loss', 'interchange_fee', 'merchant_discount_fee',\n",
       "       'net_interest_rec', 'past_due_amt', 'stmt_amt', 'mth_end_bal',\n",
       "       'crn_pymt_due_amt', 'pymt_amt', 'cash_draw', 'smc_draw', 'spd_draw',\n",
       "       'smp_draw', 'usage', 'ecl_delta', 'profit', 'profit_net_ecl',\n",
       "       'card_status_flag', 'card_annual_segment_adj', 'card_tp',\n",
       "       'issur_card_lvl2', 'monthly_avg_os_stmt_amt',\n",
       "       'monthly_avg_os_mth_end_bal', 'monthly_avg_cl', 'annual_stmt_amt',\n",
       "       'annual_mth_end_bal', 'annual_cl', 'annual_util_stmt_amt',\n",
       "       'annual_util_mth_end_bal', 'Tier_Type', 'Peer', 'cust_monthly_avg_cl'],\n",
       "      dtype='object')"
      ]
     },
     "execution_count": 7,
     "metadata": {},
     "output_type": "execute_result"
    }
   ],
   "source": [
    "card_cube.columns"
   ]
  },
  {
   "cell_type": "code",
   "execution_count": 8,
   "id": "a4331fdb-8717-4bc5-b3f4-b10e7abcdb30",
   "metadata": {},
   "outputs": [
    {
     "data": {
      "text/plain": [
       "0               Mass\n",
       "1       Affluent AUM\n",
       "2            Retails\n",
       "3          Insurance\n",
       "0           institue\n",
       "0             Health\n",
       "0    Affluent Income\n",
       "1           Cashback\n",
       "2             Online\n",
       "Name: Peer, dtype: string"
      ]
     },
     "execution_count": 8,
     "metadata": {},
     "output_type": "execute_result"
    }
   ],
   "source": [
    "card_cube[\"Peer\"].unique().compute()"
   ]
  },
  {
   "cell_type": "code",
   "execution_count": 9,
   "id": "562d4dd8-4e07-4a0f-b29a-48a3fa2c55b7",
   "metadata": {},
   "outputs": [
    {
     "data": {
      "text/plain": [
       "0                Paydown\n",
       "0             Transactor\n",
       "1    Revolver-Occasional\n",
       "0               Inactive\n",
       "1             Delinquent\n",
       "2      Revolver-Frequent\n",
       "Name: card_annual_segment_adj, dtype: string"
      ]
     },
     "execution_count": 9,
     "metadata": {},
     "output_type": "execute_result"
    }
   ],
   "source": [
    "card_cube[\"card_annual_segment_adj\"].unique().compute()"
   ]
  },
  {
   "cell_type": "code",
   "execution_count": 10,
   "id": "bc6d9f3b-8eaa-4e37-b0e8-98c3dd619fce",
   "metadata": {},
   "outputs": [],
   "source": [
    "focus_peer = [\"Affluent AUM\", \"Affluent Income\", \"Mass\"]\n",
    "focus_behv = [\"Revolver-Frequent\"]"
   ]
  },
  {
   "cell_type": "code",
   "execution_count": 11,
   "id": "57161f9e-4977-46a3-91a2-d40235ecd150",
   "metadata": {},
   "outputs": [],
   "source": [
    "focus_cube = card_cube.loc[ (card_cube[\"Peer\"].isin(focus_peer)) & (card_cube[\"card_annual_segment_adj\"].isin(focus_behv)), :]"
   ]
  },
  {
   "cell_type": "code",
   "execution_count": 12,
   "id": "20192d90-4b3e-4a6f-ad14-f52055335b9c",
   "metadata": {},
   "outputs": [
    {
     "data": {
      "text/html": [
       "<div>\n",
       "<style scoped>\n",
       "    .dataframe tbody tr th:only-of-type {\n",
       "        vertical-align: middle;\n",
       "    }\n",
       "\n",
       "    .dataframe tbody tr th {\n",
       "        vertical-align: top;\n",
       "    }\n",
       "\n",
       "    .dataframe thead th {\n",
       "        text-align: right;\n",
       "    }\n",
       "</style>\n",
       "<table border=\"1\" class=\"dataframe\">\n",
       "  <thead>\n",
       "    <tr style=\"text-align: right;\">\n",
       "      <th></th>\n",
       "      <th></th>\n",
       "      <th>n_account</th>\n",
       "    </tr>\n",
       "    <tr>\n",
       "      <th>Peer</th>\n",
       "      <th>card_annual_segment_adj</th>\n",
       "      <th></th>\n",
       "    </tr>\n",
       "  </thead>\n",
       "  <tbody>\n",
       "    <tr>\n",
       "      <th>Mass</th>\n",
       "      <th>Revolver-Frequent</th>\n",
       "      <td>544312</td>\n",
       "    </tr>\n",
       "    <tr>\n",
       "      <th>Affluent Income</th>\n",
       "      <th>Revolver-Frequent</th>\n",
       "      <td>45981</td>\n",
       "    </tr>\n",
       "    <tr>\n",
       "      <th>Affluent AUM</th>\n",
       "      <th>Revolver-Frequent</th>\n",
       "      <td>10605</td>\n",
       "    </tr>\n",
       "  </tbody>\n",
       "</table>\n",
       "</div>"
      ],
      "text/plain": [
       "                                         n_account\n",
       "Peer            card_annual_segment_adj           \n",
       "Mass            Revolver-Frequent           544312\n",
       "Affluent Income Revolver-Frequent            45981\n",
       "Affluent AUM    Revolver-Frequent            10605"
      ]
     },
     "execution_count": 12,
     "metadata": {},
     "output_type": "execute_result"
    }
   ],
   "source": [
    "focus_cube.groupby([\"Peer\", \"card_annual_segment_adj\"]).agg(n_account = (\"uniq_key\", \"count\")).compute()"
   ]
  },
  {
   "cell_type": "markdown",
   "id": "e76c70fe-a0ea-4bcb-b43f-69528ff7010d",
   "metadata": {},
   "source": [
    "### SA/SE, Industry"
   ]
  },
  {
   "cell_type": "code",
   "execution_count": 13,
   "id": "8fd2b7fa-ccaa-482c-ba84-f83b4fe36078",
   "metadata": {},
   "outputs": [
    {
     "data": {
      "text/plain": [
       "cc_cst_real          0\n",
       "uniq_key             0\n",
       "opn_dt               1\n",
       "incm_tier       214086\n",
       "sa_se_fnl            0\n",
       "bsn_tp         2698017\n",
       "bsn_dsc        2698017\n",
       "dtype: int64"
      ]
     },
     "execution_count": 13,
     "metadata": {},
     "output_type": "execute_result"
    }
   ],
   "source": [
    "card_dim.isna().sum().compute()"
   ]
  },
  {
   "cell_type": "code",
   "execution_count": 14,
   "id": "88a5a069-d3fc-4ae5-aa0a-a446a09edb79",
   "metadata": {},
   "outputs": [
    {
     "data": {
      "text/plain": [
       "uniq_key          0\n",
       "sa_se_fnl         0\n",
       "bsn_tp       527579\n",
       "bsn_dsc      527630\n",
       "dtype: int64"
      ]
     },
     "execution_count": 14,
     "metadata": {},
     "output_type": "execute_result"
    }
   ],
   "source": [
    "new_occ.isna().sum().compute()"
   ]
  },
  {
   "cell_type": "code",
   "execution_count": 15,
   "id": "d4fa1542-ab27-4c8f-94a7-8839311c3751",
   "metadata": {},
   "outputs": [
    {
     "data": {
      "text/plain": [
       "5266262"
      ]
     },
     "execution_count": 15,
     "metadata": {},
     "output_type": "execute_result"
    }
   ],
   "source": [
    "card_dim[\"uniq_key\"].nunique().compute()"
   ]
  },
  {
   "cell_type": "code",
   "execution_count": 16,
   "id": "5cf8ed83-0c5e-4884-914d-c819e0a29189",
   "metadata": {},
   "outputs": [
    {
     "data": {
      "text/plain": [
       "5266283"
      ]
     },
     "execution_count": 16,
     "metadata": {},
     "output_type": "execute_result"
    }
   ],
   "source": [
    "new_occ[\"uniq_key\"].nunique().compute()"
   ]
  },
  {
   "cell_type": "code",
   "execution_count": 17,
   "id": "f65bd275-46ff-42d3-8f64-022d9b245f47",
   "metadata": {},
   "outputs": [
    {
     "data": {
      "text/plain": [
       "5266283"
      ]
     },
     "execution_count": 17,
     "metadata": {},
     "output_type": "execute_result"
    }
   ],
   "source": [
    "new_occ[\"uniq_key\"].count().compute()"
   ]
  },
  {
   "cell_type": "code",
   "execution_count": 63,
   "id": "f1777c9d-cd28-4d38-96f9-6bf1dc88f926",
   "metadata": {},
   "outputs": [],
   "source": [
    "(focus_cube\n",
    " .merge(new_occ, on=\"uniq_key\", how=\"left\")\n",
    " .fillna({'sa_se_fnl':\"NA\", 'bsn_dsc':\"NA\"})\n",
    " .groupby([\"Peer\", \"card_annual_segment_adj\", \"sa_se_fnl\", \"bsn_dsc\"])\n",
    " .agg(n_account = (\"uniq_key\", \"count\"))\n",
    ").compute().reset_index().to_clipboard()"
   ]
  },
  {
   "cell_type": "markdown",
   "id": "6a587fbc-8603-4671-b158-79bd11f0bcca",
   "metadata": {},
   "source": [
    "### Utilization"
   ]
  },
  {
   "cell_type": "code",
   "execution_count": 51,
   "id": "fff9c068-b2f8-4b6d-b217-0056b4e178a2",
   "metadata": {},
   "outputs": [],
   "source": [
    "focus_cube_util = focus_cube.loc[:, [\"uniq_key\", \"Peer\", \"card_annual_segment_adj\", \n",
    "                                     \"annual_util_mth_end_bal\", \"monthly_avg_os_mth_end_bal\", \"monthly_avg_cl\"]].compute()"
   ]
  },
  {
   "cell_type": "code",
   "execution_count": 53,
   "id": "2191cc0f-68f2-476f-8c81-3f89aa2038be",
   "metadata": {},
   "outputs": [],
   "source": [
    "(focus_cube_util\n",
    " .replace({\"annual_util_mth_end_bal\": {np.Inf: None, -np.Inf: None}})\n",
    " .dropna(subset=[\"annual_util_mth_end_bal\"])\n",
    " .assign(annual_util_mth_end_bal_round = lambda x : x[\"annual_util_mth_end_bal\"].astype(float).round(3))\n",
    " .groupby([\"Peer\", \"card_annual_segment_adj\"])\n",
    " .agg(n_account = (\"uniq_key\", \"count\"),\n",
    "      avg_monthly_mth_end_bal = (\"monthly_avg_os_mth_end_bal\", \"mean\"),\n",
    "      avg_monthly_cl = (\"monthly_avg_cl\", \"mean\"),\n",
    "      avg_util = (\"annual_util_mth_end_bal\", \"mean\"), \n",
    "      mode_util = (\"annual_util_mth_end_bal_round\", lambda x: x.value_counts().index[0]), \n",
    "      mode_util_n = (\"annual_util_mth_end_bal_round\", lambda x: x.value_counts()[0]), \n",
    "      p1_util = (\"annual_util_mth_end_bal\", lambda x: np.percentile(x, q=1)),\n",
    "      p10_util = (\"annual_util_mth_end_bal\", lambda x: np.percentile(x, q=10)),\n",
    "      p25_util = (\"annual_util_mth_end_bal\", lambda x: np.percentile(x, q=25)),\n",
    "      p50_util = (\"annual_util_mth_end_bal\", lambda x: np.percentile(x, q=50)),\n",
    "      p75_util = (\"annual_util_mth_end_bal\", lambda x: np.percentile(x, q=75)),\n",
    "      p90_util = (\"annual_util_mth_end_bal\", lambda x: np.percentile(x, q=90)),\n",
    "      p99_util = (\"annual_util_mth_end_bal\", lambda x: np.percentile(x, q=99)),\n",
    "    )\n",
    ").reset_index().to_clipboard()"
   ]
  },
  {
   "cell_type": "markdown",
   "id": "cc20270e-7636-4912-8d33-82fd4a8dc0a8",
   "metadata": {},
   "source": [
    "### CL draw type (Cash / Retail spending)"
   ]
  },
  {
   "cell_type": "code",
   "execution_count": 18,
   "id": "66f1c14c-4934-481c-8136-49211e7a1a85",
   "metadata": {},
   "outputs": [
    {
     "data": {
      "text/plain": [
       "Index(['cc_cst_real', 'uniq_key', 'revenue', 'cost', 'cashback', 'cof',\n",
       "       'fixed_cost', 'fraud_loss', 'reward_burn', 'scheme_fee', 'annual_fee',\n",
       "       'cash_adv_fee', 'collection_fee', 'fx_fee', 'interchg_fee', 'int_inc',\n",
       "       'mftp_total', 'activity_based_costing_expense', 'debt_collection_exp',\n",
       "       'fee_waived_off', 'marketing_exp', 'specific_business_tax',\n",
       "       'fee_paid_visa', 'issuer_license_fee', 'total_account_card_fee',\n",
       "       'total_concierge_fee', 'total_issuer_domestic', 'total_issuer_inter',\n",
       "       'gain_and_loss', 'interchange_fee', 'merchant_discount_fee',\n",
       "       'net_interest_rec', 'past_due_amt', 'stmt_amt', 'mth_end_bal',\n",
       "       'crn_pymt_due_amt', 'pymt_amt', 'cash_draw', 'smc_draw', 'spd_draw',\n",
       "       'smp_draw', 'usage', 'ecl_delta', 'profit', 'profit_net_ecl',\n",
       "       'card_status_flag', 'card_annual_segment_adj', 'card_tp',\n",
       "       'issur_card_lvl2', 'monthly_avg_os_stmt_amt',\n",
       "       'monthly_avg_os_mth_end_bal', 'monthly_avg_cl', 'annual_stmt_amt',\n",
       "       'annual_mth_end_bal', 'annual_cl', 'annual_util_stmt_amt',\n",
       "       'annual_util_mth_end_bal', 'Tier_Type', 'Peer', 'cust_monthly_avg_cl'],\n",
       "      dtype='object')"
      ]
     },
     "execution_count": 18,
     "metadata": {},
     "output_type": "execute_result"
    }
   ],
   "source": [
    "focus_cube.columns"
   ]
  },
  {
   "cell_type": "code",
   "execution_count": 56,
   "id": "acb22fdc-e61c-4e36-a642-29955a53fecf",
   "metadata": {},
   "outputs": [],
   "source": [
    "focus_cube_draw = \\\n",
    "(focus_cube\n",
    " .assign(draw_cash = lambda x : x[\"cash_draw\"] + x[\"smc_draw\"])\n",
    " .assign(draw_retail = lambda x : x[\"spd_draw\"] + x[\"smp_draw\"])\n",
    " .loc[:, [\"uniq_key\", \"Peer\", \"card_annual_segment_adj\", 'draw_cash', 'draw_retail', 'usage']]\n",
    ").compute()"
   ]
  },
  {
   "cell_type": "code",
   "execution_count": 59,
   "id": "d733fa39-513e-4e52-802a-da06ad97937e",
   "metadata": {},
   "outputs": [],
   "source": [
    "(focus_cube_draw\n",
    " .query(\"usage > 0\")\n",
    " .assign(pct_draw_cash = lambda x : x[\"draw_cash\"]/x[\"usage\"])\n",
    " .assign(pct_draw_retail = lambda x : x[\"draw_retail\"]/x[\"usage\"])\n",
    " .groupby([\"Peer\", \"card_annual_segment_adj\"])\n",
    " .agg(n_account = (\"uniq_key\", \"count\"),\n",
    "      tt_draw = (\"usage\", \"sum\"),\n",
    "      tt_draw_cash = (\"draw_cash\",\"sum\"),\n",
    "      tt_draw_retail = (\"draw_retail\",\"sum\"),\n",
    "      # avg_pct_draw_retail = (\"pct_draw_retail\", \"mean\"), \n",
    "      avg_pct_draw_cash = (\"pct_draw_cash\", \"mean\"), \n",
    "      mode_pct_draw_cash = (\"pct_draw_cash\", lambda x: x.astype(float).round(3).value_counts().index[0]), \n",
    "      mode_pct_draw_cash_n = (\"pct_draw_cash\", lambda x: x.astype(float).round(3).value_counts()[0]), \n",
    "       p1_pct_draw_cash = (\"pct_draw_cash\", lambda x: np.percentile(x, q=1)),\n",
    "      p10_pct_draw_cash = (\"pct_draw_cash\", lambda x: np.percentile(x, q=10)),\n",
    "      p25_pct_draw_cash = (\"pct_draw_cash\", lambda x: np.percentile(x, q=25)),\n",
    "      p50_pct_draw_cash = (\"pct_draw_cash\", lambda x: np.percentile(x, q=50)),\n",
    "      p75_pct_draw_cash = (\"pct_draw_cash\", lambda x: np.percentile(x, q=75)),\n",
    "      p90_pct_draw_cash = (\"pct_draw_cash\", lambda x: np.percentile(x, q=90)),\n",
    "      p99_pct_draw_cash = (\"pct_draw_cash\", lambda x: np.percentile(x, q=99)),\n",
    "    )\n",
    ").reset_index().to_clipboard()"
   ]
  },
  {
   "cell_type": "markdown",
   "id": "82229e32-1c0f-462b-8b8e-dd60b508777a",
   "metadata": {},
   "source": [
    "### Time Revolve & Type Revolve"
   ]
  },
  {
   "cell_type": "code",
   "execution_count": 19,
   "id": "84141438-6a81-4ddc-89af-979140e6b576",
   "metadata": {},
   "outputs": [
    {
     "data": {
      "text/plain": [
       "Index(['cc_cst_real', 'uniq_key', 'net_interest_rec', 'mftp_total',\n",
       "       'annual_fee', 'interchange_fee', 'merchant_discount_fee',\n",
       "       'cash_adv_fee', 'gain_and_loss', 'collection_fee', 'fee_waived_off',\n",
       "       'debt_collection_exp', 'fee_paid_visa', 'issuer_license_fee',\n",
       "       'total_issuer_domestic', 'total_issuer_inter', 'total_account_card_fee',\n",
       "       'total_concierge_fee', 'cashback', 'loyalty_point_redem',\n",
       "       'activity_based_costing_expense', 'specific_business_tax', 'fraud_loss',\n",
       "       'credit_limit_card', 'credit_limit_cust', 'credit_utilization',\n",
       "       'opn_dt', 'card_status', 'past_due_amt', 'stmt_amt', 'mth_end_bal',\n",
       "       'crn_pymt_due_amt', 'util', 'cr_lmt_amt', 'acq_cnl', 'lmt_at_app',\n",
       "       'mnth_cd', 'MOB', 'behv', 'pymt_amt', 'dlq_bck', 'ews', 'b_scor',\n",
       "       'marketing_exp', 'cash_draw', 'smc_draw', 'spd_draw', 'smp_draw',\n",
       "       'cc_cst_first_num', 'card_flag', 'int_inc', 'cof', 'usage', 'blc_cd',\n",
       "       'behv_new', 'interchg_fee', 'fx_fee', 'fixed_cost', 'reward_burn',\n",
       "       'scheme_fee', 'revenue', 'cost'],\n",
       "      dtype='object')"
      ]
     },
     "execution_count": 19,
     "metadata": {},
     "output_type": "execute_result"
    }
   ],
   "source": [
    "fy2023.columns"
   ]
  },
  {
   "cell_type": "code",
   "execution_count": 27,
   "id": "463aab60-be9d-466c-97db-8c72147ea997",
   "metadata": {},
   "outputs": [],
   "source": [
    "behv_new_agg = (fy2023\n",
    "                .assign(usage = lambda x : x[\"cash_draw\"] + x[\"smc_draw\"] + x[\"spd_draw\"] + x[\"smp_draw\"])\n",
    "                .assign(cash_usage = lambda x : x[\"cash_draw\"] + x[\"smc_draw\"])\n",
    "                .groupby([\"uniq_key\",\"behv_new\"])\n",
    "                .agg(n_mnth = (\"mnth_cd\", \"count\"),\n",
    "                     usage = (\"usage\", \"sum\"),\n",
    "                     cash_usage = (\"cash_usage\", \"sum\"))\n",
    "               ).compute().reset_index()"
   ]
  },
  {
   "cell_type": "code",
   "execution_count": 28,
   "id": "dd60ae89-e990-4a23-92ba-8c4ebded348d",
   "metadata": {},
   "outputs": [
    {
     "data": {
      "text/html": [
       "<div>\n",
       "<style scoped>\n",
       "    .dataframe tbody tr th:only-of-type {\n",
       "        vertical-align: middle;\n",
       "    }\n",
       "\n",
       "    .dataframe tbody tr th {\n",
       "        vertical-align: top;\n",
       "    }\n",
       "\n",
       "    .dataframe thead th {\n",
       "        text-align: right;\n",
       "    }\n",
       "</style>\n",
       "<table border=\"1\" class=\"dataframe\">\n",
       "  <thead>\n",
       "    <tr style=\"text-align: right;\">\n",
       "      <th></th>\n",
       "      <th>uniq_key</th>\n",
       "      <th>behv_new</th>\n",
       "      <th>n_mnth</th>\n",
       "      <th>usage</th>\n",
       "      <th>cash_usage</th>\n",
       "    </tr>\n",
       "  </thead>\n",
       "  <tbody>\n",
       "    <tr>\n",
       "      <th>0</th>\n",
       "      <td>265606</td>\n",
       "      <td>Revolver</td>\n",
       "      <td>12</td>\n",
       "      <td>0.00</td>\n",
       "      <td>0.0</td>\n",
       "    </tr>\n",
       "    <tr>\n",
       "      <th>1</th>\n",
       "      <td>2188536</td>\n",
       "      <td>Revolver</td>\n",
       "      <td>12</td>\n",
       "      <td>17234.75</td>\n",
       "      <td>0.0</td>\n",
       "    </tr>\n",
       "    <tr>\n",
       "      <th>2</th>\n",
       "      <td>1433899</td>\n",
       "      <td>Revolver</td>\n",
       "      <td>12</td>\n",
       "      <td>9856.58</td>\n",
       "      <td>0.0</td>\n",
       "    </tr>\n",
       "    <tr>\n",
       "      <th>3</th>\n",
       "      <td>3200555</td>\n",
       "      <td>Revolver</td>\n",
       "      <td>12</td>\n",
       "      <td>66027.25</td>\n",
       "      <td>0.0</td>\n",
       "    </tr>\n",
       "    <tr>\n",
       "      <th>4</th>\n",
       "      <td>175631</td>\n",
       "      <td>Revolver</td>\n",
       "      <td>10</td>\n",
       "      <td>110319.21</td>\n",
       "      <td>0.0</td>\n",
       "    </tr>\n",
       "  </tbody>\n",
       "</table>\n",
       "</div>"
      ],
      "text/plain": [
       "   uniq_key  behv_new  n_mnth      usage  cash_usage\n",
       "0    265606  Revolver      12       0.00         0.0\n",
       "1   2188536  Revolver      12   17234.75         0.0\n",
       "2   1433899  Revolver      12    9856.58         0.0\n",
       "3   3200555  Revolver      12   66027.25         0.0\n",
       "4    175631  Revolver      10  110319.21         0.0"
      ]
     },
     "execution_count": 28,
     "metadata": {},
     "output_type": "execute_result"
    }
   ],
   "source": [
    "behv_new_agg.head()"
   ]
  },
  {
   "cell_type": "code",
   "execution_count": 29,
   "id": "293d0b69-ebcd-4c18-8c2f-254080905af9",
   "metadata": {},
   "outputs": [
    {
     "ename": "KeyError",
     "evalue": "'mnth_cd'",
     "output_type": "error",
     "traceback": [
      "\u001b[1;31m---------------------------------------------------------------------------\u001b[0m",
      "\u001b[1;31mKeyError\u001b[0m                                  Traceback (most recent call last)",
      "File \u001b[1;32m~\\.conda\\envs\\dask\\Lib\\site-packages\\pandas\\core\\indexes\\base.py:3805\u001b[0m, in \u001b[0;36mIndex.get_loc\u001b[1;34m(self, key)\u001b[0m\n\u001b[0;32m   3804\u001b[0m \u001b[38;5;28;01mtry\u001b[39;00m:\n\u001b[1;32m-> 3805\u001b[0m     \u001b[38;5;28;01mreturn\u001b[39;00m \u001b[38;5;28mself\u001b[39m\u001b[38;5;241m.\u001b[39m_engine\u001b[38;5;241m.\u001b[39mget_loc(casted_key)\n\u001b[0;32m   3806\u001b[0m \u001b[38;5;28;01mexcept\u001b[39;00m \u001b[38;5;167;01mKeyError\u001b[39;00m \u001b[38;5;28;01mas\u001b[39;00m err:\n",
      "File \u001b[1;32mindex.pyx:167\u001b[0m, in \u001b[0;36mpandas._libs.index.IndexEngine.get_loc\u001b[1;34m()\u001b[0m\n",
      "File \u001b[1;32mindex.pyx:196\u001b[0m, in \u001b[0;36mpandas._libs.index.IndexEngine.get_loc\u001b[1;34m()\u001b[0m\n",
      "File \u001b[1;32mpandas\\\\_libs\\\\hashtable_class_helper.pxi:7081\u001b[0m, in \u001b[0;36mpandas._libs.hashtable.PyObjectHashTable.get_item\u001b[1;34m()\u001b[0m\n",
      "File \u001b[1;32mpandas\\\\_libs\\\\hashtable_class_helper.pxi:7089\u001b[0m, in \u001b[0;36mpandas._libs.hashtable.PyObjectHashTable.get_item\u001b[1;34m()\u001b[0m\n",
      "\u001b[1;31mKeyError\u001b[0m: 'mnth_cd'",
      "\nThe above exception was the direct cause of the following exception:\n",
      "\u001b[1;31mKeyError\u001b[0m                                  Traceback (most recent call last)",
      "Cell \u001b[1;32mIn[29], line 1\u001b[0m\n\u001b[1;32m----> 1\u001b[0m behv_new_pv \u001b[38;5;241m=\u001b[39m behv_new_agg\u001b[38;5;241m.\u001b[39mpivot(index\u001b[38;5;241m=\u001b[39m\u001b[38;5;124m\"\u001b[39m\u001b[38;5;124muniq_key\u001b[39m\u001b[38;5;124m\"\u001b[39m, columns\u001b[38;5;241m=\u001b[39m\u001b[38;5;124m\"\u001b[39m\u001b[38;5;124mbehv_new\u001b[39m\u001b[38;5;124m\"\u001b[39m, values\u001b[38;5;241m=\u001b[39m\u001b[38;5;124m\"\u001b[39m\u001b[38;5;124mmnth_cd\u001b[39m\u001b[38;5;124m\"\u001b[39m)\n",
      "File \u001b[1;32m~\\.conda\\envs\\dask\\Lib\\site-packages\\pandas\\core\\frame.py:9339\u001b[0m, in \u001b[0;36mDataFrame.pivot\u001b[1;34m(self, columns, index, values)\u001b[0m\n\u001b[0;32m   9332\u001b[0m \u001b[38;5;129m@Substitution\u001b[39m(\u001b[38;5;124m\"\u001b[39m\u001b[38;5;124m\"\u001b[39m)\n\u001b[0;32m   9333\u001b[0m \u001b[38;5;129m@Appender\u001b[39m(_shared_docs[\u001b[38;5;124m\"\u001b[39m\u001b[38;5;124mpivot\u001b[39m\u001b[38;5;124m\"\u001b[39m])\n\u001b[0;32m   9334\u001b[0m \u001b[38;5;28;01mdef\u001b[39;00m \u001b[38;5;21mpivot\u001b[39m(\n\u001b[0;32m   9335\u001b[0m     \u001b[38;5;28mself\u001b[39m, \u001b[38;5;241m*\u001b[39m, columns, index\u001b[38;5;241m=\u001b[39mlib\u001b[38;5;241m.\u001b[39mno_default, values\u001b[38;5;241m=\u001b[39mlib\u001b[38;5;241m.\u001b[39mno_default\n\u001b[0;32m   9336\u001b[0m ) \u001b[38;5;241m-\u001b[39m\u001b[38;5;241m>\u001b[39m DataFrame:\n\u001b[0;32m   9337\u001b[0m     \u001b[38;5;28;01mfrom\u001b[39;00m \u001b[38;5;21;01mpandas\u001b[39;00m\u001b[38;5;21;01m.\u001b[39;00m\u001b[38;5;21;01mcore\u001b[39;00m\u001b[38;5;21;01m.\u001b[39;00m\u001b[38;5;21;01mreshape\u001b[39;00m\u001b[38;5;21;01m.\u001b[39;00m\u001b[38;5;21;01mpivot\u001b[39;00m \u001b[38;5;28;01mimport\u001b[39;00m pivot\n\u001b[1;32m-> 9339\u001b[0m     \u001b[38;5;28;01mreturn\u001b[39;00m pivot(\u001b[38;5;28mself\u001b[39m, index\u001b[38;5;241m=\u001b[39mindex, columns\u001b[38;5;241m=\u001b[39mcolumns, values\u001b[38;5;241m=\u001b[39mvalues)\n",
      "File \u001b[1;32m~\\.conda\\envs\\dask\\Lib\\site-packages\\pandas\\core\\reshape\\pivot.py:566\u001b[0m, in \u001b[0;36mpivot\u001b[1;34m(data, columns, index, values)\u001b[0m\n\u001b[0;32m    562\u001b[0m         indexed \u001b[38;5;241m=\u001b[39m data\u001b[38;5;241m.\u001b[39m_constructor(\n\u001b[0;32m    563\u001b[0m             data[values]\u001b[38;5;241m.\u001b[39m_values, index\u001b[38;5;241m=\u001b[39mmultiindex, columns\u001b[38;5;241m=\u001b[39mvalues\n\u001b[0;32m    564\u001b[0m         )\n\u001b[0;32m    565\u001b[0m     \u001b[38;5;28;01melse\u001b[39;00m:\n\u001b[1;32m--> 566\u001b[0m         indexed \u001b[38;5;241m=\u001b[39m data\u001b[38;5;241m.\u001b[39m_constructor_sliced(data[values]\u001b[38;5;241m.\u001b[39m_values, index\u001b[38;5;241m=\u001b[39mmultiindex)\n\u001b[0;32m    567\u001b[0m \u001b[38;5;66;03m# error: Argument 1 to \"unstack\" of \"DataFrame\" has incompatible type \"Union\u001b[39;00m\n\u001b[0;32m    568\u001b[0m \u001b[38;5;66;03m# [List[Any], ExtensionArray, ndarray[Any, Any], Index, Series]\"; expected\u001b[39;00m\n\u001b[0;32m    569\u001b[0m \u001b[38;5;66;03m# \"Hashable\"\u001b[39;00m\n\u001b[0;32m    570\u001b[0m result \u001b[38;5;241m=\u001b[39m indexed\u001b[38;5;241m.\u001b[39munstack(columns_listlike)  \u001b[38;5;66;03m# type: ignore[arg-type]\u001b[39;00m\n",
      "File \u001b[1;32m~\\.conda\\envs\\dask\\Lib\\site-packages\\pandas\\core\\frame.py:4102\u001b[0m, in \u001b[0;36mDataFrame.__getitem__\u001b[1;34m(self, key)\u001b[0m\n\u001b[0;32m   4100\u001b[0m \u001b[38;5;28;01mif\u001b[39;00m \u001b[38;5;28mself\u001b[39m\u001b[38;5;241m.\u001b[39mcolumns\u001b[38;5;241m.\u001b[39mnlevels \u001b[38;5;241m>\u001b[39m \u001b[38;5;241m1\u001b[39m:\n\u001b[0;32m   4101\u001b[0m     \u001b[38;5;28;01mreturn\u001b[39;00m \u001b[38;5;28mself\u001b[39m\u001b[38;5;241m.\u001b[39m_getitem_multilevel(key)\n\u001b[1;32m-> 4102\u001b[0m indexer \u001b[38;5;241m=\u001b[39m \u001b[38;5;28mself\u001b[39m\u001b[38;5;241m.\u001b[39mcolumns\u001b[38;5;241m.\u001b[39mget_loc(key)\n\u001b[0;32m   4103\u001b[0m \u001b[38;5;28;01mif\u001b[39;00m is_integer(indexer):\n\u001b[0;32m   4104\u001b[0m     indexer \u001b[38;5;241m=\u001b[39m [indexer]\n",
      "File \u001b[1;32m~\\.conda\\envs\\dask\\Lib\\site-packages\\pandas\\core\\indexes\\base.py:3812\u001b[0m, in \u001b[0;36mIndex.get_loc\u001b[1;34m(self, key)\u001b[0m\n\u001b[0;32m   3807\u001b[0m     \u001b[38;5;28;01mif\u001b[39;00m \u001b[38;5;28misinstance\u001b[39m(casted_key, \u001b[38;5;28mslice\u001b[39m) \u001b[38;5;129;01mor\u001b[39;00m (\n\u001b[0;32m   3808\u001b[0m         \u001b[38;5;28misinstance\u001b[39m(casted_key, abc\u001b[38;5;241m.\u001b[39mIterable)\n\u001b[0;32m   3809\u001b[0m         \u001b[38;5;129;01mand\u001b[39;00m \u001b[38;5;28many\u001b[39m(\u001b[38;5;28misinstance\u001b[39m(x, \u001b[38;5;28mslice\u001b[39m) \u001b[38;5;28;01mfor\u001b[39;00m x \u001b[38;5;129;01min\u001b[39;00m casted_key)\n\u001b[0;32m   3810\u001b[0m     ):\n\u001b[0;32m   3811\u001b[0m         \u001b[38;5;28;01mraise\u001b[39;00m InvalidIndexError(key)\n\u001b[1;32m-> 3812\u001b[0m     \u001b[38;5;28;01mraise\u001b[39;00m \u001b[38;5;167;01mKeyError\u001b[39;00m(key) \u001b[38;5;28;01mfrom\u001b[39;00m \u001b[38;5;21;01merr\u001b[39;00m\n\u001b[0;32m   3813\u001b[0m \u001b[38;5;28;01mexcept\u001b[39;00m \u001b[38;5;167;01mTypeError\u001b[39;00m:\n\u001b[0;32m   3814\u001b[0m     \u001b[38;5;66;03m# If we have a listlike key, _check_indexing_error will raise\u001b[39;00m\n\u001b[0;32m   3815\u001b[0m     \u001b[38;5;66;03m#  InvalidIndexError. Otherwise we fall through and re-raise\u001b[39;00m\n\u001b[0;32m   3816\u001b[0m     \u001b[38;5;66;03m#  the TypeError.\u001b[39;00m\n\u001b[0;32m   3817\u001b[0m     \u001b[38;5;28mself\u001b[39m\u001b[38;5;241m.\u001b[39m_check_indexing_error(key)\n",
      "\u001b[1;31mKeyError\u001b[0m: 'mnth_cd'"
     ]
    }
   ],
   "source": [
    "behv_new_pv = behv_new_agg.pivot(index=\"uniq_key\", columns=\"behv_new\", values=\"mnth_cd\")"
   ]
  },
  {
   "cell_type": "code",
   "execution_count": null,
   "id": "920557e3-996b-499a-98b0-73a8cf34b24e",
   "metadata": {},
   "outputs": [],
   "source": [
    "behv_new_pv = behv_new_agg.pivot(index=\"uniq_key\", columns=\"behv_new\", values=[\"mnth_cd\",\"usage\",\"cash_usage\"])"
   ]
  },
  {
   "cell_type": "code",
   "execution_count": null,
   "id": "4fc54f79-a838-4d73-80c0-24d5e1b2fd0d",
   "metadata": {},
   "outputs": [],
   "source": [
    "behv_new_pv.head()"
   ]
  },
  {
   "cell_type": "code",
   "execution_count": 25,
   "id": "68c98a85-6013-49a8-ba30-9d1c10b0eeff",
   "metadata": {},
   "outputs": [],
   "source": [
    "behv_new_pv.columns = list(map(\"_\".join, behv_new_pv.columns))"
   ]
  },
  {
   "cell_type": "code",
   "execution_count": 26,
   "id": "71b78063-8e4b-4869-8d29-89b735bb83a2",
   "metadata": {},
   "outputs": [
    {
     "data": {
      "text/html": [
       "<div>\n",
       "<style scoped>\n",
       "    .dataframe tbody tr th:only-of-type {\n",
       "        vertical-align: middle;\n",
       "    }\n",
       "\n",
       "    .dataframe tbody tr th {\n",
       "        vertical-align: top;\n",
       "    }\n",
       "\n",
       "    .dataframe thead th {\n",
       "        text-align: right;\n",
       "    }\n",
       "</style>\n",
       "<table border=\"1\" class=\"dataframe\">\n",
       "  <thead>\n",
       "    <tr style=\"text-align: right;\">\n",
       "      <th></th>\n",
       "      <th>mnth_cd_Inactive</th>\n",
       "      <th>mnth_cd_Revolver</th>\n",
       "      <th>mnth_cd_Revolver - Cash</th>\n",
       "      <th>mnth_cd_Transactor</th>\n",
       "      <th>usage_Inactive</th>\n",
       "      <th>usage_Revolver</th>\n",
       "      <th>usage_Revolver - Cash</th>\n",
       "      <th>usage_Transactor</th>\n",
       "      <th>cash_usage_Inactive</th>\n",
       "      <th>cash_usage_Revolver</th>\n",
       "      <th>cash_usage_Revolver - Cash</th>\n",
       "      <th>cash_usage_Transactor</th>\n",
       "    </tr>\n",
       "    <tr>\n",
       "      <th>uniq_key</th>\n",
       "      <th></th>\n",
       "      <th></th>\n",
       "      <th></th>\n",
       "      <th></th>\n",
       "      <th></th>\n",
       "      <th></th>\n",
       "      <th></th>\n",
       "      <th></th>\n",
       "      <th></th>\n",
       "      <th></th>\n",
       "      <th></th>\n",
       "      <th></th>\n",
       "    </tr>\n",
       "  </thead>\n",
       "  <tbody>\n",
       "    <tr>\n",
       "      <th>1</th>\n",
       "      <td>12.0</td>\n",
       "      <td>NaN</td>\n",
       "      <td>NaN</td>\n",
       "      <td>NaN</td>\n",
       "      <td>0.0</td>\n",
       "      <td>NaN</td>\n",
       "      <td>NaN</td>\n",
       "      <td>NaN</td>\n",
       "      <td>0.0</td>\n",
       "      <td>NaN</td>\n",
       "      <td>NaN</td>\n",
       "      <td>NaN</td>\n",
       "    </tr>\n",
       "    <tr>\n",
       "      <th>2</th>\n",
       "      <td>12.0</td>\n",
       "      <td>NaN</td>\n",
       "      <td>NaN</td>\n",
       "      <td>NaN</td>\n",
       "      <td>0.0</td>\n",
       "      <td>NaN</td>\n",
       "      <td>NaN</td>\n",
       "      <td>NaN</td>\n",
       "      <td>0.0</td>\n",
       "      <td>NaN</td>\n",
       "      <td>NaN</td>\n",
       "      <td>NaN</td>\n",
       "    </tr>\n",
       "    <tr>\n",
       "      <th>3</th>\n",
       "      <td>NaN</td>\n",
       "      <td>12.0</td>\n",
       "      <td>NaN</td>\n",
       "      <td>NaN</td>\n",
       "      <td>NaN</td>\n",
       "      <td>26443.2</td>\n",
       "      <td>NaN</td>\n",
       "      <td>NaN</td>\n",
       "      <td>NaN</td>\n",
       "      <td>0.0</td>\n",
       "      <td>NaN</td>\n",
       "      <td>NaN</td>\n",
       "    </tr>\n",
       "    <tr>\n",
       "      <th>4</th>\n",
       "      <td>NaN</td>\n",
       "      <td>NaN</td>\n",
       "      <td>NaN</td>\n",
       "      <td>12.0</td>\n",
       "      <td>NaN</td>\n",
       "      <td>NaN</td>\n",
       "      <td>NaN</td>\n",
       "      <td>362937.41</td>\n",
       "      <td>NaN</td>\n",
       "      <td>NaN</td>\n",
       "      <td>NaN</td>\n",
       "      <td>0.0</td>\n",
       "    </tr>\n",
       "    <tr>\n",
       "      <th>5</th>\n",
       "      <td>NaN</td>\n",
       "      <td>NaN</td>\n",
       "      <td>12.0</td>\n",
       "      <td>NaN</td>\n",
       "      <td>NaN</td>\n",
       "      <td>NaN</td>\n",
       "      <td>214322.93</td>\n",
       "      <td>NaN</td>\n",
       "      <td>NaN</td>\n",
       "      <td>NaN</td>\n",
       "      <td>109000.0</td>\n",
       "      <td>NaN</td>\n",
       "    </tr>\n",
       "  </tbody>\n",
       "</table>\n",
       "</div>"
      ],
      "text/plain": [
       "          mnth_cd_Inactive  mnth_cd_Revolver  mnth_cd_Revolver - Cash  \\\n",
       "uniq_key                                                                \n",
       "1                     12.0               NaN                      NaN   \n",
       "2                     12.0               NaN                      NaN   \n",
       "3                      NaN              12.0                      NaN   \n",
       "4                      NaN               NaN                      NaN   \n",
       "5                      NaN               NaN                     12.0   \n",
       "\n",
       "          mnth_cd_Transactor  usage_Inactive  usage_Revolver  \\\n",
       "uniq_key                                                       \n",
       "1                        NaN             0.0             NaN   \n",
       "2                        NaN             0.0             NaN   \n",
       "3                        NaN             NaN         26443.2   \n",
       "4                       12.0             NaN             NaN   \n",
       "5                        NaN             NaN             NaN   \n",
       "\n",
       "          usage_Revolver - Cash  usage_Transactor  cash_usage_Inactive  \\\n",
       "uniq_key                                                                 \n",
       "1                           NaN               NaN                  0.0   \n",
       "2                           NaN               NaN                  0.0   \n",
       "3                           NaN               NaN                  NaN   \n",
       "4                           NaN         362937.41                  NaN   \n",
       "5                     214322.93               NaN                  NaN   \n",
       "\n",
       "          cash_usage_Revolver  cash_usage_Revolver - Cash  \\\n",
       "uniq_key                                                    \n",
       "1                         NaN                         NaN   \n",
       "2                         NaN                         NaN   \n",
       "3                         0.0                         NaN   \n",
       "4                         NaN                         NaN   \n",
       "5                         NaN                    109000.0   \n",
       "\n",
       "          cash_usage_Transactor  \n",
       "uniq_key                         \n",
       "1                           NaN  \n",
       "2                           NaN  \n",
       "3                           NaN  \n",
       "4                           0.0  \n",
       "5                           NaN  "
      ]
     },
     "execution_count": 26,
     "metadata": {},
     "output_type": "execute_result"
    }
   ],
   "source": [
    "behv_new_pv.head()"
   ]
  },
  {
   "cell_type": "code",
   "execution_count": 62,
   "id": "dd19aa34-732f-4ea5-a73d-15bb689c9cb2",
   "metadata": {},
   "outputs": [],
   "source": [
    "focus_peer = focus_cube.loc[:, [\"uniq_key\", \"Peer\"]].compute()"
   ]
  },
  {
   "cell_type": "code",
   "execution_count": 63,
   "id": "c4d8405b-4f40-4dd7-a55b-bfb147fea3a2",
   "metadata": {},
   "outputs": [],
   "source": [
    "peer_pv = focus_peer.merge(behv_new_pv, on=\"uniq_key\", how=\"left\")"
   ]
  },
  {
   "cell_type": "code",
   "execution_count": 64,
   "id": "d7d188f5-0ba6-498a-8a1a-752b01b9466c",
   "metadata": {},
   "outputs": [],
   "source": [
    "peer_rev = (peer_pv.fillna(0.0).assign(n_rev = lambda x : x[\"Revolver\"] + x[\"Revolver - Cash\"]))"
   ]
  },
  {
   "cell_type": "code",
   "execution_count": 65,
   "id": "43478ee0-2b3f-407f-abca-b78284f1c44e",
   "metadata": {},
   "outputs": [
    {
     "data": {
      "text/html": [
       "<div>\n",
       "<style scoped>\n",
       "    .dataframe tbody tr th:only-of-type {\n",
       "        vertical-align: middle;\n",
       "    }\n",
       "\n",
       "    .dataframe tbody tr th {\n",
       "        vertical-align: top;\n",
       "    }\n",
       "\n",
       "    .dataframe thead th {\n",
       "        text-align: right;\n",
       "    }\n",
       "</style>\n",
       "<table border=\"1\" class=\"dataframe\">\n",
       "  <thead>\n",
       "    <tr style=\"text-align: right;\">\n",
       "      <th></th>\n",
       "      <th>uniq_key</th>\n",
       "      <th>Peer</th>\n",
       "      <th>Inactive</th>\n",
       "      <th>Revolver</th>\n",
       "      <th>Revolver - Cash</th>\n",
       "      <th>Transactor</th>\n",
       "      <th>n_rev</th>\n",
       "    </tr>\n",
       "  </thead>\n",
       "  <tbody>\n",
       "    <tr>\n",
       "      <th>0</th>\n",
       "      <td>1895412</td>\n",
       "      <td>Affluent Income</td>\n",
       "      <td>0.0</td>\n",
       "      <td>4.0</td>\n",
       "      <td>0.0</td>\n",
       "      <td>0.0</td>\n",
       "      <td>4.0</td>\n",
       "    </tr>\n",
       "    <tr>\n",
       "      <th>1</th>\n",
       "      <td>4617220</td>\n",
       "      <td>Mass</td>\n",
       "      <td>0.0</td>\n",
       "      <td>12.0</td>\n",
       "      <td>0.0</td>\n",
       "      <td>0.0</td>\n",
       "      <td>12.0</td>\n",
       "    </tr>\n",
       "    <tr>\n",
       "      <th>2</th>\n",
       "      <td>1784924</td>\n",
       "      <td>Mass</td>\n",
       "      <td>0.0</td>\n",
       "      <td>0.0</td>\n",
       "      <td>12.0</td>\n",
       "      <td>0.0</td>\n",
       "      <td>12.0</td>\n",
       "    </tr>\n",
       "    <tr>\n",
       "      <th>3</th>\n",
       "      <td>1713133</td>\n",
       "      <td>Affluent Income</td>\n",
       "      <td>3.0</td>\n",
       "      <td>4.0</td>\n",
       "      <td>0.0</td>\n",
       "      <td>5.0</td>\n",
       "      <td>4.0</td>\n",
       "    </tr>\n",
       "    <tr>\n",
       "      <th>4</th>\n",
       "      <td>3461612</td>\n",
       "      <td>Mass</td>\n",
       "      <td>0.0</td>\n",
       "      <td>12.0</td>\n",
       "      <td>0.0</td>\n",
       "      <td>0.0</td>\n",
       "      <td>12.0</td>\n",
       "    </tr>\n",
       "  </tbody>\n",
       "</table>\n",
       "</div>"
      ],
      "text/plain": [
       "   uniq_key             Peer  Inactive  Revolver  Revolver - Cash  Transactor  \\\n",
       "0   1895412  Affluent Income       0.0       4.0              0.0         0.0   \n",
       "1   4617220             Mass       0.0      12.0              0.0         0.0   \n",
       "2   1784924             Mass       0.0       0.0             12.0         0.0   \n",
       "3   1713133  Affluent Income       3.0       4.0              0.0         5.0   \n",
       "4   3461612             Mass       0.0      12.0              0.0         0.0   \n",
       "\n",
       "   n_rev  \n",
       "0    4.0  \n",
       "1   12.0  \n",
       "2   12.0  \n",
       "3    4.0  \n",
       "4   12.0  "
      ]
     },
     "execution_count": 65,
     "metadata": {},
     "output_type": "execute_result"
    }
   ],
   "source": [
    "peer_rev.head()"
   ]
  },
  {
   "cell_type": "code",
   "execution_count": 67,
   "id": "2a7a52c6-f6f4-4fed-a5cd-f8dcb45d90df",
   "metadata": {},
   "outputs": [],
   "source": [
    "(peer_rev\n",
    " .groupby([\"Peer\", \"n_rev\", \"Revolver - Cash\"], as_index=False)\n",
    " .agg(n_account = (\"uniq_key\", \"count\"))\n",
    ").to_clipboard()"
   ]
  },
  {
   "cell_type": "code",
   "execution_count": 41,
   "id": "d64d0bba-a3c5-4d27-8ded-9b92bf3f4400",
   "metadata": {},
   "outputs": [],
   "source": [
    "(peer_rev\n",
    " .assign(pct_cash_rev = lambda x : x[\"Revolver - Cash\"]/x[\"n_rev\"])\n",
    " .groupby([\"Peer\"])\n",
    " .agg(n_account = (\"uniq_key\", \"count\"),\n",
    "      avg_n_rev = (\"n_rev\", \"mean\"),\n",
    "      avg_n_cash_rev = (\"Revolver - Cash\", \"mean\"),\n",
    "      \n",
    "      avg_pct_cash_rev = (\"pct_cash_rev\", \"mean\"), \n",
    "       p1_pct_cash_rev = (\"pct_cash_rev\", lambda x: np.percentile(x, q=1)),\n",
    "      p10_pct_cash_rev = (\"pct_cash_rev\", lambda x: np.percentile(x, q=10)),\n",
    "      p25_pct_cash_rev = (\"pct_cash_rev\", lambda x: np.percentile(x, q=25)),\n",
    "      p50_pct_cash_rev = (\"pct_cash_rev\", lambda x: np.percentile(x, q=50)),\n",
    "      p75_pct_cash_rev = (\"pct_cash_rev\", lambda x: np.percentile(x, q=75)),\n",
    "      p90_pct_cash_rev = (\"pct_cash_rev\", lambda x: np.percentile(x, q=90)),\n",
    "      p99_pct_cash_rev = (\"pct_cash_rev\", lambda x: np.percentile(x, q=99)),\n",
    "    )\n",
    ").to_clipboard()"
   ]
  },
  {
   "cell_type": "markdown",
   "id": "e0e8d05d-7703-45dd-a9ae-c19de453d29a",
   "metadata": {},
   "source": [
    "### Profit distribution"
   ]
  },
  {
   "cell_type": "code",
   "execution_count": 42,
   "id": "52bdb67a-62b6-4131-a6be-89221628d09d",
   "metadata": {},
   "outputs": [],
   "source": [
    "focus_cube_profit = focus_cube.loc[:, [\"uniq_key\", \"Peer\", 'ecl_delta', 'profit', 'profit_net_ecl']].compute()"
   ]
  },
  {
   "cell_type": "code",
   "execution_count": 73,
   "id": "575533e8-b1da-4604-ae2f-7303ea633f58",
   "metadata": {},
   "outputs": [
    {
     "data": {
      "text/plain": [
       "count      600,898.00\n",
       "mean         5,725.85\n",
       "std         19,344.47\n",
       "min     -2,130,448.64\n",
       "25%            146.60\n",
       "50%          2,163.62\n",
       "75%          6,572.09\n",
       "max      1,642,135.12\n",
       "Name: profit_net_ecl, dtype: float64"
      ]
     },
     "metadata": {},
     "output_type": "display_data"
    }
   ],
   "source": [
    "with pd.option_context(\"display.float_format\", \"{:,.2f}\".format, \"display.max_columns\", None, 'display.max_colwidth', None):\n",
    "    display(focus_cube_profit[\"profit_net_ecl\"].describe())"
   ]
  },
  {
   "cell_type": "code",
   "execution_count": 88,
   "id": "cea21540-8f51-4022-b24d-75c521c4de20",
   "metadata": {},
   "outputs": [],
   "source": [
    "# np.arange(-100000,105000,5000)\n",
    "\n",
    "profit_range = [-np.inf] + np.arange(-100000,105000,5000).tolist() + [np.Inf]\n",
    "profit_range\n",
    "(focus_cube_profit\n",
    " .assign(profit_gr = lambda x : pd.cut(x[\"profit_net_ecl\"], bins=profit_range))\n",
    " .groupby([\"Peer\", \"profit_gr\"])\n",
    " .agg(n_card = (\"uniq_key\", \"count\"),\n",
    "      n_profit_net_ecl = (\"profit_net_ecl\", \"sum\"))\n",
    ").reset_index().to_clipboard()"
   ]
  },
  {
   "cell_type": "code",
   "execution_count": null,
   "id": "11af34f2-6d12-4a6f-914f-02e3f0ee5eab",
   "metadata": {},
   "outputs": [],
   "source": []
  }
 ],
 "metadata": {
  "kernelspec": {
   "display_name": "Python 3 (ipykernel)",
   "language": "python",
   "name": "python3"
  },
  "language_info": {
   "codemirror_mode": {
    "name": "ipython",
    "version": 3
   },
   "file_extension": ".py",
   "mimetype": "text/x-python",
   "name": "python",
   "nbconvert_exporter": "python",
   "pygments_lexer": "ipython3",
   "version": "3.12.4"
  }
 },
 "nbformat": 4,
 "nbformat_minor": 5
}
