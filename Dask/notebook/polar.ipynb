{
 "cells": [
  {
   "cell_type": "code",
   "execution_count": 2,
   "metadata": {},
   "outputs": [],
   "source": [
    "import os\n",
    "from datetime import datetime\n",
    "from pathlib import Path\n",
    "\n",
    "import pandas as pd\n",
    "import numpy as np\n",
    "\n",
    "import dask\n",
    "from dask import dataframe as dd\n",
    "from dask import array as da\n",
    "\n",
    "import polars as pl\n",
    "\n",
    "data_path = Path(os.getcwd()).parent/\"data\""
   ]
  },
  {
   "cell_type": "code",
   "execution_count": 14,
   "metadata": {},
   "outputs": [],
   "source": [
    "pf = pl.read_csv(data_path/\"credit_card_transactions-ibm_v2.csv\")"
   ]
  },
  {
   "cell_type": "code",
   "execution_count": 16,
   "metadata": {},
   "outputs": [
    {
     "data": {
      "text/html": [
       "<div><style>\n",
       ".dataframe > thead > tr,\n",
       ".dataframe > tbody > tr {\n",
       "  text-align: right;\n",
       "  white-space: pre-wrap;\n",
       "}\n",
       "</style>\n",
       "<small>shape: (9, 16)</small><table border=\"1\" class=\"dataframe\"><thead><tr><th>statistic</th><th>User</th><th>Card</th><th>Year</th><th>Month</th><th>Day</th><th>Time</th><th>Amount</th><th>Use Chip</th><th>Merchant Name</th><th>Merchant City</th><th>Merchant State</th><th>Zip</th><th>MCC</th><th>Errors?</th><th>Is Fraud?</th></tr><tr><td>str</td><td>f64</td><td>f64</td><td>f64</td><td>f64</td><td>f64</td><td>str</td><td>str</td><td>str</td><td>f64</td><td>str</td><td>str</td><td>f64</td><td>f64</td><td>str</td><td>str</td></tr></thead><tbody><tr><td>&quot;count&quot;</td><td>2.43869e7</td><td>2.43869e7</td><td>2.43869e7</td><td>2.43869e7</td><td>2.43869e7</td><td>&quot;24386900&quot;</td><td>&quot;24386900&quot;</td><td>&quot;24386900&quot;</td><td>2.43869e7</td><td>&quot;24386900&quot;</td><td>&quot;21666079&quot;</td><td>2.1508765e7</td><td>2.43869e7</td><td>&quot;388431&quot;</td><td>&quot;24386900&quot;</td></tr><tr><td>&quot;null_count&quot;</td><td>0.0</td><td>0.0</td><td>0.0</td><td>0.0</td><td>0.0</td><td>&quot;0&quot;</td><td>&quot;0&quot;</td><td>&quot;0&quot;</td><td>0.0</td><td>&quot;0&quot;</td><td>&quot;2720821&quot;</td><td>2.878135e6</td><td>0.0</td><td>&quot;23998469&quot;</td><td>&quot;0&quot;</td></tr><tr><td>&quot;mean&quot;</td><td>1001.019335</td><td>1.351366</td><td>2011.95517</td><td>6.525064</td><td>15.718123</td><td>null</td><td>null</td><td>null</td><td>-4.7692e17</td><td>null</td><td>null</td><td>50956.442115</td><td>5561.171253</td><td>null</td><td>null</td></tr><tr><td>&quot;std&quot;</td><td>569.461157</td><td>1.407154</td><td>5.105921</td><td>3.472355</td><td>8.794073</td><td>null</td><td>null</td><td>null</td><td>4.7589e18</td><td>null</td><td>null</td><td>29397.065949</td><td>879.315433</td><td>null</td><td>null</td></tr><tr><td>&quot;min&quot;</td><td>0.0</td><td>0.0</td><td>1991.0</td><td>1.0</td><td>1.0</td><td>&quot;00:00&quot;</td><td>&quot;$-0.00&quot;</td><td>&quot;Chip Transaction&quot;</td><td>-9.2229e18</td><td>&quot;Aaronsburg&quot;</td><td>&quot;AA&quot;</td><td>501.0</td><td>1711.0</td><td>&quot;Bad CVV&quot;</td><td>&quot;No&quot;</td></tr><tr><td>&quot;25%&quot;</td><td>510.0</td><td>0.0</td><td>2008.0</td><td>3.0</td><td>8.0</td><td>null</td><td>null</td><td>null</td><td>-4.5005e18</td><td>null</td><td>null</td><td>28374.0</td><td>5300.0</td><td>null</td><td>null</td></tr><tr><td>&quot;50%&quot;</td><td>1006.0</td><td>1.0</td><td>2013.0</td><td>7.0</td><td>16.0</td><td>null</td><td>null</td><td>null</td><td>-7.9468e17</td><td>null</td><td>null</td><td>46742.0</td><td>5499.0</td><td>null</td><td>null</td></tr><tr><td>&quot;75%&quot;</td><td>1477.0</td><td>2.0</td><td>2016.0</td><td>10.0</td><td>23.0</td><td>null</td><td>null</td><td>null</td><td>3.1895e18</td><td>null</td><td>null</td><td>77564.0</td><td>5812.0</td><td>null</td><td>null</td></tr><tr><td>&quot;max&quot;</td><td>1999.0</td><td>8.0</td><td>2020.0</td><td>12.0</td><td>31.0</td><td>&quot;23:59&quot;</td><td>&quot;$999.97&quot;</td><td>&quot;Swipe Transaction&quot;</td><td>9.2233e18</td><td>&quot;Zwolle&quot;</td><td>&quot;Zimbabwe&quot;</td><td>99928.0</td><td>9402.0</td><td>&quot;Technical Glitch&quot;</td><td>&quot;Yes&quot;</td></tr></tbody></table></div>"
      ],
      "text/plain": [
       "shape: (9, 16)\n",
       "┌───────────┬───────────┬───────────┬───────────┬───┬───────────┬───────────┬───────────┬──────────┐\n",
       "│ statistic ┆ User      ┆ Card      ┆ Year      ┆ … ┆ Zip       ┆ MCC       ┆ Errors?   ┆ Is       │\n",
       "│ ---       ┆ ---       ┆ ---       ┆ ---       ┆   ┆ ---       ┆ ---       ┆ ---       ┆ Fraud?   │\n",
       "│ str       ┆ f64       ┆ f64       ┆ f64       ┆   ┆ f64       ┆ f64       ┆ str       ┆ ---      │\n",
       "│           ┆           ┆           ┆           ┆   ┆           ┆           ┆           ┆ str      │\n",
       "╞═══════════╪═══════════╪═══════════╪═══════════╪═══╪═══════════╪═══════════╪═══════════╪══════════╡\n",
       "│ count     ┆ 2.43869e7 ┆ 2.43869e7 ┆ 2.43869e7 ┆ … ┆ 2.1508765 ┆ 2.43869e7 ┆ 388431    ┆ 24386900 │\n",
       "│           ┆           ┆           ┆           ┆   ┆ e7        ┆           ┆           ┆          │\n",
       "│ null_coun ┆ 0.0       ┆ 0.0       ┆ 0.0       ┆ … ┆ 2.878135e ┆ 0.0       ┆ 23998469  ┆ 0        │\n",
       "│ t         ┆           ┆           ┆           ┆   ┆ 6         ┆           ┆           ┆          │\n",
       "│ mean      ┆ 1001.0193 ┆ 1.351366  ┆ 2011.9551 ┆ … ┆ 50956.442 ┆ 5561.1712 ┆ null      ┆ null     │\n",
       "│           ┆ 35        ┆           ┆ 7         ┆   ┆ 115       ┆ 53        ┆           ┆          │\n",
       "│ std       ┆ 569.46115 ┆ 1.407154  ┆ 5.105921  ┆ … ┆ 29397.065 ┆ 879.31543 ┆ null      ┆ null     │\n",
       "│           ┆ 7         ┆           ┆           ┆   ┆ 949       ┆ 3         ┆           ┆          │\n",
       "│ min       ┆ 0.0       ┆ 0.0       ┆ 1991.0    ┆ … ┆ 501.0     ┆ 1711.0    ┆ Bad CVV   ┆ No       │\n",
       "│ 25%       ┆ 510.0     ┆ 0.0       ┆ 2008.0    ┆ … ┆ 28374.0   ┆ 5300.0    ┆ null      ┆ null     │\n",
       "│ 50%       ┆ 1006.0    ┆ 1.0       ┆ 2013.0    ┆ … ┆ 46742.0   ┆ 5499.0    ┆ null      ┆ null     │\n",
       "│ 75%       ┆ 1477.0    ┆ 2.0       ┆ 2016.0    ┆ … ┆ 77564.0   ┆ 5812.0    ┆ null      ┆ null     │\n",
       "│ max       ┆ 1999.0    ┆ 8.0       ┆ 2020.0    ┆ … ┆ 99928.0   ┆ 9402.0    ┆ Technical ┆ Yes      │\n",
       "│           ┆           ┆           ┆           ┆   ┆           ┆           ┆ Glitch    ┆          │\n",
       "└───────────┴───────────┴───────────┴───────────┴───┴───────────┴───────────┴───────────┴──────────┘"
      ]
     },
     "execution_count": 16,
     "metadata": {},
     "output_type": "execute_result"
    }
   ],
   "source": [
    "pf.describe()"
   ]
  }
 ],
 "metadata": {
  "kernelspec": {
   "display_name": "dask",
   "language": "python",
   "name": "python3"
  },
  "language_info": {
   "codemirror_mode": {
    "name": "ipython",
    "version": 3
   },
   "file_extension": ".py",
   "mimetype": "text/x-python",
   "name": "python",
   "nbconvert_exporter": "python",
   "pygments_lexer": "ipython3",
   "version": "3.12.2"
  }
 },
 "nbformat": 4,
 "nbformat_minor": 2
}
