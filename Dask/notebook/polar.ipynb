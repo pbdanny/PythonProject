{
 "cells": [
  {
   "cell_type": "code",
   "execution_count": 1,
   "metadata": {},
   "outputs": [],
   "source": [
    "import os\n",
    "from datetime import datetime\n",
    "from pathlib import Path\n",
    "\n",
    "import pandas as pd\n",
    "import numpy as np\n",
    "\n",
    "import dask\n",
    "from dask import dataframe as dd\n",
    "from dask import array as da\n",
    "\n",
    "import polars as pl\n",
    "\n",
    "data_path = Path(os.getcwd()).parent/\"data\""
   ]
  },
  {
   "cell_type": "code",
   "execution_count": 2,
   "metadata": {},
   "outputs": [],
   "source": [
    "pf = pl.scan_csv(data_path/\"credit_card_transactions-ibm_v2.csv\")"
   ]
  },
  {
   "cell_type": "code",
   "execution_count": 6,
   "metadata": {},
   "outputs": [
    {
     "data": {
      "text/plain": [
       "Schema([('User', Int64),\n",
       "        ('Card', Int64),\n",
       "        ('Year', Int64),\n",
       "        ('Month', Int64),\n",
       "        ('Day', Int64),\n",
       "        ('Time', String),\n",
       "        ('Amount', String),\n",
       "        ('Use Chip', String),\n",
       "        ('Merchant Name', Int64),\n",
       "        ('Merchant City', String),\n",
       "        ('Merchant State', String),\n",
       "        ('Zip', Float64),\n",
       "        ('MCC', Int64),\n",
       "        ('Errors?', String),\n",
       "        ('Is Fraud?', String)])"
      ]
     },
     "execution_count": 6,
     "metadata": {},
     "output_type": "execute_result"
    }
   ],
   "source": [
    "pf.collect_schema()"
   ]
  },
  {
   "cell_type": "code",
   "execution_count": 51,
   "metadata": {},
   "outputs": [
    {
     "data": {
      "text/html": [
       "<div><style>\n",
       ".dataframe > thead > tr,\n",
       ".dataframe > tbody > tr {\n",
       "  text-align: right;\n",
       "  white-space: pre-wrap;\n",
       "}\n",
       "</style>\n",
       "<small>shape: (5, 2)</small><table border=\"1\" class=\"dataframe\"><thead><tr><th>Amount</th><th>amount</th></tr><tr><td>str</td><td>f64</td></tr></thead><tbody><tr><td>&quot;$134.09&quot;</td><td>134.09</td></tr><tr><td>&quot;$38.48&quot;</td><td>38.48</td></tr><tr><td>&quot;$120.34&quot;</td><td>120.34</td></tr><tr><td>&quot;$128.95&quot;</td><td>128.95</td></tr><tr><td>&quot;$104.71&quot;</td><td>104.71</td></tr></tbody></table></div>"
      ],
      "text/plain": [
       "shape: (5, 2)\n",
       "┌─────────┬────────┐\n",
       "│ Amount  ┆ amount │\n",
       "│ ---     ┆ ---    │\n",
       "│ str     ┆ f64    │\n",
       "╞═════════╪════════╡\n",
       "│ $134.09 ┆ 134.09 │\n",
       "│ $38.48  ┆ 38.48  │\n",
       "│ $120.34 ┆ 120.34 │\n",
       "│ $128.95 ┆ 128.95 │\n",
       "│ $104.71 ┆ 104.71 │\n",
       "└─────────┴────────┘"
      ]
     },
     "execution_count": 51,
     "metadata": {},
     "output_type": "execute_result"
    }
   ],
   "source": [
    "(pf\n",
    " .select(pl.col(\"Amount\"),\n",
    "         pl.col(\"Amount\").str.extract(r\"(\\d[\\d.]*)\").cast(pl.Float64).alias(\"amount\"))\n",
    " .head()\n",
    " ).collect()"
   ]
  },
  {
   "cell_type": "code",
   "execution_count": 52,
   "metadata": {},
   "outputs": [
    {
     "data": {
      "text/html": [
       "<div><style>\n",
       ".dataframe > thead > tr,\n",
       ".dataframe > tbody > tr {\n",
       "  text-align: right;\n",
       "  white-space: pre-wrap;\n",
       "}\n",
       "</style>\n",
       "<small>shape: (27_322, 4)</small><table border=\"1\" class=\"dataframe\"><thead><tr><th>Zip</th><th>len</th><th>User</th><th>amount</th></tr><tr><td>f64</td><td>u32</td><td>u32</td><td>f64</td></tr></thead><tbody><tr><td>95969.0</td><td>1610</td><td>27</td><td>85268.52</td></tr><tr><td>4860.0</td><td>15</td><td>4</td><td>394.98</td></tr><tr><td>48334.0</td><td>152</td><td>20</td><td>16776.63</td></tr><tr><td>66872.0</td><td>10</td><td>5</td><td>522.37</td></tr><tr><td>85546.0</td><td>144</td><td>20</td><td>10198.56</td></tr><tr><td>&hellip;</td><td>&hellip;</td><td>&hellip;</td><td>&hellip;</td></tr><tr><td>45682.0</td><td>85</td><td>6</td><td>3697.2</td></tr><tr><td>90242.0</td><td>551</td><td>127</td><td>247202.1</td></tr><tr><td>32063.0</td><td>82</td><td>4</td><td>3520.68</td></tr><tr><td>46750.0</td><td>11634</td><td>15</td><td>682713.01</td></tr><tr><td>83211.0</td><td>53</td><td>9</td><td>3573.73</td></tr></tbody></table></div>"
      ],
      "text/plain": [
       "shape: (27_322, 4)\n",
       "┌─────────┬───────┬──────┬───────────┐\n",
       "│ Zip     ┆ len   ┆ User ┆ amount    │\n",
       "│ ---     ┆ ---   ┆ ---  ┆ ---       │\n",
       "│ f64     ┆ u32   ┆ u32  ┆ f64       │\n",
       "╞═════════╪═══════╪══════╪═══════════╡\n",
       "│ 95969.0 ┆ 1610  ┆ 27   ┆ 85268.52  │\n",
       "│ 4860.0  ┆ 15    ┆ 4    ┆ 394.98    │\n",
       "│ 48334.0 ┆ 152   ┆ 20   ┆ 16776.63  │\n",
       "│ 66872.0 ┆ 10    ┆ 5    ┆ 522.37    │\n",
       "│ 85546.0 ┆ 144   ┆ 20   ┆ 10198.56  │\n",
       "│ …       ┆ …     ┆ …    ┆ …         │\n",
       "│ 45682.0 ┆ 85    ┆ 6    ┆ 3697.2    │\n",
       "│ 90242.0 ┆ 551   ┆ 127  ┆ 247202.1  │\n",
       "│ 32063.0 ┆ 82    ┆ 4    ┆ 3520.68   │\n",
       "│ 46750.0 ┆ 11634 ┆ 15   ┆ 682713.01 │\n",
       "│ 83211.0 ┆ 53    ┆ 9    ┆ 3573.73   │\n",
       "└─────────┴───────┴──────┴───────────┘"
      ]
     },
     "execution_count": 52,
     "metadata": {},
     "output_type": "execute_result"
    }
   ],
   "source": [
    "(pf\n",
    " .with_columns(\n",
    "      pl.col(\"Amount\").str.extract(r\"(\\d[\\d.]*)\").cast(pl.Float64).alias(\"amount\"))\n",
    " .group_by(\"Zip\")\n",
    " .agg(pl.len(), \n",
    "      pl.col(\"User\").n_unique(), \n",
    "      pl.col(\"amount\").sum()\n",
    "      )\n",
    " ).collect()"
   ]
  },
  {
   "cell_type": "code",
   "execution_count": null,
   "metadata": {},
   "outputs": [],
   "source": []
  }
 ],
 "metadata": {
  "kernelspec": {
   "display_name": "dask",
   "language": "python",
   "name": "python3"
  },
  "language_info": {
   "codemirror_mode": {
    "name": "ipython",
    "version": 3
   },
   "file_extension": ".py",
   "mimetype": "text/x-python",
   "name": "python",
   "nbconvert_exporter": "python",
   "pygments_lexer": "ipython3",
   "version": "3.12.2"
  }
 },
 "nbformat": 4,
 "nbformat_minor": 2
}
