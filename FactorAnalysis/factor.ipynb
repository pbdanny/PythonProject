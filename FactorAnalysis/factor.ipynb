{
 "cells": [
  {
   "cell_type": "code",
   "execution_count": 37,
   "metadata": {},
   "outputs": [],
   "source": [
    "import pandas as pd\n",
    "import numpy as np\n",
    "\n",
    "from numpy.linalg import eigh\n",
    "np.set_printoptions(linewidth=100)\n",
    "# sample data from \n",
    "df = pd.read_csv('/Users/thanakrit.boo/Documents/Local Project/Python/FactorAnalysis/data.csv', index_col=0)"
   ]
  },
  {
   "cell_type": "markdown",
   "metadata": {},
   "source": [
    "# Data"
   ]
  },
  {
   "cell_type": "markdown",
   "metadata": {},
   "source": [
    "Five subjects who were trying on ski boots late on a Friday night in January were asked about the importance of each of four variables to their selection of a ski resort. The variables were cost of ski ticket (COST), speed of ski lift (LIFT), depth of snow (DEPTH), and moisture of snow (POWDER). Larger numbers indicate greater importance. The researcher wanted to investigate the pattern of relationships among the variables in an effort to understand better the dimensions underlying choice of ski area."
   ]
  },
  {
   "cell_type": "markdown",
   "metadata": {},
   "source": [
    "# Extraction"
   ]
  },
  {
   "cell_type": "code",
   "execution_count": 38,
   "metadata": {},
   "outputs": [
    {
     "data": {
      "text/html": [
       "<div>\n",
       "<style scoped>\n",
       "    .dataframe tbody tr th:only-of-type {\n",
       "        vertical-align: middle;\n",
       "    }\n",
       "\n",
       "    .dataframe tbody tr th {\n",
       "        vertical-align: top;\n",
       "    }\n",
       "\n",
       "    .dataframe thead th {\n",
       "        text-align: right;\n",
       "    }\n",
       "</style>\n",
       "<table border=\"1\" class=\"dataframe\">\n",
       "  <thead>\n",
       "    <tr style=\"text-align: right;\">\n",
       "      <th></th>\n",
       "      <th>COST</th>\n",
       "      <th>LIFT</th>\n",
       "      <th>DEPTH</th>\n",
       "      <th>POWDER</th>\n",
       "    </tr>\n",
       "  </thead>\n",
       "  <tbody>\n",
       "    <tr>\n",
       "      <th>COST</th>\n",
       "      <td>1.000000</td>\n",
       "      <td>-0.952990</td>\n",
       "      <td>-0.055276</td>\n",
       "      <td>-0.129999</td>\n",
       "    </tr>\n",
       "    <tr>\n",
       "      <th>LIFT</th>\n",
       "      <td>-0.952990</td>\n",
       "      <td>1.000000</td>\n",
       "      <td>-0.091107</td>\n",
       "      <td>-0.036248</td>\n",
       "    </tr>\n",
       "    <tr>\n",
       "      <th>DEPTH</th>\n",
       "      <td>-0.055276</td>\n",
       "      <td>-0.091107</td>\n",
       "      <td>1.000000</td>\n",
       "      <td>0.990174</td>\n",
       "    </tr>\n",
       "    <tr>\n",
       "      <th>POWDER</th>\n",
       "      <td>-0.129999</td>\n",
       "      <td>-0.036248</td>\n",
       "      <td>0.990174</td>\n",
       "      <td>1.000000</td>\n",
       "    </tr>\n",
       "  </tbody>\n",
       "</table>\n",
       "</div>"
      ],
      "text/plain": [
       "            COST      LIFT     DEPTH    POWDER\n",
       "COST    1.000000 -0.952990 -0.055276 -0.129999\n",
       "LIFT   -0.952990  1.000000 -0.091107 -0.036248\n",
       "DEPTH  -0.055276 -0.091107  1.000000  0.990174\n",
       "POWDER -0.129999 -0.036248  0.990174  1.000000"
      ]
     },
     "execution_count": 38,
     "metadata": {},
     "output_type": "execute_result"
    }
   ],
   "source": [
    "corr = df.corr()\n",
    "# Corr from cov, std\n",
    "# df.cov()/(df.std().to_numpy().reshape(-1,1)@df.std().to_numpy().reshape(1,-1))\n",
    "corr"
   ]
  },
  {
   "cell_type": "code",
   "execution_count": 39,
   "metadata": {},
   "outputs": [
    {
     "data": {
      "text/plain": [
       "array([0.00436878, 0.03781231, 1.94151381, 2.0163051 ])"
      ]
     },
     "metadata": {},
     "output_type": "display_data"
    },
    {
     "data": {
      "text/plain": [
       "array([[ 0.24394508,  0.6624913 , -0.61432982,  0.35241302],\n",
       "       [ 0.1988    ,  0.67589344,  0.66376422, -0.25112482],\n",
       "       [-0.65319195,  0.2754625 , -0.32222906, -0.6273987 ],\n",
       "       [ 0.68870141, -0.16850441, -0.27961467, -0.6473888 ]])"
      ]
     },
     "metadata": {},
     "output_type": "display_data"
    }
   ],
   "source": [
    "eigval, eigvec = eigh(corr)\n",
    "display(eigval)\n",
    "display(eigvec)"
   ]
  },
  {
   "cell_type": "code",
   "execution_count": 40,
   "metadata": {},
   "outputs": [
    {
     "data": {
      "text/plain": [
       "array([[ 1.        , -0.95299048, -0.05527555, -0.12999882],\n",
       "       [-0.95299048,  1.        , -0.09110654, -0.03624823],\n",
       "       [-0.05527555, -0.09110654,  1.        ,  0.99017435],\n",
       "       [-0.12999882, -0.03624823,  0.99017435,  1.        ]])"
      ]
     },
     "metadata": {},
     "output_type": "display_data"
    }
   ],
   "source": [
    "# Re-arrage of correlation matrix from eigen value, eigen vector\n",
    "re_composed_corr = eigvec@np.diag(eigval)@eigvec.T\n",
    "display(re_composed_corr)"
   ]
  },
  {
   "cell_type": "code",
   "execution_count": 41,
   "metadata": {},
   "outputs": [
    {
     "data": {
      "text/plain": [
       "array([[ 0.01612397,  0.128824  , -0.85599621,  0.50041471],\n",
       "       [ 0.01314003,  0.13143009,  0.92487722, -0.35658885],\n",
       "       [-0.04317384,  0.05356475, -0.44898822, -0.89088519],\n",
       "       [ 0.0455209 , -0.03276633, -0.38961008, -0.91927047]])"
      ]
     },
     "metadata": {},
     "output_type": "display_data"
    }
   ],
   "source": [
    "# Split eigval into sqrt(np.diag(eigval))*sqrt(np.diag(eigval)), call\n",
    "# eigvec@(np.diag(eigval)) = (unrotated) factor loading matrix\n",
    "factor_loading = eigvec@np.diag(np.sqrt(eigval))\n",
    "display(factor_loading)"
   ]
  },
  {
   "cell_type": "markdown",
   "metadata": {},
   "source": [
    "To represent the correlation matrix, with less number of factors.  \n",
    "Use high value eigen value (and corresponding eigen vector), since higher eigen value, shown relation between factor and original correlation matrix.  \n",
    "If choose only top 2 factor"
   ]
  },
  {
   "cell_type": "code",
   "execution_count": 42,
   "metadata": {},
   "outputs": [
    {
     "data": {
      "text/plain": [
       "array([2.0163051 , 1.94151381])"
      ]
     },
     "execution_count": 42,
     "metadata": {},
     "output_type": "execute_result"
    }
   ],
   "source": [
    "top_eigval = eigval[:-3:-1] # re-order by top value first\n",
    "top_eigval"
   ]
  },
  {
   "cell_type": "code",
   "execution_count": 43,
   "metadata": {},
   "outputs": [
    {
     "data": {
      "text/plain": [
       "array([[ 0.35241302, -0.61432982],\n",
       "       [-0.25112482,  0.66376422],\n",
       "       [-0.6273987 , -0.32222906],\n",
       "       [-0.6473888 , -0.27961467]])"
      ]
     },
     "execution_count": 43,
     "metadata": {},
     "output_type": "execute_result"
    }
   ],
   "source": [
    "top_eigvec = eigvec[:,[3,2]] # re-order according to corresponding eigen val\n",
    "top_eigvec"
   ]
  },
  {
   "cell_type": "markdown",
   "metadata": {},
   "source": [
    "Reproduce correlation matrix from first 2 factos"
   ]
  },
  {
   "cell_type": "code",
   "execution_count": 44,
   "metadata": {},
   "outputs": [
    {
     "data": {
      "text/plain": [
       "array([[ 0.9831444 , -0.9701337 , -0.06147984, -0.12651171],\n",
       "       [-0.9701337 ,  0.98255347, -0.09757925, -0.03253989],\n",
       "       [-0.06147984, -0.09757925,  0.99526684,  0.99389478],\n",
       "       [-0.12651171, -0.03253989,  0.99389478,  0.99685421]])"
      ]
     },
     "execution_count": 44,
     "metadata": {},
     "output_type": "execute_result"
    }
   ],
   "source": [
    "top_corr = top_eigvec@np.diag(top_eigval)@top_eigvec.T\n",
    "top_corr"
   ]
  },
  {
   "cell_type": "code",
   "execution_count": 45,
   "metadata": {},
   "outputs": [
    {
     "data": {
      "text/html": [
       "<div>\n",
       "<style scoped>\n",
       "    .dataframe tbody tr th:only-of-type {\n",
       "        vertical-align: middle;\n",
       "    }\n",
       "\n",
       "    .dataframe tbody tr th {\n",
       "        vertical-align: top;\n",
       "    }\n",
       "\n",
       "    .dataframe thead th {\n",
       "        text-align: right;\n",
       "    }\n",
       "</style>\n",
       "<table border=\"1\" class=\"dataframe\">\n",
       "  <thead>\n",
       "    <tr style=\"text-align: right;\">\n",
       "      <th></th>\n",
       "      <th>COST</th>\n",
       "      <th>LIFT</th>\n",
       "      <th>DEPTH</th>\n",
       "      <th>POWDER</th>\n",
       "    </tr>\n",
       "  </thead>\n",
       "  <tbody>\n",
       "    <tr>\n",
       "      <th>COST</th>\n",
       "      <td>1.000000</td>\n",
       "      <td>-0.952990</td>\n",
       "      <td>-0.055276</td>\n",
       "      <td>-0.129999</td>\n",
       "    </tr>\n",
       "    <tr>\n",
       "      <th>LIFT</th>\n",
       "      <td>-0.952990</td>\n",
       "      <td>1.000000</td>\n",
       "      <td>-0.091107</td>\n",
       "      <td>-0.036248</td>\n",
       "    </tr>\n",
       "    <tr>\n",
       "      <th>DEPTH</th>\n",
       "      <td>-0.055276</td>\n",
       "      <td>-0.091107</td>\n",
       "      <td>1.000000</td>\n",
       "      <td>0.990174</td>\n",
       "    </tr>\n",
       "    <tr>\n",
       "      <th>POWDER</th>\n",
       "      <td>-0.129999</td>\n",
       "      <td>-0.036248</td>\n",
       "      <td>0.990174</td>\n",
       "      <td>1.000000</td>\n",
       "    </tr>\n",
       "  </tbody>\n",
       "</table>\n",
       "</div>"
      ],
      "text/plain": [
       "            COST      LIFT     DEPTH    POWDER\n",
       "COST    1.000000 -0.952990 -0.055276 -0.129999\n",
       "LIFT   -0.952990  1.000000 -0.091107 -0.036248\n",
       "DEPTH  -0.055276 -0.091107  1.000000  0.990174\n",
       "POWDER -0.129999 -0.036248  0.990174  1.000000"
      ]
     },
     "execution_count": 45,
     "metadata": {},
     "output_type": "execute_result"
    }
   ],
   "source": [
    "corr"
   ]
  },
  {
   "cell_type": "markdown",
   "metadata": {},
   "source": [
    "Top Factor loading = top_eigvec @ sqrt(eigval)"
   ]
  },
  {
   "cell_type": "code",
   "execution_count": 62,
   "metadata": {},
   "outputs": [
    {
     "data": {
      "text/plain": [
       "array([[ 0.50041471, -0.85599621],\n",
       "       [-0.35658885,  0.92487722],\n",
       "       [-0.89088519, -0.44898822],\n",
       "       [-0.91927047, -0.38961008]])"
      ]
     },
     "execution_count": 62,
     "metadata": {},
     "output_type": "execute_result"
    }
   ],
   "source": [
    "top_factor_loading = top_eigvec@np.diag(np.sqrt(top_eigval))\n",
    "top_factor_loading"
   ]
  },
  {
   "cell_type": "markdown",
   "metadata": {},
   "source": [
    "__Interpretation__  \n",
    "First factor high relation with `DEPTH` and `POWDER`, indicate the factor based on environment  \n",
    "Second factor high relation with `COST` and `LIFT` , indicate the factor based on infrastructure  "
   ]
  },
  {
   "cell_type": "markdown",
   "metadata": {},
   "source": [
    "# Orthogonal Rotation  \n",
    "Rotation to maximized high correlation factor <-> variable  \n",
    "_varimax_ high factor loading -> higher / low factor loading -> lower\n",
    "\n",
    "`varimax`  \n",
    "orthogonal rotate with matrix\n",
    "| cos x | - sin x |\n",
    "| --- | --- |\n",
    "| sin x | cos x |"
   ]
  },
  {
   "cell_type": "code",
   "execution_count": 117,
   "metadata": {},
   "outputs": [
    {
     "data": {
      "text/plain": [
       "array([[ 0.1944663 , -0.97227941],\n",
       "       [-0.03605081,  0.99058256],\n",
       "       [-0.98852476, -0.13448285],\n",
       "       [-0.99603194, -0.06909838]])"
      ]
     },
     "execution_count": 117,
     "metadata": {},
     "output_type": "execute_result"
    }
   ],
   "source": [
    "# rotate with 19 degree\n",
    "rotate_radian = 19/180*np.pi\n",
    "rotate_mat = np.array([[np.cos(rotate_radian), -np.sin(rotate_radian)],\n",
    "                       [np.sin(rotate_radian), np.cos(rotate_radian)]])\n",
    "top_factor_loading_rotated = top_factor_loading@rotate_mat\n",
    "top_factor_loading_rotated"
   ]
  },
  {
   "cell_type": "markdown",
   "metadata": {},
   "source": [
    "## Varimax rotation"
   ]
  },
  {
   "cell_type": "code",
   "execution_count": 95,
   "metadata": {},
   "outputs": [],
   "source": [
    "# sample Factor loading sample for calculation reference : https://www.real-statistics.com/linear-algebra-matrix-topics/varimax/\n",
    "# df = pd.read_excel('/Users/thanakrit.boo/Documents/Local Project/Python/FactorAnalysis/sample_cal_varimax.xlsx',header=None)\n",
    "# top_factor_loading = df.to_numpy()"
   ]
  },
  {
   "cell_type": "code",
   "execution_count": 96,
   "metadata": {},
   "outputs": [],
   "source": [
    "def varimax(X):\n",
    "    \"\"\"X is k by 2 matrix\n",
    "    \"\"\"\n",
    "    u = X[:,0]**2 - X[:,1]**2\n",
    "    # print(u)\n",
    "    v = 2*(X[:,0]*X[:,1])\n",
    "    # print(v)\n",
    "    u_sqrt_net_v_sqrt = u**2 - v**2\n",
    "    # print(u_sqrt_net_v_sqrt)\n",
    "    uv = u*v\n",
    "    # print(uv)\n",
    "\n",
    "    A = u.sum()\n",
    "    B = v.sum()\n",
    "    C = u_sqrt_net_v_sqrt.sum()\n",
    "    D = uv.sum()\n",
    "    k = X.shape[0]\n",
    "\n",
    "    X = 2*D*k - 2*A*B \n",
    "    Y = C*k - (A**2 - B**2)\n",
    "    # print(X)\n",
    "    # print(Y)\n",
    "\n",
    "    rotate_radian = np.arctan(X/Y)*0.25\n",
    "    rotate_mat = np.array([[np.cos(rotate_radian), - np.sin(rotate_radian)],\n",
    "                       [np.sin(rotate_radian), np.cos(rotate_radian)]])\n",
    "    return rotate_radian, rotate_mat\n",
    "    "
   ]
  },
  {
   "cell_type": "code",
   "execution_count": 98,
   "metadata": {},
   "outputs": [
    {
     "name": "stdout",
     "output_type": "stream",
     "text": [
      "[[ 0.50041471 -0.85599621]\n",
      " [-0.35658885  0.92487722]\n",
      " [-0.89088519 -0.44898822]\n",
      " [-0.91927047 -0.38961008]]\n",
      "[[ 0.50468618 -0.86330288]\n",
      " [-0.35974077  0.93305229]\n",
      " [-0.89300105 -0.45005457]\n",
      " [-0.9207198  -0.39022435]]\n",
      "0 1\n",
      "round (0, 1) : -0.3443416646166912\n",
      "[[ 0.76649129 -0.6422547 ]\n",
      " [-0.65360028  0.75683993]\n",
      " [-0.68865191 -0.72509209]\n",
      " [-0.73494083 -0.67813124]]\n",
      "0 1\n",
      "round (0, 1) : 1.8091631929216426e-17\n",
      "[[ 0.76649129 -0.6422547 ]\n",
      " [-0.65360028  0.75683993]\n",
      " [-0.68865191 -0.72509209]\n",
      " [-0.73494083 -0.67813124]]\n",
      "0 1\n",
      "round (0, 1) : 1.8091631929216426e-17\n",
      "[[ 0.76649129 -0.6422547 ]\n",
      " [-0.65360028  0.75683993]\n",
      " [-0.68865191 -0.72509209]\n",
      " [-0.73494083 -0.67813124]]\n",
      "0 1\n",
      "round (0, 1) : 1.8091631929216426e-17\n",
      "[[ 0.76649129 -0.6422547 ]\n",
      " [-0.65360028  0.75683993]\n",
      " [-0.68865191 -0.72509209]\n",
      " [-0.73494083 -0.67813124]]\n",
      "0 1\n",
      "round (0, 1) : 1.8091631929216426e-17\n",
      "[[ 0.76649129 -0.6422547 ]\n",
      " [-0.65360028  0.75683993]\n",
      " [-0.68865191 -0.72509209]\n",
      " [-0.73494083 -0.67813124]]\n",
      "0 1\n",
      "round (0, 1) : 1.8091631929216426e-17\n",
      "[[ 0.76649129 -0.6422547 ]\n",
      " [-0.65360028  0.75683993]\n",
      " [-0.68865191 -0.72509209]\n",
      " [-0.73494083 -0.67813124]]\n",
      "0 1\n",
      "round (0, 1) : 1.8091631929216426e-17\n",
      "[[ 0.76649129 -0.6422547 ]\n",
      " [-0.65360028  0.75683993]\n",
      " [-0.68865191 -0.72509209]\n",
      " [-0.73494083 -0.67813124]]\n",
      "0 1\n",
      "round (0, 1) : 1.8091631929216426e-17\n",
      "[[ 0.76649129 -0.6422547 ]\n",
      " [-0.65360028  0.75683993]\n",
      " [-0.68865191 -0.72509209]\n",
      " [-0.73494083 -0.67813124]]\n",
      "0 1\n",
      "round (0, 1) : 1.8091631929216426e-17\n",
      "[[ 0.76649129 -0.6422547 ]\n",
      " [-0.65360028  0.75683993]\n",
      " [-0.68865191 -0.72509209]\n",
      " [-0.73494083 -0.67813124]]\n",
      "0 1\n",
      "round (0, 1) : 1.8091631929216426e-17\n",
      "[[ 0.76649129 -0.6422547 ]\n",
      " [-0.65360028  0.75683993]\n",
      " [-0.68865191 -0.72509209]\n",
      " [-0.73494083 -0.67813124]]\n",
      "0 1\n",
      "round (0, 1) : 1.8091631929216426e-17\n",
      "[[ 0.76649129 -0.6422547 ]\n",
      " [-0.65360028  0.75683993]\n",
      " [-0.68865191 -0.72509209]\n",
      " [-0.73494083 -0.67813124]]\n",
      "0 1\n",
      "round (0, 1) : 1.8091631929216426e-17\n",
      "[[ 0.76649129 -0.6422547 ]\n",
      " [-0.65360028  0.75683993]\n",
      " [-0.68865191 -0.72509209]\n",
      " [-0.73494083 -0.67813124]]\n",
      "0 1\n",
      "round (0, 1) : 1.8091631929216426e-17\n",
      "[[ 0.76649129 -0.6422547 ]\n",
      " [-0.65360028  0.75683993]\n",
      " [-0.68865191 -0.72509209]\n",
      " [-0.73494083 -0.67813124]]\n",
      "0 1\n",
      "round (0, 1) : 1.8091631929216426e-17\n",
      "[[ 0.76649129 -0.6422547 ]\n",
      " [-0.65360028  0.75683993]\n",
      " [-0.68865191 -0.72509209]\n",
      " [-0.73494083 -0.67813124]]\n",
      "0 1\n",
      "round (0, 1) : 1.8091631929216426e-17\n",
      "[[ 0.76649129 -0.6422547 ]\n",
      " [-0.65360028  0.75683993]\n",
      " [-0.68865191 -0.72509209]\n",
      " [-0.73494083 -0.67813124]]\n",
      "[[ 0.760004   -0.6368189 ]\n",
      " [-0.64787366  0.75020876]\n",
      " [-0.68702023 -0.72337407]\n",
      " [-0.73378393 -0.67706378]]\n"
     ]
    }
   ],
   "source": [
    "top_factor_loading = top_eigvec@np.diag(np.sqrt(top_eigval))\n",
    "# top_factor_loading = eigvec@np.diag(np.sqrt(eigval))\n",
    "print(top_factor_loading)\n",
    "communality = (top_factor_loading**2).sum(axis=1).reshape(-1,1)\n",
    "# Normalized by divised each row (across factor) by sum-square (communality)\n",
    "normalized = top_factor_loading/np.sqrt(communality) #.reshape(-1,1))\n",
    "print(normalized)\n",
    "\n",
    "MAX_ROUND = 15\n",
    "N_COL = top_factor_loading.shape[1]\n",
    "for r in range(0, MAX_ROUND):\n",
    "    for i in range(0, N_COL):\n",
    "        for j in range(i+1, N_COL):\n",
    "            print(i, j)\n",
    "            by2 = normalized[:, [i, j]]\n",
    "            rot_radian, rot_mat = varimax(by2)\n",
    "            print(f'round {i, j} : {rot_radian}')\n",
    "            by2_rot = by2@rot_mat\n",
    "            normalized[:, [i,j]] = by2_rot\n",
    "            print(normalized)\n",
    "unnormalized = normalized*np.sqrt(communality)\n",
    "print(unnormalized)"
   ]
  },
  {
   "cell_type": "markdown",
   "metadata": {},
   "source": [
    "### SKLearn rotation method `varimax`"
   ]
  },
  {
   "cell_type": "code",
   "execution_count": 99,
   "metadata": {},
   "outputs": [],
   "source": [
    "from sklearn.decomposition import FactorAnalysis"
   ]
  },
  {
   "cell_type": "code",
   "execution_count": 100,
   "metadata": {},
   "outputs": [],
   "source": [
    "# calculation reference : https://www.real-statistics.com/linear-algebra-matrix-topics/varimax/\n",
    "# df = pd.read_excel('/Users/thanakrit.boo/Documents/Local Project/Python/FactorAnalysis/sample_cal_varimax.xlsx',header=None)\n",
    "# top_factor_loading = df.to_numpy()"
   ]
  },
  {
   "cell_type": "code",
   "execution_count": 101,
   "metadata": {},
   "outputs": [
    {
     "data": {
      "text/plain": [
       "array([[ 0.50041471, -0.85599621],\n",
       "       [-0.35658885,  0.92487722],\n",
       "       [-0.89088519, -0.44898822],\n",
       "       [-0.91927047, -0.38961008]])"
      ]
     },
     "execution_count": 101,
     "metadata": {},
     "output_type": "execute_result"
    }
   ],
   "source": [
    "top_factor_loading"
   ]
  },
  {
   "cell_type": "code",
   "execution_count": 105,
   "metadata": {},
   "outputs": [
    {
     "data": {
      "text/plain": [
       "array([[ 0.69062043,  0.        ],\n",
       "       [-0.41776243,  0.        ],\n",
       "       [-0.11799498,  0.        ],\n",
       "       [-0.15486302,  0.        ]])"
      ]
     },
     "execution_count": 105,
     "metadata": {},
     "output_type": "execute_result"
    }
   ],
   "source": [
    "fa = FactorAnalysis(rotation='varimax')\n",
    "fa.fit_transform(top_factor_loading)"
   ]
  },
  {
   "cell_type": "markdown",
   "metadata": {},
   "source": [
    "### Rotate with Statsmodel"
   ]
  },
  {
   "cell_type": "code",
   "execution_count": 106,
   "metadata": {},
   "outputs": [],
   "source": [
    "import pandas as pd\n",
    "from statsmodels.multivariate.factor import Factor\n",
    "from statsmodels.multivariate.factor_rotation import rotate_factors"
   ]
  },
  {
   "cell_type": "code",
   "execution_count": 107,
   "metadata": {},
   "outputs": [],
   "source": [
    "# df = pd.read_excel('/Users/thanakrit.boo/Documents/Local Project/Python/FactorAnalysis/sample_cal_varimax.xlsx',header=None)\n",
    "# df"
   ]
  },
  {
   "cell_type": "code",
   "execution_count": 108,
   "metadata": {},
   "outputs": [
    {
     "data": {
      "text/plain": [
       "array([[ 0.08715601, -0.98769845],\n",
       "       [ 0.0723108 ,  0.9885973 ],\n",
       "       [-0.99729804, -0.02575754],\n",
       "       [-0.99762205,  0.0400557 ]])"
      ]
     },
     "execution_count": 108,
     "metadata": {},
     "output_type": "execute_result"
    }
   ],
   "source": [
    "rotated, ortho = rotate_factors(top_factor_loading, method='varimax')\n",
    "rotated"
   ]
  },
  {
   "cell_type": "code",
   "execution_count": 110,
   "metadata": {},
   "outputs": [
    {
     "data": {
      "text/plain": [
       "array([[ 0.90432319, -0.4268484 ],\n",
       "       [ 0.4268484 ,  0.90432319]])"
      ]
     },
     "execution_count": 110,
     "metadata": {},
     "output_type": "execute_result"
    }
   ],
   "source": [
    "ortho"
   ]
  },
  {
   "cell_type": "markdown",
   "metadata": {},
   "source": [
    "# Reproduced correlation matrix\n",
    "Before, after rotation"
   ]
  },
  {
   "cell_type": "code",
   "execution_count": 111,
   "metadata": {},
   "outputs": [
    {
     "data": {
      "text/plain": [
       "array([[ 0.50041471, -0.85599621],\n",
       "       [-0.35658885,  0.92487722],\n",
       "       [-0.89088519, -0.44898822],\n",
       "       [-0.91927047, -0.38961008]])"
      ]
     },
     "execution_count": 111,
     "metadata": {},
     "output_type": "execute_result"
    }
   ],
   "source": [
    "top_factor_loading"
   ]
  },
  {
   "cell_type": "code",
   "execution_count": 112,
   "metadata": {},
   "outputs": [
    {
     "data": {
      "text/plain": [
       "array([[ 0.1944663 , -0.97227941],\n",
       "       [-0.03605081,  0.99058256],\n",
       "       [-0.98852476, -0.13448285],\n",
       "       [-0.99603194, -0.06909838]])"
      ]
     },
     "execution_count": 112,
     "metadata": {},
     "output_type": "execute_result"
    }
   ],
   "source": [
    "top_factor_loading_rotated"
   ]
  },
  {
   "cell_type": "code",
   "execution_count": 115,
   "metadata": {},
   "outputs": [
    {
     "data": {
      "text/plain": [
       "array([[ 0.9831444 , -0.9701337 , -0.06147984, -0.12651171],\n",
       "       [-0.9701337 ,  0.98255347, -0.09757925, -0.03253989],\n",
       "       [-0.06147984, -0.09757925,  0.99526684,  0.99389478],\n",
       "       [-0.12651171, -0.03253989,  0.99389478,  0.99685421]])"
      ]
     },
     "execution_count": 115,
     "metadata": {},
     "output_type": "execute_result"
    }
   ],
   "source": [
    "re_composed_corr_un_rotate = top_factor_loading@top_factor_loading.T\n",
    "re_composed_corr_un_rotate"
   ]
  },
  {
   "cell_type": "code",
   "execution_count": 116,
   "metadata": {},
   "outputs": [
    {
     "data": {
      "text/plain": [
       "array([[ 0.9831444 , -0.9701337 , -0.06147984, -0.12651171],\n",
       "       [-0.9701337 ,  0.98255347, -0.09757925, -0.03253989],\n",
       "       [-0.06147984, -0.09757925,  0.99526684,  0.99389478],\n",
       "       [-0.12651171, -0.03253989,  0.99389478,  0.99685421]])"
      ]
     },
     "execution_count": 116,
     "metadata": {},
     "output_type": "execute_result"
    }
   ],
   "source": [
    "re_composed_corr_rotated = top_factor_loading_rotated@top_factor_loading_rotated.T\n",
    "re_composed_corr_rotated"
   ]
  },
  {
   "cell_type": "code",
   "execution_count": 128,
   "metadata": {},
   "outputs": [
    {
     "data": {
      "text/plain": [
       "array([[-1.11022302e-16,  0.00000000e+00,  2.08166817e-17,  0.00000000e+00],\n",
       "       [ 0.00000000e+00,  1.11022302e-16,  2.77555756e-17,  4.16333634e-17],\n",
       "       [ 2.08166817e-17,  2.77555756e-17, -1.11022302e-16, -1.11022302e-16],\n",
       "       [ 0.00000000e+00,  4.16333634e-17, -1.11022302e-16,  0.00000000e+00]])"
      ]
     },
     "execution_count": 128,
     "metadata": {},
     "output_type": "execute_result"
    }
   ],
   "source": [
    "corr_residue = re_composed_corr_un_rotate - re_composed_corr_rotated\n",
    "corr_residue"
   ]
  },
  {
   "cell_type": "code",
   "execution_count": null,
   "metadata": {},
   "outputs": [],
   "source": []
  }
 ],
 "metadata": {
  "interpreter": {
   "hash": "1baf51df35facf7b16058c7b1b0f9d1327a345825234ead76b738b8b5f289ac1"
  },
  "kernelspec": {
   "display_name": "Python 3.8.12 ('dev')",
   "language": "python",
   "name": "python3"
  },
  "language_info": {
   "codemirror_mode": {
    "name": "ipython",
    "version": 3
   },
   "file_extension": ".py",
   "mimetype": "text/x-python",
   "name": "python",
   "nbconvert_exporter": "python",
   "pygments_lexer": "ipython3",
   "version": "3.8.12"
  },
  "orig_nbformat": 4
 },
 "nbformat": 4,
 "nbformat_minor": 2
}
