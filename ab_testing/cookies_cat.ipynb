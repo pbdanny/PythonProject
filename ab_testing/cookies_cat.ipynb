{
 "metadata": {
  "language_info": {
   "codemirror_mode": {
    "name": "ipython",
    "version": 3
   },
   "file_extension": ".py",
   "mimetype": "text/x-python",
   "name": "python",
   "nbconvert_exporter": "python",
   "pygments_lexer": "ipython3",
   "version": "3.8.8"
  },
  "orig_nbformat": 2,
  "kernelspec": {
   "name": "python388jvsc74a57bd0569d6b7e9215e11aba41c6454007e5c1b78bad7df09dab765d8cf00362c40f03",
   "display_name": "Python 3.8.8 64-bit ('base': conda)"
  }
 },
 "nbformat": 4,
 "nbformat_minor": 2,
 "cells": [
  {
   "source": [
    "## Cookies Cat AB Testing\n",
    "Business Statement : We will analyze the result of an A/B test where the first gate in Cookie Cats was moved from level 30 to level 40. In particular, we will analyze the impact on player retention and game rounds.\n"
   ],
   "cell_type": "markdown",
   "metadata": {}
  },
  {
   "cell_type": "code",
   "execution_count": 5,
   "metadata": {},
   "outputs": [],
   "source": [
    "import pandas as pd\n",
    "import numpy as np\n",
    "from scipy.stats import chi2_contingency"
   ]
  },
  {
   "cell_type": "code",
   "execution_count": 6,
   "metadata": {},
   "outputs": [],
   "source": [
    "df = pd.read_csv('cookie_cats.csv')"
   ]
  },
  {
   "source": [
    "### Retaintion rate for day-1 and day-7\n",
    "#### $\\chi^2 test$ of independece between group"
   ],
   "cell_type": "markdown",
   "metadata": {}
  },
  {
   "cell_type": "code",
   "execution_count": 56,
   "metadata": {},
   "outputs": [],
   "source": [
    "def chi_test_indep(df, batch):\n",
    "    print(f'Testing result for {batch}')\n",
    "    display(pd.crosstab(index=df['version'], columns=df[batch], normalize='index'))\n",
    "    cross_tbl = pd.crosstab(index=df['version'], columns=df[batch])\n",
    "    chi2, p, dof, ex = chi2_contingency(cross_tbl)\n",
    "    print(f'Chi : {chi2}');print(f'P-value : {p}')\n",
    "    return None"
   ]
  },
  {
   "cell_type": "code",
   "execution_count": 57,
   "metadata": {},
   "outputs": [
    {
     "output_type": "stream",
     "name": "stdout",
     "text": [
      "Testing result for retention_1\n"
     ]
    },
    {
     "output_type": "display_data",
     "data": {
      "text/plain": "retention_1     False     True \nversion                        \ngate_30      0.551812  0.448188\ngate_40      0.557717  0.442283",
      "text/html": "<div>\n<style scoped>\n    .dataframe tbody tr th:only-of-type {\n        vertical-align: middle;\n    }\n\n    .dataframe tbody tr th {\n        vertical-align: top;\n    }\n\n    .dataframe thead th {\n        text-align: right;\n    }\n</style>\n<table border=\"1\" class=\"dataframe\">\n  <thead>\n    <tr style=\"text-align: right;\">\n      <th>retention_1</th>\n      <th>False</th>\n      <th>True</th>\n    </tr>\n    <tr>\n      <th>version</th>\n      <th></th>\n      <th></th>\n    </tr>\n  </thead>\n  <tbody>\n    <tr>\n      <th>gate_30</th>\n      <td>0.551812</td>\n      <td>0.448188</td>\n    </tr>\n    <tr>\n      <th>gate_40</th>\n      <td>0.557717</td>\n      <td>0.442283</td>\n    </tr>\n  </tbody>\n</table>\n</div>"
     },
     "metadata": {}
    },
    {
     "output_type": "stream",
     "name": "stdout",
     "text": [
      "Chi : 3.1591007878782262\nP-value : 0.07550476210309086\n"
     ]
    }
   ],
   "source": [
    "chi_test_indep(df, 'retention_1')"
   ]
  },
  {
   "cell_type": "code",
   "execution_count": 58,
   "metadata": {},
   "outputs": [
    {
     "output_type": "stream",
     "name": "stdout",
     "text": [
      "Testing result for retention_7\n"
     ]
    },
    {
     "output_type": "display_data",
     "data": {
      "text/plain": "retention_7     False     True \nversion                        \ngate_30      0.809799  0.190201\ngate_40      0.818000  0.182000",
      "text/html": "<div>\n<style scoped>\n    .dataframe tbody tr th:only-of-type {\n        vertical-align: middle;\n    }\n\n    .dataframe tbody tr th {\n        vertical-align: top;\n    }\n\n    .dataframe thead th {\n        text-align: right;\n    }\n</style>\n<table border=\"1\" class=\"dataframe\">\n  <thead>\n    <tr style=\"text-align: right;\">\n      <th>retention_7</th>\n      <th>False</th>\n      <th>True</th>\n    </tr>\n    <tr>\n      <th>version</th>\n      <th></th>\n      <th></th>\n    </tr>\n  </thead>\n  <tbody>\n    <tr>\n      <th>gate_30</th>\n      <td>0.809799</td>\n      <td>0.190201</td>\n    </tr>\n    <tr>\n      <th>gate_40</th>\n      <td>0.818000</td>\n      <td>0.182000</td>\n    </tr>\n  </tbody>\n</table>\n</div>"
     },
     "metadata": {}
    },
    {
     "output_type": "stream",
     "name": "stdout",
     "text": [
      "Chi : 9.959086799559167\nP-value : 0.0016005742679058301\n"
     ]
    }
   ],
   "source": [
    "chi_test_indep(df, 'retention_7')"
   ]
  },
  {
   "source": [
    "#### T-Test 1 sample proportion, `statsmodel`"
   ],
   "cell_type": "markdown",
   "metadata": {}
  },
  {
   "cell_type": "code",
   "execution_count": 41,
   "metadata": {},
   "outputs": [],
   "source": [
    "from statsmodels.stats.proportion import proportions_ztest, proportion_confint, test_proportions_2indep, confint_proportions_2indep\n",
    "\n",
    "def ab_test_with_ci(df, features):\n",
    "    # cross tab summary\n",
    "    display(pd.crosstab(index=df['version'], columns=df[features], normalize='index'))\n",
    "\n",
    "    # each group test\n",
    "    for gr in ['gate_30', 'gate_40']:\n",
    "        grdf = df[df['version'] == gr]\n",
    "        # 1 sample t-test\n",
    "        print(f'\\nGroup {gr}')\n",
    "        print('T-test')\n",
    "        propstat, p_value = proportions_ztest(count=grdf[features].sum(), nobs=grdf.shape[0], \n",
    "                            value=0, alternative='two-sided')\n",
    "        print(f'P value {p_value}')\n",
    "\n",
    "        # confidence interval\n",
    "        print('Confidence interval')\n",
    "        lower_ci, upper_ci = proportion_confint(count=grdf[features].sum(), \n",
    "        nobs=grdf.shape[0], alpha=0.05, method='normal')\n",
    "        print(f'({lower_ci:.3f} , {upper_ci:.3f})')\n",
    "    \n",
    "    # difference proportion \n",
    "    success_a, success_b = (df[df['version']=='gate_30'][features].sum(), df[df['version']=='gate_40'][features].sum())\n",
    "    n_a, n_b = (df[df['version']=='gate_30'].shape[0], df[df['version']=='gate_40'].shape[0])\n",
    "    \n",
    "    print('\\nTest diff proportion, independence')\n",
    "    stat, p_value = test_proportions_2indep(success_a, n_a, success_b, n_b, compare='diff', \n",
    "    alternative='two-sided', return_results=False)\n",
    "    print(f'Test diff p-value {p_value:.3f}')\n",
    "\n",
    "    print('\\nConfint diff proportion, independence')\n",
    "    low_ci, upp_ci = confint_proportions_2indep(success_a, n_a, success_b, n_b, compare='diff', alpha=0.05)\n",
    "    print(f'Confidence interval diff ({low_ci:.3f}, {upp_ci:.3f})')\n",
    "\n",
    "    return None"
   ]
  },
  {
   "cell_type": "code",
   "execution_count": 42,
   "metadata": {},
   "outputs": [
    {
     "output_type": "display_data",
     "data": {
      "text/plain": "retention_1     False     True \nversion                        \ngate_30      0.551812  0.448188\ngate_40      0.557717  0.442283",
      "text/html": "<div>\n<style scoped>\n    .dataframe tbody tr th:only-of-type {\n        vertical-align: middle;\n    }\n\n    .dataframe tbody tr th {\n        vertical-align: top;\n    }\n\n    .dataframe thead th {\n        text-align: right;\n    }\n</style>\n<table border=\"1\" class=\"dataframe\">\n  <thead>\n    <tr style=\"text-align: right;\">\n      <th>retention_1</th>\n      <th>False</th>\n      <th>True</th>\n    </tr>\n    <tr>\n      <th>version</th>\n      <th></th>\n      <th></th>\n    </tr>\n  </thead>\n  <tbody>\n    <tr>\n      <th>gate_30</th>\n      <td>0.551812</td>\n      <td>0.448188</td>\n    </tr>\n    <tr>\n      <th>gate_40</th>\n      <td>0.557717</td>\n      <td>0.442283</td>\n    </tr>\n  </tbody>\n</table>\n</div>"
     },
     "metadata": {}
    },
    {
     "output_type": "stream",
     "name": "stdout",
     "text": [
      "\nGroup gate_30\nT-test\nP value 0.0\nConfidence interval\n(0.444 , 0.453)\n\nGroup gate_40\nT-test\nP value 0.0\nConfidence interval\n(0.438 , 0.447)\n\nTest diff proportion, independence\nTest diff p-value 0.074\n\nConfint diff proportion, independence\nConfidence interval diff (-0.001, 0.012)\n"
     ]
    }
   ],
   "source": [
    "ab_test_with_ci(df, 'retention_1')"
   ]
  },
  {
   "cell_type": "code",
   "execution_count": 43,
   "metadata": {},
   "outputs": [
    {
     "output_type": "display_data",
     "data": {
      "text/plain": "retention_7     False     True \nversion                        \ngate_30      0.809799  0.190201\ngate_40      0.818000  0.182000",
      "text/html": "<div>\n<style scoped>\n    .dataframe tbody tr th:only-of-type {\n        vertical-align: middle;\n    }\n\n    .dataframe tbody tr th {\n        vertical-align: top;\n    }\n\n    .dataframe thead th {\n        text-align: right;\n    }\n</style>\n<table border=\"1\" class=\"dataframe\">\n  <thead>\n    <tr style=\"text-align: right;\">\n      <th>retention_7</th>\n      <th>False</th>\n      <th>True</th>\n    </tr>\n    <tr>\n      <th>version</th>\n      <th></th>\n      <th></th>\n    </tr>\n  </thead>\n  <tbody>\n    <tr>\n      <th>gate_30</th>\n      <td>0.809799</td>\n      <td>0.190201</td>\n    </tr>\n    <tr>\n      <th>gate_40</th>\n      <td>0.818000</td>\n      <td>0.182000</td>\n    </tr>\n  </tbody>\n</table>\n</div>"
     },
     "metadata": {}
    },
    {
     "output_type": "stream",
     "name": "stdout",
     "text": [
      "\nGroup gate_30\nT-test\nP value 0.0\nConfidence interval\n(0.187 , 0.194)\n\nGroup gate_40\nT-test\nP value 0.0\nConfidence interval\n(0.178 , 0.186)\n\nTest diff proportion, independence\nTest diff p-value 0.002\n\nConfint diff proportion, independence\nConfidence interval diff (0.003, 0.013)\n"
     ]
    }
   ],
   "source": [
    "ab_test_with_ci(df, 'retention_7')"
   ]
  },
  {
   "source": [
    "# Power calculation\n",
    "reference : https://vinaysays.medium.com/a-b-testing-how-to-determine-the-sample-size-46e5419a2242\n",
    "Key take-away\n",
    "- `Significance Level` ($\\alpha$) : Chance of reject Null Hypothesis, when reality it is true = Accept Alternative Hypothesis, when reality is Null = `False Positive`, `Type I Error`\n",
    "- `Type II Error` ($\\beta$): Chance of reject Alternate Hypothesis, when reality it is true, = Accept Null Hyphothesis, when reality it is Alternative  = `False Negative`\n",
    "- `Statistical Power` : Probability to avoid `Type II Error` = $(1 - \\beta)$"
   ],
   "cell_type": "markdown",
   "metadata": {}
  },
  {
   "source": [
    "## Power calculation with `statsmodels`\n",
    "reference : http://jpktd.blogspot.com/2013/03/statistical-power-in-statsmodels.html  \n",
    "reference : https://machinelearningmastery.com/statistical-power-and-power-analysis-in-python/"
   ],
   "cell_type": "markdown",
   "metadata": {}
  },
  {
   "cell_type": "code",
   "execution_count": 85,
   "metadata": {},
   "outputs": [
    {
     "output_type": "execute_result",
     "data": {
      "text/plain": [
       "6507.330263176526"
      ]
     },
     "metadata": {},
     "execution_count": 85
    }
   ],
   "source": [
    "import statsmodels.stats.api as sms\n",
    "# caculate effect size\n",
    "es = sms.proportion_effectsize(0.2, 0.22)\n",
    "# A) compute sample size with normal distibution difference proportion \n",
    "sms.NormalIndPower().solve_power(effect_size=es, alpha=0.05, power=0.8, ratio=1, alternative='two-sided')"
   ]
  },
  {
   "cell_type": "code",
   "execution_count": 81,
   "metadata": {},
   "outputs": [
    {
     "output_type": "execute_result",
     "data": {
      "text/plain": [
       "6507.330263176526"
      ]
     },
     "metadata": {},
     "execution_count": 81
    }
   ],
   "source": [
    "# A.1) short-cut function of A)\n",
    "sms.zt_ind_solve_power(effect_size=es, alpha=0.05, power=0.8, ratio=1)"
   ]
  },
  {
   "cell_type": "code",
   "execution_count": 86,
   "metadata": {},
   "outputs": [
    {
     "output_type": "execute_result",
     "data": {
      "text/plain": [
       "6508.290862720533"
      ]
     },
     "metadata": {},
     "execution_count": 86
    }
   ],
   "source": [
    "# B) compute sample size with t-test distibution difference proportion \n",
    "sms.TTestIndPower().solve_power(effect_size=es, alpha=0.05, power=0.8, ratio=1, alternative='two-sided')"
   ]
  },
  {
   "cell_type": "code",
   "execution_count": 83,
   "metadata": {},
   "outputs": [
    {
     "output_type": "execute_result",
     "data": {
      "text/plain": [
       "6508.290862720533"
      ]
     },
     "metadata": {},
     "execution_count": 83
    }
   ],
   "source": [
    "# B.1) short-cut function of B)\n",
    "sms.tt_ind_solve_power(effect_size=es, alpha=0.05, power=0.8, ratio=1, alternative='two-sided')"
   ]
  },
  {
   "source": [
    "### Is the sample size test of retaintion_1, enough?"
   ],
   "cell_type": "markdown",
   "metadata": {}
  },
  {
   "cell_type": "code",
   "execution_count": 93,
   "metadata": {},
   "outputs": [
    {
     "output_type": "display_data",
     "data": {
      "text/plain": "retention_1  False   True    All\nversion                         \ngate_30      24666  20034  44700\ngate_40      25370  20119  45489\nAll          50036  40153  90189",
      "text/html": "<div>\n<style scoped>\n    .dataframe tbody tr th:only-of-type {\n        vertical-align: middle;\n    }\n\n    .dataframe tbody tr th {\n        vertical-align: top;\n    }\n\n    .dataframe thead th {\n        text-align: right;\n    }\n</style>\n<table border=\"1\" class=\"dataframe\">\n  <thead>\n    <tr style=\"text-align: right;\">\n      <th>retention_1</th>\n      <th>False</th>\n      <th>True</th>\n      <th>All</th>\n    </tr>\n    <tr>\n      <th>version</th>\n      <th></th>\n      <th></th>\n      <th></th>\n    </tr>\n  </thead>\n  <tbody>\n    <tr>\n      <th>gate_30</th>\n      <td>24666</td>\n      <td>20034</td>\n      <td>44700</td>\n    </tr>\n    <tr>\n      <th>gate_40</th>\n      <td>25370</td>\n      <td>20119</td>\n      <td>45489</td>\n    </tr>\n    <tr>\n      <th>All</th>\n      <td>50036</td>\n      <td>40153</td>\n      <td>90189</td>\n    </tr>\n  </tbody>\n</table>\n</div>"
     },
     "metadata": {}
    },
    {
     "output_type": "display_data",
     "data": {
      "text/plain": "retention_1     False     True \nversion                        \ngate_30      0.551812  0.448188\ngate_40      0.557717  0.442283",
      "text/html": "<div>\n<style scoped>\n    .dataframe tbody tr th:only-of-type {\n        vertical-align: middle;\n    }\n\n    .dataframe tbody tr th {\n        vertical-align: top;\n    }\n\n    .dataframe thead th {\n        text-align: right;\n    }\n</style>\n<table border=\"1\" class=\"dataframe\">\n  <thead>\n    <tr style=\"text-align: right;\">\n      <th>retention_1</th>\n      <th>False</th>\n      <th>True</th>\n    </tr>\n    <tr>\n      <th>version</th>\n      <th></th>\n      <th></th>\n    </tr>\n  </thead>\n  <tbody>\n    <tr>\n      <th>gate_30</th>\n      <td>0.551812</td>\n      <td>0.448188</td>\n    </tr>\n    <tr>\n      <th>gate_40</th>\n      <td>0.557717</td>\n      <td>0.442283</td>\n    </tr>\n  </tbody>\n</table>\n</div>"
     },
     "metadata": {}
    }
   ],
   "source": [
    "display(pd.crosstab(index=df['version'], columns=df['retention_1'], margins=True));\n",
    "display(pd.crosstab(index=df['version'], columns=df['retention_1'], normalize='index'));"
   ]
  },
  {
   "source": [
    "### `Lift` :  % increase of target measurement  \n",
    "ex. define retaiontion rate of A/B test = 10%  \n",
    "then the target test %retaintion = (1 + 10%)*(control group)  \n",
    "`control` = gate_40, p = 0.4422  \n",
    "`test` = gate_30, target p = 1.1*0.4422 = 0.48642"
   ],
   "cell_type": "markdown",
   "metadata": {}
  },
  {
   "cell_type": "code",
   "execution_count": 99,
   "metadata": {},
   "outputs": [
    {
     "output_type": "execute_result",
     "data": {
      "text/plain": [
       "1995.407473213585"
      ]
     },
     "metadata": {},
     "execution_count": 99
    }
   ],
   "source": [
    "es = sms.proportion_effectsize(0.4422, 0.48642)\n",
    "# number of obs for each test group\n",
    "sms.zt_ind_solve_power(effect_size=es, nobs1=None, alpha=0.05, power=0.8, ratio=1)"
   ]
  },
  {
   "source": [
    "Actual obeservation of `test` (44700) and `control`(45489) beyond from calculation  \n",
    "Then the number of from this test satisfied the effect size condition.  \n",
    "  \n",
    "Also, could calculate the power from this test  "
   ],
   "cell_type": "markdown",
   "metadata": {}
  },
  {
   "cell_type": "code",
   "execution_count": 100,
   "metadata": {},
   "outputs": [
    {
     "output_type": "execute_result",
     "data": {
      "text/plain": [
       "1.0"
      ]
     },
     "metadata": {},
     "execution_count": 100
    }
   ],
   "source": [
    "sms.zt_ind_solve_power(effect_size=es, nobs1=44700, alpha=0.05, power=None, ratio=1)"
   ]
  },
  {
   "source": [
    "Power = $1 - \\beta = 1$, $\\beta$ = 0, or chance of `Type II Error` = 0"
   ],
   "cell_type": "markdown",
   "metadata": {}
  },
  {
   "source": [
    "### Is the sample size test of retaintion_7, enough?"
   ],
   "cell_type": "markdown",
   "metadata": {}
  },
  {
   "cell_type": "code",
   "execution_count": 101,
   "metadata": {},
   "outputs": [
    {
     "output_type": "display_data",
     "data": {
      "text/plain": "retention_7  False   True    All\nversion                         \ngate_30      36198   8502  44700\ngate_40      37210   8279  45489\nAll          73408  16781  90189",
      "text/html": "<div>\n<style scoped>\n    .dataframe tbody tr th:only-of-type {\n        vertical-align: middle;\n    }\n\n    .dataframe tbody tr th {\n        vertical-align: top;\n    }\n\n    .dataframe thead th {\n        text-align: right;\n    }\n</style>\n<table border=\"1\" class=\"dataframe\">\n  <thead>\n    <tr style=\"text-align: right;\">\n      <th>retention_7</th>\n      <th>False</th>\n      <th>True</th>\n      <th>All</th>\n    </tr>\n    <tr>\n      <th>version</th>\n      <th></th>\n      <th></th>\n      <th></th>\n    </tr>\n  </thead>\n  <tbody>\n    <tr>\n      <th>gate_30</th>\n      <td>36198</td>\n      <td>8502</td>\n      <td>44700</td>\n    </tr>\n    <tr>\n      <th>gate_40</th>\n      <td>37210</td>\n      <td>8279</td>\n      <td>45489</td>\n    </tr>\n    <tr>\n      <th>All</th>\n      <td>73408</td>\n      <td>16781</td>\n      <td>90189</td>\n    </tr>\n  </tbody>\n</table>\n</div>"
     },
     "metadata": {}
    },
    {
     "output_type": "display_data",
     "data": {
      "text/plain": "retention_7     False     True \nversion                        \ngate_30      0.809799  0.190201\ngate_40      0.818000  0.182000",
      "text/html": "<div>\n<style scoped>\n    .dataframe tbody tr th:only-of-type {\n        vertical-align: middle;\n    }\n\n    .dataframe tbody tr th {\n        vertical-align: top;\n    }\n\n    .dataframe thead th {\n        text-align: right;\n    }\n</style>\n<table border=\"1\" class=\"dataframe\">\n  <thead>\n    <tr style=\"text-align: right;\">\n      <th>retention_7</th>\n      <th>False</th>\n      <th>True</th>\n    </tr>\n    <tr>\n      <th>version</th>\n      <th></th>\n      <th></th>\n    </tr>\n  </thead>\n  <tbody>\n    <tr>\n      <th>gate_30</th>\n      <td>0.809799</td>\n      <td>0.190201</td>\n    </tr>\n    <tr>\n      <th>gate_40</th>\n      <td>0.818000</td>\n      <td>0.182000</td>\n    </tr>\n  </tbody>\n</table>\n</div>"
     },
     "metadata": {}
    }
   ],
   "source": [
    "display(pd.crosstab(index=df['version'], columns=df['retention_7'], margins=True));\n",
    "display(pd.crosstab(index=df['version'], columns=df['retention_7'], normalize='index'));"
   ]
  },
  {
   "cell_type": "code",
   "execution_count": 106,
   "metadata": {},
   "outputs": [
    {
     "output_type": "stream",
     "name": "stdout",
     "text": [
      "Theorical n_obs for each group : 7312\n"
     ]
    }
   ],
   "source": [
    "es = sms.proportion_effectsize(0.1822, 1.1*0.1822)\n",
    "theorical_obs = sms.zt_ind_solve_power(effect_size=es, nobs1=None, alpha=0.05, power=0.8, ratio=1)\n",
    "print(f'Theorical n_obs for each group : {theorical_obs:.0f}')"
   ]
  },
  {
   "cell_type": "code",
   "execution_count": 110,
   "metadata": {},
   "outputs": [
    {
     "output_type": "stream",
     "name": "stdout",
     "text": [
      "Real test power : 1.00000\n"
     ]
    }
   ],
   "source": [
    "test_power = sms.zt_ind_solve_power(effect_size=es, nobs1=44700, alpha=0.05, power=None, ratio=1)\n",
    "print(f'Real test power : {test_power:.5f}')"
   ]
  }
 ]
}