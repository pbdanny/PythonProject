{
  "metadata": {
    "kernelspec": {
      "name": "python3",
      "display_name": "Python 3",
      "language": "python"
    },
    "language_info": {
      "name": "python",
      "version": "3.10.14",
      "mimetype": "text/x-python",
      "codemirror_mode": {
        "name": "ipython",
        "version": 3
      },
      "pygments_lexer": "ipython3",
      "nbconvert_exporter": "python",
      "file_extension": ".py"
    },
    "kaggle": {
      "accelerator": "none",
      "dataSources": [
        {
          "sourceId": 2046431,
          "sourceType": "datasetVersion",
          "datasetId": 1225891
        }
      ],
      "dockerImageVersionId": 30786,
      "isInternetEnabled": true,
      "language": "python",
      "sourceType": "notebook",
      "isGpuEnabled": false
    },
    "colab": {
      "provenance": []
    }
  },
  "nbformat_minor": 0,
  "nbformat": 4,
  "cells": [
    {
      "cell_type": "markdown",
      "source": [
        "# Data Preparation"
      ],
      "metadata": {
        "id": "05sJ5aSY52zx"
      }
    },
    {
      "cell_type": "markdown",
      "source": [
        "## Import Libraries"
      ],
      "metadata": {
        "id": "oWy-UExm52zx"
      }
    },
    {
      "cell_type": "code",
      "source": [
        "import numpy as np\n",
        "import pandas as pd\n",
        "import os\n",
        "\n",
        "# from dask import dataframe as dd"
      ],
      "metadata": {
        "execution": {
          "iopub.status.busy": "2024-10-16T15:40:30.951773Z",
          "iopub.execute_input": "2024-10-16T15:40:30.952937Z",
          "iopub.status.idle": "2024-10-16T15:40:30.957485Z",
          "shell.execute_reply.started": "2024-10-16T15:40:30.952891Z",
          "shell.execute_reply": "2024-10-16T15:40:30.956415Z"
        },
        "trusted": true,
        "id": "_hhcXgCA52zy"
      },
      "execution_count": null,
      "outputs": []
    },
    {
      "cell_type": "markdown",
      "source": [
        "## Import Data"
      ],
      "metadata": {
        "id": "0v-_HrdH52zy"
      }
    },
    {
      "cell_type": "code",
      "source": [
        "# Set data path for Kaggle\n",
        "if os.environ.get('KAGGLE_KERNEL_RUN_TYPE', 'Localhost') == 'Interactive':\n",
        "    loan_data_backup = pd.read_csv(\"/kaggle/input/loan-data-2007-2014/loan_data_2007_2014/loan_data_2007_2014.csv\")\n",
        "else:\n",
        "    loan_data_backup = pd.read_csv('/kaggle/input/loan-data-2007-2014/loan_data_2007_2014/loan_data_2007_2014.csv')"
      ],
      "metadata": {
        "execution": {
          "iopub.status.busy": "2024-10-16T15:48:07.613389Z",
          "iopub.execute_input": "2024-10-16T15:48:07.613816Z",
          "iopub.status.idle": "2024-10-16T15:48:13.788139Z",
          "shell.execute_reply.started": "2024-10-16T15:48:07.613780Z",
          "shell.execute_reply": "2024-10-16T15:48:13.787075Z"
        },
        "trusted": true,
        "id": "hn27EWiU52zz",
        "outputId": "4c89824d-96b9-41ad-b9e0-da268ef8af3d"
      },
      "execution_count": null,
      "outputs": [
        {
          "name": "stderr",
          "text": "/tmp/ipykernel_30/3054711046.py:3: DtypeWarning: Columns (20) have mixed types. Specify dtype option on import or set low_memory=False.\n  loan_data_backup = pd.read_csv(\"/kaggle/input/loan-data-2007-2014/loan_data_2007_2014/loan_data_2007_2014.csv\")\n",
          "output_type": "stream"
        }
      ]
    },
    {
      "cell_type": "code",
      "source": [
        "loan_data = loan_data_backup.copy()"
      ],
      "metadata": {
        "execution": {
          "iopub.status.busy": "2024-10-16T15:40:43.217823Z",
          "iopub.execute_input": "2024-10-16T15:40:43.218830Z",
          "iopub.status.idle": "2024-10-16T15:40:43.327763Z",
          "shell.execute_reply.started": "2024-10-16T15:40:43.218784Z",
          "shell.execute_reply": "2024-10-16T15:40:43.326791Z"
        },
        "trusted": true,
        "id": "1ld6I3Mh52zz"
      },
      "execution_count": null,
      "outputs": []
    },
    {
      "cell_type": "markdown",
      "source": [
        "## Explore Data"
      ],
      "metadata": {
        "id": "wgcO7jCo52z0"
      }
    },
    {
      "cell_type": "code",
      "source": [
        "loan_data"
      ],
      "metadata": {
        "execution": {
          "iopub.status.busy": "2024-10-16T15:40:50.113615Z",
          "iopub.execute_input": "2024-10-16T15:40:50.114050Z",
          "iopub.status.idle": "2024-10-16T15:40:50.272911Z",
          "shell.execute_reply.started": "2024-10-16T15:40:50.114008Z",
          "shell.execute_reply": "2024-10-16T15:40:50.271647Z"
        },
        "trusted": true,
        "id": "Ejdl5v7Z52z0",
        "outputId": "96e125d5-a450-4b9c-bf0a-7a5791ba18f3"
      },
      "execution_count": null,
      "outputs": [
        {
          "execution_count": 6,
          "output_type": "execute_result",
          "data": {
            "text/plain": "        Unnamed: 0       id  member_id  loan_amnt  funded_amnt  \\\n0                0  1077501    1296599       5000         5000   \n1                1  1077430    1314167       2500         2500   \n2                2  1077175    1313524       2400         2400   \n3                3  1076863    1277178      10000        10000   \n4                4  1075358    1311748       3000         3000   \n...            ...      ...        ...        ...          ...   \n466280      466280  8598660    1440975      18400        18400   \n466281      466281  9684700   11536848      22000        22000   \n466282      466282  9584776   11436914      20700        20700   \n466283      466283  9604874   11457002       2000         2000   \n466284      466284  9199665   11061576      10000        10000   \n\n        funded_amnt_inv        term  int_rate  installment grade  ...  \\\n0                4975.0   36 months     10.65       162.87     B  ...   \n1                2500.0   60 months     15.27        59.83     C  ...   \n2                2400.0   36 months     15.96        84.33     C  ...   \n3               10000.0   36 months     13.49       339.31     C  ...   \n4                3000.0   60 months     12.69        67.79     B  ...   \n...                 ...         ...       ...          ...   ...  ...   \n466280          18400.0   60 months     14.47       432.64     C  ...   \n466281          22000.0   60 months     19.97       582.50     D  ...   \n466282          20700.0   60 months     16.99       514.34     D  ...   \n466283           2000.0   36 months      7.90        62.59     A  ...   \n466284           9975.0   36 months     19.20       367.58     D  ...   \n\n       total_bal_il il_util open_rv_12m open_rv_24m  max_bal_bc all_util  \\\n0               NaN     NaN         NaN         NaN         NaN      NaN   \n1               NaN     NaN         NaN         NaN         NaN      NaN   \n2               NaN     NaN         NaN         NaN         NaN      NaN   \n3               NaN     NaN         NaN         NaN         NaN      NaN   \n4               NaN     NaN         NaN         NaN         NaN      NaN   \n...             ...     ...         ...         ...         ...      ...   \n466280          NaN     NaN         NaN         NaN         NaN      NaN   \n466281          NaN     NaN         NaN         NaN         NaN      NaN   \n466282          NaN     NaN         NaN         NaN         NaN      NaN   \n466283          NaN     NaN         NaN         NaN         NaN      NaN   \n466284          NaN     NaN         NaN         NaN         NaN      NaN   \n\n       total_rev_hi_lim inq_fi total_cu_tl inq_last_12m  \n0                   NaN    NaN         NaN          NaN  \n1                   NaN    NaN         NaN          NaN  \n2                   NaN    NaN         NaN          NaN  \n3                   NaN    NaN         NaN          NaN  \n4                   NaN    NaN         NaN          NaN  \n...                 ...    ...         ...          ...  \n466280          29900.0    NaN         NaN          NaN  \n466281          39400.0    NaN         NaN          NaN  \n466282          13100.0    NaN         NaN          NaN  \n466283          53100.0    NaN         NaN          NaN  \n466284          16000.0    NaN         NaN          NaN  \n\n[466285 rows x 75 columns]",
            "text/html": "<div>\n<style scoped>\n    .dataframe tbody tr th:only-of-type {\n        vertical-align: middle;\n    }\n\n    .dataframe tbody tr th {\n        vertical-align: top;\n    }\n\n    .dataframe thead th {\n        text-align: right;\n    }\n</style>\n<table border=\"1\" class=\"dataframe\">\n  <thead>\n    <tr style=\"text-align: right;\">\n      <th></th>\n      <th>Unnamed: 0</th>\n      <th>id</th>\n      <th>member_id</th>\n      <th>loan_amnt</th>\n      <th>funded_amnt</th>\n      <th>funded_amnt_inv</th>\n      <th>term</th>\n      <th>int_rate</th>\n      <th>installment</th>\n      <th>grade</th>\n      <th>...</th>\n      <th>total_bal_il</th>\n      <th>il_util</th>\n      <th>open_rv_12m</th>\n      <th>open_rv_24m</th>\n      <th>max_bal_bc</th>\n      <th>all_util</th>\n      <th>total_rev_hi_lim</th>\n      <th>inq_fi</th>\n      <th>total_cu_tl</th>\n      <th>inq_last_12m</th>\n    </tr>\n  </thead>\n  <tbody>\n    <tr>\n      <th>0</th>\n      <td>0</td>\n      <td>1077501</td>\n      <td>1296599</td>\n      <td>5000</td>\n      <td>5000</td>\n      <td>4975.0</td>\n      <td>36 months</td>\n      <td>10.65</td>\n      <td>162.87</td>\n      <td>B</td>\n      <td>...</td>\n      <td>NaN</td>\n      <td>NaN</td>\n      <td>NaN</td>\n      <td>NaN</td>\n      <td>NaN</td>\n      <td>NaN</td>\n      <td>NaN</td>\n      <td>NaN</td>\n      <td>NaN</td>\n      <td>NaN</td>\n    </tr>\n    <tr>\n      <th>1</th>\n      <td>1</td>\n      <td>1077430</td>\n      <td>1314167</td>\n      <td>2500</td>\n      <td>2500</td>\n      <td>2500.0</td>\n      <td>60 months</td>\n      <td>15.27</td>\n      <td>59.83</td>\n      <td>C</td>\n      <td>...</td>\n      <td>NaN</td>\n      <td>NaN</td>\n      <td>NaN</td>\n      <td>NaN</td>\n      <td>NaN</td>\n      <td>NaN</td>\n      <td>NaN</td>\n      <td>NaN</td>\n      <td>NaN</td>\n      <td>NaN</td>\n    </tr>\n    <tr>\n      <th>2</th>\n      <td>2</td>\n      <td>1077175</td>\n      <td>1313524</td>\n      <td>2400</td>\n      <td>2400</td>\n      <td>2400.0</td>\n      <td>36 months</td>\n      <td>15.96</td>\n      <td>84.33</td>\n      <td>C</td>\n      <td>...</td>\n      <td>NaN</td>\n      <td>NaN</td>\n      <td>NaN</td>\n      <td>NaN</td>\n      <td>NaN</td>\n      <td>NaN</td>\n      <td>NaN</td>\n      <td>NaN</td>\n      <td>NaN</td>\n      <td>NaN</td>\n    </tr>\n    <tr>\n      <th>3</th>\n      <td>3</td>\n      <td>1076863</td>\n      <td>1277178</td>\n      <td>10000</td>\n      <td>10000</td>\n      <td>10000.0</td>\n      <td>36 months</td>\n      <td>13.49</td>\n      <td>339.31</td>\n      <td>C</td>\n      <td>...</td>\n      <td>NaN</td>\n      <td>NaN</td>\n      <td>NaN</td>\n      <td>NaN</td>\n      <td>NaN</td>\n      <td>NaN</td>\n      <td>NaN</td>\n      <td>NaN</td>\n      <td>NaN</td>\n      <td>NaN</td>\n    </tr>\n    <tr>\n      <th>4</th>\n      <td>4</td>\n      <td>1075358</td>\n      <td>1311748</td>\n      <td>3000</td>\n      <td>3000</td>\n      <td>3000.0</td>\n      <td>60 months</td>\n      <td>12.69</td>\n      <td>67.79</td>\n      <td>B</td>\n      <td>...</td>\n      <td>NaN</td>\n      <td>NaN</td>\n      <td>NaN</td>\n      <td>NaN</td>\n      <td>NaN</td>\n      <td>NaN</td>\n      <td>NaN</td>\n      <td>NaN</td>\n      <td>NaN</td>\n      <td>NaN</td>\n    </tr>\n    <tr>\n      <th>...</th>\n      <td>...</td>\n      <td>...</td>\n      <td>...</td>\n      <td>...</td>\n      <td>...</td>\n      <td>...</td>\n      <td>...</td>\n      <td>...</td>\n      <td>...</td>\n      <td>...</td>\n      <td>...</td>\n      <td>...</td>\n      <td>...</td>\n      <td>...</td>\n      <td>...</td>\n      <td>...</td>\n      <td>...</td>\n      <td>...</td>\n      <td>...</td>\n      <td>...</td>\n      <td>...</td>\n    </tr>\n    <tr>\n      <th>466280</th>\n      <td>466280</td>\n      <td>8598660</td>\n      <td>1440975</td>\n      <td>18400</td>\n      <td>18400</td>\n      <td>18400.0</td>\n      <td>60 months</td>\n      <td>14.47</td>\n      <td>432.64</td>\n      <td>C</td>\n      <td>...</td>\n      <td>NaN</td>\n      <td>NaN</td>\n      <td>NaN</td>\n      <td>NaN</td>\n      <td>NaN</td>\n      <td>NaN</td>\n      <td>29900.0</td>\n      <td>NaN</td>\n      <td>NaN</td>\n      <td>NaN</td>\n    </tr>\n    <tr>\n      <th>466281</th>\n      <td>466281</td>\n      <td>9684700</td>\n      <td>11536848</td>\n      <td>22000</td>\n      <td>22000</td>\n      <td>22000.0</td>\n      <td>60 months</td>\n      <td>19.97</td>\n      <td>582.50</td>\n      <td>D</td>\n      <td>...</td>\n      <td>NaN</td>\n      <td>NaN</td>\n      <td>NaN</td>\n      <td>NaN</td>\n      <td>NaN</td>\n      <td>NaN</td>\n      <td>39400.0</td>\n      <td>NaN</td>\n      <td>NaN</td>\n      <td>NaN</td>\n    </tr>\n    <tr>\n      <th>466282</th>\n      <td>466282</td>\n      <td>9584776</td>\n      <td>11436914</td>\n      <td>20700</td>\n      <td>20700</td>\n      <td>20700.0</td>\n      <td>60 months</td>\n      <td>16.99</td>\n      <td>514.34</td>\n      <td>D</td>\n      <td>...</td>\n      <td>NaN</td>\n      <td>NaN</td>\n      <td>NaN</td>\n      <td>NaN</td>\n      <td>NaN</td>\n      <td>NaN</td>\n      <td>13100.0</td>\n      <td>NaN</td>\n      <td>NaN</td>\n      <td>NaN</td>\n    </tr>\n    <tr>\n      <th>466283</th>\n      <td>466283</td>\n      <td>9604874</td>\n      <td>11457002</td>\n      <td>2000</td>\n      <td>2000</td>\n      <td>2000.0</td>\n      <td>36 months</td>\n      <td>7.90</td>\n      <td>62.59</td>\n      <td>A</td>\n      <td>...</td>\n      <td>NaN</td>\n      <td>NaN</td>\n      <td>NaN</td>\n      <td>NaN</td>\n      <td>NaN</td>\n      <td>NaN</td>\n      <td>53100.0</td>\n      <td>NaN</td>\n      <td>NaN</td>\n      <td>NaN</td>\n    </tr>\n    <tr>\n      <th>466284</th>\n      <td>466284</td>\n      <td>9199665</td>\n      <td>11061576</td>\n      <td>10000</td>\n      <td>10000</td>\n      <td>9975.0</td>\n      <td>36 months</td>\n      <td>19.20</td>\n      <td>367.58</td>\n      <td>D</td>\n      <td>...</td>\n      <td>NaN</td>\n      <td>NaN</td>\n      <td>NaN</td>\n      <td>NaN</td>\n      <td>NaN</td>\n      <td>NaN</td>\n      <td>16000.0</td>\n      <td>NaN</td>\n      <td>NaN</td>\n      <td>NaN</td>\n    </tr>\n  </tbody>\n</table>\n<p>466285 rows × 75 columns</p>\n</div>"
          },
          "metadata": {}
        }
      ]
    },
    {
      "cell_type": "code",
      "source": [
        "pd.options.display.max_columns = None"
      ],
      "metadata": {
        "execution": {
          "iopub.status.busy": "2024-10-16T15:40:52.790647Z",
          "iopub.execute_input": "2024-10-16T15:40:52.791068Z",
          "iopub.status.idle": "2024-10-16T15:40:52.797281Z",
          "shell.execute_reply.started": "2024-10-16T15:40:52.791030Z",
          "shell.execute_reply": "2024-10-16T15:40:52.796022Z"
        },
        "trusted": true,
        "id": "5P8ZASj252z0"
      },
      "execution_count": null,
      "outputs": []
    },
    {
      "cell_type": "code",
      "source": [
        "loan_data #.compute()"
      ],
      "metadata": {
        "execution": {
          "iopub.status.busy": "2024-10-16T15:40:54.161560Z",
          "iopub.execute_input": "2024-10-16T15:40:54.162035Z",
          "iopub.status.idle": "2024-10-16T15:40:54.243745Z",
          "shell.execute_reply.started": "2024-10-16T15:40:54.161991Z",
          "shell.execute_reply": "2024-10-16T15:40:54.242651Z"
        },
        "trusted": true,
        "id": "_yzlW7hR52z0",
        "outputId": "72da80f8-481f-4426-b6b9-5e9165bfe783"
      },
      "execution_count": null,
      "outputs": [
        {
          "execution_count": 8,
          "output_type": "execute_result",
          "data": {
            "text/plain": "        Unnamed: 0       id  member_id  loan_amnt  funded_amnt  \\\n0                0  1077501    1296599       5000         5000   \n1                1  1077430    1314167       2500         2500   \n2                2  1077175    1313524       2400         2400   \n3                3  1076863    1277178      10000        10000   \n4                4  1075358    1311748       3000         3000   \n...            ...      ...        ...        ...          ...   \n466280      466280  8598660    1440975      18400        18400   \n466281      466281  9684700   11536848      22000        22000   \n466282      466282  9584776   11436914      20700        20700   \n466283      466283  9604874   11457002       2000         2000   \n466284      466284  9199665   11061576      10000        10000   \n\n        funded_amnt_inv        term  int_rate  installment grade sub_grade  \\\n0                4975.0   36 months     10.65       162.87     B        B2   \n1                2500.0   60 months     15.27        59.83     C        C4   \n2                2400.0   36 months     15.96        84.33     C        C5   \n3               10000.0   36 months     13.49       339.31     C        C1   \n4                3000.0   60 months     12.69        67.79     B        B5   \n...                 ...         ...       ...          ...   ...       ...   \n466280          18400.0   60 months     14.47       432.64     C        C2   \n466281          22000.0   60 months     19.97       582.50     D        D5   \n466282          20700.0   60 months     16.99       514.34     D        D1   \n466283           2000.0   36 months      7.90        62.59     A        A4   \n466284           9975.0   36 months     19.20       367.58     D        D3   \n\n                                    emp_title emp_length home_ownership  \\\n0                                         NaN  10+ years           RENT   \n1                                       Ryder   < 1 year           RENT   \n2                                         NaN  10+ years           RENT   \n3                         AIR RESOURCES BOARD  10+ years           RENT   \n4                    University Medical Group     1 year           RENT   \n...                                       ...        ...            ...   \n466280                     Financial Advisor     4 years       MORTGAGE   \n466281  Chief of Interpretation (Park Ranger)  10+ years       MORTGAGE   \n466282                                 patrol    7 years       MORTGAGE   \n466283                   Server Engineer Lead    3 years            OWN   \n466284                                    NaN  10+ years       MORTGAGE   \n\n        annual_inc verification_status issue_d  loan_status pymnt_plan  \\\n0          24000.0            Verified  Dec-11   Fully Paid          n   \n1          30000.0     Source Verified  Dec-11  Charged Off          n   \n2          12252.0        Not Verified  Dec-11   Fully Paid          n   \n3          49200.0     Source Verified  Dec-11   Fully Paid          n   \n4          80000.0     Source Verified  Dec-11      Current          n   \n...            ...                 ...     ...          ...        ...   \n466280    110000.0     Source Verified  Jan-14      Current          n   \n466281     78000.0            Verified  Jan-14  Charged Off          n   \n466282     46000.0            Verified  Jan-14      Current          n   \n466283     83000.0            Verified  Jan-14   Fully Paid          n   \n466284     46000.0            Verified  Jan-14      Current          n   \n\n                                                      url  \\\n0       https://www.lendingclub.com/browse/loanDetail....   \n1       https://www.lendingclub.com/browse/loanDetail....   \n2       https://www.lendingclub.com/browse/loanDetail....   \n3       https://www.lendingclub.com/browse/loanDetail....   \n4       https://www.lendingclub.com/browse/loanDetail....   \n...                                                   ...   \n466280  https://www.lendingclub.com/browse/loanDetail....   \n466281  https://www.lendingclub.com/browse/loanDetail....   \n466282  https://www.lendingclub.com/browse/loanDetail....   \n466283  https://www.lendingclub.com/browse/loanDetail....   \n466284  https://www.lendingclub.com/browse/loanDetail....   \n\n                                                     desc             purpose  \\\n0         Borrower added on 12/22/11 > I need to upgra...         credit_card   \n1         Borrower added on 12/22/11 > I plan to use t...                 car   \n2                                                     NaN      small_business   \n3         Borrower added on 12/21/11 > to pay for prop...               other   \n4         Borrower added on 12/21/11 > I plan on combi...               other   \n...                                                   ...                 ...   \n466280                                                NaN  debt_consolidation   \n466281                                                NaN  debt_consolidation   \n466282    Borrower added on 12/06/13 > I am going to c...  debt_consolidation   \n466283                                                NaN         credit_card   \n466284    Borrower added on 12/04/13 > I will like a l...               other   \n\n                          title zip_code addr_state    dti  delinq_2yrs  \\\n0                      Computer    860xx         AZ  27.65          0.0   \n1                          bike    309xx         GA   1.00          0.0   \n2          real estate business    606xx         IL   8.72          0.0   \n3                      personel    917xx         CA  20.00          0.0   \n4                      Personal    972xx         OR  17.94          0.0   \n...                         ...      ...        ...    ...          ...   \n466280       Debt consolidation    773xx         TX  19.85          0.0   \n466281       Debt consolidation    377xx         TN  18.45          0.0   \n466282       Debt consolidation    458xx         OH  25.65          0.0   \n466283  Credit card refinancing    913xx         CA   5.39          3.0   \n466284                    Other    950xx         CA  22.78          1.0   \n\n       earliest_cr_line  inq_last_6mths  mths_since_last_delinq  \\\n0                Jan-85             1.0                     NaN   \n1                Apr-99             5.0                     NaN   \n2                Nov-01             2.0                     NaN   \n3                Feb-96             1.0                    35.0   \n4                Jan-96             0.0                    38.0   \n...                 ...             ...                     ...   \n466280           Apr-03             2.0                     NaN   \n466281           Jun-97             5.0                     NaN   \n466282           Dec-01             2.0                    65.0   \n466283           Feb-03             1.0                    13.0   \n466284           Feb-00             0.0                     9.0   \n\n        mths_since_last_record  open_acc  pub_rec  revol_bal  revol_util  \\\n0                          NaN       3.0      0.0      13648        83.7   \n1                          NaN       3.0      0.0       1687         9.4   \n2                          NaN       2.0      0.0       2956        98.5   \n3                          NaN      10.0      0.0       5598        21.0   \n4                          NaN      15.0      0.0      27783        53.9   \n...                        ...       ...      ...        ...         ...   \n466280                     NaN      18.0      0.0      23208        77.6   \n466281                   116.0      18.0      1.0      18238        46.3   \n466282                     NaN      18.0      0.0       6688        51.1   \n466283                     NaN      21.0      0.0      11404        21.5   \n466284                     NaN       6.0      0.0      11325        70.8   \n\n        total_acc initial_list_status  out_prncp  out_prncp_inv   total_pymnt  \\\n0             9.0                   f       0.00           0.00   5861.071414   \n1             4.0                   f       0.00           0.00   1008.710000   \n2            10.0                   f       0.00           0.00   3003.653644   \n3            37.0                   f       0.00           0.00  12226.302210   \n4            38.0                   f     766.90         766.90   3242.170000   \n...           ...                 ...        ...            ...           ...   \n466280       36.0                   w   12574.00       12574.00  10383.360000   \n466281       30.0                   f       0.00           0.00   4677.920000   \n466282       43.0                   f   14428.31       14428.31  12343.980000   \n466283       27.0                   w       0.00           0.00   2126.579838   \n466284       22.0                   f    3984.38        3974.41   8821.620000   \n\n        total_pymnt_inv  total_rec_prncp  total_rec_int  total_rec_late_fee  \\\n0               5831.78          5000.00         861.07                0.00   \n1               1008.71           456.46         435.17                0.00   \n2               3003.65          2400.00         603.65                0.00   \n3              12226.30         10000.00        2209.33               16.97   \n4               3242.17          2233.10        1009.07                0.00   \n...                 ...              ...            ...                 ...   \n466280         10383.36          5826.00        4557.36                0.00   \n466281          4677.92          1837.04        2840.88                0.00   \n466282         12343.98          6271.69        6072.29                0.00   \n466283          2126.58          2000.00         126.58                0.00   \n466284          8799.57          6015.62        2806.00                0.00   \n\n        recoveries  collection_recovery_fee last_pymnt_d  last_pymnt_amnt  \\\n0             0.00                     0.00       Jan-15           171.62   \n1           117.08                     1.11       Apr-13           119.66   \n2             0.00                     0.00       Jun-14           649.91   \n3             0.00                     0.00       Jan-15           357.48   \n4             0.00                     0.00       Jan-16            67.79   \n...            ...                      ...          ...              ...   \n466280        0.00                     0.00       Jan-16           432.64   \n466281        0.00                     0.00       Dec-14            17.50   \n466282        0.00                     0.00       Jan-16           514.34   \n466283        0.00                     0.00       Dec-14          1500.68   \n466284        0.00                     0.00       Jan-16           367.58   \n\n       next_pymnt_d last_credit_pull_d  collections_12_mths_ex_med  \\\n0               NaN             Jan-16                         0.0   \n1               NaN             Sep-13                         0.0   \n2               NaN             Jan-16                         0.0   \n3               NaN             Jan-15                         0.0   \n4            Feb-16             Jan-16                         0.0   \n...             ...                ...                         ...   \n466280       Feb-16             Jan-16                         0.0   \n466281          NaN             Jan-16                         0.0   \n466282       Feb-16             Dec-15                         0.0   \n466283          NaN             Apr-15                         0.0   \n466284       Feb-16             Jan-16                         0.0   \n\n        mths_since_last_major_derog  policy_code application_type  \\\n0                               NaN            1       INDIVIDUAL   \n1                               NaN            1       INDIVIDUAL   \n2                               NaN            1       INDIVIDUAL   \n3                               NaN            1       INDIVIDUAL   \n4                               NaN            1       INDIVIDUAL   \n...                             ...          ...              ...   \n466280                          NaN            1       INDIVIDUAL   \n466281                          NaN            1       INDIVIDUAL   \n466282                          NaN            1       INDIVIDUAL   \n466283                          NaN            1       INDIVIDUAL   \n466284                          NaN            1       INDIVIDUAL   \n\n        annual_inc_joint  dti_joint  verification_status_joint  \\\n0                    NaN        NaN                        NaN   \n1                    NaN        NaN                        NaN   \n2                    NaN        NaN                        NaN   \n3                    NaN        NaN                        NaN   \n4                    NaN        NaN                        NaN   \n...                  ...        ...                        ...   \n466280               NaN        NaN                        NaN   \n466281               NaN        NaN                        NaN   \n466282               NaN        NaN                        NaN   \n466283               NaN        NaN                        NaN   \n466284               NaN        NaN                        NaN   \n\n        acc_now_delinq  tot_coll_amt  tot_cur_bal  open_acc_6m  open_il_6m  \\\n0                  0.0           NaN          NaN          NaN         NaN   \n1                  0.0           NaN          NaN          NaN         NaN   \n2                  0.0           NaN          NaN          NaN         NaN   \n3                  0.0           NaN          NaN          NaN         NaN   \n4                  0.0           NaN          NaN          NaN         NaN   \n...                ...           ...          ...          ...         ...   \n466280             0.0           0.0     294998.0          NaN         NaN   \n466281             0.0           0.0     221830.0          NaN         NaN   \n466282             0.0           0.0      73598.0          NaN         NaN   \n466283             0.0           0.0     591610.0          NaN         NaN   \n466284             0.0           0.0      57477.0          NaN         NaN   \n\n        open_il_12m  open_il_24m  mths_since_rcnt_il  total_bal_il  il_util  \\\n0               NaN          NaN                 NaN           NaN      NaN   \n1               NaN          NaN                 NaN           NaN      NaN   \n2               NaN          NaN                 NaN           NaN      NaN   \n3               NaN          NaN                 NaN           NaN      NaN   \n4               NaN          NaN                 NaN           NaN      NaN   \n...             ...          ...                 ...           ...      ...   \n466280          NaN          NaN                 NaN           NaN      NaN   \n466281          NaN          NaN                 NaN           NaN      NaN   \n466282          NaN          NaN                 NaN           NaN      NaN   \n466283          NaN          NaN                 NaN           NaN      NaN   \n466284          NaN          NaN                 NaN           NaN      NaN   \n\n        open_rv_12m  open_rv_24m  max_bal_bc  all_util  total_rev_hi_lim  \\\n0               NaN          NaN         NaN       NaN               NaN   \n1               NaN          NaN         NaN       NaN               NaN   \n2               NaN          NaN         NaN       NaN               NaN   \n3               NaN          NaN         NaN       NaN               NaN   \n4               NaN          NaN         NaN       NaN               NaN   \n...             ...          ...         ...       ...               ...   \n466280          NaN          NaN         NaN       NaN           29900.0   \n466281          NaN          NaN         NaN       NaN           39400.0   \n466282          NaN          NaN         NaN       NaN           13100.0   \n466283          NaN          NaN         NaN       NaN           53100.0   \n466284          NaN          NaN         NaN       NaN           16000.0   \n\n        inq_fi  total_cu_tl  inq_last_12m  \n0          NaN          NaN           NaN  \n1          NaN          NaN           NaN  \n2          NaN          NaN           NaN  \n3          NaN          NaN           NaN  \n4          NaN          NaN           NaN  \n...        ...          ...           ...  \n466280     NaN          NaN           NaN  \n466281     NaN          NaN           NaN  \n466282     NaN          NaN           NaN  \n466283     NaN          NaN           NaN  \n466284     NaN          NaN           NaN  \n\n[466285 rows x 75 columns]",
            "text/html": "<div>\n<style scoped>\n    .dataframe tbody tr th:only-of-type {\n        vertical-align: middle;\n    }\n\n    .dataframe tbody tr th {\n        vertical-align: top;\n    }\n\n    .dataframe thead th {\n        text-align: right;\n    }\n</style>\n<table border=\"1\" class=\"dataframe\">\n  <thead>\n    <tr style=\"text-align: right;\">\n      <th></th>\n      <th>Unnamed: 0</th>\n      <th>id</th>\n      <th>member_id</th>\n      <th>loan_amnt</th>\n      <th>funded_amnt</th>\n      <th>funded_amnt_inv</th>\n      <th>term</th>\n      <th>int_rate</th>\n      <th>installment</th>\n      <th>grade</th>\n      <th>sub_grade</th>\n      <th>emp_title</th>\n      <th>emp_length</th>\n      <th>home_ownership</th>\n      <th>annual_inc</th>\n      <th>verification_status</th>\n      <th>issue_d</th>\n      <th>loan_status</th>\n      <th>pymnt_plan</th>\n      <th>url</th>\n      <th>desc</th>\n      <th>purpose</th>\n      <th>title</th>\n      <th>zip_code</th>\n      <th>addr_state</th>\n      <th>dti</th>\n      <th>delinq_2yrs</th>\n      <th>earliest_cr_line</th>\n      <th>inq_last_6mths</th>\n      <th>mths_since_last_delinq</th>\n      <th>mths_since_last_record</th>\n      <th>open_acc</th>\n      <th>pub_rec</th>\n      <th>revol_bal</th>\n      <th>revol_util</th>\n      <th>total_acc</th>\n      <th>initial_list_status</th>\n      <th>out_prncp</th>\n      <th>out_prncp_inv</th>\n      <th>total_pymnt</th>\n      <th>total_pymnt_inv</th>\n      <th>total_rec_prncp</th>\n      <th>total_rec_int</th>\n      <th>total_rec_late_fee</th>\n      <th>recoveries</th>\n      <th>collection_recovery_fee</th>\n      <th>last_pymnt_d</th>\n      <th>last_pymnt_amnt</th>\n      <th>next_pymnt_d</th>\n      <th>last_credit_pull_d</th>\n      <th>collections_12_mths_ex_med</th>\n      <th>mths_since_last_major_derog</th>\n      <th>policy_code</th>\n      <th>application_type</th>\n      <th>annual_inc_joint</th>\n      <th>dti_joint</th>\n      <th>verification_status_joint</th>\n      <th>acc_now_delinq</th>\n      <th>tot_coll_amt</th>\n      <th>tot_cur_bal</th>\n      <th>open_acc_6m</th>\n      <th>open_il_6m</th>\n      <th>open_il_12m</th>\n      <th>open_il_24m</th>\n      <th>mths_since_rcnt_il</th>\n      <th>total_bal_il</th>\n      <th>il_util</th>\n      <th>open_rv_12m</th>\n      <th>open_rv_24m</th>\n      <th>max_bal_bc</th>\n      <th>all_util</th>\n      <th>total_rev_hi_lim</th>\n      <th>inq_fi</th>\n      <th>total_cu_tl</th>\n      <th>inq_last_12m</th>\n    </tr>\n  </thead>\n  <tbody>\n    <tr>\n      <th>0</th>\n      <td>0</td>\n      <td>1077501</td>\n      <td>1296599</td>\n      <td>5000</td>\n      <td>5000</td>\n      <td>4975.0</td>\n      <td>36 months</td>\n      <td>10.65</td>\n      <td>162.87</td>\n      <td>B</td>\n      <td>B2</td>\n      <td>NaN</td>\n      <td>10+ years</td>\n      <td>RENT</td>\n      <td>24000.0</td>\n      <td>Verified</td>\n      <td>Dec-11</td>\n      <td>Fully Paid</td>\n      <td>n</td>\n      <td>https://www.lendingclub.com/browse/loanDetail....</td>\n      <td>Borrower added on 12/22/11 &gt; I need to upgra...</td>\n      <td>credit_card</td>\n      <td>Computer</td>\n      <td>860xx</td>\n      <td>AZ</td>\n      <td>27.65</td>\n      <td>0.0</td>\n      <td>Jan-85</td>\n      <td>1.0</td>\n      <td>NaN</td>\n      <td>NaN</td>\n      <td>3.0</td>\n      <td>0.0</td>\n      <td>13648</td>\n      <td>83.7</td>\n      <td>9.0</td>\n      <td>f</td>\n      <td>0.00</td>\n      <td>0.00</td>\n      <td>5861.071414</td>\n      <td>5831.78</td>\n      <td>5000.00</td>\n      <td>861.07</td>\n      <td>0.00</td>\n      <td>0.00</td>\n      <td>0.00</td>\n      <td>Jan-15</td>\n      <td>171.62</td>\n      <td>NaN</td>\n      <td>Jan-16</td>\n      <td>0.0</td>\n      <td>NaN</td>\n      <td>1</td>\n      <td>INDIVIDUAL</td>\n      <td>NaN</td>\n      <td>NaN</td>\n      <td>NaN</td>\n      <td>0.0</td>\n      <td>NaN</td>\n      <td>NaN</td>\n      <td>NaN</td>\n      <td>NaN</td>\n      <td>NaN</td>\n      <td>NaN</td>\n      <td>NaN</td>\n      <td>NaN</td>\n      <td>NaN</td>\n      <td>NaN</td>\n      <td>NaN</td>\n      <td>NaN</td>\n      <td>NaN</td>\n      <td>NaN</td>\n      <td>NaN</td>\n      <td>NaN</td>\n      <td>NaN</td>\n    </tr>\n    <tr>\n      <th>1</th>\n      <td>1</td>\n      <td>1077430</td>\n      <td>1314167</td>\n      <td>2500</td>\n      <td>2500</td>\n      <td>2500.0</td>\n      <td>60 months</td>\n      <td>15.27</td>\n      <td>59.83</td>\n      <td>C</td>\n      <td>C4</td>\n      <td>Ryder</td>\n      <td>&lt; 1 year</td>\n      <td>RENT</td>\n      <td>30000.0</td>\n      <td>Source Verified</td>\n      <td>Dec-11</td>\n      <td>Charged Off</td>\n      <td>n</td>\n      <td>https://www.lendingclub.com/browse/loanDetail....</td>\n      <td>Borrower added on 12/22/11 &gt; I plan to use t...</td>\n      <td>car</td>\n      <td>bike</td>\n      <td>309xx</td>\n      <td>GA</td>\n      <td>1.00</td>\n      <td>0.0</td>\n      <td>Apr-99</td>\n      <td>5.0</td>\n      <td>NaN</td>\n      <td>NaN</td>\n      <td>3.0</td>\n      <td>0.0</td>\n      <td>1687</td>\n      <td>9.4</td>\n      <td>4.0</td>\n      <td>f</td>\n      <td>0.00</td>\n      <td>0.00</td>\n      <td>1008.710000</td>\n      <td>1008.71</td>\n      <td>456.46</td>\n      <td>435.17</td>\n      <td>0.00</td>\n      <td>117.08</td>\n      <td>1.11</td>\n      <td>Apr-13</td>\n      <td>119.66</td>\n      <td>NaN</td>\n      <td>Sep-13</td>\n      <td>0.0</td>\n      <td>NaN</td>\n      <td>1</td>\n      <td>INDIVIDUAL</td>\n      <td>NaN</td>\n      <td>NaN</td>\n      <td>NaN</td>\n      <td>0.0</td>\n      <td>NaN</td>\n      <td>NaN</td>\n      <td>NaN</td>\n      <td>NaN</td>\n      <td>NaN</td>\n      <td>NaN</td>\n      <td>NaN</td>\n      <td>NaN</td>\n      <td>NaN</td>\n      <td>NaN</td>\n      <td>NaN</td>\n      <td>NaN</td>\n      <td>NaN</td>\n      <td>NaN</td>\n      <td>NaN</td>\n      <td>NaN</td>\n      <td>NaN</td>\n    </tr>\n    <tr>\n      <th>2</th>\n      <td>2</td>\n      <td>1077175</td>\n      <td>1313524</td>\n      <td>2400</td>\n      <td>2400</td>\n      <td>2400.0</td>\n      <td>36 months</td>\n      <td>15.96</td>\n      <td>84.33</td>\n      <td>C</td>\n      <td>C5</td>\n      <td>NaN</td>\n      <td>10+ years</td>\n      <td>RENT</td>\n      <td>12252.0</td>\n      <td>Not Verified</td>\n      <td>Dec-11</td>\n      <td>Fully Paid</td>\n      <td>n</td>\n      <td>https://www.lendingclub.com/browse/loanDetail....</td>\n      <td>NaN</td>\n      <td>small_business</td>\n      <td>real estate business</td>\n      <td>606xx</td>\n      <td>IL</td>\n      <td>8.72</td>\n      <td>0.0</td>\n      <td>Nov-01</td>\n      <td>2.0</td>\n      <td>NaN</td>\n      <td>NaN</td>\n      <td>2.0</td>\n      <td>0.0</td>\n      <td>2956</td>\n      <td>98.5</td>\n      <td>10.0</td>\n      <td>f</td>\n      <td>0.00</td>\n      <td>0.00</td>\n      <td>3003.653644</td>\n      <td>3003.65</td>\n      <td>2400.00</td>\n      <td>603.65</td>\n      <td>0.00</td>\n      <td>0.00</td>\n      <td>0.00</td>\n      <td>Jun-14</td>\n      <td>649.91</td>\n      <td>NaN</td>\n      <td>Jan-16</td>\n      <td>0.0</td>\n      <td>NaN</td>\n      <td>1</td>\n      <td>INDIVIDUAL</td>\n      <td>NaN</td>\n      <td>NaN</td>\n      <td>NaN</td>\n      <td>0.0</td>\n      <td>NaN</td>\n      <td>NaN</td>\n      <td>NaN</td>\n      <td>NaN</td>\n      <td>NaN</td>\n      <td>NaN</td>\n      <td>NaN</td>\n      <td>NaN</td>\n      <td>NaN</td>\n      <td>NaN</td>\n      <td>NaN</td>\n      <td>NaN</td>\n      <td>NaN</td>\n      <td>NaN</td>\n      <td>NaN</td>\n      <td>NaN</td>\n      <td>NaN</td>\n    </tr>\n    <tr>\n      <th>3</th>\n      <td>3</td>\n      <td>1076863</td>\n      <td>1277178</td>\n      <td>10000</td>\n      <td>10000</td>\n      <td>10000.0</td>\n      <td>36 months</td>\n      <td>13.49</td>\n      <td>339.31</td>\n      <td>C</td>\n      <td>C1</td>\n      <td>AIR RESOURCES BOARD</td>\n      <td>10+ years</td>\n      <td>RENT</td>\n      <td>49200.0</td>\n      <td>Source Verified</td>\n      <td>Dec-11</td>\n      <td>Fully Paid</td>\n      <td>n</td>\n      <td>https://www.lendingclub.com/browse/loanDetail....</td>\n      <td>Borrower added on 12/21/11 &gt; to pay for prop...</td>\n      <td>other</td>\n      <td>personel</td>\n      <td>917xx</td>\n      <td>CA</td>\n      <td>20.00</td>\n      <td>0.0</td>\n      <td>Feb-96</td>\n      <td>1.0</td>\n      <td>35.0</td>\n      <td>NaN</td>\n      <td>10.0</td>\n      <td>0.0</td>\n      <td>5598</td>\n      <td>21.0</td>\n      <td>37.0</td>\n      <td>f</td>\n      <td>0.00</td>\n      <td>0.00</td>\n      <td>12226.302210</td>\n      <td>12226.30</td>\n      <td>10000.00</td>\n      <td>2209.33</td>\n      <td>16.97</td>\n      <td>0.00</td>\n      <td>0.00</td>\n      <td>Jan-15</td>\n      <td>357.48</td>\n      <td>NaN</td>\n      <td>Jan-15</td>\n      <td>0.0</td>\n      <td>NaN</td>\n      <td>1</td>\n      <td>INDIVIDUAL</td>\n      <td>NaN</td>\n      <td>NaN</td>\n      <td>NaN</td>\n      <td>0.0</td>\n      <td>NaN</td>\n      <td>NaN</td>\n      <td>NaN</td>\n      <td>NaN</td>\n      <td>NaN</td>\n      <td>NaN</td>\n      <td>NaN</td>\n      <td>NaN</td>\n      <td>NaN</td>\n      <td>NaN</td>\n      <td>NaN</td>\n      <td>NaN</td>\n      <td>NaN</td>\n      <td>NaN</td>\n      <td>NaN</td>\n      <td>NaN</td>\n      <td>NaN</td>\n    </tr>\n    <tr>\n      <th>4</th>\n      <td>4</td>\n      <td>1075358</td>\n      <td>1311748</td>\n      <td>3000</td>\n      <td>3000</td>\n      <td>3000.0</td>\n      <td>60 months</td>\n      <td>12.69</td>\n      <td>67.79</td>\n      <td>B</td>\n      <td>B5</td>\n      <td>University Medical Group</td>\n      <td>1 year</td>\n      <td>RENT</td>\n      <td>80000.0</td>\n      <td>Source Verified</td>\n      <td>Dec-11</td>\n      <td>Current</td>\n      <td>n</td>\n      <td>https://www.lendingclub.com/browse/loanDetail....</td>\n      <td>Borrower added on 12/21/11 &gt; I plan on combi...</td>\n      <td>other</td>\n      <td>Personal</td>\n      <td>972xx</td>\n      <td>OR</td>\n      <td>17.94</td>\n      <td>0.0</td>\n      <td>Jan-96</td>\n      <td>0.0</td>\n      <td>38.0</td>\n      <td>NaN</td>\n      <td>15.0</td>\n      <td>0.0</td>\n      <td>27783</td>\n      <td>53.9</td>\n      <td>38.0</td>\n      <td>f</td>\n      <td>766.90</td>\n      <td>766.90</td>\n      <td>3242.170000</td>\n      <td>3242.17</td>\n      <td>2233.10</td>\n      <td>1009.07</td>\n      <td>0.00</td>\n      <td>0.00</td>\n      <td>0.00</td>\n      <td>Jan-16</td>\n      <td>67.79</td>\n      <td>Feb-16</td>\n      <td>Jan-16</td>\n      <td>0.0</td>\n      <td>NaN</td>\n      <td>1</td>\n      <td>INDIVIDUAL</td>\n      <td>NaN</td>\n      <td>NaN</td>\n      <td>NaN</td>\n      <td>0.0</td>\n      <td>NaN</td>\n      <td>NaN</td>\n      <td>NaN</td>\n      <td>NaN</td>\n      <td>NaN</td>\n      <td>NaN</td>\n      <td>NaN</td>\n      <td>NaN</td>\n      <td>NaN</td>\n      <td>NaN</td>\n      <td>NaN</td>\n      <td>NaN</td>\n      <td>NaN</td>\n      <td>NaN</td>\n      <td>NaN</td>\n      <td>NaN</td>\n      <td>NaN</td>\n    </tr>\n    <tr>\n      <th>...</th>\n      <td>...</td>\n      <td>...</td>\n      <td>...</td>\n      <td>...</td>\n      <td>...</td>\n      <td>...</td>\n      <td>...</td>\n      <td>...</td>\n      <td>...</td>\n      <td>...</td>\n      <td>...</td>\n      <td>...</td>\n      <td>...</td>\n      <td>...</td>\n      <td>...</td>\n      <td>...</td>\n      <td>...</td>\n      <td>...</td>\n      <td>...</td>\n      <td>...</td>\n      <td>...</td>\n      <td>...</td>\n      <td>...</td>\n      <td>...</td>\n      <td>...</td>\n      <td>...</td>\n      <td>...</td>\n      <td>...</td>\n      <td>...</td>\n      <td>...</td>\n      <td>...</td>\n      <td>...</td>\n      <td>...</td>\n      <td>...</td>\n      <td>...</td>\n      <td>...</td>\n      <td>...</td>\n      <td>...</td>\n      <td>...</td>\n      <td>...</td>\n      <td>...</td>\n      <td>...</td>\n      <td>...</td>\n      <td>...</td>\n      <td>...</td>\n      <td>...</td>\n      <td>...</td>\n      <td>...</td>\n      <td>...</td>\n      <td>...</td>\n      <td>...</td>\n      <td>...</td>\n      <td>...</td>\n      <td>...</td>\n      <td>...</td>\n      <td>...</td>\n      <td>...</td>\n      <td>...</td>\n      <td>...</td>\n      <td>...</td>\n      <td>...</td>\n      <td>...</td>\n      <td>...</td>\n      <td>...</td>\n      <td>...</td>\n      <td>...</td>\n      <td>...</td>\n      <td>...</td>\n      <td>...</td>\n      <td>...</td>\n      <td>...</td>\n      <td>...</td>\n      <td>...</td>\n      <td>...</td>\n      <td>...</td>\n    </tr>\n    <tr>\n      <th>466280</th>\n      <td>466280</td>\n      <td>8598660</td>\n      <td>1440975</td>\n      <td>18400</td>\n      <td>18400</td>\n      <td>18400.0</td>\n      <td>60 months</td>\n      <td>14.47</td>\n      <td>432.64</td>\n      <td>C</td>\n      <td>C2</td>\n      <td>Financial Advisor</td>\n      <td>4 years</td>\n      <td>MORTGAGE</td>\n      <td>110000.0</td>\n      <td>Source Verified</td>\n      <td>Jan-14</td>\n      <td>Current</td>\n      <td>n</td>\n      <td>https://www.lendingclub.com/browse/loanDetail....</td>\n      <td>NaN</td>\n      <td>debt_consolidation</td>\n      <td>Debt consolidation</td>\n      <td>773xx</td>\n      <td>TX</td>\n      <td>19.85</td>\n      <td>0.0</td>\n      <td>Apr-03</td>\n      <td>2.0</td>\n      <td>NaN</td>\n      <td>NaN</td>\n      <td>18.0</td>\n      <td>0.0</td>\n      <td>23208</td>\n      <td>77.6</td>\n      <td>36.0</td>\n      <td>w</td>\n      <td>12574.00</td>\n      <td>12574.00</td>\n      <td>10383.360000</td>\n      <td>10383.36</td>\n      <td>5826.00</td>\n      <td>4557.36</td>\n      <td>0.00</td>\n      <td>0.00</td>\n      <td>0.00</td>\n      <td>Jan-16</td>\n      <td>432.64</td>\n      <td>Feb-16</td>\n      <td>Jan-16</td>\n      <td>0.0</td>\n      <td>NaN</td>\n      <td>1</td>\n      <td>INDIVIDUAL</td>\n      <td>NaN</td>\n      <td>NaN</td>\n      <td>NaN</td>\n      <td>0.0</td>\n      <td>0.0</td>\n      <td>294998.0</td>\n      <td>NaN</td>\n      <td>NaN</td>\n      <td>NaN</td>\n      <td>NaN</td>\n      <td>NaN</td>\n      <td>NaN</td>\n      <td>NaN</td>\n      <td>NaN</td>\n      <td>NaN</td>\n      <td>NaN</td>\n      <td>NaN</td>\n      <td>29900.0</td>\n      <td>NaN</td>\n      <td>NaN</td>\n      <td>NaN</td>\n    </tr>\n    <tr>\n      <th>466281</th>\n      <td>466281</td>\n      <td>9684700</td>\n      <td>11536848</td>\n      <td>22000</td>\n      <td>22000</td>\n      <td>22000.0</td>\n      <td>60 months</td>\n      <td>19.97</td>\n      <td>582.50</td>\n      <td>D</td>\n      <td>D5</td>\n      <td>Chief of Interpretation (Park Ranger)</td>\n      <td>10+ years</td>\n      <td>MORTGAGE</td>\n      <td>78000.0</td>\n      <td>Verified</td>\n      <td>Jan-14</td>\n      <td>Charged Off</td>\n      <td>n</td>\n      <td>https://www.lendingclub.com/browse/loanDetail....</td>\n      <td>NaN</td>\n      <td>debt_consolidation</td>\n      <td>Debt consolidation</td>\n      <td>377xx</td>\n      <td>TN</td>\n      <td>18.45</td>\n      <td>0.0</td>\n      <td>Jun-97</td>\n      <td>5.0</td>\n      <td>NaN</td>\n      <td>116.0</td>\n      <td>18.0</td>\n      <td>1.0</td>\n      <td>18238</td>\n      <td>46.3</td>\n      <td>30.0</td>\n      <td>f</td>\n      <td>0.00</td>\n      <td>0.00</td>\n      <td>4677.920000</td>\n      <td>4677.92</td>\n      <td>1837.04</td>\n      <td>2840.88</td>\n      <td>0.00</td>\n      <td>0.00</td>\n      <td>0.00</td>\n      <td>Dec-14</td>\n      <td>17.50</td>\n      <td>NaN</td>\n      <td>Jan-16</td>\n      <td>0.0</td>\n      <td>NaN</td>\n      <td>1</td>\n      <td>INDIVIDUAL</td>\n      <td>NaN</td>\n      <td>NaN</td>\n      <td>NaN</td>\n      <td>0.0</td>\n      <td>0.0</td>\n      <td>221830.0</td>\n      <td>NaN</td>\n      <td>NaN</td>\n      <td>NaN</td>\n      <td>NaN</td>\n      <td>NaN</td>\n      <td>NaN</td>\n      <td>NaN</td>\n      <td>NaN</td>\n      <td>NaN</td>\n      <td>NaN</td>\n      <td>NaN</td>\n      <td>39400.0</td>\n      <td>NaN</td>\n      <td>NaN</td>\n      <td>NaN</td>\n    </tr>\n    <tr>\n      <th>466282</th>\n      <td>466282</td>\n      <td>9584776</td>\n      <td>11436914</td>\n      <td>20700</td>\n      <td>20700</td>\n      <td>20700.0</td>\n      <td>60 months</td>\n      <td>16.99</td>\n      <td>514.34</td>\n      <td>D</td>\n      <td>D1</td>\n      <td>patrol</td>\n      <td>7 years</td>\n      <td>MORTGAGE</td>\n      <td>46000.0</td>\n      <td>Verified</td>\n      <td>Jan-14</td>\n      <td>Current</td>\n      <td>n</td>\n      <td>https://www.lendingclub.com/browse/loanDetail....</td>\n      <td>Borrower added on 12/06/13 &gt; I am going to c...</td>\n      <td>debt_consolidation</td>\n      <td>Debt consolidation</td>\n      <td>458xx</td>\n      <td>OH</td>\n      <td>25.65</td>\n      <td>0.0</td>\n      <td>Dec-01</td>\n      <td>2.0</td>\n      <td>65.0</td>\n      <td>NaN</td>\n      <td>18.0</td>\n      <td>0.0</td>\n      <td>6688</td>\n      <td>51.1</td>\n      <td>43.0</td>\n      <td>f</td>\n      <td>14428.31</td>\n      <td>14428.31</td>\n      <td>12343.980000</td>\n      <td>12343.98</td>\n      <td>6271.69</td>\n      <td>6072.29</td>\n      <td>0.00</td>\n      <td>0.00</td>\n      <td>0.00</td>\n      <td>Jan-16</td>\n      <td>514.34</td>\n      <td>Feb-16</td>\n      <td>Dec-15</td>\n      <td>0.0</td>\n      <td>NaN</td>\n      <td>1</td>\n      <td>INDIVIDUAL</td>\n      <td>NaN</td>\n      <td>NaN</td>\n      <td>NaN</td>\n      <td>0.0</td>\n      <td>0.0</td>\n      <td>73598.0</td>\n      <td>NaN</td>\n      <td>NaN</td>\n      <td>NaN</td>\n      <td>NaN</td>\n      <td>NaN</td>\n      <td>NaN</td>\n      <td>NaN</td>\n      <td>NaN</td>\n      <td>NaN</td>\n      <td>NaN</td>\n      <td>NaN</td>\n      <td>13100.0</td>\n      <td>NaN</td>\n      <td>NaN</td>\n      <td>NaN</td>\n    </tr>\n    <tr>\n      <th>466283</th>\n      <td>466283</td>\n      <td>9604874</td>\n      <td>11457002</td>\n      <td>2000</td>\n      <td>2000</td>\n      <td>2000.0</td>\n      <td>36 months</td>\n      <td>7.90</td>\n      <td>62.59</td>\n      <td>A</td>\n      <td>A4</td>\n      <td>Server Engineer Lead</td>\n      <td>3 years</td>\n      <td>OWN</td>\n      <td>83000.0</td>\n      <td>Verified</td>\n      <td>Jan-14</td>\n      <td>Fully Paid</td>\n      <td>n</td>\n      <td>https://www.lendingclub.com/browse/loanDetail....</td>\n      <td>NaN</td>\n      <td>credit_card</td>\n      <td>Credit card refinancing</td>\n      <td>913xx</td>\n      <td>CA</td>\n      <td>5.39</td>\n      <td>3.0</td>\n      <td>Feb-03</td>\n      <td>1.0</td>\n      <td>13.0</td>\n      <td>NaN</td>\n      <td>21.0</td>\n      <td>0.0</td>\n      <td>11404</td>\n      <td>21.5</td>\n      <td>27.0</td>\n      <td>w</td>\n      <td>0.00</td>\n      <td>0.00</td>\n      <td>2126.579838</td>\n      <td>2126.58</td>\n      <td>2000.00</td>\n      <td>126.58</td>\n      <td>0.00</td>\n      <td>0.00</td>\n      <td>0.00</td>\n      <td>Dec-14</td>\n      <td>1500.68</td>\n      <td>NaN</td>\n      <td>Apr-15</td>\n      <td>0.0</td>\n      <td>NaN</td>\n      <td>1</td>\n      <td>INDIVIDUAL</td>\n      <td>NaN</td>\n      <td>NaN</td>\n      <td>NaN</td>\n      <td>0.0</td>\n      <td>0.0</td>\n      <td>591610.0</td>\n      <td>NaN</td>\n      <td>NaN</td>\n      <td>NaN</td>\n      <td>NaN</td>\n      <td>NaN</td>\n      <td>NaN</td>\n      <td>NaN</td>\n      <td>NaN</td>\n      <td>NaN</td>\n      <td>NaN</td>\n      <td>NaN</td>\n      <td>53100.0</td>\n      <td>NaN</td>\n      <td>NaN</td>\n      <td>NaN</td>\n    </tr>\n    <tr>\n      <th>466284</th>\n      <td>466284</td>\n      <td>9199665</td>\n      <td>11061576</td>\n      <td>10000</td>\n      <td>10000</td>\n      <td>9975.0</td>\n      <td>36 months</td>\n      <td>19.20</td>\n      <td>367.58</td>\n      <td>D</td>\n      <td>D3</td>\n      <td>NaN</td>\n      <td>10+ years</td>\n      <td>MORTGAGE</td>\n      <td>46000.0</td>\n      <td>Verified</td>\n      <td>Jan-14</td>\n      <td>Current</td>\n      <td>n</td>\n      <td>https://www.lendingclub.com/browse/loanDetail....</td>\n      <td>Borrower added on 12/04/13 &gt; I will like a l...</td>\n      <td>other</td>\n      <td>Other</td>\n      <td>950xx</td>\n      <td>CA</td>\n      <td>22.78</td>\n      <td>1.0</td>\n      <td>Feb-00</td>\n      <td>0.0</td>\n      <td>9.0</td>\n      <td>NaN</td>\n      <td>6.0</td>\n      <td>0.0</td>\n      <td>11325</td>\n      <td>70.8</td>\n      <td>22.0</td>\n      <td>f</td>\n      <td>3984.38</td>\n      <td>3974.41</td>\n      <td>8821.620000</td>\n      <td>8799.57</td>\n      <td>6015.62</td>\n      <td>2806.00</td>\n      <td>0.00</td>\n      <td>0.00</td>\n      <td>0.00</td>\n      <td>Jan-16</td>\n      <td>367.58</td>\n      <td>Feb-16</td>\n      <td>Jan-16</td>\n      <td>0.0</td>\n      <td>NaN</td>\n      <td>1</td>\n      <td>INDIVIDUAL</td>\n      <td>NaN</td>\n      <td>NaN</td>\n      <td>NaN</td>\n      <td>0.0</td>\n      <td>0.0</td>\n      <td>57477.0</td>\n      <td>NaN</td>\n      <td>NaN</td>\n      <td>NaN</td>\n      <td>NaN</td>\n      <td>NaN</td>\n      <td>NaN</td>\n      <td>NaN</td>\n      <td>NaN</td>\n      <td>NaN</td>\n      <td>NaN</td>\n      <td>NaN</td>\n      <td>16000.0</td>\n      <td>NaN</td>\n      <td>NaN</td>\n      <td>NaN</td>\n    </tr>\n  </tbody>\n</table>\n<p>466285 rows × 75 columns</p>\n</div>"
          },
          "metadata": {}
        }
      ]
    },
    {
      "cell_type": "code",
      "source": [
        "loan_data.head()"
      ],
      "metadata": {
        "execution": {
          "iopub.status.busy": "2024-10-16T15:40:58.433740Z",
          "iopub.execute_input": "2024-10-16T15:40:58.434194Z",
          "iopub.status.idle": "2024-10-16T15:40:58.492571Z",
          "shell.execute_reply.started": "2024-10-16T15:40:58.434150Z",
          "shell.execute_reply": "2024-10-16T15:40:58.491519Z"
        },
        "trusted": true,
        "id": "7pTcNhpx52z0",
        "outputId": "ceb35729-2d81-418a-ad4a-94f130199446"
      },
      "execution_count": null,
      "outputs": [
        {
          "execution_count": 9,
          "output_type": "execute_result",
          "data": {
            "text/plain": "   Unnamed: 0       id  member_id  loan_amnt  funded_amnt  funded_amnt_inv  \\\n0           0  1077501    1296599       5000         5000           4975.0   \n1           1  1077430    1314167       2500         2500           2500.0   \n2           2  1077175    1313524       2400         2400           2400.0   \n3           3  1076863    1277178      10000        10000          10000.0   \n4           4  1075358    1311748       3000         3000           3000.0   \n\n         term  int_rate  installment grade sub_grade  \\\n0   36 months     10.65       162.87     B        B2   \n1   60 months     15.27        59.83     C        C4   \n2   36 months     15.96        84.33     C        C5   \n3   36 months     13.49       339.31     C        C1   \n4   60 months     12.69        67.79     B        B5   \n\n                  emp_title emp_length home_ownership  annual_inc  \\\n0                       NaN  10+ years           RENT     24000.0   \n1                     Ryder   < 1 year           RENT     30000.0   \n2                       NaN  10+ years           RENT     12252.0   \n3       AIR RESOURCES BOARD  10+ years           RENT     49200.0   \n4  University Medical Group     1 year           RENT     80000.0   \n\n  verification_status issue_d  loan_status pymnt_plan  \\\n0            Verified  Dec-11   Fully Paid          n   \n1     Source Verified  Dec-11  Charged Off          n   \n2        Not Verified  Dec-11   Fully Paid          n   \n3     Source Verified  Dec-11   Fully Paid          n   \n4     Source Verified  Dec-11      Current          n   \n\n                                                 url  \\\n0  https://www.lendingclub.com/browse/loanDetail....   \n1  https://www.lendingclub.com/browse/loanDetail....   \n2  https://www.lendingclub.com/browse/loanDetail....   \n3  https://www.lendingclub.com/browse/loanDetail....   \n4  https://www.lendingclub.com/browse/loanDetail....   \n\n                                                desc         purpose  \\\n0    Borrower added on 12/22/11 > I need to upgra...     credit_card   \n1    Borrower added on 12/22/11 > I plan to use t...             car   \n2                                                NaN  small_business   \n3    Borrower added on 12/21/11 > to pay for prop...           other   \n4    Borrower added on 12/21/11 > I plan on combi...           other   \n\n                  title zip_code addr_state    dti  delinq_2yrs  \\\n0              Computer    860xx         AZ  27.65          0.0   \n1                  bike    309xx         GA   1.00          0.0   \n2  real estate business    606xx         IL   8.72          0.0   \n3              personel    917xx         CA  20.00          0.0   \n4              Personal    972xx         OR  17.94          0.0   \n\n  earliest_cr_line  inq_last_6mths  mths_since_last_delinq  \\\n0           Jan-85             1.0                     NaN   \n1           Apr-99             5.0                     NaN   \n2           Nov-01             2.0                     NaN   \n3           Feb-96             1.0                    35.0   \n4           Jan-96             0.0                    38.0   \n\n   mths_since_last_record  open_acc  pub_rec  revol_bal  revol_util  \\\n0                     NaN       3.0      0.0      13648        83.7   \n1                     NaN       3.0      0.0       1687         9.4   \n2                     NaN       2.0      0.0       2956        98.5   \n3                     NaN      10.0      0.0       5598        21.0   \n4                     NaN      15.0      0.0      27783        53.9   \n\n   total_acc initial_list_status  out_prncp  out_prncp_inv   total_pymnt  \\\n0        9.0                   f        0.0            0.0   5861.071414   \n1        4.0                   f        0.0            0.0   1008.710000   \n2       10.0                   f        0.0            0.0   3003.653644   \n3       37.0                   f        0.0            0.0  12226.302210   \n4       38.0                   f      766.9          766.9   3242.170000   \n\n   total_pymnt_inv  total_rec_prncp  total_rec_int  total_rec_late_fee  \\\n0          5831.78          5000.00         861.07                0.00   \n1          1008.71           456.46         435.17                0.00   \n2          3003.65          2400.00         603.65                0.00   \n3         12226.30         10000.00        2209.33               16.97   \n4          3242.17          2233.10        1009.07                0.00   \n\n   recoveries  collection_recovery_fee last_pymnt_d  last_pymnt_amnt  \\\n0        0.00                     0.00       Jan-15           171.62   \n1      117.08                     1.11       Apr-13           119.66   \n2        0.00                     0.00       Jun-14           649.91   \n3        0.00                     0.00       Jan-15           357.48   \n4        0.00                     0.00       Jan-16            67.79   \n\n  next_pymnt_d last_credit_pull_d  collections_12_mths_ex_med  \\\n0          NaN             Jan-16                         0.0   \n1          NaN             Sep-13                         0.0   \n2          NaN             Jan-16                         0.0   \n3          NaN             Jan-15                         0.0   \n4       Feb-16             Jan-16                         0.0   \n\n   mths_since_last_major_derog  policy_code application_type  \\\n0                          NaN            1       INDIVIDUAL   \n1                          NaN            1       INDIVIDUAL   \n2                          NaN            1       INDIVIDUAL   \n3                          NaN            1       INDIVIDUAL   \n4                          NaN            1       INDIVIDUAL   \n\n   annual_inc_joint  dti_joint  verification_status_joint  acc_now_delinq  \\\n0               NaN        NaN                        NaN             0.0   \n1               NaN        NaN                        NaN             0.0   \n2               NaN        NaN                        NaN             0.0   \n3               NaN        NaN                        NaN             0.0   \n4               NaN        NaN                        NaN             0.0   \n\n   tot_coll_amt  tot_cur_bal  open_acc_6m  open_il_6m  open_il_12m  \\\n0           NaN          NaN          NaN         NaN          NaN   \n1           NaN          NaN          NaN         NaN          NaN   \n2           NaN          NaN          NaN         NaN          NaN   \n3           NaN          NaN          NaN         NaN          NaN   \n4           NaN          NaN          NaN         NaN          NaN   \n\n   open_il_24m  mths_since_rcnt_il  total_bal_il  il_util  open_rv_12m  \\\n0          NaN                 NaN           NaN      NaN          NaN   \n1          NaN                 NaN           NaN      NaN          NaN   \n2          NaN                 NaN           NaN      NaN          NaN   \n3          NaN                 NaN           NaN      NaN          NaN   \n4          NaN                 NaN           NaN      NaN          NaN   \n\n   open_rv_24m  max_bal_bc  all_util  total_rev_hi_lim  inq_fi  total_cu_tl  \\\n0          NaN         NaN       NaN               NaN     NaN          NaN   \n1          NaN         NaN       NaN               NaN     NaN          NaN   \n2          NaN         NaN       NaN               NaN     NaN          NaN   \n3          NaN         NaN       NaN               NaN     NaN          NaN   \n4          NaN         NaN       NaN               NaN     NaN          NaN   \n\n   inq_last_12m  \n0           NaN  \n1           NaN  \n2           NaN  \n3           NaN  \n4           NaN  ",
            "text/html": "<div>\n<style scoped>\n    .dataframe tbody tr th:only-of-type {\n        vertical-align: middle;\n    }\n\n    .dataframe tbody tr th {\n        vertical-align: top;\n    }\n\n    .dataframe thead th {\n        text-align: right;\n    }\n</style>\n<table border=\"1\" class=\"dataframe\">\n  <thead>\n    <tr style=\"text-align: right;\">\n      <th></th>\n      <th>Unnamed: 0</th>\n      <th>id</th>\n      <th>member_id</th>\n      <th>loan_amnt</th>\n      <th>funded_amnt</th>\n      <th>funded_amnt_inv</th>\n      <th>term</th>\n      <th>int_rate</th>\n      <th>installment</th>\n      <th>grade</th>\n      <th>sub_grade</th>\n      <th>emp_title</th>\n      <th>emp_length</th>\n      <th>home_ownership</th>\n      <th>annual_inc</th>\n      <th>verification_status</th>\n      <th>issue_d</th>\n      <th>loan_status</th>\n      <th>pymnt_plan</th>\n      <th>url</th>\n      <th>desc</th>\n      <th>purpose</th>\n      <th>title</th>\n      <th>zip_code</th>\n      <th>addr_state</th>\n      <th>dti</th>\n      <th>delinq_2yrs</th>\n      <th>earliest_cr_line</th>\n      <th>inq_last_6mths</th>\n      <th>mths_since_last_delinq</th>\n      <th>mths_since_last_record</th>\n      <th>open_acc</th>\n      <th>pub_rec</th>\n      <th>revol_bal</th>\n      <th>revol_util</th>\n      <th>total_acc</th>\n      <th>initial_list_status</th>\n      <th>out_prncp</th>\n      <th>out_prncp_inv</th>\n      <th>total_pymnt</th>\n      <th>total_pymnt_inv</th>\n      <th>total_rec_prncp</th>\n      <th>total_rec_int</th>\n      <th>total_rec_late_fee</th>\n      <th>recoveries</th>\n      <th>collection_recovery_fee</th>\n      <th>last_pymnt_d</th>\n      <th>last_pymnt_amnt</th>\n      <th>next_pymnt_d</th>\n      <th>last_credit_pull_d</th>\n      <th>collections_12_mths_ex_med</th>\n      <th>mths_since_last_major_derog</th>\n      <th>policy_code</th>\n      <th>application_type</th>\n      <th>annual_inc_joint</th>\n      <th>dti_joint</th>\n      <th>verification_status_joint</th>\n      <th>acc_now_delinq</th>\n      <th>tot_coll_amt</th>\n      <th>tot_cur_bal</th>\n      <th>open_acc_6m</th>\n      <th>open_il_6m</th>\n      <th>open_il_12m</th>\n      <th>open_il_24m</th>\n      <th>mths_since_rcnt_il</th>\n      <th>total_bal_il</th>\n      <th>il_util</th>\n      <th>open_rv_12m</th>\n      <th>open_rv_24m</th>\n      <th>max_bal_bc</th>\n      <th>all_util</th>\n      <th>total_rev_hi_lim</th>\n      <th>inq_fi</th>\n      <th>total_cu_tl</th>\n      <th>inq_last_12m</th>\n    </tr>\n  </thead>\n  <tbody>\n    <tr>\n      <th>0</th>\n      <td>0</td>\n      <td>1077501</td>\n      <td>1296599</td>\n      <td>5000</td>\n      <td>5000</td>\n      <td>4975.0</td>\n      <td>36 months</td>\n      <td>10.65</td>\n      <td>162.87</td>\n      <td>B</td>\n      <td>B2</td>\n      <td>NaN</td>\n      <td>10+ years</td>\n      <td>RENT</td>\n      <td>24000.0</td>\n      <td>Verified</td>\n      <td>Dec-11</td>\n      <td>Fully Paid</td>\n      <td>n</td>\n      <td>https://www.lendingclub.com/browse/loanDetail....</td>\n      <td>Borrower added on 12/22/11 &gt; I need to upgra...</td>\n      <td>credit_card</td>\n      <td>Computer</td>\n      <td>860xx</td>\n      <td>AZ</td>\n      <td>27.65</td>\n      <td>0.0</td>\n      <td>Jan-85</td>\n      <td>1.0</td>\n      <td>NaN</td>\n      <td>NaN</td>\n      <td>3.0</td>\n      <td>0.0</td>\n      <td>13648</td>\n      <td>83.7</td>\n      <td>9.0</td>\n      <td>f</td>\n      <td>0.0</td>\n      <td>0.0</td>\n      <td>5861.071414</td>\n      <td>5831.78</td>\n      <td>5000.00</td>\n      <td>861.07</td>\n      <td>0.00</td>\n      <td>0.00</td>\n      <td>0.00</td>\n      <td>Jan-15</td>\n      <td>171.62</td>\n      <td>NaN</td>\n      <td>Jan-16</td>\n      <td>0.0</td>\n      <td>NaN</td>\n      <td>1</td>\n      <td>INDIVIDUAL</td>\n      <td>NaN</td>\n      <td>NaN</td>\n      <td>NaN</td>\n      <td>0.0</td>\n      <td>NaN</td>\n      <td>NaN</td>\n      <td>NaN</td>\n      <td>NaN</td>\n      <td>NaN</td>\n      <td>NaN</td>\n      <td>NaN</td>\n      <td>NaN</td>\n      <td>NaN</td>\n      <td>NaN</td>\n      <td>NaN</td>\n      <td>NaN</td>\n      <td>NaN</td>\n      <td>NaN</td>\n      <td>NaN</td>\n      <td>NaN</td>\n      <td>NaN</td>\n    </tr>\n    <tr>\n      <th>1</th>\n      <td>1</td>\n      <td>1077430</td>\n      <td>1314167</td>\n      <td>2500</td>\n      <td>2500</td>\n      <td>2500.0</td>\n      <td>60 months</td>\n      <td>15.27</td>\n      <td>59.83</td>\n      <td>C</td>\n      <td>C4</td>\n      <td>Ryder</td>\n      <td>&lt; 1 year</td>\n      <td>RENT</td>\n      <td>30000.0</td>\n      <td>Source Verified</td>\n      <td>Dec-11</td>\n      <td>Charged Off</td>\n      <td>n</td>\n      <td>https://www.lendingclub.com/browse/loanDetail....</td>\n      <td>Borrower added on 12/22/11 &gt; I plan to use t...</td>\n      <td>car</td>\n      <td>bike</td>\n      <td>309xx</td>\n      <td>GA</td>\n      <td>1.00</td>\n      <td>0.0</td>\n      <td>Apr-99</td>\n      <td>5.0</td>\n      <td>NaN</td>\n      <td>NaN</td>\n      <td>3.0</td>\n      <td>0.0</td>\n      <td>1687</td>\n      <td>9.4</td>\n      <td>4.0</td>\n      <td>f</td>\n      <td>0.0</td>\n      <td>0.0</td>\n      <td>1008.710000</td>\n      <td>1008.71</td>\n      <td>456.46</td>\n      <td>435.17</td>\n      <td>0.00</td>\n      <td>117.08</td>\n      <td>1.11</td>\n      <td>Apr-13</td>\n      <td>119.66</td>\n      <td>NaN</td>\n      <td>Sep-13</td>\n      <td>0.0</td>\n      <td>NaN</td>\n      <td>1</td>\n      <td>INDIVIDUAL</td>\n      <td>NaN</td>\n      <td>NaN</td>\n      <td>NaN</td>\n      <td>0.0</td>\n      <td>NaN</td>\n      <td>NaN</td>\n      <td>NaN</td>\n      <td>NaN</td>\n      <td>NaN</td>\n      <td>NaN</td>\n      <td>NaN</td>\n      <td>NaN</td>\n      <td>NaN</td>\n      <td>NaN</td>\n      <td>NaN</td>\n      <td>NaN</td>\n      <td>NaN</td>\n      <td>NaN</td>\n      <td>NaN</td>\n      <td>NaN</td>\n      <td>NaN</td>\n    </tr>\n    <tr>\n      <th>2</th>\n      <td>2</td>\n      <td>1077175</td>\n      <td>1313524</td>\n      <td>2400</td>\n      <td>2400</td>\n      <td>2400.0</td>\n      <td>36 months</td>\n      <td>15.96</td>\n      <td>84.33</td>\n      <td>C</td>\n      <td>C5</td>\n      <td>NaN</td>\n      <td>10+ years</td>\n      <td>RENT</td>\n      <td>12252.0</td>\n      <td>Not Verified</td>\n      <td>Dec-11</td>\n      <td>Fully Paid</td>\n      <td>n</td>\n      <td>https://www.lendingclub.com/browse/loanDetail....</td>\n      <td>NaN</td>\n      <td>small_business</td>\n      <td>real estate business</td>\n      <td>606xx</td>\n      <td>IL</td>\n      <td>8.72</td>\n      <td>0.0</td>\n      <td>Nov-01</td>\n      <td>2.0</td>\n      <td>NaN</td>\n      <td>NaN</td>\n      <td>2.0</td>\n      <td>0.0</td>\n      <td>2956</td>\n      <td>98.5</td>\n      <td>10.0</td>\n      <td>f</td>\n      <td>0.0</td>\n      <td>0.0</td>\n      <td>3003.653644</td>\n      <td>3003.65</td>\n      <td>2400.00</td>\n      <td>603.65</td>\n      <td>0.00</td>\n      <td>0.00</td>\n      <td>0.00</td>\n      <td>Jun-14</td>\n      <td>649.91</td>\n      <td>NaN</td>\n      <td>Jan-16</td>\n      <td>0.0</td>\n      <td>NaN</td>\n      <td>1</td>\n      <td>INDIVIDUAL</td>\n      <td>NaN</td>\n      <td>NaN</td>\n      <td>NaN</td>\n      <td>0.0</td>\n      <td>NaN</td>\n      <td>NaN</td>\n      <td>NaN</td>\n      <td>NaN</td>\n      <td>NaN</td>\n      <td>NaN</td>\n      <td>NaN</td>\n      <td>NaN</td>\n      <td>NaN</td>\n      <td>NaN</td>\n      <td>NaN</td>\n      <td>NaN</td>\n      <td>NaN</td>\n      <td>NaN</td>\n      <td>NaN</td>\n      <td>NaN</td>\n      <td>NaN</td>\n    </tr>\n    <tr>\n      <th>3</th>\n      <td>3</td>\n      <td>1076863</td>\n      <td>1277178</td>\n      <td>10000</td>\n      <td>10000</td>\n      <td>10000.0</td>\n      <td>36 months</td>\n      <td>13.49</td>\n      <td>339.31</td>\n      <td>C</td>\n      <td>C1</td>\n      <td>AIR RESOURCES BOARD</td>\n      <td>10+ years</td>\n      <td>RENT</td>\n      <td>49200.0</td>\n      <td>Source Verified</td>\n      <td>Dec-11</td>\n      <td>Fully Paid</td>\n      <td>n</td>\n      <td>https://www.lendingclub.com/browse/loanDetail....</td>\n      <td>Borrower added on 12/21/11 &gt; to pay for prop...</td>\n      <td>other</td>\n      <td>personel</td>\n      <td>917xx</td>\n      <td>CA</td>\n      <td>20.00</td>\n      <td>0.0</td>\n      <td>Feb-96</td>\n      <td>1.0</td>\n      <td>35.0</td>\n      <td>NaN</td>\n      <td>10.0</td>\n      <td>0.0</td>\n      <td>5598</td>\n      <td>21.0</td>\n      <td>37.0</td>\n      <td>f</td>\n      <td>0.0</td>\n      <td>0.0</td>\n      <td>12226.302210</td>\n      <td>12226.30</td>\n      <td>10000.00</td>\n      <td>2209.33</td>\n      <td>16.97</td>\n      <td>0.00</td>\n      <td>0.00</td>\n      <td>Jan-15</td>\n      <td>357.48</td>\n      <td>NaN</td>\n      <td>Jan-15</td>\n      <td>0.0</td>\n      <td>NaN</td>\n      <td>1</td>\n      <td>INDIVIDUAL</td>\n      <td>NaN</td>\n      <td>NaN</td>\n      <td>NaN</td>\n      <td>0.0</td>\n      <td>NaN</td>\n      <td>NaN</td>\n      <td>NaN</td>\n      <td>NaN</td>\n      <td>NaN</td>\n      <td>NaN</td>\n      <td>NaN</td>\n      <td>NaN</td>\n      <td>NaN</td>\n      <td>NaN</td>\n      <td>NaN</td>\n      <td>NaN</td>\n      <td>NaN</td>\n      <td>NaN</td>\n      <td>NaN</td>\n      <td>NaN</td>\n      <td>NaN</td>\n    </tr>\n    <tr>\n      <th>4</th>\n      <td>4</td>\n      <td>1075358</td>\n      <td>1311748</td>\n      <td>3000</td>\n      <td>3000</td>\n      <td>3000.0</td>\n      <td>60 months</td>\n      <td>12.69</td>\n      <td>67.79</td>\n      <td>B</td>\n      <td>B5</td>\n      <td>University Medical Group</td>\n      <td>1 year</td>\n      <td>RENT</td>\n      <td>80000.0</td>\n      <td>Source Verified</td>\n      <td>Dec-11</td>\n      <td>Current</td>\n      <td>n</td>\n      <td>https://www.lendingclub.com/browse/loanDetail....</td>\n      <td>Borrower added on 12/21/11 &gt; I plan on combi...</td>\n      <td>other</td>\n      <td>Personal</td>\n      <td>972xx</td>\n      <td>OR</td>\n      <td>17.94</td>\n      <td>0.0</td>\n      <td>Jan-96</td>\n      <td>0.0</td>\n      <td>38.0</td>\n      <td>NaN</td>\n      <td>15.0</td>\n      <td>0.0</td>\n      <td>27783</td>\n      <td>53.9</td>\n      <td>38.0</td>\n      <td>f</td>\n      <td>766.9</td>\n      <td>766.9</td>\n      <td>3242.170000</td>\n      <td>3242.17</td>\n      <td>2233.10</td>\n      <td>1009.07</td>\n      <td>0.00</td>\n      <td>0.00</td>\n      <td>0.00</td>\n      <td>Jan-16</td>\n      <td>67.79</td>\n      <td>Feb-16</td>\n      <td>Jan-16</td>\n      <td>0.0</td>\n      <td>NaN</td>\n      <td>1</td>\n      <td>INDIVIDUAL</td>\n      <td>NaN</td>\n      <td>NaN</td>\n      <td>NaN</td>\n      <td>0.0</td>\n      <td>NaN</td>\n      <td>NaN</td>\n      <td>NaN</td>\n      <td>NaN</td>\n      <td>NaN</td>\n      <td>NaN</td>\n      <td>NaN</td>\n      <td>NaN</td>\n      <td>NaN</td>\n      <td>NaN</td>\n      <td>NaN</td>\n      <td>NaN</td>\n      <td>NaN</td>\n      <td>NaN</td>\n      <td>NaN</td>\n      <td>NaN</td>\n      <td>NaN</td>\n    </tr>\n  </tbody>\n</table>\n</div>"
          },
          "metadata": {}
        }
      ]
    },
    {
      "cell_type": "code",
      "source": [
        "loan_data.tail()"
      ],
      "metadata": {
        "execution": {
          "iopub.status.busy": "2024-10-16T15:40:59.150682Z",
          "iopub.execute_input": "2024-10-16T15:40:59.151856Z",
          "iopub.status.idle": "2024-10-16T15:40:59.216510Z",
          "shell.execute_reply.started": "2024-10-16T15:40:59.151789Z",
          "shell.execute_reply": "2024-10-16T15:40:59.215287Z"
        },
        "trusted": true,
        "id": "DOppGYld52z0",
        "outputId": "ba59cbe7-cc8a-4691-d5e8-111462489fa2"
      },
      "execution_count": null,
      "outputs": [
        {
          "execution_count": 10,
          "output_type": "execute_result",
          "data": {
            "text/plain": "        Unnamed: 0       id  member_id  loan_amnt  funded_amnt  \\\n466280      466280  8598660    1440975      18400        18400   \n466281      466281  9684700   11536848      22000        22000   \n466282      466282  9584776   11436914      20700        20700   \n466283      466283  9604874   11457002       2000         2000   \n466284      466284  9199665   11061576      10000        10000   \n\n        funded_amnt_inv        term  int_rate  installment grade sub_grade  \\\n466280          18400.0   60 months     14.47       432.64     C        C2   \n466281          22000.0   60 months     19.97       582.50     D        D5   \n466282          20700.0   60 months     16.99       514.34     D        D1   \n466283           2000.0   36 months      7.90        62.59     A        A4   \n466284           9975.0   36 months     19.20       367.58     D        D3   \n\n                                    emp_title emp_length home_ownership  \\\n466280                     Financial Advisor     4 years       MORTGAGE   \n466281  Chief of Interpretation (Park Ranger)  10+ years       MORTGAGE   \n466282                                 patrol    7 years       MORTGAGE   \n466283                   Server Engineer Lead    3 years            OWN   \n466284                                    NaN  10+ years       MORTGAGE   \n\n        annual_inc verification_status issue_d  loan_status pymnt_plan  \\\n466280    110000.0     Source Verified  Jan-14      Current          n   \n466281     78000.0            Verified  Jan-14  Charged Off          n   \n466282     46000.0            Verified  Jan-14      Current          n   \n466283     83000.0            Verified  Jan-14   Fully Paid          n   \n466284     46000.0            Verified  Jan-14      Current          n   \n\n                                                      url  \\\n466280  https://www.lendingclub.com/browse/loanDetail....   \n466281  https://www.lendingclub.com/browse/loanDetail....   \n466282  https://www.lendingclub.com/browse/loanDetail....   \n466283  https://www.lendingclub.com/browse/loanDetail....   \n466284  https://www.lendingclub.com/browse/loanDetail....   \n\n                                                     desc             purpose  \\\n466280                                                NaN  debt_consolidation   \n466281                                                NaN  debt_consolidation   \n466282    Borrower added on 12/06/13 > I am going to c...  debt_consolidation   \n466283                                                NaN         credit_card   \n466284    Borrower added on 12/04/13 > I will like a l...               other   \n\n                          title zip_code addr_state    dti  delinq_2yrs  \\\n466280       Debt consolidation    773xx         TX  19.85          0.0   \n466281       Debt consolidation    377xx         TN  18.45          0.0   \n466282       Debt consolidation    458xx         OH  25.65          0.0   \n466283  Credit card refinancing    913xx         CA   5.39          3.0   \n466284                    Other    950xx         CA  22.78          1.0   \n\n       earliest_cr_line  inq_last_6mths  mths_since_last_delinq  \\\n466280           Apr-03             2.0                     NaN   \n466281           Jun-97             5.0                     NaN   \n466282           Dec-01             2.0                    65.0   \n466283           Feb-03             1.0                    13.0   \n466284           Feb-00             0.0                     9.0   \n\n        mths_since_last_record  open_acc  pub_rec  revol_bal  revol_util  \\\n466280                     NaN      18.0      0.0      23208        77.6   \n466281                   116.0      18.0      1.0      18238        46.3   \n466282                     NaN      18.0      0.0       6688        51.1   \n466283                     NaN      21.0      0.0      11404        21.5   \n466284                     NaN       6.0      0.0      11325        70.8   \n\n        total_acc initial_list_status  out_prncp  out_prncp_inv   total_pymnt  \\\n466280       36.0                   w   12574.00       12574.00  10383.360000   \n466281       30.0                   f       0.00           0.00   4677.920000   \n466282       43.0                   f   14428.31       14428.31  12343.980000   \n466283       27.0                   w       0.00           0.00   2126.579838   \n466284       22.0                   f    3984.38        3974.41   8821.620000   \n\n        total_pymnt_inv  total_rec_prncp  total_rec_int  total_rec_late_fee  \\\n466280         10383.36          5826.00        4557.36                 0.0   \n466281          4677.92          1837.04        2840.88                 0.0   \n466282         12343.98          6271.69        6072.29                 0.0   \n466283          2126.58          2000.00         126.58                 0.0   \n466284          8799.57          6015.62        2806.00                 0.0   \n\n        recoveries  collection_recovery_fee last_pymnt_d  last_pymnt_amnt  \\\n466280         0.0                      0.0       Jan-16           432.64   \n466281         0.0                      0.0       Dec-14            17.50   \n466282         0.0                      0.0       Jan-16           514.34   \n466283         0.0                      0.0       Dec-14          1500.68   \n466284         0.0                      0.0       Jan-16           367.58   \n\n       next_pymnt_d last_credit_pull_d  collections_12_mths_ex_med  \\\n466280       Feb-16             Jan-16                         0.0   \n466281          NaN             Jan-16                         0.0   \n466282       Feb-16             Dec-15                         0.0   \n466283          NaN             Apr-15                         0.0   \n466284       Feb-16             Jan-16                         0.0   \n\n        mths_since_last_major_derog  policy_code application_type  \\\n466280                          NaN            1       INDIVIDUAL   \n466281                          NaN            1       INDIVIDUAL   \n466282                          NaN            1       INDIVIDUAL   \n466283                          NaN            1       INDIVIDUAL   \n466284                          NaN            1       INDIVIDUAL   \n\n        annual_inc_joint  dti_joint  verification_status_joint  \\\n466280               NaN        NaN                        NaN   \n466281               NaN        NaN                        NaN   \n466282               NaN        NaN                        NaN   \n466283               NaN        NaN                        NaN   \n466284               NaN        NaN                        NaN   \n\n        acc_now_delinq  tot_coll_amt  tot_cur_bal  open_acc_6m  open_il_6m  \\\n466280             0.0           0.0     294998.0          NaN         NaN   \n466281             0.0           0.0     221830.0          NaN         NaN   \n466282             0.0           0.0      73598.0          NaN         NaN   \n466283             0.0           0.0     591610.0          NaN         NaN   \n466284             0.0           0.0      57477.0          NaN         NaN   \n\n        open_il_12m  open_il_24m  mths_since_rcnt_il  total_bal_il  il_util  \\\n466280          NaN          NaN                 NaN           NaN      NaN   \n466281          NaN          NaN                 NaN           NaN      NaN   \n466282          NaN          NaN                 NaN           NaN      NaN   \n466283          NaN          NaN                 NaN           NaN      NaN   \n466284          NaN          NaN                 NaN           NaN      NaN   \n\n        open_rv_12m  open_rv_24m  max_bal_bc  all_util  total_rev_hi_lim  \\\n466280          NaN          NaN         NaN       NaN           29900.0   \n466281          NaN          NaN         NaN       NaN           39400.0   \n466282          NaN          NaN         NaN       NaN           13100.0   \n466283          NaN          NaN         NaN       NaN           53100.0   \n466284          NaN          NaN         NaN       NaN           16000.0   \n\n        inq_fi  total_cu_tl  inq_last_12m  \n466280     NaN          NaN           NaN  \n466281     NaN          NaN           NaN  \n466282     NaN          NaN           NaN  \n466283     NaN          NaN           NaN  \n466284     NaN          NaN           NaN  ",
            "text/html": "<div>\n<style scoped>\n    .dataframe tbody tr th:only-of-type {\n        vertical-align: middle;\n    }\n\n    .dataframe tbody tr th {\n        vertical-align: top;\n    }\n\n    .dataframe thead th {\n        text-align: right;\n    }\n</style>\n<table border=\"1\" class=\"dataframe\">\n  <thead>\n    <tr style=\"text-align: right;\">\n      <th></th>\n      <th>Unnamed: 0</th>\n      <th>id</th>\n      <th>member_id</th>\n      <th>loan_amnt</th>\n      <th>funded_amnt</th>\n      <th>funded_amnt_inv</th>\n      <th>term</th>\n      <th>int_rate</th>\n      <th>installment</th>\n      <th>grade</th>\n      <th>sub_grade</th>\n      <th>emp_title</th>\n      <th>emp_length</th>\n      <th>home_ownership</th>\n      <th>annual_inc</th>\n      <th>verification_status</th>\n      <th>issue_d</th>\n      <th>loan_status</th>\n      <th>pymnt_plan</th>\n      <th>url</th>\n      <th>desc</th>\n      <th>purpose</th>\n      <th>title</th>\n      <th>zip_code</th>\n      <th>addr_state</th>\n      <th>dti</th>\n      <th>delinq_2yrs</th>\n      <th>earliest_cr_line</th>\n      <th>inq_last_6mths</th>\n      <th>mths_since_last_delinq</th>\n      <th>mths_since_last_record</th>\n      <th>open_acc</th>\n      <th>pub_rec</th>\n      <th>revol_bal</th>\n      <th>revol_util</th>\n      <th>total_acc</th>\n      <th>initial_list_status</th>\n      <th>out_prncp</th>\n      <th>out_prncp_inv</th>\n      <th>total_pymnt</th>\n      <th>total_pymnt_inv</th>\n      <th>total_rec_prncp</th>\n      <th>total_rec_int</th>\n      <th>total_rec_late_fee</th>\n      <th>recoveries</th>\n      <th>collection_recovery_fee</th>\n      <th>last_pymnt_d</th>\n      <th>last_pymnt_amnt</th>\n      <th>next_pymnt_d</th>\n      <th>last_credit_pull_d</th>\n      <th>collections_12_mths_ex_med</th>\n      <th>mths_since_last_major_derog</th>\n      <th>policy_code</th>\n      <th>application_type</th>\n      <th>annual_inc_joint</th>\n      <th>dti_joint</th>\n      <th>verification_status_joint</th>\n      <th>acc_now_delinq</th>\n      <th>tot_coll_amt</th>\n      <th>tot_cur_bal</th>\n      <th>open_acc_6m</th>\n      <th>open_il_6m</th>\n      <th>open_il_12m</th>\n      <th>open_il_24m</th>\n      <th>mths_since_rcnt_il</th>\n      <th>total_bal_il</th>\n      <th>il_util</th>\n      <th>open_rv_12m</th>\n      <th>open_rv_24m</th>\n      <th>max_bal_bc</th>\n      <th>all_util</th>\n      <th>total_rev_hi_lim</th>\n      <th>inq_fi</th>\n      <th>total_cu_tl</th>\n      <th>inq_last_12m</th>\n    </tr>\n  </thead>\n  <tbody>\n    <tr>\n      <th>466280</th>\n      <td>466280</td>\n      <td>8598660</td>\n      <td>1440975</td>\n      <td>18400</td>\n      <td>18400</td>\n      <td>18400.0</td>\n      <td>60 months</td>\n      <td>14.47</td>\n      <td>432.64</td>\n      <td>C</td>\n      <td>C2</td>\n      <td>Financial Advisor</td>\n      <td>4 years</td>\n      <td>MORTGAGE</td>\n      <td>110000.0</td>\n      <td>Source Verified</td>\n      <td>Jan-14</td>\n      <td>Current</td>\n      <td>n</td>\n      <td>https://www.lendingclub.com/browse/loanDetail....</td>\n      <td>NaN</td>\n      <td>debt_consolidation</td>\n      <td>Debt consolidation</td>\n      <td>773xx</td>\n      <td>TX</td>\n      <td>19.85</td>\n      <td>0.0</td>\n      <td>Apr-03</td>\n      <td>2.0</td>\n      <td>NaN</td>\n      <td>NaN</td>\n      <td>18.0</td>\n      <td>0.0</td>\n      <td>23208</td>\n      <td>77.6</td>\n      <td>36.0</td>\n      <td>w</td>\n      <td>12574.00</td>\n      <td>12574.00</td>\n      <td>10383.360000</td>\n      <td>10383.36</td>\n      <td>5826.00</td>\n      <td>4557.36</td>\n      <td>0.0</td>\n      <td>0.0</td>\n      <td>0.0</td>\n      <td>Jan-16</td>\n      <td>432.64</td>\n      <td>Feb-16</td>\n      <td>Jan-16</td>\n      <td>0.0</td>\n      <td>NaN</td>\n      <td>1</td>\n      <td>INDIVIDUAL</td>\n      <td>NaN</td>\n      <td>NaN</td>\n      <td>NaN</td>\n      <td>0.0</td>\n      <td>0.0</td>\n      <td>294998.0</td>\n      <td>NaN</td>\n      <td>NaN</td>\n      <td>NaN</td>\n      <td>NaN</td>\n      <td>NaN</td>\n      <td>NaN</td>\n      <td>NaN</td>\n      <td>NaN</td>\n      <td>NaN</td>\n      <td>NaN</td>\n      <td>NaN</td>\n      <td>29900.0</td>\n      <td>NaN</td>\n      <td>NaN</td>\n      <td>NaN</td>\n    </tr>\n    <tr>\n      <th>466281</th>\n      <td>466281</td>\n      <td>9684700</td>\n      <td>11536848</td>\n      <td>22000</td>\n      <td>22000</td>\n      <td>22000.0</td>\n      <td>60 months</td>\n      <td>19.97</td>\n      <td>582.50</td>\n      <td>D</td>\n      <td>D5</td>\n      <td>Chief of Interpretation (Park Ranger)</td>\n      <td>10+ years</td>\n      <td>MORTGAGE</td>\n      <td>78000.0</td>\n      <td>Verified</td>\n      <td>Jan-14</td>\n      <td>Charged Off</td>\n      <td>n</td>\n      <td>https://www.lendingclub.com/browse/loanDetail....</td>\n      <td>NaN</td>\n      <td>debt_consolidation</td>\n      <td>Debt consolidation</td>\n      <td>377xx</td>\n      <td>TN</td>\n      <td>18.45</td>\n      <td>0.0</td>\n      <td>Jun-97</td>\n      <td>5.0</td>\n      <td>NaN</td>\n      <td>116.0</td>\n      <td>18.0</td>\n      <td>1.0</td>\n      <td>18238</td>\n      <td>46.3</td>\n      <td>30.0</td>\n      <td>f</td>\n      <td>0.00</td>\n      <td>0.00</td>\n      <td>4677.920000</td>\n      <td>4677.92</td>\n      <td>1837.04</td>\n      <td>2840.88</td>\n      <td>0.0</td>\n      <td>0.0</td>\n      <td>0.0</td>\n      <td>Dec-14</td>\n      <td>17.50</td>\n      <td>NaN</td>\n      <td>Jan-16</td>\n      <td>0.0</td>\n      <td>NaN</td>\n      <td>1</td>\n      <td>INDIVIDUAL</td>\n      <td>NaN</td>\n      <td>NaN</td>\n      <td>NaN</td>\n      <td>0.0</td>\n      <td>0.0</td>\n      <td>221830.0</td>\n      <td>NaN</td>\n      <td>NaN</td>\n      <td>NaN</td>\n      <td>NaN</td>\n      <td>NaN</td>\n      <td>NaN</td>\n      <td>NaN</td>\n      <td>NaN</td>\n      <td>NaN</td>\n      <td>NaN</td>\n      <td>NaN</td>\n      <td>39400.0</td>\n      <td>NaN</td>\n      <td>NaN</td>\n      <td>NaN</td>\n    </tr>\n    <tr>\n      <th>466282</th>\n      <td>466282</td>\n      <td>9584776</td>\n      <td>11436914</td>\n      <td>20700</td>\n      <td>20700</td>\n      <td>20700.0</td>\n      <td>60 months</td>\n      <td>16.99</td>\n      <td>514.34</td>\n      <td>D</td>\n      <td>D1</td>\n      <td>patrol</td>\n      <td>7 years</td>\n      <td>MORTGAGE</td>\n      <td>46000.0</td>\n      <td>Verified</td>\n      <td>Jan-14</td>\n      <td>Current</td>\n      <td>n</td>\n      <td>https://www.lendingclub.com/browse/loanDetail....</td>\n      <td>Borrower added on 12/06/13 &gt; I am going to c...</td>\n      <td>debt_consolidation</td>\n      <td>Debt consolidation</td>\n      <td>458xx</td>\n      <td>OH</td>\n      <td>25.65</td>\n      <td>0.0</td>\n      <td>Dec-01</td>\n      <td>2.0</td>\n      <td>65.0</td>\n      <td>NaN</td>\n      <td>18.0</td>\n      <td>0.0</td>\n      <td>6688</td>\n      <td>51.1</td>\n      <td>43.0</td>\n      <td>f</td>\n      <td>14428.31</td>\n      <td>14428.31</td>\n      <td>12343.980000</td>\n      <td>12343.98</td>\n      <td>6271.69</td>\n      <td>6072.29</td>\n      <td>0.0</td>\n      <td>0.0</td>\n      <td>0.0</td>\n      <td>Jan-16</td>\n      <td>514.34</td>\n      <td>Feb-16</td>\n      <td>Dec-15</td>\n      <td>0.0</td>\n      <td>NaN</td>\n      <td>1</td>\n      <td>INDIVIDUAL</td>\n      <td>NaN</td>\n      <td>NaN</td>\n      <td>NaN</td>\n      <td>0.0</td>\n      <td>0.0</td>\n      <td>73598.0</td>\n      <td>NaN</td>\n      <td>NaN</td>\n      <td>NaN</td>\n      <td>NaN</td>\n      <td>NaN</td>\n      <td>NaN</td>\n      <td>NaN</td>\n      <td>NaN</td>\n      <td>NaN</td>\n      <td>NaN</td>\n      <td>NaN</td>\n      <td>13100.0</td>\n      <td>NaN</td>\n      <td>NaN</td>\n      <td>NaN</td>\n    </tr>\n    <tr>\n      <th>466283</th>\n      <td>466283</td>\n      <td>9604874</td>\n      <td>11457002</td>\n      <td>2000</td>\n      <td>2000</td>\n      <td>2000.0</td>\n      <td>36 months</td>\n      <td>7.90</td>\n      <td>62.59</td>\n      <td>A</td>\n      <td>A4</td>\n      <td>Server Engineer Lead</td>\n      <td>3 years</td>\n      <td>OWN</td>\n      <td>83000.0</td>\n      <td>Verified</td>\n      <td>Jan-14</td>\n      <td>Fully Paid</td>\n      <td>n</td>\n      <td>https://www.lendingclub.com/browse/loanDetail....</td>\n      <td>NaN</td>\n      <td>credit_card</td>\n      <td>Credit card refinancing</td>\n      <td>913xx</td>\n      <td>CA</td>\n      <td>5.39</td>\n      <td>3.0</td>\n      <td>Feb-03</td>\n      <td>1.0</td>\n      <td>13.0</td>\n      <td>NaN</td>\n      <td>21.0</td>\n      <td>0.0</td>\n      <td>11404</td>\n      <td>21.5</td>\n      <td>27.0</td>\n      <td>w</td>\n      <td>0.00</td>\n      <td>0.00</td>\n      <td>2126.579838</td>\n      <td>2126.58</td>\n      <td>2000.00</td>\n      <td>126.58</td>\n      <td>0.0</td>\n      <td>0.0</td>\n      <td>0.0</td>\n      <td>Dec-14</td>\n      <td>1500.68</td>\n      <td>NaN</td>\n      <td>Apr-15</td>\n      <td>0.0</td>\n      <td>NaN</td>\n      <td>1</td>\n      <td>INDIVIDUAL</td>\n      <td>NaN</td>\n      <td>NaN</td>\n      <td>NaN</td>\n      <td>0.0</td>\n      <td>0.0</td>\n      <td>591610.0</td>\n      <td>NaN</td>\n      <td>NaN</td>\n      <td>NaN</td>\n      <td>NaN</td>\n      <td>NaN</td>\n      <td>NaN</td>\n      <td>NaN</td>\n      <td>NaN</td>\n      <td>NaN</td>\n      <td>NaN</td>\n      <td>NaN</td>\n      <td>53100.0</td>\n      <td>NaN</td>\n      <td>NaN</td>\n      <td>NaN</td>\n    </tr>\n    <tr>\n      <th>466284</th>\n      <td>466284</td>\n      <td>9199665</td>\n      <td>11061576</td>\n      <td>10000</td>\n      <td>10000</td>\n      <td>9975.0</td>\n      <td>36 months</td>\n      <td>19.20</td>\n      <td>367.58</td>\n      <td>D</td>\n      <td>D3</td>\n      <td>NaN</td>\n      <td>10+ years</td>\n      <td>MORTGAGE</td>\n      <td>46000.0</td>\n      <td>Verified</td>\n      <td>Jan-14</td>\n      <td>Current</td>\n      <td>n</td>\n      <td>https://www.lendingclub.com/browse/loanDetail....</td>\n      <td>Borrower added on 12/04/13 &gt; I will like a l...</td>\n      <td>other</td>\n      <td>Other</td>\n      <td>950xx</td>\n      <td>CA</td>\n      <td>22.78</td>\n      <td>1.0</td>\n      <td>Feb-00</td>\n      <td>0.0</td>\n      <td>9.0</td>\n      <td>NaN</td>\n      <td>6.0</td>\n      <td>0.0</td>\n      <td>11325</td>\n      <td>70.8</td>\n      <td>22.0</td>\n      <td>f</td>\n      <td>3984.38</td>\n      <td>3974.41</td>\n      <td>8821.620000</td>\n      <td>8799.57</td>\n      <td>6015.62</td>\n      <td>2806.00</td>\n      <td>0.0</td>\n      <td>0.0</td>\n      <td>0.0</td>\n      <td>Jan-16</td>\n      <td>367.58</td>\n      <td>Feb-16</td>\n      <td>Jan-16</td>\n      <td>0.0</td>\n      <td>NaN</td>\n      <td>1</td>\n      <td>INDIVIDUAL</td>\n      <td>NaN</td>\n      <td>NaN</td>\n      <td>NaN</td>\n      <td>0.0</td>\n      <td>0.0</td>\n      <td>57477.0</td>\n      <td>NaN</td>\n      <td>NaN</td>\n      <td>NaN</td>\n      <td>NaN</td>\n      <td>NaN</td>\n      <td>NaN</td>\n      <td>NaN</td>\n      <td>NaN</td>\n      <td>NaN</td>\n      <td>NaN</td>\n      <td>NaN</td>\n      <td>16000.0</td>\n      <td>NaN</td>\n      <td>NaN</td>\n      <td>NaN</td>\n    </tr>\n  </tbody>\n</table>\n</div>"
          },
          "metadata": {}
        }
      ]
    },
    {
      "cell_type": "code",
      "source": [
        "loan_data.columns.values"
      ],
      "metadata": {
        "execution": {
          "iopub.status.busy": "2024-10-16T15:41:00.083087Z",
          "iopub.execute_input": "2024-10-16T15:41:00.083925Z",
          "iopub.status.idle": "2024-10-16T15:41:00.091230Z",
          "shell.execute_reply.started": "2024-10-16T15:41:00.083866Z",
          "shell.execute_reply": "2024-10-16T15:41:00.090149Z"
        },
        "trusted": true,
        "id": "Ifhm0X9H52z1",
        "outputId": "527049b1-7135-46bb-e048-a73d3b5f45ca"
      },
      "execution_count": null,
      "outputs": [
        {
          "execution_count": 11,
          "output_type": "execute_result",
          "data": {
            "text/plain": "array(['Unnamed: 0', 'id', 'member_id', 'loan_amnt', 'funded_amnt',\n       'funded_amnt_inv', 'term', 'int_rate', 'installment', 'grade',\n       'sub_grade', 'emp_title', 'emp_length', 'home_ownership',\n       'annual_inc', 'verification_status', 'issue_d', 'loan_status',\n       'pymnt_plan', 'url', 'desc', 'purpose', 'title', 'zip_code',\n       'addr_state', 'dti', 'delinq_2yrs', 'earliest_cr_line',\n       'inq_last_6mths', 'mths_since_last_delinq',\n       'mths_since_last_record', 'open_acc', 'pub_rec', 'revol_bal',\n       'revol_util', 'total_acc', 'initial_list_status', 'out_prncp',\n       'out_prncp_inv', 'total_pymnt', 'total_pymnt_inv',\n       'total_rec_prncp', 'total_rec_int', 'total_rec_late_fee',\n       'recoveries', 'collection_recovery_fee', 'last_pymnt_d',\n       'last_pymnt_amnt', 'next_pymnt_d', 'last_credit_pull_d',\n       'collections_12_mths_ex_med', 'mths_since_last_major_derog',\n       'policy_code', 'application_type', 'annual_inc_joint', 'dti_joint',\n       'verification_status_joint', 'acc_now_delinq', 'tot_coll_amt',\n       'tot_cur_bal', 'open_acc_6m', 'open_il_6m', 'open_il_12m',\n       'open_il_24m', 'mths_since_rcnt_il', 'total_bal_il', 'il_util',\n       'open_rv_12m', 'open_rv_24m', 'max_bal_bc', 'all_util',\n       'total_rev_hi_lim', 'inq_fi', 'total_cu_tl', 'inq_last_12m'],\n      dtype=object)"
          },
          "metadata": {}
        }
      ]
    },
    {
      "cell_type": "code",
      "source": [
        "loan_data.info()"
      ],
      "metadata": {
        "scrolled": true,
        "execution": {
          "iopub.status.busy": "2024-10-16T15:41:01.275170Z",
          "iopub.execute_input": "2024-10-16T15:41:01.275576Z",
          "iopub.status.idle": "2024-10-16T15:41:01.810387Z",
          "shell.execute_reply.started": "2024-10-16T15:41:01.275540Z",
          "shell.execute_reply": "2024-10-16T15:41:01.809223Z"
        },
        "trusted": true,
        "id": "lGPdvuKG52z1",
        "outputId": "fdbce0bd-2f54-40f4-aabe-5b9cecf2ad87"
      },
      "execution_count": null,
      "outputs": [
        {
          "name": "stdout",
          "text": "<class 'pandas.core.frame.DataFrame'>\nRangeIndex: 466285 entries, 0 to 466284\nData columns (total 75 columns):\n #   Column                       Non-Null Count   Dtype  \n---  ------                       --------------   -----  \n 0   Unnamed: 0                   466285 non-null  int64  \n 1   id                           466285 non-null  int64  \n 2   member_id                    466285 non-null  int64  \n 3   loan_amnt                    466285 non-null  int64  \n 4   funded_amnt                  466285 non-null  int64  \n 5   funded_amnt_inv              466285 non-null  float64\n 6   term                         466285 non-null  object \n 7   int_rate                     466285 non-null  float64\n 8   installment                  466285 non-null  float64\n 9   grade                        466285 non-null  object \n 10  sub_grade                    466285 non-null  object \n 11  emp_title                    438697 non-null  object \n 12  emp_length                   445277 non-null  object \n 13  home_ownership               466285 non-null  object \n 14  annual_inc                   466281 non-null  float64\n 15  verification_status          466285 non-null  object \n 16  issue_d                      466285 non-null  object \n 17  loan_status                  466285 non-null  object \n 18  pymnt_plan                   466285 non-null  object \n 19  url                          466285 non-null  object \n 20  desc                         125981 non-null  object \n 21  purpose                      466285 non-null  object \n 22  title                        466264 non-null  object \n 23  zip_code                     466285 non-null  object \n 24  addr_state                   466285 non-null  object \n 25  dti                          466285 non-null  float64\n 26  delinq_2yrs                  466256 non-null  float64\n 27  earliest_cr_line             466256 non-null  object \n 28  inq_last_6mths               466256 non-null  float64\n 29  mths_since_last_delinq       215934 non-null  float64\n 30  mths_since_last_record       62638 non-null   float64\n 31  open_acc                     466256 non-null  float64\n 32  pub_rec                      466256 non-null  float64\n 33  revol_bal                    466285 non-null  int64  \n 34  revol_util                   465945 non-null  float64\n 35  total_acc                    466256 non-null  float64\n 36  initial_list_status          466285 non-null  object \n 37  out_prncp                    466285 non-null  float64\n 38  out_prncp_inv                466285 non-null  float64\n 39  total_pymnt                  466285 non-null  float64\n 40  total_pymnt_inv              466285 non-null  float64\n 41  total_rec_prncp              466285 non-null  float64\n 42  total_rec_int                466285 non-null  float64\n 43  total_rec_late_fee           466285 non-null  float64\n 44  recoveries                   466285 non-null  float64\n 45  collection_recovery_fee      466285 non-null  float64\n 46  last_pymnt_d                 465909 non-null  object \n 47  last_pymnt_amnt              466285 non-null  float64\n 48  next_pymnt_d                 239071 non-null  object \n 49  last_credit_pull_d           466243 non-null  object \n 50  collections_12_mths_ex_med   466140 non-null  float64\n 51  mths_since_last_major_derog  98974 non-null   float64\n 52  policy_code                  466285 non-null  int64  \n 53  application_type             466285 non-null  object \n 54  annual_inc_joint             0 non-null       float64\n 55  dti_joint                    0 non-null       float64\n 56  verification_status_joint    0 non-null       float64\n 57  acc_now_delinq               466256 non-null  float64\n 58  tot_coll_amt                 396009 non-null  float64\n 59  tot_cur_bal                  396009 non-null  float64\n 60  open_acc_6m                  0 non-null       float64\n 61  open_il_6m                   0 non-null       float64\n 62  open_il_12m                  0 non-null       float64\n 63  open_il_24m                  0 non-null       float64\n 64  mths_since_rcnt_il           0 non-null       float64\n 65  total_bal_il                 0 non-null       float64\n 66  il_util                      0 non-null       float64\n 67  open_rv_12m                  0 non-null       float64\n 68  open_rv_24m                  0 non-null       float64\n 69  max_bal_bc                   0 non-null       float64\n 70  all_util                     0 non-null       float64\n 71  total_rev_hi_lim             396009 non-null  float64\n 72  inq_fi                       0 non-null       float64\n 73  total_cu_tl                  0 non-null       float64\n 74  inq_last_12m                 0 non-null       float64\ndtypes: float64(46), int64(7), object(22)\nmemory usage: 266.8+ MB\n",
          "output_type": "stream"
        }
      ]
    },
    {
      "cell_type": "markdown",
      "source": [
        "## General Preprocessing"
      ],
      "metadata": {
        "id": "r0-VLoS752z1"
      }
    },
    {
      "cell_type": "markdown",
      "source": [
        "### Preprocessing few continuous variables"
      ],
      "metadata": {
        "id": "EsyyzzvZ52z1"
      }
    },
    {
      "cell_type": "code",
      "source": [
        "loan_data['emp_length'].unique()"
      ],
      "metadata": {
        "execution": {
          "iopub.status.busy": "2024-10-16T15:41:04.253431Z",
          "iopub.execute_input": "2024-10-16T15:41:04.253875Z",
          "iopub.status.idle": "2024-10-16T15:41:04.284340Z",
          "shell.execute_reply.started": "2024-10-16T15:41:04.253812Z",
          "shell.execute_reply": "2024-10-16T15:41:04.283112Z"
        },
        "trusted": true,
        "id": "9l7TPd9Q52z1",
        "outputId": "f171e1f2-54fe-4b28-fef3-c49487eee449"
      },
      "execution_count": null,
      "outputs": [
        {
          "execution_count": 13,
          "output_type": "execute_result",
          "data": {
            "text/plain": "array(['10+ years', '< 1 year', '1 year', '3 years', '8 years', '9 years',\n       '4 years', '5 years', '6 years', '2 years', '7 years', nan],\n      dtype=object)"
          },
          "metadata": {}
        }
      ]
    },
    {
      "cell_type": "code",
      "source": [
        "loan_data['emp_length_int'] = loan_data['emp_length'].str.replace('+ years', '')\n",
        "loan_data['emp_length_int'] = loan_data['emp_length_int'].str.replace('< 1 year', str(0))\n",
        "loan_data['emp_length_int'] = loan_data['emp_length_int'].str.replace('n/a',  str(0))\n",
        "loan_data['emp_length_int'] = loan_data['emp_length_int'].str.replace(' years', '')\n",
        "loan_data['emp_length_int'] = loan_data['emp_length_int'].str.replace(' year', '')"
      ],
      "metadata": {
        "execution": {
          "iopub.status.busy": "2024-10-16T15:41:08.065769Z",
          "iopub.execute_input": "2024-10-16T15:41:08.066236Z",
          "iopub.status.idle": "2024-10-16T15:41:08.763872Z",
          "shell.execute_reply.started": "2024-10-16T15:41:08.066181Z",
          "shell.execute_reply": "2024-10-16T15:41:08.762760Z"
        },
        "trusted": true,
        "id": "rzWzeyw152z1"
      },
      "execution_count": null,
      "outputs": []
    },
    {
      "cell_type": "code",
      "source": [
        "loan_data[\"emp_length_int\"].head()"
      ],
      "metadata": {
        "execution": {
          "iopub.status.busy": "2024-10-16T15:41:10.153803Z",
          "iopub.execute_input": "2024-10-16T15:41:10.154264Z",
          "iopub.status.idle": "2024-10-16T15:41:10.163206Z",
          "shell.execute_reply.started": "2024-10-16T15:41:10.154225Z",
          "shell.execute_reply": "2024-10-16T15:41:10.161808Z"
        },
        "trusted": true,
        "id": "FvZL6eq-52z1",
        "outputId": "9c770ca6-4927-4257-b21b-253d4daaa242"
      },
      "execution_count": null,
      "outputs": [
        {
          "execution_count": 15,
          "output_type": "execute_result",
          "data": {
            "text/plain": "0    10\n1     0\n2    10\n3    10\n4     1\nName: emp_length_int, dtype: object"
          },
          "metadata": {}
        }
      ]
    },
    {
      "cell_type": "code",
      "source": [
        "type(loan_data['emp_length_int'][0])"
      ],
      "metadata": {
        "execution": {
          "iopub.status.busy": "2024-10-16T15:41:11.040096Z",
          "iopub.execute_input": "2024-10-16T15:41:11.040519Z",
          "iopub.status.idle": "2024-10-16T15:41:11.047536Z",
          "shell.execute_reply.started": "2024-10-16T15:41:11.040479Z",
          "shell.execute_reply": "2024-10-16T15:41:11.046349Z"
        },
        "trusted": true,
        "id": "CGixfRo552z1",
        "outputId": "fdbe918b-0078-4684-9dcd-6a5425fde428"
      },
      "execution_count": null,
      "outputs": [
        {
          "execution_count": 16,
          "output_type": "execute_result",
          "data": {
            "text/plain": "str"
          },
          "metadata": {}
        }
      ]
    },
    {
      "cell_type": "code",
      "source": [
        "loan_data['emp_length_int'] = pd.to_numeric(loan_data['emp_length_int'])\n",
        "\n",
        "# loan_data[\"emp_length_int\"] = dd.to_numeric(loan_data['emp_length_int'])"
      ],
      "metadata": {
        "execution": {
          "iopub.status.busy": "2024-10-16T15:41:15.886978Z",
          "iopub.execute_input": "2024-10-16T15:41:15.887687Z",
          "iopub.status.idle": "2024-10-16T15:41:15.893814Z",
          "shell.execute_reply.started": "2024-10-16T15:41:15.887644Z",
          "shell.execute_reply": "2024-10-16T15:41:15.892488Z"
        },
        "trusted": true,
        "id": "rF8Ewt9I52z1"
      },
      "execution_count": null,
      "outputs": []
    },
    {
      "cell_type": "code",
      "source": [
        "type(loan_data['emp_length_int'][0])"
      ],
      "metadata": {
        "execution": {
          "iopub.status.busy": "2024-10-16T15:41:16.202584Z",
          "iopub.execute_input": "2024-10-16T15:41:16.203019Z",
          "iopub.status.idle": "2024-10-16T15:41:16.210219Z",
          "shell.execute_reply.started": "2024-10-16T15:41:16.202979Z",
          "shell.execute_reply": "2024-10-16T15:41:16.209126Z"
        },
        "trusted": true,
        "id": "UpyuHFlo52z2",
        "outputId": "3cf391f6-6381-401a-9ba3-a2c405c64160"
      },
      "execution_count": null,
      "outputs": [
        {
          "execution_count": 19,
          "output_type": "execute_result",
          "data": {
            "text/plain": "numpy.float64"
          },
          "metadata": {}
        }
      ]
    },
    {
      "cell_type": "code",
      "source": [
        "loan_data['earliest_cr_line']"
      ],
      "metadata": {
        "scrolled": true,
        "execution": {
          "iopub.status.busy": "2024-10-16T15:41:16.926693Z",
          "iopub.execute_input": "2024-10-16T15:41:16.927126Z",
          "iopub.status.idle": "2024-10-16T15:41:16.936537Z",
          "shell.execute_reply.started": "2024-10-16T15:41:16.927085Z",
          "shell.execute_reply": "2024-10-16T15:41:16.935334Z"
        },
        "trusted": true,
        "id": "LCLCn09u52z2",
        "outputId": "48c8f741-1211-49ef-d62b-afb727ad0f1d"
      },
      "execution_count": null,
      "outputs": [
        {
          "execution_count": 20,
          "output_type": "execute_result",
          "data": {
            "text/plain": "0         Jan-85\n1         Apr-99\n2         Nov-01\n3         Feb-96\n4         Jan-96\n           ...  \n466280    Apr-03\n466281    Jun-97\n466282    Dec-01\n466283    Feb-03\n466284    Feb-00\nName: earliest_cr_line, Length: 466285, dtype: object"
          },
          "metadata": {}
        }
      ]
    },
    {
      "cell_type": "code",
      "source": [
        "loan_data['earliest_cr_line_date'] = dd.to_datetime(loan_data['earliest_cr_line'], format = '%b-%y')"
      ],
      "metadata": {
        "id": "ckziLjcA52z2"
      },
      "execution_count": null,
      "outputs": []
    },
    {
      "cell_type": "code",
      "source": [
        "type(loan_data['earliest_cr_line_date'][0])"
      ],
      "metadata": {
        "id": "YYGi3d7y52z2"
      },
      "execution_count": null,
      "outputs": []
    },
    {
      "cell_type": "code",
      "source": [
        "(pd.to_datetime('2017-12-01') - loan_data['earliest_cr_line_date']) #.compute()"
      ],
      "metadata": {
        "scrolled": true,
        "id": "fgV6pisU52z2"
      },
      "execution_count": null,
      "outputs": []
    },
    {
      "cell_type": "code",
      "source": [
        "def mnth_diff(x):\n",
        "    end_date = pd.to_datetime('2017-12-01')\n",
        "    year_diff = end_date.year - x.year\n",
        "    mnth_diff = end_date.month - x.month\n",
        "    return year_diff*12 + mnth_diff + 1"
      ],
      "metadata": {
        "id": "eKmUd54E52z2"
      },
      "execution_count": null,
      "outputs": []
    },
    {
      "cell_type": "code",
      "source": [
        "# loan_data['mths_since_earliest_cr_line'] = round(pd.to_numeric((pd.to_datetime('2017-12-01') - loan_data['earliest_cr_line_date']) / np.timedelta64(1, 'M')))\n",
        "loan_data['days_since_earliest_cr_line'] = pd.to_datetime('2017-12-01') - loan_data['earliest_cr_line_date']\n",
        "loan_data['mths_since_earliest_cr_line'] = (pd.to_datetime('2017-12-01').to_period(\"M\") - loan_data['earliest_cr_line_date'].dt.to_period(\"M\")).apply(lambda x: x.n if pd.notnull(x) else x).fillna(np.nan).astype('Int64')\n",
        "# loan_data[\"mths_since_earliest_cr_line_1\"] = loan_data[\"earliest_cr_line_date\"].apply(mnth_diff)\n",
        "# loan_data['mths_since_earliest_cr_line'] = (pd.to_datetime('2017-12-01').to_period(\"M\") - loan_data['earliest_cr_line_date'].dt.to_period(\"M\")) #.apply(lambda x: x.n if pd.notnull(x) else x).fillna(np.nan).astype('Int64')\n",
        "loan_data.loc[:, [\"days_since_earliest_cr_line\", \"mths_since_earliest_cr_line\"]] #, \"mths_since_earliest_cr_line_1\"]]"
      ],
      "metadata": {
        "id": "byY3ZGcx52z2"
      },
      "execution_count": null,
      "outputs": []
    },
    {
      "cell_type": "code",
      "source": [
        "loan_data['mths_since_earliest_cr_line'].describe()"
      ],
      "metadata": {
        "id": "qeJpqPVK52z2"
      },
      "execution_count": null,
      "outputs": []
    },
    {
      "cell_type": "code",
      "source": [
        "loan_data.loc[: , ['earliest_cr_line', 'earliest_cr_line_date', 'mths_since_earliest_cr_line']][loan_data['mths_since_earliest_cr_line'] < 0]"
      ],
      "metadata": {
        "scrolled": true,
        "id": "D6EgxL4e52z2"
      },
      "execution_count": null,
      "outputs": []
    },
    {
      "cell_type": "code",
      "source": [
        "loan_data[\"mths_since_earliest_cr_line\"].max()"
      ],
      "metadata": {
        "id": "zhHZ4rNd52z2"
      },
      "execution_count": null,
      "outputs": []
    },
    {
      "cell_type": "code",
      "source": [
        "loan_data.loc[(loan_data['mths_since_earliest_cr_line'] < 0), \"mths_since_earliest_cr_line\"] = loan_data['mths_since_earliest_cr_line'].max()"
      ],
      "metadata": {
        "id": "5BNIz_xt52z2"
      },
      "execution_count": null,
      "outputs": []
    },
    {
      "cell_type": "code",
      "source": [
        "loan_data['mths_since_earliest_cr_line'].min()"
      ],
      "metadata": {
        "id": "ESEXFZ6m52z2"
      },
      "execution_count": null,
      "outputs": []
    },
    {
      "cell_type": "code",
      "source": [
        "loan_data[\"term\"].unique()"
      ],
      "metadata": {
        "id": "h8N16kGA52z3"
      },
      "execution_count": null,
      "outputs": []
    },
    {
      "cell_type": "code",
      "source": [
        "loan_data[\"term_int\"] = loan_data[\"term\"].str.strip().str.replace(\" months\", \"\").astype(int)"
      ],
      "metadata": {
        "id": "15kC-nme52z3"
      },
      "execution_count": null,
      "outputs": []
    },
    {
      "cell_type": "code",
      "source": [
        "loan_data['term_int']"
      ],
      "metadata": {
        "id": "u5vUTQlD52z3"
      },
      "execution_count": null,
      "outputs": []
    },
    {
      "cell_type": "code",
      "source": [
        "loan_data[\"issue_dt\"] = pd.to_datetime(loan_data[\"issue_d\"], format = \"%b-%y\")"
      ],
      "metadata": {
        "id": "FtvgdHmj52z3"
      },
      "execution_count": null,
      "outputs": []
    },
    {
      "cell_type": "code",
      "source": [
        "loan_data[\"issue_dt\"]"
      ],
      "metadata": {
        "id": "-Au4XpLs52z3"
      },
      "execution_count": null,
      "outputs": []
    },
    {
      "cell_type": "code",
      "source": [
        "loan_data[\"mths_since_issue_d\"] = (pd.to_datetime('2017-12-01').to_period(\"M\") - loan_data['issue_dt'].dt.to_period(\"M\")).apply(lambda x: x.n if pd.notnull(x) else x).fillna(np.nan).astype('Int64')"
      ],
      "metadata": {
        "id": "o_koHBH652z3"
      },
      "execution_count": null,
      "outputs": []
    },
    {
      "cell_type": "code",
      "source": [
        "loan_data.loc[:, [\"mths_since_issue_d\", \"issue_d\"]]"
      ],
      "metadata": {
        "id": "UHzKDBrI52z3"
      },
      "execution_count": null,
      "outputs": []
    },
    {
      "cell_type": "code",
      "source": [
        "loan_data[\"emp_length\"]"
      ],
      "metadata": {
        "id": "E3aiYv4U52z3"
      },
      "execution_count": null,
      "outputs": []
    },
    {
      "cell_type": "markdown",
      "source": [
        "### Preprocessing few discrete variables"
      ],
      "metadata": {
        "id": "Dwb8WVyD52z3"
      }
    },
    {
      "cell_type": "code",
      "source": [
        "loan_data.info()"
      ],
      "metadata": {
        "id": "uiURYHtK52z3"
      },
      "execution_count": null,
      "outputs": []
    },
    {
      "cell_type": "code",
      "source": [
        "pd.get_dummies(loan_data['grade'])"
      ],
      "metadata": {
        "id": "1gOwh3wa52z3"
      },
      "execution_count": null,
      "outputs": []
    },
    {
      "cell_type": "code",
      "source": [
        "pd.get_dummies(loan_data['grade'], prefix = 'grade', prefix_sep = ':')"
      ],
      "metadata": {
        "id": "7PTvJJTW52z3"
      },
      "execution_count": null,
      "outputs": []
    },
    {
      "cell_type": "code",
      "source": [
        "# Add drop_first = True, to get dummy with k-1 columns\n",
        "\n",
        "loan_data_dummies = [pd.get_dummies(loan_data['grade'], prefix = 'grade', prefix_sep = ':', drop_first=True),\n",
        "                     pd.get_dummies(loan_data['sub_grade'], prefix = 'sub_grade', prefix_sep = ':', drop_first=True),\n",
        "                     pd.get_dummies(loan_data['home_ownership'], prefix = 'home_ownership', prefix_sep = ':', drop_first=True),\n",
        "                     pd.get_dummies(loan_data['verification_status'], prefix = 'verification_status', prefix_sep = ':', drop_first=True),\n",
        "                     pd.get_dummies(loan_data['loan_status'], prefix = 'loan_status', prefix_sep = ':', drop_first=True),\n",
        "                     pd.get_dummies(loan_data['purpose'], prefix = 'purpose', prefix_sep = ':', drop_first=True),\n",
        "                     pd.get_dummies(loan_data['addr_state'], prefix = 'addr_state', prefix_sep = ':', drop_first=True),\n",
        "                     pd.get_dummies(loan_data['initial_list_status'], prefix = 'initial_list_status', prefix_sep = ':', drop_first=True)]"
      ],
      "metadata": {
        "id": "pJl_wctQ52z3"
      },
      "execution_count": null,
      "outputs": []
    },
    {
      "cell_type": "code",
      "source": [
        "loan_data_dummies = pd.concat(loan_data_dummies, axis = 1)"
      ],
      "metadata": {
        "id": "XKhqJZ-C52z4"
      },
      "execution_count": null,
      "outputs": []
    },
    {
      "cell_type": "code",
      "source": [
        "type(loan_data_dummies)"
      ],
      "metadata": {
        "id": "LuAEDHqh52z4"
      },
      "execution_count": null,
      "outputs": []
    },
    {
      "cell_type": "code",
      "source": [
        "loan_data = pd.concat([loan_data, loan_data_dummies], axis = 1)"
      ],
      "metadata": {
        "id": "tOxzO27e52z4"
      },
      "execution_count": null,
      "outputs": []
    },
    {
      "cell_type": "code",
      "source": [
        "loan_data.columns.values"
      ],
      "metadata": {
        "id": "zM_w_qBO52z4"
      },
      "execution_count": null,
      "outputs": []
    },
    {
      "cell_type": "markdown",
      "source": [
        "## Check null"
      ],
      "metadata": {
        "id": "9WJC0eIE52z4"
      }
    },
    {
      "cell_type": "code",
      "source": [
        "pd.options.display.max_rows = None"
      ],
      "metadata": {
        "id": "zukkzYBu52z4"
      },
      "execution_count": null,
      "outputs": []
    },
    {
      "cell_type": "code",
      "source": [
        "loan_data.isnull().sum()"
      ],
      "metadata": {
        "id": "4RtxhhcD52z4"
      },
      "execution_count": null,
      "outputs": []
    },
    {
      "cell_type": "code",
      "source": [
        "loan_data['total_rev_hi_lim'].fillna(loan_data['funded_amnt'], inplace = True)"
      ],
      "metadata": {
        "id": "HSJM28d152z4"
      },
      "execution_count": null,
      "outputs": []
    },
    {
      "cell_type": "code",
      "source": [
        "loan_data['total_rev_hi_lim'].isnull().sum()"
      ],
      "metadata": {
        "id": "RI_KaCSx52z4"
      },
      "execution_count": null,
      "outputs": []
    },
    {
      "cell_type": "code",
      "source": [
        "loan_data[\"annual_inc\"] = loan_data[\"annual_inc\"].mean()"
      ],
      "metadata": {
        "id": "LcoxGmrE52z4"
      },
      "execution_count": null,
      "outputs": []
    },
    {
      "cell_type": "code",
      "source": [
        "pd.options.display.max_rows = None\n",
        "loan_data.columns.values"
      ],
      "metadata": {
        "id": "oB_4m9Z652z4"
      },
      "execution_count": null,
      "outputs": []
    },
    {
      "cell_type": "code",
      "source": [
        "loan_data.fillna({'mths_since_earliest_cr_line':0,\n",
        "                  'acc_now_delinq':0,\n",
        "                  'total_acc':0,\n",
        "                  'pub_rec':0,\n",
        "                  'open_acc':0,\n",
        "                  'inq_last_6mths':0,\n",
        "                  'delinq_2yrs':0,\n",
        "                  'emp_length_int':0}, inplace=True)"
      ],
      "metadata": {
        "id": "7a26LlR152z4"
      },
      "execution_count": null,
      "outputs": []
    },
    {
      "cell_type": "markdown",
      "source": [
        "# PD model"
      ],
      "metadata": {
        "id": "rs5yQmqM52z5"
      }
    },
    {
      "cell_type": "markdown",
      "source": [
        "## Data preparation"
      ],
      "metadata": {
        "id": "tiixs9B-52z5"
      }
    },
    {
      "cell_type": "markdown",
      "source": [
        "### Dependent Variable. Good/ Bad (Default) Definition. Default and Non-default Accounts."
      ],
      "metadata": {
        "id": "N69TQYnr52z5"
      }
    },
    {
      "cell_type": "code",
      "source": [
        "loan_data['loan_status'].unique()"
      ],
      "metadata": {
        "id": "sedmb-2r52z5"
      },
      "execution_count": null,
      "outputs": []
    },
    {
      "cell_type": "code",
      "source": [
        "loan_data['loan_status'].value_counts()"
      ],
      "metadata": {
        "id": "ZboYgirX52z5"
      },
      "execution_count": null,
      "outputs": []
    },
    {
      "cell_type": "code",
      "source": [
        "loan_data['loan_status'].value_counts() / loan_data['loan_status'].count()"
      ],
      "metadata": {
        "id": "IdfehTJd52z5"
      },
      "execution_count": null,
      "outputs": []
    },
    {
      "cell_type": "code",
      "source": [
        "loan_data['good_bad'] = np.where(loan_data['loan_status'].isin(['Charged Off', 'Default',\n",
        "                                                               'Does not meet the credit policy. Status:Charged Off',\n",
        "                                                               'Late (31-120 days)']), 0, 1)"
      ],
      "metadata": {
        "id": "6g6zclN052z5"
      },
      "execution_count": null,
      "outputs": []
    },
    {
      "cell_type": "code",
      "source": [
        "loan_data['good_bad']"
      ],
      "metadata": {
        "id": "sVMeW-at52z5"
      },
      "execution_count": null,
      "outputs": []
    },
    {
      "cell_type": "markdown",
      "source": [],
      "metadata": {
        "id": "mUUGiCYI52z5"
      }
    }
  ]
}