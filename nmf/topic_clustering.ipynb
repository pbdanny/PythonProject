{
 "metadata": {
  "language_info": {
   "codemirror_mode": {
    "name": "ipython",
    "version": 3
   },
   "file_extension": ".py",
   "mimetype": "text/x-python",
   "name": "python",
   "nbconvert_exporter": "python",
   "pygments_lexer": "ipython3",
   "version": "3.7.7"
  },
  "orig_nbformat": 2,
  "kernelspec": {
   "name": "python377jvsc74a57bd08593bcb14d23798af140875f63aa3b60117bf54d874449346384c518b9e10cd2",
   "display_name": "Python 3.7.7 64-bit (conda)"
  }
 },
 "nbformat": 4,
 "nbformat_minor": 2,
 "cells": [
  {
   "source": [
    "# Topic clustering with NMF  \n",
    "reference : https://predictivehacks.com/topic-modelling-with-nmf-in-python/"
   ],
   "cell_type": "markdown",
   "metadata": {}
  },
  {
   "cell_type": "code",
   "execution_count": 2,
   "metadata": {},
   "outputs": [],
   "source": [
    "import pandas as pd\n",
    "from sklearn.feature_extraction.text import TfidfVectorizer\n",
    "from sklearn.decomposition import NMF"
   ]
  },
  {
   "cell_type": "code",
   "execution_count": 3,
   "metadata": {},
   "outputs": [],
   "source": [
    "doc = pd.read_csv('news-data.csv')"
   ]
  },
  {
   "cell_type": "code",
   "execution_count": 6,
   "metadata": {},
   "outputs": [
    {
     "output_type": "stream",
     "name": "stdout",
     "text": [
      "<class 'pandas.core.frame.DataFrame'>\nRangeIndex: 1103663 entries, 0 to 1103662\nData columns (total 2 columns):\n #   Column         Non-Null Count    Dtype \n---  ------         --------------    ----- \n 0   publish_date   1103663 non-null  int64 \n 1   headline_text  1103663 non-null  object\ndtypes: int64(1), object(1)\nmemory usage: 16.8+ MB\n"
     ]
    },
    {
     "output_type": "execute_result",
     "data": {
      "text/plain": [
       "   publish_date                                      headline_text\n",
       "0      20030219  aba decides against community broadcasting lic...\n",
       "1      20030219     act fire witnesses must be aware of defamation\n",
       "2      20030219     a g calls for infrastructure protection summit\n",
       "3      20030219           air nz staff in aust strike for pay rise\n",
       "4      20030219      air nz strike to affect australian travellers"
      ],
      "text/html": "<div>\n<style scoped>\n    .dataframe tbody tr th:only-of-type {\n        vertical-align: middle;\n    }\n\n    .dataframe tbody tr th {\n        vertical-align: top;\n    }\n\n    .dataframe thead th {\n        text-align: right;\n    }\n</style>\n<table border=\"1\" class=\"dataframe\">\n  <thead>\n    <tr style=\"text-align: right;\">\n      <th></th>\n      <th>publish_date</th>\n      <th>headline_text</th>\n    </tr>\n  </thead>\n  <tbody>\n    <tr>\n      <th>0</th>\n      <td>20030219</td>\n      <td>aba decides against community broadcasting lic...</td>\n    </tr>\n    <tr>\n      <th>1</th>\n      <td>20030219</td>\n      <td>act fire witnesses must be aware of defamation</td>\n    </tr>\n    <tr>\n      <th>2</th>\n      <td>20030219</td>\n      <td>a g calls for infrastructure protection summit</td>\n    </tr>\n    <tr>\n      <th>3</th>\n      <td>20030219</td>\n      <td>air nz staff in aust strike for pay rise</td>\n    </tr>\n    <tr>\n      <th>4</th>\n      <td>20030219</td>\n      <td>air nz strike to affect australian travellers</td>\n    </tr>\n  </tbody>\n</table>\n</div>"
     },
     "metadata": {},
     "execution_count": 6
    }
   ],
   "source": [
    "doc.info(); doc.head()"
   ]
  },
  {
   "source": [
    "## Create TF-IDF"
   ],
   "cell_type": "markdown",
   "metadata": {}
  },
  {
   "cell_type": "code",
   "execution_count": 8,
   "metadata": {},
   "outputs": [],
   "source": [
    "tfidf = TfidfVectorizer(max_df = 50, stop_words='english',)"
   ]
  },
  {
   "cell_type": "code",
   "execution_count": 9,
   "metadata": {},
   "outputs": [],
   "source": [
    "X = tfidf.fit_transform(doc['headline_text'])"
   ]
  },
  {
   "cell_type": "code",
   "execution_count": 10,
   "metadata": {},
   "outputs": [
    {
     "output_type": "execute_result",
     "data": {
      "text/plain": [
       "(1103663, 85287)"
      ]
     },
     "metadata": {},
     "execution_count": 10
    }
   ],
   "source": [
    "X.shape"
   ]
  },
  {
   "cell_type": "code",
   "execution_count": 12,
   "metadata": {},
   "outputs": [
    {
     "output_type": "stream",
     "name": "stderr",
     "text": [
      "/Users/Danny/miniconda3/lib/python3.7/site-packages/sklearn/decomposition/_nmf.py:315: FutureWarning: The 'init' value, when 'init=None' and n_components is less than n_samples and n_features, will be changed from 'nndsvd' to 'nndsvda' in 1.1 (renaming of 0.26).\n",
      "  \"'nndsvda' in 1.1 (renaming of 0.26).\"), FutureWarning)\n",
      "/Users/Danny/miniconda3/lib/python3.7/site-packages/sklearn/decomposition/_nmf.py:1091: ConvergenceWarning: Maximum number of iterations 200 reached. Increase it to improve convergence.\n",
      "  \" improve convergence.\" % max_iter, ConvergenceWarning)\n"
     ]
    },
    {
     "output_type": "execute_result",
     "data": {
      "text/plain": [
       "NMF(n_components=10, random_state=1)"
      ]
     },
     "metadata": {},
     "execution_count": 12
    }
   ],
   "source": [
    "nmf = NMF(n_components=10, random_state=1)\n",
    "nmf.fit(X)"
   ]
  },
  {
   "cell_type": "code",
   "execution_count": 23,
   "metadata": {},
   "outputs": [],
   "source": [
    "nmf_featues = nmf.transform(X)\n",
    "nmf_components = nmf.components_"
   ]
  },
  {
   "cell_type": "code",
   "execution_count": 26,
   "metadata": {},
   "outputs": [
    {
     "output_type": "stream",
     "name": "stdout",
     "text": [
      "(1103663, 85287)\n(1103663, 10)\n(10, 85287)\n"
     ]
    }
   ],
   "source": [
    "print(X.shape); print(nmf_featues.shape); print(nmf_components.shape)"
   ]
  },
  {
   "cell_type": "code",
   "execution_count": 27,
   "metadata": {},
   "outputs": [],
   "source": [
    "components_df = pd.DataFrame(data = nmf.components_, columns=tfidf.get_feature_names())"
   ]
  },
  {
   "cell_type": "code",
   "execution_count": 28,
   "metadata": {},
   "outputs": [
    {
     "output_type": "execute_result",
     "data": {
      "text/plain": [
       "   002  005           006           007  0101  010115  010213  010215  010216  \\\n",
       "0  0.0  0.0  7.984606e-08  2.159463e-09   0.0     0.0     0.0     0.0     0.0   \n",
       "1  0.0  0.0  6.583072e-11  9.281664e-09   0.0     0.0     0.0     0.0     0.0   \n",
       "2  0.0  0.0  5.221460e-10  3.452457e-09   0.0     0.0     0.0     0.0     0.0   \n",
       "3  0.0  0.0  4.480969e-09  4.759890e-10   0.0     0.0     0.0     0.0     0.0   \n",
       "4  0.0  0.0  7.078448e-09  4.953638e-09   0.0     0.0     0.0     0.0     0.0   \n",
       "\n",
       "   010312  ...  zydelig         zygar       zygiefs        zygier  zyl  \\\n",
       "0     0.0  ...      0.0  1.681604e-09  7.863469e-09  1.964370e-07  0.0   \n",
       "1     0.0  ...      0.0  1.412834e-09  3.891805e-09  2.584864e-09  0.0   \n",
       "2     0.0  ...      0.0  1.402462e-10  2.059843e-08  6.267952e-08  0.0   \n",
       "3     0.0  ...      0.0  2.877383e-10  2.739323e-09  4.759464e-09  0.0   \n",
       "4     0.0  ...      0.0  9.103785e-10  1.463888e-08  2.316926e-08  0.0   \n",
       "\n",
       "      zylvester  zynga  zyngier   zz  zzz  \n",
       "0  2.582639e-08    0.0      0.0  0.0  0.0  \n",
       "1  4.844994e-11    0.0      0.0  0.0  0.0  \n",
       "2  9.348107e-09    0.0      0.0  0.0  0.0  \n",
       "3  2.066289e-10    0.0      0.0  0.0  0.0  \n",
       "4  2.408973e-09    0.0      0.0  0.0  0.0  \n",
       "\n",
       "[5 rows x 85287 columns]"
      ],
      "text/html": "<div>\n<style scoped>\n    .dataframe tbody tr th:only-of-type {\n        vertical-align: middle;\n    }\n\n    .dataframe tbody tr th {\n        vertical-align: top;\n    }\n\n    .dataframe thead th {\n        text-align: right;\n    }\n</style>\n<table border=\"1\" class=\"dataframe\">\n  <thead>\n    <tr style=\"text-align: right;\">\n      <th></th>\n      <th>002</th>\n      <th>005</th>\n      <th>006</th>\n      <th>007</th>\n      <th>0101</th>\n      <th>010115</th>\n      <th>010213</th>\n      <th>010215</th>\n      <th>010216</th>\n      <th>010312</th>\n      <th>...</th>\n      <th>zydelig</th>\n      <th>zygar</th>\n      <th>zygiefs</th>\n      <th>zygier</th>\n      <th>zyl</th>\n      <th>zylvester</th>\n      <th>zynga</th>\n      <th>zyngier</th>\n      <th>zz</th>\n      <th>zzz</th>\n    </tr>\n  </thead>\n  <tbody>\n    <tr>\n      <th>0</th>\n      <td>0.0</td>\n      <td>0.0</td>\n      <td>7.984606e-08</td>\n      <td>2.159463e-09</td>\n      <td>0.0</td>\n      <td>0.0</td>\n      <td>0.0</td>\n      <td>0.0</td>\n      <td>0.0</td>\n      <td>0.0</td>\n      <td>...</td>\n      <td>0.0</td>\n      <td>1.681604e-09</td>\n      <td>7.863469e-09</td>\n      <td>1.964370e-07</td>\n      <td>0.0</td>\n      <td>2.582639e-08</td>\n      <td>0.0</td>\n      <td>0.0</td>\n      <td>0.0</td>\n      <td>0.0</td>\n    </tr>\n    <tr>\n      <th>1</th>\n      <td>0.0</td>\n      <td>0.0</td>\n      <td>6.583072e-11</td>\n      <td>9.281664e-09</td>\n      <td>0.0</td>\n      <td>0.0</td>\n      <td>0.0</td>\n      <td>0.0</td>\n      <td>0.0</td>\n      <td>0.0</td>\n      <td>...</td>\n      <td>0.0</td>\n      <td>1.412834e-09</td>\n      <td>3.891805e-09</td>\n      <td>2.584864e-09</td>\n      <td>0.0</td>\n      <td>4.844994e-11</td>\n      <td>0.0</td>\n      <td>0.0</td>\n      <td>0.0</td>\n      <td>0.0</td>\n    </tr>\n    <tr>\n      <th>2</th>\n      <td>0.0</td>\n      <td>0.0</td>\n      <td>5.221460e-10</td>\n      <td>3.452457e-09</td>\n      <td>0.0</td>\n      <td>0.0</td>\n      <td>0.0</td>\n      <td>0.0</td>\n      <td>0.0</td>\n      <td>0.0</td>\n      <td>...</td>\n      <td>0.0</td>\n      <td>1.402462e-10</td>\n      <td>2.059843e-08</td>\n      <td>6.267952e-08</td>\n      <td>0.0</td>\n      <td>9.348107e-09</td>\n      <td>0.0</td>\n      <td>0.0</td>\n      <td>0.0</td>\n      <td>0.0</td>\n    </tr>\n    <tr>\n      <th>3</th>\n      <td>0.0</td>\n      <td>0.0</td>\n      <td>4.480969e-09</td>\n      <td>4.759890e-10</td>\n      <td>0.0</td>\n      <td>0.0</td>\n      <td>0.0</td>\n      <td>0.0</td>\n      <td>0.0</td>\n      <td>0.0</td>\n      <td>...</td>\n      <td>0.0</td>\n      <td>2.877383e-10</td>\n      <td>2.739323e-09</td>\n      <td>4.759464e-09</td>\n      <td>0.0</td>\n      <td>2.066289e-10</td>\n      <td>0.0</td>\n      <td>0.0</td>\n      <td>0.0</td>\n      <td>0.0</td>\n    </tr>\n    <tr>\n      <th>4</th>\n      <td>0.0</td>\n      <td>0.0</td>\n      <td>7.078448e-09</td>\n      <td>4.953638e-09</td>\n      <td>0.0</td>\n      <td>0.0</td>\n      <td>0.0</td>\n      <td>0.0</td>\n      <td>0.0</td>\n      <td>0.0</td>\n      <td>...</td>\n      <td>0.0</td>\n      <td>9.103785e-10</td>\n      <td>1.463888e-08</td>\n      <td>2.316926e-08</td>\n      <td>0.0</td>\n      <td>2.408973e-09</td>\n      <td>0.0</td>\n      <td>0.0</td>\n      <td>0.0</td>\n      <td>0.0</td>\n    </tr>\n  </tbody>\n</table>\n<p>5 rows × 85287 columns</p>\n</div>"
     },
     "metadata": {},
     "execution_count": 28
    }
   ],
   "source": [
    "components_df.head()"
   ]
  },
  {
   "source": [
    "Highest topic name"
   ],
   "cell_type": "markdown",
   "metadata": {}
  },
  {
   "cell_type": "code",
   "execution_count": 35,
   "metadata": {},
   "outputs": [
    {
     "output_type": "stream",
     "name": "stdout",
     "text": [
      "0\nscuba         4.986055\nryles         0.418904\n19yo          0.256134\nlooters       0.212070\ninstructor    0.167226\nshallow       0.147304\ndawesville    0.063867\n1968          0.059482\ngrapple       0.015564\nhaunted       0.015526\nName: 0, dtype: float64\n1\ngreenough      2.618933\nfels           0.259088\nhamlet         0.032273\nrepo           0.031917\nmaleys         0.028882\ngasfield       0.028882\narchaeology    0.021585\nunearthing     0.021576\ningrid         0.017856\npayback        0.014068\nName: 1, dtype: float64\n2\ndemerit        2.854901\nract           0.096860\nfishermens     0.079257\njustify        0.075841\nwatford        0.039635\ncorrects       0.039065\ntunnels        0.007648\nbluefin        0.007377\ncooperative    0.006645\ncommitments    0.005139\nName: 2, dtype: float64\n3\nmeekatharra     2.714847\nassisting       0.137146\nlaneway         0.105685\n23m             0.067462\nbrawling        0.052112\nmaroochydore    0.038883\nsolvent         0.037988\ndoray           0.036630\ninflaming       0.030719\ninterpol        0.006981\nName: 3, dtype: float64\n4\ndrier          2.555867\nadapt          0.155275\nmeteorology    0.097947\nnorm           0.072662\nheres          0.067956\nwinters        0.040774\nforager        0.028332\nsprinkler      0.020531\nsealing        0.017428\npredicting     0.007855\nName: 4, dtype: float64\n5\ncdma          2.621909\nquilpie       0.176229\njeopardise    0.070747\n3g            0.044170\ncomparing     0.042349\ndisquiet      0.033638\nrile          0.031529\ncanavan       0.010187\nswaps         0.005717\nfootbridge    0.004295\nName: 5, dtype: float64\n6\nscrutinise     2.338105\nunruly         1.070271\nrestraining    0.132368\nregulators     0.112134\nclamp          0.061327\ncling          0.048435\nicrc           0.047831\nsway           0.042087\nphar           0.036919\ninterior       0.029188\nName: 6, dtype: float64\n7\ncontrollers     2.205184\ncoordination    0.832562\navoidable       0.141935\n2002            0.085116\ntarmac          0.037330\nunchecked       0.031424\nhartz           0.030410\nsnoozing        0.025581\nroadblocks      0.024696\nmsg             0.015033\nName: 7, dtype: float64\n8\ngs            2.399802\ntt            0.137026\nbuckingham    0.114578\nblasted       0.105340\ndorazio       0.066751\nstresses      0.058993\nswapping      0.047938\nchorus        0.045258\nwaiver        0.034655\ninvaluable    0.032551\nName: 8, dtype: float64\n9\nbookings     2.021877\ngoverning    1.211910\nvinnies      0.663904\nammonia      0.275262\ntehran       0.244152\ntunnels      0.219749\nplaters      0.125052\nrestricts    0.079305\nlingers      0.061073\ntogo         0.051152\nName: 9, dtype: float64\n"
     ]
    }
   ],
   "source": [
    "for i in range(components_df.shape[0]):\n",
    "    print(i)\n",
    "    print(components_df.iloc[i,:].nlargest(10))"
   ]
  },
  {
   "cell_type": "code",
   "execution_count": 37,
   "metadata": {},
   "outputs": [
    {
     "output_type": "execute_result",
     "data": {
      "text/plain": [
       "(1103663, 10)"
      ]
     },
     "metadata": {},
     "execution_count": 37
    }
   ],
   "source": [
    "nmf_featues.shape"
   ]
  },
  {
   "cell_type": "code",
   "execution_count": 73,
   "metadata": {},
   "outputs": [
    {
     "output_type": "execute_result",
     "data": {
      "text/plain": [
       "array([328955, 926730, 781591, ..., 669747, 669745,      0])"
      ]
     },
     "metadata": {},
     "execution_count": 73
    }
   ],
   "source": [
    "nmf_featues[:,0].argsort()[::-1]"
   ]
  },
  {
   "cell_type": "code",
   "execution_count": 74,
   "metadata": {},
   "outputs": [
    {
     "output_type": "execute_result",
     "data": {
      "text/plain": [
       "         publish_date                                      headline_text\n",
       "328955       20070906   distant space collision meant doom for dinosaurs\n",
       "926730       20141230  reptile park on edge as keepers stage successf...\n",
       "781591       20130424  indigenous pow gunner percy to be remembered i...\n",
       "87375        20040428               bets ruling restarts cane toad races\n",
       "1096681      20171028  spain strips catalonia of autonomy after indep...\n",
       "...               ...                                                ...\n",
       "669753       20120202                                 ch alpaca shearing\n",
       "669748       20120202                candidates vie for calder ward spot\n",
       "669747       20120202               call to bring elephants to australia\n",
       "669745       20120202                            building approvals fall\n",
       "0            20030219  aba decides against community broadcasting lic...\n",
       "\n",
       "[1103663 rows x 2 columns]"
      ],
      "text/html": "<div>\n<style scoped>\n    .dataframe tbody tr th:only-of-type {\n        vertical-align: middle;\n    }\n\n    .dataframe tbody tr th {\n        vertical-align: top;\n    }\n\n    .dataframe thead th {\n        text-align: right;\n    }\n</style>\n<table border=\"1\" class=\"dataframe\">\n  <thead>\n    <tr style=\"text-align: right;\">\n      <th></th>\n      <th>publish_date</th>\n      <th>headline_text</th>\n    </tr>\n  </thead>\n  <tbody>\n    <tr>\n      <th>328955</th>\n      <td>20070906</td>\n      <td>distant space collision meant doom for dinosaurs</td>\n    </tr>\n    <tr>\n      <th>926730</th>\n      <td>20141230</td>\n      <td>reptile park on edge as keepers stage successf...</td>\n    </tr>\n    <tr>\n      <th>781591</th>\n      <td>20130424</td>\n      <td>indigenous pow gunner percy to be remembered i...</td>\n    </tr>\n    <tr>\n      <th>87375</th>\n      <td>20040428</td>\n      <td>bets ruling restarts cane toad races</td>\n    </tr>\n    <tr>\n      <th>1096681</th>\n      <td>20171028</td>\n      <td>spain strips catalonia of autonomy after indep...</td>\n    </tr>\n    <tr>\n      <th>...</th>\n      <td>...</td>\n      <td>...</td>\n    </tr>\n    <tr>\n      <th>669753</th>\n      <td>20120202</td>\n      <td>ch alpaca shearing</td>\n    </tr>\n    <tr>\n      <th>669748</th>\n      <td>20120202</td>\n      <td>candidates vie for calder ward spot</td>\n    </tr>\n    <tr>\n      <th>669747</th>\n      <td>20120202</td>\n      <td>call to bring elephants to australia</td>\n    </tr>\n    <tr>\n      <th>669745</th>\n      <td>20120202</td>\n      <td>building approvals fall</td>\n    </tr>\n    <tr>\n      <th>0</th>\n      <td>20030219</td>\n      <td>aba decides against community broadcasting lic...</td>\n    </tr>\n  </tbody>\n</table>\n<p>1103663 rows × 2 columns</p>\n</div>"
     },
     "metadata": {},
     "execution_count": 74
    }
   ],
   "source": [
    "doc.iloc[nmf_featues[:,0].argsort()[::-1]]"
   ]
  },
  {
   "cell_type": "code",
   "execution_count": 78,
   "metadata": {},
   "outputs": [
    {
     "output_type": "execute_result",
     "data": {
      "text/plain": [
       "scuba         4.986055\n",
       "ryles         0.418904\n",
       "19yo          0.256134\n",
       "looters       0.212070\n",
       "instructor    0.167226\n",
       "shallow       0.147304\n",
       "dawesville    0.063867\n",
       "1968          0.059482\n",
       "grapple       0.015564\n",
       "haunted       0.015526\n",
       "Name: 0, dtype: float64"
      ]
     },
     "metadata": {},
     "execution_count": 78
    }
   ],
   "source": [
    "components_df.iloc[0].nlargest(10)"
   ]
  },
  {
   "cell_type": "code",
   "execution_count": null,
   "metadata": {},
   "outputs": [],
   "source": []
  }
 ]
}